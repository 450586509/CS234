{
  "nbformat": 4,
  "nbformat_minor": 0,
  "metadata": {
    "colab": {
      "name": "09_pomdp.ipynb",
      "provenance": [],
      "toc_visible": true,
      "include_colab_link": true
    },
    "kernelspec": {
      "name": "python3",
      "display_name": "Python 3"
    }
  },
  "cells": [
    {
      "cell_type": "markdown",
      "metadata": {
        "id": "view-in-github",
        "colab_type": "text"
      },
      "source": [
        "<a href=\"https://colab.research.google.com/github/450586509/reinforcement-learning-practice/blob/master/09_pomdp.ipynb\" target=\"_parent\"><img src=\"https://colab.research.google.com/assets/colab-badge.svg\" alt=\"Open In Colab\"/></a>"
      ]
    },
    {
      "cell_type": "code",
      "metadata": {
        "id": "TFs5u5to8DRl",
        "colab_type": "code",
        "colab": {
          "base_uri": "https://localhost:8080/",
          "height": 50
        },
        "outputId": "29f4e477-d0d0-446d-98d6-8162c00e1285"
      },
      "source": [
        "from __future__ import print_function, division\n",
        "from IPython.core import display\n",
        "import matplotlib.pyplot as plt\n",
        "%matplotlib inline\n",
        "import numpy as np\n",
        "\n",
        "# If you are running on a server, launch xvfb to record game videos\n",
        "# Please make sure you have xvfb installed\n",
        "import os\n",
        "os.system('wget https://raw.githubusercontent.com/yandexdataschool/Practical_DL/fall18/xvfb -O ../xvfb')\n",
        "\n",
        "if type(os.environ.get(\"DISPLAY\")) is not str or len(os.environ.get(\"DISPLAY\")) == 0:\n",
        "    !bash ../xvfb start\n",
        "    os.environ['DISPLAY'] = ':1'"
      ],
      "execution_count": 1,
      "outputs": [
        {
          "output_type": "stream",
          "text": [
            "Starting virtual X frame buffer: Xvfbstart-stop-daemon: unable to stat /usr/bin/Xvfb (No such file or directory)\n",
            ".\n"
          ],
          "name": "stdout"
        }
      ]
    },
    {
      "cell_type": "markdown",
      "metadata": {
        "id": "_fQ25tR-8hOT",
        "colab_type": "text"
      },
      "source": [
        "### 环境：KungFuMaster"
      ]
    },
    {
      "cell_type": "code",
      "metadata": {
        "id": "Q7AGrlZp8vjF",
        "colab_type": "code",
        "colab": {}
      },
      "source": [
        "import numpy as np\n",
        "from gym.core import Wrapper\n",
        "from gym.spaces.box import Box\n",
        "from skimage.transform import resize\n",
        "\n",
        "\n",
        "class PreprocessAtari(Wrapper):\n",
        "    def __init__(self, env, height=42, width=42, color=False,\n",
        "                 crop=lambda img: img, n_frames=4, dim_order='theano'):\n",
        "        \"\"\"A gym wrapper that reshapes, crops and scales image into the desired shapes\"\"\"\n",
        "        super(PreprocessAtari, self).__init__(env)\n",
        "        assert dim_order in ('theano', 'tensorflow')\n",
        "        self.img_size = (height, width)\n",
        "        self.crop = crop\n",
        "        self.color = color\n",
        "        self.dim_order = dim_order\n",
        "\n",
        "        n_channels = (3 * n_frames) if color else n_frames\n",
        "        obs_shape = \\\n",
        "            [n_channels, height, width] \\\n",
        "            if dim_order == 'theano' else \\\n",
        "            [height, width, n_channels]\n",
        "        self.observation_space = Box(0.0, 1.0, obs_shape)\n",
        "        self.framebuffer = np.zeros(obs_shape, 'float32')\n",
        "\n",
        "    def reset(self):\n",
        "        \"\"\"resets breakout, returns initial frames\"\"\"\n",
        "        self.framebuffer = np.zeros_like(self.framebuffer)\n",
        "        self.update_buffer(self.env.reset())\n",
        "        return self.framebuffer\n",
        "\n",
        "    def step(self, action):\n",
        "        \"\"\"plays breakout for 1 step, returns frame buffer\"\"\"\n",
        "        new_img, r, done, info = self.env.step(action)\n",
        "        self.update_buffer(new_img)\n",
        "        return self.framebuffer, r, done, info\n",
        "\n",
        "    ### image processing ###\n",
        "\n",
        "    def update_buffer(self, img):\n",
        "        img = self.preproc_image(img)\n",
        "        offset = 3 if self.color else 1\n",
        "        if self.dim_order == 'theano':\n",
        "            axis = 0\n",
        "            cropped_framebuffer = self.framebuffer[:-offset]\n",
        "        else:\n",
        "            axis = -1\n",
        "            cropped_framebuffer = self.framebuffer[:, :, :-offset]\n",
        "        self.framebuffer = np.concatenate(\n",
        "            [img, cropped_framebuffer], axis=axis)\n",
        "\n",
        "    def preproc_image(self, img):\n",
        "        \"\"\"what happens to the observation\"\"\"\n",
        "        img = self.crop(img)\n",
        "        img = resize(img, self.img_size)\n",
        "        if not self.color:\n",
        "            img = img.mean(-1, keepdims=True)\n",
        "        if self.dim_order == 'theano':\n",
        "            img = img.transpose([2, 0, 1])  # [h, w, c] to [c, h, w]\n",
        "        img = img.astype('float32') / 255.\n",
        "        return img"
      ],
      "execution_count": 0,
      "outputs": []
    },
    {
      "cell_type": "code",
      "metadata": {
        "id": "xBWFD3uE8FQE",
        "colab_type": "code",
        "outputId": "a07fc0b6-d5f4-45fb-9df4-b63b1c1ffc29",
        "colab": {
          "base_uri": "https://localhost:8080/",
          "height": 87
        }
      },
      "source": [
        "import gym\n",
        "\n",
        "def make_env():\n",
        "    env = gym.make(\"KungFuMasterDeterministic-v0\")\n",
        "    env = PreprocessAtari(env, height=42, width=42,\n",
        "                          crop=lambda img: img[60:-30, 15:],\n",
        "                          dim_order='tensorflow',\n",
        "                          color=False, n_frames=1)\n",
        "    return env\n",
        "\n",
        "\n",
        "env = make_env()\n",
        "\n",
        "obs_shape = env.observation_space.shape\n",
        "n_actions = env.action_space.n\n",
        "\n",
        "print(\"Observation shape:\", obs_shape)\n",
        "print(\"Num actions:\", n_actions)\n",
        "print(\"Action names:\", env.env.env.get_action_meanings())"
      ],
      "execution_count": 3,
      "outputs": [
        {
          "output_type": "stream",
          "text": [
            "Observation shape: (42, 42, 1)\n",
            "Num actions: 14\n",
            "Action names: ['NOOP', 'UP', 'RIGHT', 'LEFT', 'DOWN', 'DOWNRIGHT', 'DOWNLEFT', 'RIGHTFIRE', 'LEFTFIRE', 'DOWNFIRE', 'UPRIGHTFIRE', 'UPLEFTFIRE', 'DOWNRIGHTFIRE', 'DOWNLEFTFIRE']\n"
          ],
          "name": "stdout"
        }
      ]
    },
    {
      "cell_type": "code",
      "metadata": {
        "id": "S817NFTD8xiN",
        "colab_type": "code",
        "outputId": "13258d18-0a6b-4206-f643-5b7ee306e799",
        "colab": {
          "base_uri": "https://localhost:8080/",
          "height": 545
        }
      },
      "source": [
        "s = env.reset()\n",
        "for _ in range(100):\n",
        "    s, _, _, _ = env.step(env.action_space.sample())\n",
        "\n",
        "plt.title('Game image')\n",
        "plt.imshow(env.render('rgb_array'))\n",
        "plt.show()\n",
        "\n",
        "plt.title('Agent observation')\n",
        "plt.imshow(s.reshape([42, 42]))\n",
        "plt.show()"
      ],
      "execution_count": 4,
      "outputs": [
        {
          "output_type": "display_data",
          "data": {
            "image/png": "[encoded data removed]",
            "text/plain": [
              "<Figure size 432x288 with 1 Axes>"
            ]
          },
          "metadata": {
            "tags": []
          }
        },
        {
          "output_type": "display_data",
          "data": {
            "image/png": "[encoded data removed]",
            "text/plain": [
              "<Figure size 432x288 with 1 Axes>"
            ]
          },
          "metadata": {
            "tags": []
          }
        }
      ]
    },
    {
      "cell_type": "markdown",
      "metadata": {
        "id": "ACnmwQOW8-zL",
        "colab_type": "text"
      },
      "source": [
        "\n",
        "### Simple agent for fully-observable MDP"
      ]
    },
    {
      "cell_type": "code",
      "metadata": {
        "id": "Kl-e6fwF8-LX",
        "colab_type": "code",
        "outputId": "883d64fa-e574-495a-d5cf-b56587237066",
        "colab": {
          "base_uri": "https://localhost:8080/",
          "height": 62
        }
      },
      "source": [
        "import tensorflow as tf\n",
        "from tensorflow.keras.layers import Conv2D,Dense,Flatten\n",
        "tf.reset_default_graph()\n",
        "sess = tf.InteractiveSession()\n",
        "class FeedforwardAgent:\n",
        "    def __init__(self, name, obs_shape, n_actions, reuse=False):\n",
        "        \"\"\"A simple actor-critic agent\"\"\"\n",
        "\n",
        "        with tf.variable_scope(name, reuse=reuse):\n",
        "            # Note: number of units/filters is arbitrary, you can and should change it at your will\n",
        "            self.conv0 = Conv2D(32, (3, 3), strides=(2, 2), activation='elu')\n",
        "            self.conv1 = Conv2D(32, (3, 3), strides=(2, 2), activation='elu')\n",
        "            self.conv2 = Conv2D(32, (3, 3), strides=(2, 2), activation='elu')\n",
        "            self.flatten = Flatten()\n",
        "            self.hid = Dense(128, activation='elu')\n",
        "            self.logits = Dense(n_actions)\n",
        "            self.state_value = Dense(1)\n",
        "\n",
        "            # prepare a graph for agent step\n",
        "            _initial_state = self.get_initial_state(1)\n",
        "            self.prev_state_placeholders = [tf.placeholder(m.dtype,\n",
        "                                                           [None] + [m.shape[i] for i in range(1, m.ndim)])\n",
        "                                            for m in _initial_state]\n",
        "            self.obs_t = tf.placeholder('float32', [None, ] + list(obs_shape))\n",
        "            self.next_state, self.agent_outputs = self.symbolic_step(\n",
        "                self.prev_state_placeholders, self.obs_t)\n",
        "    def symbolic_step(self, prev_state, obs_t):\n",
        "        \"\"\"Takes agent's previous step and observation, returns next state and whatever it needs to learn (tf tensors)\"\"\"\n",
        "\n",
        "        nn = self.conv0(obs_t)\n",
        "        nn = self.conv1(nn)\n",
        "        nn = self.conv2(nn)\n",
        "        nn = self.flatten(nn)\n",
        "        nn = self.hid(nn)\n",
        "        logits = self.logits(nn)\n",
        "        state_value = self.state_value(nn)\n",
        "\n",
        "        # feedforward agent has no state\n",
        "        new_state = []\n",
        "\n",
        "        return new_state, (logits, state_value)\n",
        "\n",
        "    def get_initial_state(self, batch_size):\n",
        "        \"\"\"Return a list of agent memory states at game start. Each state is a np array of shape [batch_size, ...]\"\"\"\n",
        "        # feedforward agent has no state\n",
        "        return []\n",
        "\n",
        "    def step(self, prev_state, obs_t):\n",
        "        \"\"\"Same as symbolic state except it operates on numpy arrays\"\"\"\n",
        "        sess = tf.get_default_session()\n",
        "        feed_dict = {self.obs_t: obs_t}\n",
        "        for state_ph, state_value in zip(self.prev_state_placeholders, prev_state):\n",
        "            feed_dict[state_ph] = state_value\n",
        "        return sess.run([self.next_state, self.agent_outputs], feed_dict)\n",
        "\n",
        "    def sample_actions(self, agent_outputs):\n",
        "        \"\"\"pick actions given numeric agent outputs (np arrays)\"\"\"\n",
        "        logits, state_values = agent_outputs\n",
        "        policy = np.exp(logits) / np.sum(np.exp(logits),\n",
        "                                         axis=-1, keepdims=True)\n",
        "        return [np.random.choice(len(p), p=p) for p in policy]"
      ],
      "execution_count": 5,
      "outputs": [
        {
          "output_type": "display_data",
          "data": {
            "text/html": [
              "<p style=\"color: red;\">\n",
              "The default version of TensorFlow in Colab will soon switch to TensorFlow 2.x.<br>\n",
              "We recommend you <a href=\"https://www.tensorflow.org/guide/migrate\" target=\"_blank\">upgrade</a> now \n",
              "or ensure your notebook will continue to use TensorFlow 1.x via the <code>%tensorflow_version 1.x</code> magic:\n",
              "<a href=\"https://colab.research.google.com/notebooks/tensorflow_version.ipynb\" target=\"_blank\">more info</a>.</p>\n"
            ],
            "text/plain": [
              "<IPython.core.display.HTML object>"
            ]
          },
          "metadata": {
            "tags": []
          }
        }
      ]
    },
    {
      "cell_type": "code",
      "metadata": {
        "id": "CJxsEaUM9ILS",
        "colab_type": "code",
        "outputId": "acd28e3f-e033-40a8-f2bb-97a6dcb3855f",
        "colab": {
          "base_uri": "https://localhost:8080/",
          "height": 205
        }
      },
      "source": [
        "n_parallel_games = 5\n",
        "gamma = 0.99\n",
        "\n",
        "agent = FeedforwardAgent(\"agent\", obs_shape, n_actions)\n",
        "\n",
        "sess.run(tf.global_variables_initializer())\n",
        "\n",
        "state = [env.reset()]\n",
        "_, (logits, value) = agent.step(agent.get_initial_state(1), state)\n",
        "print(\"action logits:\\n\", logits)\n",
        "print(\"state values:\\n\", value)"
      ],
      "execution_count": 6,
      "outputs": [
        {
          "output_type": "stream",
          "text": [
            "WARNING:tensorflow:From /usr/local/lib/python3.6/dist-packages/tensorflow_core/python/ops/resource_variable_ops.py:1630: calling BaseResourceVariable.__init__ (from tensorflow.python.ops.resource_variable_ops) with constraint is deprecated and will be removed in a future version.\n",
            "Instructions for updating:\n",
            "If using Keras pass *_constraint arguments to layers.\n",
            "action logits:\n",
            " [[ 1.0684046e-03  8.6777880e-05 -6.8907929e-04  3.9314822e-04\n",
            "   1.1070127e-03 -5.1187153e-04 -1.5082303e-04  3.7666113e-04\n",
            "   7.3291018e-04  7.1290997e-04 -6.4894697e-04 -2.5004349e-04\n",
            "   8.5986970e-04 -4.3272407e-04]]\n",
            "state values:\n",
            " [[-0.00074987]]\n"
          ],
          "name": "stdout"
        }
      ]
    },
    {
      "cell_type": "markdown",
      "metadata": {
        "id": "dQVfPAt19vwi",
        "colab_type": "text"
      },
      "source": [
        "### 开始训练"
      ]
    },
    {
      "cell_type": "code",
      "metadata": {
        "id": "i5T2bAbp9SUO",
        "colab_type": "code",
        "colab": {}
      },
      "source": [
        "def evaluate(agent, env, n_games=1):\n",
        "    \"\"\"Plays an entire game start to end, returns session rewards.\"\"\"\n",
        "\n",
        "    game_rewards = []\n",
        "    for _ in range(n_games):\n",
        "        # initial observation and memory\n",
        "        observation = env.reset()\n",
        "        prev_memories = agent.get_initial_state(1)\n",
        "\n",
        "        total_reward = 0\n",
        "        while True:\n",
        "            new_memories, readouts = agent.step(\n",
        "                prev_memories, observation[None, ...])\n",
        "            action = agent.sample_actions(readouts)\n",
        "\n",
        "            observation, reward, done, info = env.step(action[0])\n",
        "\n",
        "            total_reward += reward\n",
        "            prev_memories = new_memories\n",
        "            if done:\n",
        "                break\n",
        "\n",
        "        game_rewards.append(total_reward)\n",
        "    return game_rewards"
      ],
      "execution_count": 0,
      "outputs": []
    },
    {
      "cell_type": "code",
      "metadata": {
        "id": "xirgz1G-915K",
        "colab_type": "code",
        "outputId": "e8ba09af-55be-406b-bad7-2276ea6765cf",
        "colab": {
          "base_uri": "https://localhost:8080/",
          "height": 34
        }
      },
      "source": [
        "env_monitor = gym.wrappers.Monitor(env, directory=\"kungfu_videos\", force=True)\n",
        "rw = evaluate(agent, env_monitor, n_games=3,)\n",
        "env_monitor.close()\n",
        "print(rw)"
      ],
      "execution_count": 8,
      "outputs": [
        {
          "output_type": "stream",
          "text": [
            "[200.0, 200.0, 400.0]\n"
          ],
          "name": "stdout"
        }
      ]
    },
    {
      "cell_type": "code",
      "metadata": {
        "id": "v26zG4PE96Of",
        "colab_type": "code",
        "outputId": "fb504f96-aeba-4cd8-ad9e-8f91749adc58",
        "colab": {
          "resources": {
            "http://localhost:8080/kungfu_videos/openaigym.video.0.131.video000000.mp4": {
              "data": "CjwhRE9DVFlQRSBodG1sPgo8aHRtbCBsYW5nPWVuPgogIDxtZXRhIGNoYXJzZXQ9dXRmLTg+CiAgPG1ldGEgbmFtZT12aWV3cG9ydCBjb250ZW50PSJpbml0aWFsLXNjYWxlPTEsIG1pbmltdW0tc2NhbGU9MSwgd2lkdGg9ZGV2aWNlLXdpZHRoIj4KICA8dGl0bGU+RXJyb3IgNDA0IChOb3QgRm91bmQpISExPC90aXRsZT4KICA8c3R5bGU+CiAgICAqe21hcmdpbjowO3BhZGRpbmc6MH1odG1sLGNvZGV7Zm9udDoxNXB4LzIycHggYXJpYWwsc2Fucy1zZXJpZn1odG1se2JhY2tncm91bmQ6I2ZmZjtjb2xvcjojMjIyO3BhZGRpbmc6MTVweH1ib2R5e21hcmdpbjo3JSBhdXRvIDA7bWF4LXdpZHRoOjM5MHB4O21pbi1oZWlnaHQ6MTgwcHg7cGFkZGluZzozMHB4IDAgMTVweH0qID4gYm9keXtiYWNrZ3JvdW5kOnVybCgvL3d3dy5nb29nbGUuY29tL2ltYWdlcy9lcnJvcnMvcm9ib3QucG5nKSAxMDAlIDVweCBuby1yZXBlYXQ7cGFkZGluZy1yaWdodDoyMDVweH1we21hcmdpbjoxMXB4IDAgMjJweDtvdmVyZmxvdzpoaWRkZW59aW5ze2NvbG9yOiM3Nzc7dGV4dC1kZWNvcmF0aW9uOm5vbmV9YSBpbWd7Ym9yZGVyOjB9QG1lZGlhIHNjcmVlbiBhbmQgKG1heC13aWR0aDo3NzJweCl7Ym9keXtiYWNrZ3JvdW5kOm5vbmU7bWFyZ2luLXRvcDowO21heC13aWR0aDpub25lO3BhZGRpbmctcmlnaHQ6MH19I2xvZ297YmFja2dyb3VuZDp1cmwoLy93d3cuZ29vZ2xlLmNvbS9pbWFnZXMvbG9nb3MvZXJyb3JwYWdlL2Vycm9yX2xvZ28tMTUweDU0LnBuZykgbm8tcmVwZWF0O21hcmdpbi1sZWZ0Oi01cHh9QG1lZGlhIG9ubHkgc2NyZWVuIGFuZCAobWluLXJlc29sdXRpb246MTkyZHBpKXsjbG9nb3tiYWNrZ3JvdW5kOnVybCgvL3d3dy5nb29nbGUuY29tL2ltYWdlcy9sb2dvcy9lcnJvcnBhZ2UvZXJyb3JfbG9nby0xNTB4NTQtMngucG5nKSBuby1yZXBlYXQgMCUgMCUvMTAwJSAxMDAlOy1tb3otYm9yZGVyLWltYWdlOnVybCgvL3d3dy5nb29nbGUuY29tL2ltYWdlcy9sb2dvcy9lcnJvcnBhZ2UvZXJyb3JfbG9nby0xNTB4NTQtMngucG5nKSAwfX1AbWVkaWEgb25seSBzY3JlZW4gYW5kICgtd2Via2l0LW1pbi1kZXZpY2UtcGl4ZWwtcmF0aW86Mil7I2xvZ297YmFja2dyb3VuZDp1cmwoLy93d3cuZ29vZ2xlLmNvbS9pbWFnZXMvbG9nb3MvZXJyb3JwYWdlL2Vycm9yX2xvZ28tMTUweDU0LTJ4LnBuZykgbm8tcmVwZWF0Oy13ZWJraXQtYmFja2dyb3VuZC1zaXplOjEwMCUgMTAwJX19I2xvZ297ZGlzcGxheTppbmxpbmUtYmxvY2s7aGVpZ2h0OjU0cHg7d2lkdGg6MTUwcHh9CiAgPC9zdHlsZT4KICA8YSBocmVmPS8vd3d3Lmdvb2dsZS5jb20vPjxzcGFuIGlkPWxvZ28gYXJpYS1sYWJlbD1Hb29nbGU+PC9zcGFuPjwvYT4KICA8cD48Yj40MDQuPC9iPiA8aW5zPlRoYXTigJlzIGFuIGVycm9yLjwvaW5zPgogIDxwPiAgPGlucz5UaGF04oCZcyBhbGwgd2Uga25vdy48L2lucz4K",
              "ok": false,
              "headers": [
                [
                  "content-length",
                  "1449"
                ],
                [
                  "content-type",
                  "text/html; charset=utf-8"
                ]
              ],
              "status": 404,
              "status_text": ""
            }
          },
          "base_uri": "https://localhost:8080/",
          "height": 500
        }
      },
      "source": [
        "# show video\n",
        "from IPython.display import HTML\n",
        "import os\n",
        "\n",
        "video_names = list(filter(lambda s: s.endswith(\n",
        "    \".mp4\"), os.listdir(\"./kungfu_videos/\")))\n",
        "\n",
        "HTML(\"\"\"\n",
        "<video width=\"640\" height=\"480\" controls>\n",
        "  <source src=\"{}\" type=\"video/mp4\">\n",
        "</video>\n",
        "\"\"\".format(\"./kungfu_videos/\"+video_names[-1]))  # this may or may not be _last_ video. Try other indices"
      ],
      "execution_count": 9,
      "outputs": [
        {
          "output_type": "execute_result",
          "data": {
            "text/html": [
              "\n",
              "<video width=\"640\" height=\"480\" controls>\n",
              "  <source src=\"./kungfu_videos/openaigym.video.0.131.video000000.mp4\" type=\"video/mp4\">\n",
              "</video>\n"
            ],
            "text/plain": [
              "<IPython.core.display.HTML object>"
            ]
          },
          "metadata": {
            "tags": []
          },
          "execution_count": 9
        }
      ]
    },
    {
      "cell_type": "markdown",
      "metadata": {
        "id": "u49Wo-4q9vNh",
        "colab_type": "text"
      },
      "source": [
        ""
      ]
    },
    {
      "cell_type": "markdown",
      "metadata": {
        "id": "t6BIr_zz_ZE7",
        "colab_type": "text"
      },
      "source": [
        "### 并行训练\n",
        "\n",
        "![image.png](data:image/png;base64,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)"
      ]
    },
    {
      "cell_type": "code",
      "metadata": {
        "id": "eFpV1jek_csI",
        "colab_type": "code",
        "colab": {}
      },
      "source": [
        "import numpy as np\n",
        "\n",
        "# A whole lot of space invaders\n",
        "\n",
        "\n",
        "class EnvPool(object):\n",
        "    def __init__(self, agent, make_env, n_parallel_games=1):\n",
        "        \"\"\"\n",
        "        A special class that handles training on multiple parallel sessions\n",
        "        and is capable of some auxilary actions like evaluating agent on one game session (See .evaluate()).\n",
        "        :param agent: Agent which interacts with the environment.\n",
        "        :param make_env: Factory that produces environments OR a name of the gym environment.\n",
        "        :param n_games: Number of parallel games. One game by default.\n",
        "        :param max_size: Max pool size by default (if appending sessions). By default, pool is not constrained in size.\n",
        "        \"\"\"\n",
        "        # Create atari games.\n",
        "        self.agent = agent\n",
        "        self.make_env = make_env\n",
        "        self.envs = [self.make_env() for _ in range(n_parallel_games)]\n",
        "\n",
        "        # Initial observations.\n",
        "        self.prev_observations = [env.reset() for env in self.envs]\n",
        "\n",
        "        # Agent memory variables (if you use recurrent networks).\n",
        "        self.prev_memory_states = agent.get_initial_state(n_parallel_games)\n",
        "\n",
        "        # Whether particular session has just been terminated and needs\n",
        "        # restarting.\n",
        "        self.just_ended = [False] * len(self.envs)\n",
        "\n",
        "    def interact(self, n_steps=100, verbose=False):\n",
        "        \"\"\"Generate interaction sessions with ataries (openAI gym atari environments)\n",
        "        Sessions will have length n_steps. Each time one of games is finished, it is immediately getting reset\n",
        "        and this time is recorded in is_alive_log (See returned values).\n",
        "        :param n_steps: Length of an interaction.\n",
        "        :returns: observation_seq, action_seq, reward_seq, is_alive_seq\n",
        "        :rtype: a bunch of tensors [batch, tick, ...]\n",
        "        \"\"\"\n",
        "\n",
        "        def env_step(i, action):\n",
        "            if not self.just_ended[i]:\n",
        "                new_observation, cur_reward, is_done, info = \\\n",
        "                    self.envs[i].step(action)\n",
        "                if is_done:\n",
        "                    # Game ends now, will finalize on next tick.\n",
        "                    self.just_ended[i] = True\n",
        "\n",
        "                # note: is_alive=True in any case because environment is still\n",
        "                # alive (last tick alive) in our notation.\n",
        "                return new_observation, cur_reward, True, info\n",
        "            else:\n",
        "                # Reset environment, get new observation to be used on next\n",
        "                # tick.\n",
        "                new_observation = self.envs[i].reset()\n",
        "\n",
        "                # Reset memory for new episode.\n",
        "                initial_memory_state = self.agent.get_initial_state(\n",
        "                    batch_size=1)\n",
        "                for m_i in range(len(new_memory_states)):\n",
        "                    new_memory_states[m_i][i] = initial_memory_state[m_i][0]\n",
        "\n",
        "                if verbose:\n",
        "                    print(\"env %i reloaded\" % i)\n",
        "\n",
        "                self.just_ended[i] = False\n",
        "\n",
        "                return new_observation, 0, False, {'end': True}\n",
        "\n",
        "        history_log = []\n",
        "\n",
        "        for i in range(n_steps - 1):\n",
        "            new_memory_states, readout = self.agent.step(\n",
        "                self.prev_memory_states, self.prev_observations)\n",
        "            actions = self.agent.sample_actions(readout)\n",
        "\n",
        "            new_observations, cur_rewards, is_alive, infos = zip(\n",
        "                *map(env_step, range(len(self.envs)), actions))\n",
        "\n",
        "            # Append data tuple for this tick.\n",
        "            history_log.append(\n",
        "                (self.prev_observations, actions, cur_rewards, is_alive))\n",
        "\n",
        "            self.prev_observations = new_observations\n",
        "            self.prev_memory_states = new_memory_states\n",
        "\n",
        "        # add last observation\n",
        "        dummy_actions = [0] * len(self.envs)\n",
        "        dummy_rewards = [0] * len(self.envs)\n",
        "        dummy_mask = [1] * len(self.envs)\n",
        "        history_log.append(\n",
        "            (self.prev_observations,\n",
        "             dummy_actions,\n",
        "             dummy_rewards,\n",
        "             dummy_mask))\n",
        "\n",
        "        # cast to numpy arrays, transpose from [time, batch, ...] to [batch,\n",
        "        # time, ...]\n",
        "        history_log = [\n",
        "            np.array(tensor).swapaxes(0, 1)\n",
        "            for tensor in zip(*history_log)\n",
        "        ]\n",
        "        observation_seq, action_seq, reward_seq, is_alive_seq = history_log\n",
        "\n",
        "        return observation_seq, action_seq, reward_seq, is_alive_seq"
      ],
      "execution_count": 0,
      "outputs": []
    },
    {
      "cell_type": "code",
      "metadata": {
        "id": "0r0GDfps_nq_",
        "colab_type": "code",
        "outputId": "4d8fecd1-ec8e-46d0-8975-4742c7c06c52",
        "colab": {
          "base_uri": "https://localhost:8080/",
          "height": 84
        }
      },
      "source": [
        "\n",
        "pool = EnvPool(agent, make_env, n_parallel_games)\n",
        "#for each of n_parallel_games, take 10 steps\n",
        "rollout_obs, rollout_actions, rollout_rewards, rollout_mask = pool.interact(10)\n",
        "print(\"Actions shape:\", rollout_actions.shape)\n",
        "print(\"Rewards shape:\", rollout_rewards.shape)\n",
        "print(\"Mask shape:\", rollout_mask.shape)\n",
        "print(\"Observations shape: \", rollout_obs.shape)"
      ],
      "execution_count": 11,
      "outputs": [
        {
          "output_type": "stream",
          "text": [
            "Actions shape: (5, 10)\n",
            "Rewards shape: (5, 10)\n",
            "Mask shape: (5, 10)\n",
            "Observations shape:  (5, 10, 42, 42, 1)\n"
          ],
          "name": "stdout"
        }
      ]
    },
    {
      "cell_type": "markdown",
      "metadata": {
        "id": "5ciWpwkPB5er",
        "colab_type": "text"
      },
      "source": [
        "### Actor-critic"
      ]
    },
    {
      "cell_type": "code",
      "metadata": {
        "id": "9wW1uudvBxbQ",
        "colab_type": "code",
        "colab": {}
      },
      "source": [
        "observations_ph = tf.placeholder('float32', [None, None, ] + list(obs_shape))\n",
        "actions_ph = tf.placeholder('int32', (None, None,))\n",
        "rewards_ph = tf.placeholder('float32', (None, None,))\n",
        "mask_ph = tf.placeholder('float32', (None, None,))\n",
        "\n",
        "initial_memory_ph = agent.prev_state_placeholders\n",
        "dummy_outputs = agent.symbolic_step(\n",
        "    initial_memory_ph, observations_ph[:, 0])[1]\n",
        "\n",
        "_, outputs_seq = tf.scan(\n",
        "    lambda stack, obs_t: agent.symbolic_step(stack[0], obs_t),\n",
        "    initializer=(initial_memory_ph, dummy_outputs),\n",
        "    # [time, batch, h, w, c]\n",
        "    elems=tf.transpose(observations_ph, [1, 0, 2, 3, 4])\n",
        ")\n",
        "\n",
        "# from [time, batch] back to [batch, time]\n",
        "outputs_seq = [tf.transpose(\n",
        "    tensor, [1, 0] + list(range(2, tensor.shape.ndims))) for tensor in outputs_seq]"
      ],
      "execution_count": 0,
      "outputs": []
    },
    {
      "cell_type": "code",
      "metadata": {
        "id": "LDCqpW0oCB9J",
        "colab_type": "code",
        "outputId": "fca28235-9cd8-4145-ab99-9ab8aad80eb2",
        "colab": {
          "base_uri": "https://localhost:8080/",
          "height": 131
        }
      },
      "source": [
        "# actor-critic losses\n",
        "# logits shape: [batch, time, n_actions], states shape: [batch, time, n_actions]\n",
        "logits_seq, state_values_seq = outputs_seq\n",
        "\n",
        "logprobs_seq = tf.nn.log_softmax(logits_seq)\n",
        "logp_actions = tf.reduce_sum(\n",
        "    logprobs_seq * tf.one_hot(actions_ph, n_actions), axis=-1)[:, :-1]\n",
        "\n",
        "current_rewards = rewards_ph[:, :-1] / 100.\n",
        "current_state_values = state_values_seq[:, :-1, 0]\n",
        "next_state_values = state_values_seq[:, 1:, 0] * mask_ph[:, :-1]\n",
        "\n",
        "# policy gradient\n",
        "# compute 1-step advantage using current_rewards, current_state_values and next_state_values\n",
        "advantage =  # YOUR CODE\n",
        "assert advantage.shape.ndims == 2\n",
        "# compute policy entropy given logits_seq. Mind the sign!\n",
        "entropy =  # YOUR CODE\n",
        "assert entropy.shape.ndims == 2\n",
        "\n",
        "actor_loss = - tf.reduce_mean(logp_actions * tf.stop_gradient(advantage)) - 1e-2 * tf.reduce_mean(entropy)\n",
        "\n",
        "# compute target qvalues using temporal difference\n",
        "target_qvalues =  # YOUR CODE\n",
        "critic_loss = tf.reduce_mean(\n",
        "    (current_state_values - tf.stop_gradient(target_qvalues))**2)\n",
        "\n",
        "train_step = tf.train.AdamOptimizer(1e-5).minimize(actor_loss + critic_loss)"
      ],
      "execution_count": 14,
      "outputs": [
        {
          "output_type": "error",
          "ename": "SyntaxError",
          "evalue": "ignored",
          "traceback": [
            "\u001b[0;36m  File \u001b[0;32m\"<ipython-input-14-ce5ad7c78c30>\"\u001b[0;36m, line \u001b[0;32m13\u001b[0m\n\u001b[0;31m    advantage =  # YOUR CODE\u001b[0m\n\u001b[0m                            ^\u001b[0m\n\u001b[0;31mSyntaxError\u001b[0m\u001b[0;31m:\u001b[0m invalid syntax\n"
          ]
        }
      ]
    },
    {
      "cell_type": "code",
      "metadata": {
        "id": "jubBQUkRCEOO",
        "colab_type": "code",
        "colab": {}
      },
      "source": [
        "sess.run(tf.global_variables_initializer())\n"
      ],
      "execution_count": 0,
      "outputs": []
    },
    {
      "cell_type": "markdown",
      "metadata": {
        "id": "Ft0frQ0_CKnM",
        "colab_type": "text"
      },
      "source": [
        "### Train\n",
        "just run train step and see if agent learns any better"
      ]
    },
    {
      "cell_type": "code",
      "metadata": {
        "id": "qWd9acE-CQZA",
        "colab_type": "code",
        "colab": {}
      },
      "source": [
        ""
      ],
      "execution_count": 0,
      "outputs": []
    },
    {
      "cell_type": "code",
      "metadata": {
        "id": "ozTooN56CUhi",
        "colab_type": "code",
        "colab": {}
      },
      "source": [
        "def sample_batch(rollout_length=10):\n",
        "    prev_mem = pool.prev_memory_states\n",
        "    rollout_obs, rollout_actions, rollout_rewards, rollout_mask = pool.interact(\n",
        "        rollout_length)\n",
        "\n",
        "    feed_dict = {\n",
        "        observations_ph: rollout_obs,\n",
        "        actions_ph: rollout_actions,\n",
        "        rewards_ph: rollout_rewards,\n",
        "        mask_ph: rollout_mask,\n",
        "    }\n",
        "    for placeholder, value in zip(initial_memory_ph, prev_mem):\n",
        "        feed_dict[placeholder] = value\n",
        "    return feed_dict\n",
        "\n",
        "from IPython.display import clear_output\n",
        "from tqdm import trange\n",
        "from pandas import DataFrame\n",
        "moving_average = lambda x, **kw: DataFrame(\n",
        "    {'x': np.asarray(x)}).x.ewm(**kw).mean().values\n",
        "\n",
        "rewards_history = []\n",
        "\n"
      ],
      "execution_count": 0,
      "outputs": []
    },
    {
      "cell_type": "code",
      "metadata": {
        "id": "R2iY_W2nCVV3",
        "colab_type": "code",
        "colab": {}
      },
      "source": [
        "for i in trange(5000):\n",
        "    sess.run(train_step, sample_batch())\n",
        "\n",
        "    if i % 100 == 0:\n",
        "        rewards_history.append(np.mean(evaluate(agent, env, n_games=1)))\n",
        "        clear_output(True)\n",
        "        plt.plot(rewards_history, label='rewards')\n",
        "        plt.plot(moving_average(np.array(rewards_history),\n",
        "                                span=10), label='rewards ewma@10')\n",
        "        plt.legend()\n",
        "        plt.show()\n",
        "        if rewards_history[-1] >= 10000:\n",
        "            print(\"Your agent has just passed the minimum homework threshold\")\n",
        "            break"
      ],
      "execution_count": 0,
      "outputs": []
    },
    {
      "cell_type": "markdown",
      "metadata": {
        "id": "EZ42sj2ECcQT",
        "colab_type": "text"
      },
      "source": [
        "### \"Final\" evaluation"
      ]
    },
    {
      "cell_type": "code",
      "metadata": {
        "id": "KfxNohNsCd2E",
        "colab_type": "code",
        "colab": {}
      },
      "source": [
        "|env_monitor = gym.wrappers.Monitor(env, directory=\"kungfu_videos\", force=True)\n",
        "final_rewards = evaluate(agent, env_monitor, n_games=20,)\n",
        "env_monitor.close()\n",
        "print(\"Final mean reward\": np.mean(final_rewards))\n",
        "\n",
        "video_names = list(filter(lambda s: s.endswith(\n",
        "    \".mp4\"), os.listdir(\"./kungfu_videos/\")))\n",
        "HTML(\"\"\"\n",
        "<video width=\"640\" height=\"480\" controls>\n",
        "  <source src=\"{}\" type=\"video/mp4\">\n",
        "</video>\n",
        "\"\"\".format(\"./kungfu_videos/\"+video_names[-1]))  # this may or may not be _last_ video. Try other indices"
      ],
      "execution_count": 0,
      "outputs": []
    },
    {
      "cell_type": "markdown",
      "metadata": {
        "id": "A89ixEXbC7Bz",
        "colab_type": "text"
      },
      "source": [
        "\n",
        "### POMDP setting\n",
        "The atari game we're working with is actually a POMDP: your agent needs to know timing at which enemies spawn and move, but cannot do so unless it has some memory.\n",
        "\n",
        "Let's design another agent that has a recurrent neural net memory to solve this.\n",
        "\n",
        "Note: it's also a good idea to scale rollout_len up to learn longer sequences. You may wish set it to >=20 or to start at 10 and then scale up as time passes."
      ]
    },
    {
      "cell_type": "code",
      "metadata": {
        "id": "6AAcG4DtC8ww",
        "colab_type": "code",
        "outputId": "eafff89b-ff48-4913-ea74-7cbda38a5363",
        "colab": {
          "base_uri": "https://localhost:8080/",
          "height": 133
        }
      },
      "source": [
        "class SimpleRecurrentAgent:\n",
        "    def __init__(self, name, obs_shape, n_actions, reuse=False):\n",
        "        \"\"\"A simple actor-critic agent\"\"\"\n",
        "\n",
        "        with tf.variable_scope(name, reuse=reuse):\n",
        "            # Note: number of units/filters is arbitrary, you can and should change it at your will\n",
        "            self.conv0 = Conv2D(32, (3, 3), strides=(2, 2), activation='elu')\n",
        "            self.conv1 = Conv2D(32, (3, 3), strides=(2, 2), activation='elu')\n",
        "            self.conv2 = Conv2D(32, (3, 3), strides=(2, 2), activation='elu')\n",
        "            self.flatten = Flatten()\n",
        "            self.hid = Dense(128, activation='elu')\n",
        "\n",
        "            self.rnn0 = tf.nn.rnn_cell.GRUCell(256, activation=tf.tanh)\n",
        "\n",
        "            self.logits = Dense(n_actions)\n",
        "            self.state_value = Dense(1)\n",
        "\n",
        "            # prepare a graph for agent step\n",
        "            _initial_state = self.get_initial_state(1)\n",
        "            self.prev_state_placeholders = [tf.placeholder(m.dtype,\n",
        "                                                           [None] + [m.shape[i] for i in range(1, m.ndim)])\n",
        "                                            for m in _initial_state]\n",
        "            self.obs_t = tf.placeholder('float32', [None, ] + list(obs_shape))\n",
        "            self.next_state, self.agent_outputs = self.symbolic_step(\n",
        "                self.prev_state_placeholders, self.obs_t)\n",
        "    def symbolic_step(self, prev_state, obs_t):\n",
        "        \"\"\"Takes agent's previous step and observation, returns next state and whatever it needs to learn (tf tensors)\"\"\"\n",
        "\n",
        "        nn = self.conv0(obs_t)\n",
        "        nn = self.conv1(nn)\n",
        "        nn = self.conv2(nn)\n",
        "        nn = self.flatten(nn)\n",
        "        nn = self.hid(nn)\n",
        "\n",
        "        (prev_rnn0,) = prev_state\n",
        "\n",
        "        # YOUR CODE: apply recurrent neural net for one step here.\n",
        "        # See docs on self.rnn0(...)\n",
        "        # the recurrent cell should take the last feedforward dense layer as input\n",
        "        raise NotImplementedError(\"Please implement rnn step\")\n",
        "\n",
        "        logits = self.logits( < some layer > )\n",
        "        state_value = self.state_value( < some layer > )\n",
        "\n",
        "        new_state = [new_rnn0]\n",
        "\n",
        "        return new_state, (logits, state_value)\n",
        "\n",
        "    def get_initial_state(self, batch_size):\n",
        "        \"\"\"Return a list of agent memory states at game start. Each state is a np array of shape [batch_size, ...]\"\"\"\n",
        "        # feedforward agent has no state\n",
        "        return [np.zeros([batch_size, self.rnn0.output_size], 'float32')]\n",
        "\n",
        "    def step(self, prev_state, obs_t):\n",
        "        \"\"\"Same as symbolic state except it operates on numpy arrays\"\"\"\n",
        "        sess = tf.get_default_session()\n",
        "        feed_dict = {self.obs_t: obs_t}\n",
        "        for state_ph, state_value in zip(self.prev_state_placeholders, prev_state):\n",
        "            feed_dict[state_ph] = state_value\n",
        "        return sess.run([self.next_state, self.agent_outputs], feed_dict)\n",
        "\n",
        "    def sample_actions(self, agent_outputs):\n",
        "        \"\"\"pick actions given numeric agent outputs (np arrays)\"\"\"\n",
        "        logits, state_values = agent_outputs\n",
        "        policy = np.exp(logits) / np.sum(np.exp(logits),\n",
        "                                         axis=-1, keepdims=True)\n",
        "        return [np.random.choice(len(p), p=p) for p in policy]"
      ],
      "execution_count": 0,
      "outputs": [
        {
          "output_type": "error",
          "ename": "SyntaxError",
          "evalue": "ignored",
          "traceback": [
            "\u001b[0;36m  File \u001b[0;32m\"<ipython-input-22-e7e6024b6517>\"\u001b[0;36m, line \u001b[0;32m42\u001b[0m\n\u001b[0;31m    logits = self.logits( < some layer > )\u001b[0m\n\u001b[0m                          ^\u001b[0m\n\u001b[0;31mSyntaxError\u001b[0m\u001b[0;31m:\u001b[0m invalid syntax\n"
          ]
        }
      ]
    },
    {
      "cell_type": "code",
      "metadata": {
        "id": "oGPX830oDE5T",
        "colab_type": "code",
        "colab": {}
      },
      "source": [
        "agent = SimpleRecurrentAgent('agent_with_memory', obs_shape, n_actions)\n"
      ],
      "execution_count": 0,
      "outputs": []
    },
    {
      "cell_type": "code",
      "metadata": {
        "id": "BlgPdThTDN5G",
        "colab_type": "code",
        "colab": {}
      },
      "source": [
        "# A whole lot of your code here: train the new agent with GRU memory.\n",
        "# - create pool\n",
        "# - write loss functions and training op\n",
        "# - train\n",
        "# You can reuse most of the code with zero to few changes"
      ],
      "execution_count": 0,
      "outputs": []
    }
  ]
}