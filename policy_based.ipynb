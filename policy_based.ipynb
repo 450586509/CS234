{
  "nbformat": 4,
  "nbformat_minor": 0,
  "metadata": {
    "colab": {
      "name": "policy_based.ipynb",
      "version": "0.3.2",
      "provenance": [],
      "include_colab_link": true
    },
    "kernelspec": {
      "name": "python3",
      "display_name": "Python 3"
    }
  },
  "cells": [
    {
      "cell_type": "markdown",
      "metadata": {
        "id": "view-in-github",
        "colab_type": "text"
      },
      "source": [
        "<a href=\"https://colab.research.google.com/github/450586509/CS234/blob/master/policy_based.ipynb\" target=\"_parent\"><img src=\"https://colab.research.google.com/assets/colab-badge.svg\" alt=\"Open In Colab\"/></a>"
      ]
    },
    {
      "cell_type": "code",
      "metadata": {
        "id": "ht6iihN3oXZd",
        "colab_type": "code",
        "colab": {}
      },
      "source": [
        "!wget -q https://raw.githubusercontent.com/yandexdataschool/Practical_RL/master/week02_value_based/mdp.py"
      ],
      "execution_count": 0,
      "outputs": []
    },
    {
      "cell_type": "markdown",
      "metadata": {
        "id": "q8oUw-UJolVA",
        "colab_type": "text"
      },
      "source": [
        "$\\pi_{0}$:是一个dict, key是state，value是action\n",
        "\n",
        "\n",
        "更新state_value：用dict表示，key为state,value是该state对应的value。\n",
        "\n",
        "计算state_action_value：f(state, action)\n",
        "\n",
        "\n",
        "利用state_action_value更新策略。\n"
      ]
    },
    {
      "cell_type": "code",
      "metadata": {
        "id": "PS3XmUsbpdmd",
        "colab_type": "code",
        "colab": {}
      },
      "source": [
        "from mdp import FrozenLakeEnv\n",
        "frozen_lake = FrozenLakeEnv()\n",
        "mdp=frozen_lake"
      ],
      "execution_count": 0,
      "outputs": []
    },
    {
      "cell_type": "code",
      "metadata": {
        "id": "33Q4z8TloqGJ",
        "colab_type": "code",
        "colab": {
          "base_uri": "https://localhost:8080/",
          "height": 53
        },
        "outputId": "6a3e8427-5078-4f92-f88b-e984306fc314"
      },
      "source": [
        "actions = []\n",
        "states = mdp.get_all_states()\n",
        "for state in states:\n",
        "  #print(\"state={0}\".format(state))\n",
        "  action = mdp.get_possible_actions(state)\n",
        "  #print(action)\n",
        "  if len(action)>=1:\n",
        "    actions.append(action[0])\n",
        "    #init_states.append(state)\n",
        "  else:\n",
        "    actions.append(None)\n",
        "print(\"actions={0}\".format(actions))\n",
        "print(\"sattes={0}\".format(states))\n",
        "pi = {k:v for k,v in zip(states, actions)}\n",
        "#print(\"初始化的策略={0}\".format(pi))"
      ],
      "execution_count": 131,
      "outputs": [
        {
          "output_type": "stream",
          "text": [
            "actions=['left', 'left', 'left', 'left', 'left', None, 'left', None, 'left', 'left', 'left', None, None, 'left', 'left', None]\n",
            "sattes=((0, 0), (0, 1), (0, 2), (0, 3), (1, 0), (1, 1), (1, 2), (1, 3), (2, 0), (2, 1), (2, 2), (2, 3), (3, 0), (3, 1), (3, 2), (3, 3))\n"
          ],
          "name": "stdout"
        }
      ]
    },
    {
      "cell_type": "markdown",
      "metadata": {
        "id": "VgQeV5Ato6j6",
        "colab_type": "text"
      },
      "source": [
        "初始化state_value"
      ]
    },
    {
      "cell_type": "code",
      "metadata": {
        "id": "K7z2NnQCo7AA",
        "colab_type": "code",
        "colab": {
          "base_uri": "https://localhost:8080/",
          "height": 55
        },
        "outputId": "110b5341-1254-4c37-bd25-c3f67eeacee0"
      },
      "source": [
        "state_values={key:0 for key in states}\n",
        "print(\"state_values={0}\".format(state_values))"
      ],
      "execution_count": 132,
      "outputs": [
        {
          "output_type": "stream",
          "text": [
            "state_values={(0, 0): 0, (0, 1): 0, (0, 2): 0, (0, 3): 0, (1, 0): 0, (1, 1): 0, (1, 2): 0, (1, 3): 0, (2, 0): 0, (2, 1): 0, (2, 2): 0, (2, 3): 0, (3, 0): 0, (3, 1): 0, (3, 2): 0, (3, 3): 0}\n"
          ],
          "name": "stdout"
        }
      ]
    },
    {
      "cell_type": "markdown",
      "metadata": {
        "id": "YWkMvB7co9t6",
        "colab_type": "text"
      },
      "source": [
        "更新state_value。"
      ]
    },
    {
      "cell_type": "code",
      "metadata": {
        "id": "awbsnwzcpAdP",
        "colab_type": "code",
        "colab": {}
      },
      "source": [
        "def update_state_value(mdp, state_value, gamma=0.9):\n",
        "    policy = pi\n",
        "    state_value_new = {}\n",
        "    THETA = 0.01\n",
        "    delta = 0.02\n",
        "    count = 0\n",
        "    while delta >= THETA:\n",
        "        for s in mdp.get_all_states():\n",
        "            action = policy[s]\n",
        "            if action is None:\n",
        "                state_value_new[s] = 0\n",
        "                continue\n",
        "            s_brothers = mdp.get_next_states(s, action)\n",
        "            new_values = []\n",
        "            for s_brother in s_brothers:\n",
        "                p = mdp.get_transition_prob(s, action, s_brother)\n",
        "                r = mdp.get_reward(s, action, s_brother)\n",
        "                v = state_value[s_brother]\n",
        "                nv = p * (r + gamma * v)\n",
        "                new_values.append(nv)\n",
        "            state_value_new[s] = sum(new_values)\n",
        "            delta = max(delta, abs(state_value_new[s] - state_value[s]))\n",
        "        count = count + 1\n",
        "        \n",
        "        if count > 100:\n",
        "            break\n",
        "    print(\"delta={0}\".format(delta))    \n",
        "    print(\"convergence iteration ={0}\".format(count))\n",
        "    return state_value_new"
      ],
      "execution_count": 0,
      "outputs": []
    },
    {
      "cell_type": "markdown",
      "metadata": {
        "id": "PLarq5J4pDTL",
        "colab_type": "text"
      },
      "source": [
        "policy itertion"
      ]
    },
    {
      "cell_type": "code",
      "metadata": {
        "id": "zHQmoFZNpGK3",
        "colab_type": "code",
        "colab": {}
      },
      "source": [
        "def state_action_value(mdp, state, action, state_value, gamma=0.9):\n",
        "    s_brothers = mdp.get_next_states(state, action)\n",
        "    new_values=[]\n",
        "    for s_brother in s_brothers:\n",
        "        p=mdp.get_transition_prob(state, action, s_brother)\n",
        "        r=mdp.get_reward(state,action, s_brother)\n",
        "        #print(\"state_value={0}\".format(state_value))\n",
        "        v=state_value[s_brother]\n",
        "        nv=p*(r+gamma*v)\n",
        "        new_values.append(nv)\n",
        "    return sum(new_values)\n",
        "  \n",
        "  "
      ],
      "execution_count": 0,
      "outputs": []
    },
    {
      "cell_type": "code",
      "metadata": {
        "id": "SRMdhIHTpIrU",
        "colab_type": "code",
        "colab": {}
      },
      "source": [
        "def policy_iteration(mdp, pi, state_value):\n",
        "  count = 0\n",
        "  all_states = mdp.get_all_states()\n",
        "  while count<=10:\n",
        "    state_value = update_state_value(mdp, state_value, gamma=0.9)\n",
        "    for state in all_states:\n",
        "      optimal_action=None\n",
        "      optimal_val=0\n",
        "      for action in mdp.get_possible_actions(state):\n",
        "        state_action_val = state_action_value(mdp, state, action, state_value)\n",
        "        if state_action_val >=optimal_val:\n",
        "          optimal_val = state_action_val\n",
        "          optimal_action = action\n",
        "      pi[state] = optimal_action\n",
        "    print(\"policy={0}\".format(pi))\n",
        "    print(\"state_value={0}\".format(state_value))\n",
        "    count = count + 1\n",
        "        \n",
        "    "
      ],
      "execution_count": 0,
      "outputs": []
    },
    {
      "cell_type": "code",
      "metadata": {
        "id": "02yB-nD4pGpd",
        "colab_type": "code",
        "colab": {
          "base_uri": "https://localhost:8080/",
          "height": 829
        },
        "outputId": "dbda0f75-80af-4e3e-a05f-92574e8257ce"
      },
      "source": [
        "policy_iteration(mdp, pi, state_values)"
      ],
      "execution_count": 136,
      "outputs": [
        {
          "output_type": "stream",
          "text": [
            "delta=0.02\n",
            "convergence iteration =101\n",
            "policy={(0, 0): 'up', (0, 1): 'up', (0, 2): 'up', (0, 3): 'up', (1, 0): 'up', (1, 1): None, (1, 2): 'up', (1, 3): None, (2, 0): 'up', (2, 1): 'up', (2, 2): 'up', (2, 3): None, (3, 0): None, (3, 1): 'up', (3, 2): 'right', (3, 3): None}\n",
            "state_value={(0, 0): 0.0, (0, 1): 0.0, (0, 2): 0.0, (0, 3): 0.0, (1, 0): 0.0, (1, 1): 0, (1, 2): 0.0, (1, 3): 0, (2, 0): 0.0, (2, 1): 0.0, (2, 2): 0.0, (2, 3): 0, (3, 0): 0, (3, 1): 0.0, (3, 2): 0.0, (3, 3): 0}\n",
            "delta=0.8\n",
            "convergence iteration =101\n",
            "policy={(0, 0): 'up', (0, 1): 'up', (0, 2): 'up', (0, 3): 'up', (1, 0): 'up', (1, 1): None, (1, 2): 'up', (1, 3): None, (2, 0): 'up', (2, 1): 'up', (2, 2): 'down', (2, 3): None, (3, 0): None, (3, 1): 'right', (3, 2): 'right', (3, 3): None}\n",
            "state_value={(0, 0): 0.0, (0, 1): 0.0, (0, 2): 0.0, (0, 3): 0.0, (1, 0): 0.0, (1, 1): 0, (1, 2): 0.0, (1, 3): 0, (2, 0): 0.0, (2, 1): 0.0, (2, 2): 0.0, (2, 3): 0, (3, 0): 0, (3, 1): 0.0, (3, 2): 0.8, (3, 3): 0}\n",
            "delta=0.5760000000000001\n",
            "convergence iteration =101\n",
            "policy={(0, 0): 'up', (0, 1): 'up', (0, 2): 'up', (0, 3): 'up', (1, 0): 'up', (1, 1): None, (1, 2): 'down', (1, 3): None, (2, 0): 'up', (2, 1): 'right', (2, 2): 'down', (2, 3): None, (3, 0): None, (3, 1): 'right', (3, 2): 'right', (3, 3): None}\n",
            "state_value={(0, 0): 0.0, (0, 1): 0.0, (0, 2): 0.0, (0, 3): 0.0, (1, 0): 0.0, (1, 1): 0, (1, 2): 0.0, (1, 3): 0, (2, 0): 0.0, (2, 1): 0.0, (2, 2): 0.5760000000000001, (2, 3): 0, (3, 0): 0, (3, 1): 0.5760000000000001, (3, 2): 0.8720000000000001, (3, 3): 0}\n",
            "delta=0.4665600000000001\n",
            "convergence iteration =101\n",
            "policy={(0, 0): 'up', (0, 1): 'up', (0, 2): 'down', (0, 3): 'up', (1, 0): 'up', (1, 1): None, (1, 2): 'down', (1, 3): None, (2, 0): 'right', (2, 1): 'down', (2, 2): 'down', (2, 3): None, (3, 0): None, (3, 1): 'right', (3, 2): 'right', (3, 3): None}\n",
            "state_value={(0, 0): 0.0, (0, 1): 0.0, (0, 2): 0.0, (0, 3): 0.0, (1, 0): 0.0, (1, 1): 0, (1, 2): 0.4147200000000001, (1, 3): 0, (2, 0): 0.0, (2, 1): 0.4665600000000001, (2, 2): 0.6278400000000002, (2, 3): 0, (3, 0): 0, (3, 1): 0.6796800000000002, (3, 2): 0.93032, (3, 3): 0}\n",
            "delta=0.3359232000000001\n",
            "convergence iteration =101\n",
            "policy={(0, 0): 'up', (0, 1): 'right', (0, 2): 'down', (0, 3): 'left', (1, 0): 'down', (1, 1): None, (1, 2): 'down', (1, 3): None, (2, 0): 'right', (2, 1): 'down', (2, 2): 'down', (2, 3): None, (3, 0): None, (3, 1): 'right', (3, 2): 'right', (3, 3): None}\n",
            "state_value={(0, 0): 0.0, (0, 1): 0.0, (0, 2): 0.2985984000000001, (0, 3): 0.0, (1, 0): 0.0, (1, 1): 0, (1, 2): 0.4520448000000002, (1, 3): 0, (2, 0): 0.3359232000000001, (2, 1): 0.5458752000000001, (2, 2): 0.7118208, (2, 3): 0, (3, 0): 0, (3, 1): 0.772992, (3, 2): 0.9402344000000001, (3, 3): 0}\n",
            "delta=0.24186470400000007\n",
            "convergence iteration =101\n",
            "policy={(0, 0): 'down', (0, 1): 'right', (0, 2): 'down', (0, 3): 'left', (1, 0): 'down', (1, 1): None, (1, 2): 'down', (1, 3): None, (2, 0): 'right', (2, 1): 'down', (2, 2): 'down', (2, 3): None, (3, 0): None, (3, 1): 'right', (3, 2): 'right', (3, 3): None}\n",
            "state_value={(0, 0): 0.0, (0, 1): 0.21499084800000007, (0, 2): 0.3254722560000002, (0, 3): 0.21499084800000007, (1, 0): 0.24186470400000007, (1, 1): 0, (1, 2): 0.5125109760000001, (1, 3): 0, (2, 0): 0.39303014400000014, (2, 1): 0.6508512, (2, 2): 0.7260975360000002, (2, 3): 0, (3, 0): 0, (3, 1): 0.7956668160000001, (3, 2): 0.948684968, (3, 3): 0}\n",
            "delta=0.19349176320000006\n",
            "convergence iteration =101\n",
            "policy={(0, 0): 'down', (0, 1): 'right', (0, 2): 'down', (0, 3): 'left', (1, 0): 'down', (1, 1): None, (1, 2): 'down', (1, 3): None, (2, 0): 'right', (2, 1): 'down', (2, 2): 'down', (2, 3): None, (3, 0): None, (3, 1): 'right', (3, 2): 'right', (3, 3): None}\n",
            "state_value={(0, 0): 0.19349176320000006, (0, 1): 0.25368920064000017, (0, 2): 0.40770625536000005, (0, 3): 0.25368920064000017, (1, 0): 0.30474952704000013, (1, 1): 0, (1, 2): 0.5227902259200001, (1, 3): 0, (2, 0): 0.49038068736, (2, 1): 0.6736015987200001, (2, 2): 0.7416297849600001, (2, 3): 0, (3, 0): 0, (3, 1): 0.8132397984, (3, 2): 0.95073042536, (3, 3): 0}\n",
            "delta=0.07575202529279995\n",
            "convergence iteration =101\n",
            "policy={(0, 0): 'down', (0, 1): 'right', (0, 2): 'down', (0, 3): 'left', (1, 0): 'down', (1, 1): None, (1, 2): 'down', (1, 3): None, (2, 0): 'right', (2, 1): 'down', (2, 2): 'down', (2, 3): None, (3, 0): None, (3, 1): 'right', (3, 2): 'right', (3, 3): None}\n",
            "state_value={(0, 0): 0.25966594621440015, (0, 1): 0.3163805319168001, (0, 2): 0.4220730187776002, (0, 3): 0.3163805319168001, (1, 0): 0.3805015523328001, (1, 1): 0, (1, 2): 0.5339734451712002, (1, 3): 0, (2, 0): 0.5124206085120002, (2, 1): 0.6964135973568001, (2, 2): 0.7451500501439999, (2, 3): 0, (3, 0): 0, (3, 1): 0.818341632, (3, 2): 0.9523124189288, (3, 3): 0}\n",
            "delta=0.06613935449702402\n",
            "convergence iteration =101\n",
            "policy={(0, 0): 'down', (0, 1): 'right', (0, 2): 'down', (0, 3): 'left', (1, 0): 'down', (1, 1): None, (1, 2): 'down', (1, 3): None, (2, 0): 'right', (2, 1): 'down', (2, 2): 'down', (2, 3): None, (3, 0): None, (3, 1): 'right', (3, 2): 'right', (3, 3): None}\n",
            "state_value={(0, 0): 0.32580530071142416, (0, 1): 0.33236682139238416, (0, 2): 0.44140937626828813, (0, 3): 0.33236682139238416, (1, 0): 0.40318797783859217, (1, 1): 0, (1, 2): 0.5365080361036799, (1, 3): 0, (2, 0): 0.5356629298068482, (2, 1): 0.7023873343190399, (2, 2): 0.7483421653908481, (2, 3): 0, (3, 0): 0, (3, 1): 0.821992912270848, (3, 2): 0.952771622216552, (3, 3): 0}\n",
            "delta=0.02372553432170499\n",
            "convergence iteration =101\n",
            "policy={(0, 0): 'down', (0, 1): 'right', (0, 2): 'down', (0, 3): 'left', (1, 0): 'down', (1, 1): None, (1, 2): 'down', (1, 3): None, (2, 0): 'right', (2, 1): 'down', (2, 2): 'down', (2, 3): None, (3, 0): None, (3, 1): 'right', (3, 2): 'right', (3, 3): None}\n",
            "state_value={(0, 0): 0.34953083503312915, (0, 1): 0.34772776483848206, (0, 2): 0.44611181384527876, (0, 3): 0.34772776483848206, (1, 0): 0.421964227466404, (1, 1): 0, (1, 2): 0.5388063590814106, (1, 3): 0, (2, 0): 0.5420057987151821, (2, 1): 0.7073953554028033, (2, 2): 0.7492104280846311, (2, 3): 0, (3, 0): 0, (3, 1): 0.8231897901890074, (3, 2): 0.953100240884666, (3, 3): 0}\n",
            "delta=0.02\n",
            "convergence iteration =101\n",
            "policy={(0, 0): 'down', (0, 1): 'right', (0, 2): 'down', (0, 3): 'left', (1, 0): 'down', (1, 1): None, (1, 2): 'down', (1, 3): None, (2, 0): 'right', (2, 1): 'down', (2, 2): 'down', (2, 3): None, (3, 0): None, (3, 1): 'right', (3, 2): 'right', (3, 3): None}\n",
            "state_value={(0, 0): 0.36656751776425595, (0, 1): 0.3524960048040641, (0, 2): 0.45053157620954243, (0, 3): 0.3524960048040641, (1, 0): 0.4282209555469074, (1, 1): 0, (1, 2): 0.5394315082209344, (1, 3): 0, (2, 0): 0.5473014363619948, (2, 1): 0.7089061093480685, (2, 2): 0.7498977554232119, (2, 3): 0, (3, 0): 0, (3, 1): 0.8239848365402226, (3, 2): 0.9532079602072367, (3, 3): 0}\n"
          ],
          "name": "stdout"
        }
      ]
    },
    {
      "cell_type": "code",
      "metadata": {
        "id": "VJ1TMyjXCujP",
        "colab_type": "code",
        "colab": {}
      },
      "source": [
        "def get_next_state(mdp, state, action):\n",
        "  state_action = mdp.get_next_states(state, action)\n",
        "  optimal_prob = 0\n",
        "  next_state = None\n",
        "  for state, prob in state_action.items():\n",
        "    if prob>optimal_prob:\n",
        "      next_state = state\n",
        "      optimal_prob = prob\n",
        "  return next_state\n",
        "      \n",
        "      \n",
        "    "
      ],
      "execution_count": 0,
      "outputs": []
    },
    {
      "cell_type": "code",
      "metadata": {
        "id": "_QYVtonmq_yT",
        "colab_type": "code",
        "colab": {
          "base_uri": "https://localhost:8080/",
          "height": 161
        },
        "outputId": "13be91bf-6cd3-4692-f8f0-6465da28cc8a"
      },
      "source": [
        "s = mdp.reset()\n",
        "mdp.render()\n",
        "actions = []\n",
        "gamma=0.9\n",
        "for t in range(20):\n",
        "  #获取下一个状态\n",
        "  action = pi[s]\n",
        "  #print(\"state={0}\".format(s))\n",
        "  if action is None:\n",
        "    print(\"action is None\")\n",
        "    break\n",
        "  actions.append(action)\n",
        "\n",
        "  #print(\"action={0}\".format(action))\n",
        "  #print(mdp.get_next_states(s, action))\n",
        "  #print(\"------------------------\")\n",
        "  #s,_,is_done,_ = mdp.step(action)\n",
        "  s = get_next_state(mdp,s, action)\n",
        "  if s is None:\n",
        "    #print(\"is done\")\n",
        "    break\n",
        "          \n",
        "print(\"actions={0}\".format(actions))\n",
        "print(\"actions size={0}\".format(len(actions)))"
      ],
      "execution_count": 138,
      "outputs": [
        {
          "output_type": "stream",
          "text": [
            "*FFF\n",
            "FHFH\n",
            "FFFH\n",
            "HFFG\n",
            "\n",
            "action is None\n",
            "actions=['down', 'down', 'right', 'down', 'right', 'right']\n",
            "actions size=6\n"
          ],
          "name": "stdout"
        }
      ]
    },
    {
      "cell_type": "code",
      "metadata": {
        "id": "G-uQIS6fC0Gk",
        "colab_type": "code",
        "colab": {}
      },
      "source": [
        ""
      ],
      "execution_count": 0,
      "outputs": []
    },
    {
      "cell_type": "code",
      "metadata": {
        "id": "HWKJOXdSIABy",
        "colab_type": "code",
        "colab": {}
      },
      "source": [
        ""
      ],
      "execution_count": 0,
      "outputs": []
    }
  ]
}