{
  "nbformat": 4,
  "nbformat_minor": 0,
  "metadata": {
    "colab": {
      "name": "06_policy_based.ipynb",
      "provenance": [],
      "toc_visible": true,
      "include_colab_link": true
    },
    "kernelspec": {
      "name": "python3",
      "display_name": "Python 3"
    },
    "accelerator": "GPU"
  },
  "cells": [
    {
      "cell_type": "markdown",
      "metadata": {
        "id": "view-in-github",
        "colab_type": "text"
      },
      "source": [
        "<a href=\"https://colab.research.google.com/github/450586509/reinforcement-learning-practice/blob/master/06_policy_based.ipynb\" target=\"_parent\"><img src=\"https://colab.research.google.com/assets/colab-badge.svg\" alt=\"Open In Colab\"/></a>"
      ]
    },
    {
      "cell_type": "code",
      "metadata": {
        "id": "GXrbvR6gvcKB",
        "colab_type": "code",
        "outputId": "a629c3e6-2609-47f0-b1b7-56f76cdc8ff6",
        "colab": {
          "base_uri": "https://localhost:8080/",
          "height": 34
        }
      },
      "source": [
        "import os\n",
        "os.system('touch test.txt')\n",
        "os.system('apt-get install -y xvfb')\n",
        "os.system('apt-get install graphviz')\n",
        "os.system('pip install pydot pydot-ng')\n",
        "os.system('wget https://raw.githubusercontent.com/yandexdataschool/Practical_DL/fall18/xvfb -O ../xvfb')\n",
        "os.system('apt-get install -y python-opengl ffmpeg')\n",
        "os.system('pip install pyglet==1.2.4')\n",
        "\n",
        "\n",
        "if type(os.environ.get(\"DISPLAY\")) is not str or len(os.environ.get(\"DISPLAY\")) == 0:\n",
        "    !bash ../xvfb start\n",
        "    os.environ['DISPLAY'] = ':1'"
      ],
      "execution_count": 1,
      "outputs": [
        {
          "output_type": "stream",
          "text": [
            "Starting virtual X frame buffer: Xvfb.\n"
          ],
          "name": "stdout"
        }
      ]
    },
    {
      "cell_type": "code",
      "metadata": {
        "id": "X3ppBeSXvokD",
        "colab_type": "code",
        "outputId": "e58f296d-22ff-4674-c88d-3ee8bde00991",
        "colab": {
          "base_uri": "https://localhost:8080/",
          "height": 286
        }
      },
      "source": [
        "import gym\n",
        "import numpy as np\n",
        "import pandas as pd\n",
        "import matplotlib.pyplot as plt\n",
        "%matplotlib inline\n",
        "\n",
        "env = gym.make(\"CartPole-v0\")\n",
        "\n",
        "# gym compatibility: unwrap TimeLimit\n",
        "if hasattr(env, 'env'):\n",
        "    env = env.env\n",
        "\n",
        "env.reset()\n",
        "n_actions = env.action_space.n\n",
        "state_dim = env.observation_space.shape\n",
        "\n",
        "plt.imshow(env.render(\"rgb_array\"))"
      ],
      "execution_count": 2,
      "outputs": [
        {
          "output_type": "execute_result",
          "data": {
            "text/plain": [
              "<matplotlib.image.AxesImage at 0x7f0ac84c4710>"
            ]
          },
          "metadata": {
            "tags": []
          },
          "execution_count": 2
        },
        {
          "output_type": "display_data",
          "data": {
            "image/png": "[encoded data removed]",
            "text/plain": [
              "<Figure size 432x288 with 1 Axes>"
            ]
          },
          "metadata": {
            "tags": []
          }
        }
      ]
    },
    {
      "cell_type": "markdown",
      "metadata": {
        "id": "hwpUH52dyvUg",
        "colab_type": "text"
      },
      "source": [
        "### 构建策略网络\n",
        "\n",
        "策略接受状态，输出动作的分布\n"
      ]
    },
    {
      "cell_type": "code",
      "metadata": {
        "id": "uRu1STAm5Im2",
        "colab_type": "code",
        "outputId": "21c23bf9-5f6c-400c-9f53-38746f24e8dc",
        "colab": {
          "base_uri": "https://localhost:8080/",
          "height": 34
        }
      },
      "source": [
        "state_dim"
      ],
      "execution_count": 3,
      "outputs": [
        {
          "output_type": "execute_result",
          "data": {
            "text/plain": [
              "(4,)"
            ]
          },
          "metadata": {
            "tags": []
          },
          "execution_count": 3
        }
      ]
    },
    {
      "cell_type": "code",
      "metadata": {
        "id": "Wnd3Pr77v6q6",
        "colab_type": "code",
        "colab": {
          "base_uri": "https://localhost:8080/",
          "height": 121
        },
        "outputId": "6a36cbff-9669-440a-c03c-63199c4146c5"
      },
      "source": [
        "# keras和tensorflow结合方式\n",
        "import tensorflow as tf\n",
        "from keras.layers import Input, Dense,InputLayer\n",
        "import keras\n",
        "\n",
        "# create input variables. We only need <s,a,R> for REINFORCE\n",
        "states_ph = tf.placeholder(tf.float32, (None,)+state_dim, name=\"states\")\n",
        "actions_ph = tf.placeholder(tf.int32, name=\"action_ids\")\n",
        "cumulative_rewards_ph = tf.placeholder(tf.float32, name=\"cumulative_returns\")\n",
        "\n",
        "layer1 = Dense(units=256, activation=\"relu\")(states_ph)\n",
        "\n",
        "layer2 = Dense(units=256, activation=\"relu\")(layer1)\n",
        "\n",
        "logits = Dense(units=n_actions)(layer2)\n",
        "\n",
        "policy = tf.nn.softmax(logits)\n",
        "\n",
        "log_policy = tf.nn.log_softmax(logits)\n",
        "\n",
        "\n",
        "# utility function to pick action in one given state\n",
        "def get_action_proba(s, sess):\n",
        "  actions = sess.run(policy, feed_dict={states_ph:np.array([s])}) \n",
        "  return actions[0]\n"
      ],
      "execution_count": 3,
      "outputs": [
        {
          "output_type": "stream",
          "text": [
            "WARNING:tensorflow:From /usr/local/lib/python3.6/dist-packages/keras/backend/tensorflow_backend.py:66: The name tf.get_default_graph is deprecated. Please use tf.compat.v1.get_default_graph instead.\n",
            "\n",
            "WARNING:tensorflow:From /usr/local/lib/python3.6/dist-packages/keras/backend/tensorflow_backend.py:4432: The name tf.random_uniform is deprecated. Please use tf.random.uniform instead.\n",
            "\n"
          ],
          "name": "stdout"
        },
        {
          "output_type": "stream",
          "text": [
            "Using TensorFlow backend.\n"
          ],
          "name": "stderr"
        }
      ]
    },
    {
      "cell_type": "markdown",
      "metadata": {
        "id": "MmSSQRds5n2X",
        "colab_type": "text"
      },
      "source": [
        "### loss function"
      ]
    },
    {
      "cell_type": "markdown",
      "metadata": {
        "id": "aoO9lUqg5um3",
        "colab_type": "text"
      },
      "source": [
        "#### Loss function and updates\n",
        "\n",
        "目标函数\n",
        "\n",
        "$$ J \\approx  { 1 \\over N } \\sum  _{s_i,a_i} \\pi_\\theta (a_i | s_i) \\cdot G(s_i,a_i) $$\n",
        "\n",
        "\n",
        "等价于: \n",
        "\n",
        "$$ \\hat J \\approx { 1 \\over N } \\sum  _{s_i,a_i} log \\pi_\\theta (a_i | s_i) \\cdot G(s_i,a_i) $$\n",
        "\n",
        "\n"
      ]
    },
    {
      "cell_type": "code",
      "metadata": {
        "id": "SWEDsFmPzBqq",
        "colab_type": "code",
        "outputId": "97dc659d-9c6b-4c9d-c144-9c0aea3ece7f",
        "colab": {
          "base_uri": "https://localhost:8080/",
          "height": 34
        }
      },
      "source": [
        "# get probabilities for parti\n",
        "indices = tf.stack([tf.range(tf.shape(log_policy)[0]), actions_ph], axis=-1)\n",
        "log_policy_for_actions = tf.gather_nd(log_policy, indices)\n",
        "print(\"log_policy_for_actions.shape={0}\".format(log_policy_for_actions.shape))\n",
        "\n",
        "# policy objective as in the last formula. please use mean, not sum.\n",
        "# note: you need to use log_policy_for_actions to get log probabilities for actions taken.\n",
        "\n",
        "J = tf.reduce_mean(log_policy_for_actions * cumulative_rewards_ph)\n",
        "\n",
        "# regularize with entropy\n",
        "#entropy = <compute entropy. Don't forget the sign!>\n",
        "\n",
        "# all network weights\n",
        "#all_weights = \n",
        "\n",
        "# weight updates. maximizing J is same as minimizing -J. Adding negative entropy.\n",
        "#loss = -J - 0.1*entropy\n",
        "loss = -J\n",
        "\n",
        "#update = tf.train.AdamOptimizer().minimize(loss, var_list=all_weights)\n",
        "update = tf.train.AdamOptimizer().minimize(loss)\n"
      ],
      "execution_count": 4,
      "outputs": [
        {
          "output_type": "stream",
          "text": [
            "log_policy_for_actions.shape=(?,)\n"
          ],
          "name": "stdout"
        }
      ]
    },
    {
      "cell_type": "markdown",
      "metadata": {
        "id": "bONOi-raDDIS",
        "colab_type": "text"
      },
      "source": [
        "### 计算累积奖励"
      ]
    },
    {
      "cell_type": "code",
      "metadata": {
        "id": "0b4kL-KLzWZA",
        "colab_type": "code",
        "colab": {
          "base_uri": "https://localhost:8080/",
          "height": 34
        },
        "outputId": "abcb014a-6832-4e2c-d0fd-e776aa3f660c"
      },
      "source": [
        "def get_cumulative_rewards(rewards,  # rewards at each step\n",
        "                           gamma=0.99  # discount for reward\n",
        "                           ):\n",
        "    \"\"\"\n",
        "    take a list of immediate rewards r(s,a) for the whole session \n",
        "    compute cumulative rewards R(s,a) (a.k.a. G(s,a) in Sutton '16)\n",
        "    R_t = r_t + gamma*r_{t+1} + gamma^2*r_{t+2} + ...\n",
        "\n",
        "    The simple way to compute cumulative rewards is to iterate from last to first time tick\n",
        "    and compute R_t = r_t + gamma*R_{t+1} recurrently\n",
        "\n",
        "    You must return an array/list of cumulative rewards with as many elements as in the initial rewards.\n",
        "    \"\"\"\n",
        "\n",
        "    #<your code here >\n",
        "    cumulative_rewards = []\n",
        "    for r in reversed(rewards):\n",
        "      if len(cumulative_rewards) == 0:\n",
        "        cr = r\n",
        "      else:\n",
        "        cr = r + gamma * cumulative_rewards[-1]\n",
        "      cumulative_rewards.append(cr)\n",
        "    \n",
        "    return np.array(list(reversed(cumulative_rewards)),dtype=np.float32)\n",
        "assert len(get_cumulative_rewards(range(100))) == 100\n",
        "assert np.allclose(get_cumulative_rewards([0, 0, 1, 0, 0, 1, 0], gamma=0.9), [\n",
        "                   1.40049, 1.5561, 1.729, 0.81, 0.9, 1.0, 0.0])\n",
        "assert np.allclose(get_cumulative_rewards(\n",
        "    [0, 0, 1, -2, 3, -4, 0], gamma=0.5), [0.0625, 0.125, 0.25, -1.5, 1.0, -4.0, 0.0])\n",
        "assert np.allclose(get_cumulative_rewards(\n",
        "    [0, 0, 1, 2, 3, 4, 0], gamma=0), [0, 0, 1, 2, 3, 4, 0])\n",
        "print(\"looks good!\")\n",
        "\n"
      ],
      "execution_count": 5,
      "outputs": [
        {
          "output_type": "stream",
          "text": [
            "looks good!\n"
          ],
          "name": "stdout"
        }
      ]
    },
    {
      "cell_type": "code",
      "metadata": {
        "id": "0M0gVH7jDVNf",
        "colab_type": "code",
        "colab": {}
      },
      "source": [
        "def train_step(_states, _actions, _rewards, sess):\n",
        "    \"\"\"given full session, trains agent with policy gradient\"\"\"\n",
        "    _cumulative_rewards = get_cumulative_rewards(_rewards)\n",
        "    #print(\"_states={0}\".format(_states))\n",
        "    #print(\"_states.shape={0}\".format(_states.shape))\n",
        "    #print(\"_actions.shape={0}\".format(_actions.shape))\n",
        "    #print(\"_cumulative_rewards.shape={0}\".format(_cumulative_rewards.shape))\n",
        "    _states = np.array(_states,dtype=np.float32)\n",
        "    _actions = np.array(_actions, dtype=np.int32)\n",
        "    train_loss,_ = sess.run([loss,update], feed_dict={states_ph: _states, actions_ph: _actions, cumulative_rewards_ph: _cumulative_rewards})\n",
        "    return train_loss\n",
        "    "
      ],
      "execution_count": 0,
      "outputs": []
    },
    {
      "cell_type": "code",
      "metadata": {
        "id": "t2mFg8GFDX9H",
        "colab_type": "code",
        "colab": {}
      },
      "source": [
        ""
      ],
      "execution_count": 0,
      "outputs": []
    },
    {
      "cell_type": "markdown",
      "metadata": {
        "id": "woklqOJZDYpI",
        "colab_type": "text"
      },
      "source": [
        "### 玩游戏"
      ]
    },
    {
      "cell_type": "code",
      "metadata": {
        "id": "1HsDcY2sDa0P",
        "colab_type": "code",
        "colab": {}
      },
      "source": [
        "def generate_session(sess,t_max=1000):\n",
        "    \"\"\"play env with REINFORCE agent and train at the session end\"\"\"\n",
        "\n",
        "    # arrays to record session\n",
        "    states, actions, rewards = [], [], []\n",
        "\n",
        "\n",
        "    s = env.reset()\n",
        "\n",
        "    for t in range(t_max):\n",
        "\n",
        "        # action probabilities array aka pi(a|s)\n",
        "        action_probas = get_action_proba(s, sess)\n",
        "        #print(\"action_probas={0}\".format(action_probas))\n",
        "\n",
        "        a = np.random.choice(range(n_actions), size=1, p=action_probas)[0]\n",
        "        \n",
        "\n",
        "        new_s, r, done, info = env.step(a)\n",
        "\n",
        "        # record session history to train later\n",
        "        states.append(s)\n",
        "        actions.append(a)\n",
        "        rewards.append(r)\n",
        "\n",
        "        s = new_s\n",
        "        if done:\n",
        "            break\n",
        "    #print(states)\n",
        "    train_loss = train_step(states, actions, rewards, sess)\n",
        "\n",
        "    return (sum(rewards), train_loss)\n",
        "\n",
        "def generate_session_data(sess,t_max=1000):\n",
        "    \"\"\"play env with REINFORCE agent and train at the session end\"\"\"\n",
        "\n",
        "    # arrays to record session\n",
        "    states, actions, rewards = [], [], []\n",
        "\n",
        "\n",
        "    s = env.reset()\n",
        "\n",
        "    for t in range(t_max):\n",
        "\n",
        "        # action probabilities array aka pi(a|s)\n",
        "        action_probas = get_action_proba(s, sess)\n",
        "        #print(\"action_probas={0}\".format(action_probas))\n",
        "\n",
        "        a = np.random.choice(range(n_actions), size=1, p=action_probas)[0]\n",
        "        \n",
        "\n",
        "        new_s, r, done, info = env.step(a)\n",
        "\n",
        "        # record session history to train later\n",
        "        states.append(s)\n",
        "        actions.append(a)\n",
        "        rewards.append(r)\n",
        "\n",
        "        s = new_s\n",
        "        if done:\n",
        "            break\n",
        "    #print(states)\n",
        "    #train_step(states, actions, rewards, sess)\n",
        "\n",
        "    return states, actions, rewards"
      ],
      "execution_count": 0,
      "outputs": []
    },
    {
      "cell_type": "code",
      "metadata": {
        "id": "y3A0CxXfeuCY",
        "colab_type": "code",
        "colab": {}
      },
      "source": [
        "from keras import backend as K\n",
        "import matplotlib.pyplot as plt\n",
        "sess = tf.Session()\n",
        "K.set_session(sess)\n",
        "sess.run(tf.global_variables_initializer())"
      ],
      "execution_count": 0,
      "outputs": []
    },
    {
      "cell_type": "markdown",
      "metadata": {
        "id": "wtswHlPPvSDy",
        "colab_type": "text"
      },
      "source": [
        "### 验证模型正确性\n",
        "\n",
        "loss是否减少"
      ]
    },
    {
      "cell_type": "code",
      "metadata": {
        "id": "PoyHAwpJvRMD",
        "colab_type": "code",
        "colab": {
          "base_uri": "https://localhost:8080/",
          "height": 269
        },
        "outputId": "efb0749d-36be-4020-bd15-77fd30f2143b"
      },
      "source": [
        "states, actions, rewards = generate_session_data(sess,t_max=1000)\n",
        "train_loss=[]\n",
        "for i in range(1000):\n",
        "  train_loss.append(train_step(states, actions, rewards, sess))\n",
        "plt.plot(train_loss)\n",
        "\n",
        "sess.run(tf.global_variables_initializer())"
      ],
      "execution_count": 18,
      "outputs": [
        {
          "output_type": "display_data",
          "data": {
            "image/png": "[encoded data removed]",
            "text/plain": [
              "<Figure size 432x288 with 1 Axes>"
            ]
          },
          "metadata": {
            "tags": []
          }
        }
      ]
    },
    {
      "cell_type": "code",
      "metadata": {
        "id": "H7q0NgXkDfcK",
        "colab_type": "code",
        "colab": {
          "base_uri": "https://localhost:8080/",
          "height": 314
        },
        "outputId": "427c4e3b-9d2e-4f2c-9684-a6c27f30a635"
      },
      "source": [
        "from IPython.display import clear_output\n",
        "total_rewards = []\n",
        "total_loss = []\n",
        "for i in range(100):\n",
        "\n",
        "    rewards_loss = [generate_session(sess) for _ in range(100)]  # generate new sessions\n",
        "    print(\"mean reward:%.3f\" % (np.mean(rewards)))\n",
        "    rewards = [i[0] for i in rewards_loss]\n",
        "    losses = [i[1] for i in rewards_loss]\n",
        "    average_reward = np.mean(rewards)\n",
        "    average_loss = np.mean(losses)\n",
        "    \n",
        "    total_rewards.append(average_reward)\n",
        "    total_loss.append(average_loss)\n",
        "    clear_output(True)\n",
        "    plt.subplot(1, 2, 1)\n",
        "    plt.title(\"mean reward per session\")\n",
        "    plt.plot(total_rewards)\n",
        "    plt.grid()\n",
        "    plt.subplot(1, 2, 2)\n",
        "    plt.title(\"loss per session\")\n",
        "    plt.plot(total_loss)\n",
        "    plt.grid()\n",
        "    plt.show()\n",
        "    \n",
        "    if average_reward > 300:\n",
        "        print(\"You Win!\")\n",
        "        break\n"
      ],
      "execution_count": 19,
      "outputs": [
        {
          "output_type": "display_data",
          "data": {
            "image/png": "[encoded data removed]",
            "text/plain": [
              "<Figure size 432x288 with 2 Axes>"
            ]
          },
          "metadata": {
            "tags": []
          }
        },
        {
          "output_type": "stream",
          "text": [
            "mean reward:295.670\n",
            "You Win!\n"
          ],
          "name": "stdout"
        }
      ]
    },
    {
      "cell_type": "markdown",
      "metadata": {
        "id": "YsKkb6QXDik2",
        "colab_type": "text"
      },
      "source": [
        "### 展示"
      ]
    },
    {
      "cell_type": "code",
      "metadata": {
        "id": "mGy9U6NtDlMl",
        "colab_type": "code",
        "colab": {
          "base_uri": "https://localhost:8080/",
          "height": 230
        },
        "outputId": "7c605c9f-6115-402e-b52b-0e76c62f4c38"
      },
      "source": [
        "# show video\n",
        "from IPython.display import HTML\n",
        "import os\n",
        "\n",
        "video_names = list(\n",
        "    filter(lambda s: s.endswith(\".mp4\"), os.listdir(\"./videos/\")))\n",
        "\n",
        "HTML(\"\"\"\n",
        "<video width=\"640\" height=\"480\" controls>\n",
        "  <source src=\"{}\" type=\"video/mp4\">\n",
        "</video>\n",
        "\"\"\".format(\"./videos/\"+video_names[-1]))  # this may or may not be _last_ video. Try other indices"
      ],
      "execution_count": 11,
      "outputs": [
        {
          "output_type": "error",
          "ename": "FileNotFoundError",
          "evalue": "ignored",
          "traceback": [
            "\u001b[0;31m---------------------------------------------------------------------------\u001b[0m",
            "\u001b[0;31mFileNotFoundError\u001b[0m                         Traceback (most recent call last)",
            "\u001b[0;32m<ipython-input-11-fd5e40d59be4>\u001b[0m in \u001b[0;36m<module>\u001b[0;34m()\u001b[0m\n\u001b[1;32m      3\u001b[0m \u001b[0;34m\u001b[0m\u001b[0m\n\u001b[1;32m      4\u001b[0m video_names = list(\n\u001b[0;32m----> 5\u001b[0;31m     filter(lambda s: s.endswith(\".mp4\"), os.listdir(\"./videos/\")))\n\u001b[0m\u001b[1;32m      6\u001b[0m \u001b[0;34m\u001b[0m\u001b[0m\n\u001b[1;32m      7\u001b[0m HTML(\"\"\"\n",
            "\u001b[0;31mFileNotFoundError\u001b[0m: [Errno 2] No such file or directory: './videos/'"
          ]
        }
      ]
    },
    {
      "cell_type": "code",
      "metadata": {
        "id": "EUgg_2FWxfiX",
        "colab_type": "code",
        "colab": {}
      },
      "source": [
        ""
      ],
      "execution_count": 0,
      "outputs": []
    },
    {
      "cell_type": "code",
      "metadata": {
        "id": "x1FnuPKPxpYe",
        "colab_type": "code",
        "colab": {}
      },
      "source": [
        ""
      ],
      "execution_count": 0,
      "outputs": []
    }
  ]
}