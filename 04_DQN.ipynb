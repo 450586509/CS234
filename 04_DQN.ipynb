{
  "nbformat": 4,
  "nbformat_minor": 0,
  "metadata": {
    "colab": {
      "name": "04_DQN.ipynb",
      "provenance": [],
      "include_colab_link": true
    },
    "kernelspec": {
      "name": "python3",
      "display_name": "Python 3"
    },
    "accelerator": "GPU"
  },
  "cells": [
    {
      "cell_type": "markdown",
      "metadata": {
        "id": "view-in-github",
        "colab_type": "text"
      },
      "source": [
        "<a href=\"https://colab.research.google.com/github/450586509/reinforcement-learning-practice/blob/master/04_DQN.ipynb\" target=\"_parent\"><img src=\"https://colab.research.google.com/assets/colab-badge.svg\" alt=\"Open In Colab\"/></a>"
      ]
    },
    {
      "cell_type": "markdown",
      "metadata": {
        "id": "XgfYtKBKycFp",
        "colab_type": "text"
      },
      "source": [
        "### Deep Q-Network implementation\n",
        "包括三个组成部分：\n",
        "\n",
        "- approximate q-learning\n",
        "- experience replay\n",
        "- target networks "
      ]
    },
    {
      "cell_type": "code",
      "metadata": {
        "id": "znNr3iLerqZF",
        "colab_type": "code",
        "colab": {}
      },
      "source": [
        ""
      ],
      "execution_count": 0,
      "outputs": []
    },
    {
      "cell_type": "code",
      "metadata": {
        "id": "JtCHMKLgyIQ1",
        "colab_type": "code",
        "outputId": "79c73f79-5ff5-42cf-988a-d20d3673ed85",
        "colab": {
          "base_uri": "https://localhost:8080/",
          "height": 34
        }
      },
      "source": [
        "import os\n",
        "os.system('apt-get install -y xvfb')\n",
        "os.system('apt-get install graphviz')\n",
        "os.system('pip install pydot pydot-ng')\n",
        "os.system('wget https://raw.githubusercontent.com/yandexdataschool/Practical_DL/fall18/xvfb -O ../xvfb')\n",
        "os.system('apt-get install -y python-opengl ffmpeg')\n",
        "os.system('pip install pyglet==1.2.4')\n",
        "\n",
        "\n",
        "\n",
        "if type(os.environ.get(\"DISPLAY\")) is not str or len(os.environ.get(\"DISPLAY\")) == 0:\n",
        "    !bash ../xvfb start\n",
        "    os.environ['DISPLAY'] = ':1'"
      ],
      "execution_count": 0,
      "outputs": [
        {
          "output_type": "stream",
          "text": [
            "Starting virtual X frame buffer: Xvfb.\n"
          ],
          "name": "stdout"
        }
      ]
    },
    {
      "cell_type": "markdown",
      "metadata": {
        "id": "WuyF1ZSCzcuO",
        "colab_type": "text"
      },
      "source": [
        "### 目标: 训练一个玩atari的agent\n",
        "游戏数据信息：\n",
        "- atari 游戏画面图像默认大小是210x160x3\n",
        "\n",
        "为了节省时间，可以对图像进行resize操作，变成64x64的黑白图像。并且去除顶部和底部无用的图像区域。"
      ]
    },
    {
      "cell_type": "code",
      "metadata": {
        "id": "iVxjCaa5y4VO",
        "colab_type": "code",
        "colab": {}
      },
      "source": [
        "from gym.core import ObservationWrapper\n",
        "from gym.spaces import Box\n",
        "from PIL import Image\n",
        "import numpy as np\n",
        "import matplotlib.pyplot as plt\n",
        "\n",
        "\n",
        "class PreprocessAtari(ObservationWrapper):\n",
        "    def __init__(self, env):\n",
        "        \"\"\"A gym wrapper that crops, scales image into the desired shapes and optionally grayscales it.\"\"\"\n",
        "        ObservationWrapper.__init__(self, env)\n",
        "\n",
        "        self.img_size = (64, 64)\n",
        "        self.observation_space = Box(0.0, 1.0, (*self.img_size,1))\n",
        "        print(\"self.observation_space={0}\".format(self.observation_space.shape))\n",
        "\n",
        "    def observation(self, img):\n",
        "        \"\"\"what happens to each observation\"\"\"\n",
        "\n",
        "        # Here's what you need to do:\n",
        "        #  * crop image, remove irrelevant parts\n",
        "        #  * resize image to self.img_size\n",
        "        #     (use imresize imported above or any library you want,\n",
        "        #      e.g. opencv, skimage, PIL, keras)\n",
        "        #  * cast image to grayscale\n",
        "        #  * convert image pixels to (0,1) range, float32 type\n",
        "\n",
        "        # crop image\n",
        "        img=img[20:,:,:]\n",
        "        # resize\n",
        "        img = Image.fromarray(img.astype(np.uint8))\n",
        "        img = img.resize((self.img_size[0], self.img_size[1]),Image.ANTIALIAS)\n",
        "        #print(\"process\")\n",
        "        #plt.imshow(img,cmap=\"gray\")\n",
        "        #plt.show()\n",
        "        # 灰度\n",
        "        img = img.convert('L')\n",
        "\n",
        "        #归一化：\n",
        "        imgdata=np.array(img.getdata(),dtype='float32')\n",
        "        mean_val = np.min(imgdata)\n",
        "        max_val = np.max(imgdata)\n",
        "        imgdata = (imgdata-mean_val)/max_val\n",
        "        imgdata = imgdata.reshape((*self.img_size,1))\n",
        "        #print(\"imgdata[0,:]\".format(imgdata[0,:]))\n",
        "        #print(\"imgdata shape={0}\".format(imgdata.shape))\n",
        "        return imgdata"
      ],
      "execution_count": 0,
      "outputs": []
    },
    {
      "cell_type": "code",
      "metadata": {
        "id": "oRCoWn7g1c5-",
        "colab_type": "code",
        "outputId": "757f0d7f-5f58-485e-d0c7-f301dcacdc30",
        "colab": {
          "base_uri": "https://localhost:8080/",
          "height": 122
        }
      },
      "source": [
        "import gym\n",
        "env = gym.make(\"BreakoutDeterministic-v4\")\n",
        "observation_shape = env.observation_space.shape\n",
        "print(\"observation_shape={0}\".format(observation_shape))\n",
        "env = PreprocessAtari(env)\n",
        "observation_shape = env.observation_space.shape\n",
        "print(\"observation_shape={0}\".format(observation_shape))\n",
        "n_actions = env.action_space.n\n",
        "obs = env.reset()\n"
      ],
      "execution_count": 0,
      "outputs": [
        {
          "output_type": "stream",
          "text": [
            "observation_shape=(210, 160, 3)\n",
            "self.observation_space=(64, 64, 1)\n",
            "observation_shape=(64, 64, 1)\n"
          ],
          "name": "stdout"
        },
        {
          "output_type": "stream",
          "text": [
            "/usr/local/lib/python3.6/dist-packages/gym/logger.py:30: UserWarning: \u001b[33mWARN: gym.spaces.Box autodetected dtype as <class 'numpy.float32'>. Please provide explicit dtype.\u001b[0m\n",
            "  warnings.warn(colorize('%s: %s'%('WARN', msg % args), 'yellow'))\n"
          ],
          "name": "stderr"
        }
      ]
    },
    {
      "cell_type": "code",
      "metadata": {
        "id": "z3TCHMs81rRg",
        "colab_type": "code",
        "outputId": "2c4fac00-6791-40ee-c800-1427bfdb46ea",
        "colab": {
          "base_uri": "https://localhost:8080/",
          "height": 366
        }
      },
      "source": [
        "assert obs.ndim == 3, \"observation must be [batch, time, channels] even if there's just one channel\"\n",
        "print(obs.shape)\n",
        "print(observation_shape)\n",
        "#assert obs.shape == observation_shape\n",
        "print(obs.dtype)\n",
        "assert obs.dtype == 'float32'\n",
        "assert len(np.unique(obs)) > 2, \"your image must not be binary\"\n",
        "#assert 0 <= np.min(obs) and np.max(\n",
        "#    obs) <= 1, \"convert image pixels to (0,1) range\"\n",
        "print (\"Formal tests seem fine. Here's an example of what you'll get.\")\n",
        "\n",
        "plt.title(\"what your network gonna see\")\n",
        "plt.imshow(obs.reshape([64,64]), interpolation='none', cmap='gray')\n"
      ],
      "execution_count": 0,
      "outputs": [
        {
          "output_type": "stream",
          "text": [
            "(64, 64, 1)\n",
            "(64, 64, 1)\n",
            "float32\n",
            "Formal tests seem fine. Here's an example of what you'll get.\n"
          ],
          "name": "stdout"
        },
        {
          "output_type": "execute_result",
          "data": {
            "text/plain": [
              "<matplotlib.image.AxesImage at 0x7fdb6b16f0b8>"
            ]
          },
          "metadata": {
            "tags": []
          },
          "execution_count": 4
        },
        {
          "output_type": "display_data",
          "data": {
            "image/png": "[encoded data removed]",
            "text/plain": [
              "<Figure size 432x288 with 1 Axes>"
            ]
          },
          "metadata": {
            "tags": []
          }
        }
      ]
    },
    {
      "cell_type": "code",
      "metadata": {
        "id": "XG-QSpvRMiH9",
        "colab_type": "code",
        "colab": {}
      },
      "source": [
        ""
      ],
      "execution_count": 0,
      "outputs": []
    },
    {
      "cell_type": "markdown",
      "metadata": {
        "id": "IYa6ASIdToQs",
        "colab_type": "text"
      },
      "source": [
        "### Frame Buffer"
      ]
    },
    {
      "cell_type": "markdown",
      "metadata": {
        "id": "wZgo6YI4Trro",
        "colab_type": "text"
      },
      "source": [
        "单张图片训练时无法反应图片的速度和运动反向。所以这个实验采用连续四张图片进行训练"
      ]
    },
    {
      "cell_type": "code",
      "metadata": {
        "id": "yrOJjvB8Ursl",
        "colab_type": "code",
        "colab": {}
      },
      "source": [
        "import numpy as np\n",
        "from gym.spaces.box import Box\n",
        "from gym.core import Wrapper\n",
        "import gym\n",
        "import matplotlib.pyplot as plt\n",
        "\n",
        "\n",
        "class FrameBuffer(Wrapper):\n",
        "    def __init__(self, env, n_frames=4, dim_order='tensorflow'):\n",
        "        \"\"\"A gym wrapper that reshapes, crops and scales image into the desired shapes\"\"\"\n",
        "        super(FrameBuffer, self).__init__(env)\n",
        "        self.dim_order = dim_order\n",
        "        if dim_order == 'tensorflow':\n",
        "            height, width, n_channels = env.observation_space.shape\n",
        "            obs_shape = [height, width, n_channels * n_frames]\n",
        "        elif dim_order == 'pytorch':\n",
        "            n_channels, height, width = env.observation_space.shape\n",
        "            obs_shape = [n_channels * n_frames, height, width]\n",
        "        else:\n",
        "            raise ValueError(\n",
        "                'dim_order should be \"tensorflow\" or \"pytorch\", got {}'.format(dim_order))\n",
        "        self.observation_space = Box(0.0, 1.0, obs_shape)\n",
        "        self.framebuffer = np.zeros(obs_shape, 'float32')\n",
        "\n",
        "    def reset(self):\n",
        "        \"\"\"resets breakout, returns initial frames\"\"\"\n",
        "        self.framebuffer = np.zeros_like(self.framebuffer)\n",
        "        self.update_buffer(self.env.reset())\n",
        "        return self.framebuffer\n",
        "\n",
        "    def step(self, action):\n",
        "        \"\"\"plays breakout for 1 step, returns frame buffer\"\"\"\n",
        "        new_img, reward, done, info = self.env.step(action)\n",
        "        #print(\"frame\")\n",
        "        #plt.imshow(new_img.reshape(64,64),cmap=\"gray\")\n",
        "        #plt.show()\n",
        "        self.update_buffer(new_img)\n",
        "        return self.framebuffer, reward, done, info\n",
        "\n",
        "    def update_buffer(self, img):\n",
        "        if self.dim_order == 'tensorflow':\n",
        "            offset = self.env.observation_space.shape[-1]\n",
        "            axis = -1\n",
        "            cropped_framebuffer = self.framebuffer[:, :, :-offset]\n",
        "        elif self.dim_order == 'pytorch':\n",
        "            offset = self.env.observation_space.shape[0]\n",
        "            axis = 0\n",
        "            cropped_framebuffer = self.framebuffer[:-offset]\n",
        "        self.framebuffer = np.concatenate(\n",
        "            [img, cropped_framebuffer], axis=axis)\n",
        "        \n",
        "#包括图片预处理和frame buffer功能的env\n",
        "def make_env():\n",
        "    #env = gym.make(\"BreakoutDeterministic-v0\")\n",
        "    env = gym.make(\"BreakoutDeterministic-v4\")\n",
        "    env = PreprocessAtari(env)\n",
        "    print(\"env.observation_space.shape={0}\".format(env.observation_space.shape))\n",
        "    env = FrameBuffer(env, n_frames=4, dim_order='tensorflow')\n",
        "    print(\"env.observation_space.shape={0}\".format(env.observation_space.shape))\n",
        "    return env"
      ],
      "execution_count": 0,
      "outputs": []
    },
    {
      "cell_type": "markdown",
      "metadata": {
        "id": "ixXHA9QOJL_C",
        "colab_type": "text"
      },
      "source": [
        "打印env的相关信息"
      ]
    },
    {
      "cell_type": "code",
      "metadata": {
        "id": "la_vlmXi1i_2",
        "colab_type": "code",
        "outputId": "2342d908-f360-47d8-c1f6-ca9e6d360c6c",
        "colab": {
          "base_uri": "https://localhost:8080/",
          "height": 139
        }
      },
      "source": [
        "env = make_env()\n",
        "s0 = env.reset()\n",
        "n_actions = env.action_space.n\n",
        "state_dim = env.observation_space.shape\n",
        "print(state_dim)"
      ],
      "execution_count": 0,
      "outputs": [
        {
          "output_type": "stream",
          "text": [
            "self.observation_space=(64, 64, 1)\n",
            "env.observation_space.shape=(64, 64, 1)\n",
            "env.observation_space.shape=(64, 64, 4)\n",
            "(64, 64, 4)\n"
          ],
          "name": "stdout"
        },
        {
          "output_type": "stream",
          "text": [
            "/usr/local/lib/python3.6/dist-packages/gym/logger.py:30: UserWarning: \u001b[33mWARN: gym.spaces.Box autodetected dtype as <class 'numpy.float32'>. Please provide explicit dtype.\u001b[0m\n",
            "  warnings.warn(colorize('%s: %s'%('WARN', msg % args), 'yellow'))\n"
          ],
          "name": "stderr"
        }
      ]
    },
    {
      "cell_type": "markdown",
      "metadata": {
        "id": "aXfJZMIE71xM",
        "colab_type": "text"
      },
      "source": [
        "### 查看动作的含义\n",
        "- 0: 没有动作\n",
        "- 1: 小球动\n",
        "- 2: 挡板向右移动\n",
        "- 3: 挡板向左移动"
      ]
    },
    {
      "cell_type": "code",
      "metadata": {
        "id": "xcoldfF-m3LU",
        "colab_type": "code",
        "outputId": "eef2b29c-b593-4464-f2fe-99ca52cba4ad",
        "colab": {
          "base_uri": "https://localhost:8080/",
          "height": 1000
        }
      },
      "source": [
        "\n",
        "import numpy as np\n",
        "import time\n",
        "env = make_env()\n",
        "s = env.reset()\n",
        "result = set()\n",
        "print(list(range(n_actions)))\n",
        "for i in range(1,10):\n",
        "  print(\"------------------------------------------\")\n",
        "  a = np.random.choice(list(range(n_actions)))\n",
        "  a = 1\n",
        "  s,r,done,_ = env.step(a)\n",
        "  print(\"render\")\n",
        "  plt.imshow(env.render(\"rgb_array\"))\n",
        "  plt.show()\n",
        "  \n",
        "  if i % 1 == 0:\n",
        "    print(\"action={0}\".format(a))\n",
        "    #plt.imshow(s)\n",
        "    #plt.show()\n",
        "    plt.title(\"Agent observation (4 frames left to right)\")\n",
        "    \n",
        "    images = s.transpose([0, 2, 1]).reshape([state_dim[0],-1])\n",
        "    plt.imshow(images)\n",
        "    plt.show()\n",
        "    #for i in range(1):\n",
        "    #  img = s[:,:,i].reshape(64,64)\n",
        "    #  plt.imshow(img,cmap='gray')\n",
        "    #  plt.show()\n",
        "    #time.sleep(2)\n",
        "  \n",
        "  result.add(done)\n",
        "  if done:\n",
        "    print(\"======================\\n\\n========================\")\n",
        "    print(\"done,i={0}\".format(i))\n",
        "    break\n",
        "print(result)"
      ],
      "execution_count": 0,
      "outputs": [
        {
          "output_type": "stream",
          "text": [
            "/usr/local/lib/python3.6/dist-packages/gym/logger.py:30: UserWarning: \u001b[33mWARN: gym.spaces.Box autodetected dtype as <class 'numpy.float32'>. Please provide explicit dtype.\u001b[0m\n",
            "  warnings.warn(colorize('%s: %s'%('WARN', msg % args), 'yellow'))\n"
          ],
          "name": "stderr"
        },
        {
          "output_type": "stream",
          "text": [
            "self.observation_space=(64, 64, 1)\n",
            "env.observation_space.shape=(64, 64, 1)\n",
            "env.observation_space.shape=(64, 64, 4)\n",
            "[0, 1, 2, 3]\n",
            "------------------------------------------\n",
            "render\n"
          ],
          "name": "stdout"
        },
        {
          "output_type": "display_data",
          "data": {
            "image/png": "[encoded data removed]",
            "text/plain": [
              "<Figure size 432x288 with 1 Axes>"
            ]
          },
          "metadata": {
            "tags": []
          }
        },
        {
          "output_type": "stream",
          "text": [
            "action=1\n"
          ],
          "name": "stdout"
        },
        {
          "output_type": "display_data",
          "data": {
            "image/png": "[encoded data removed]",
            "text/plain": [
              "<Figure size 432x288 with 1 Axes>"
            ]
          },
          "metadata": {
            "tags": []
          }
        },
        {
          "output_type": "stream",
          "text": [
            "------------------------------------------\n",
            "render\n"
          ],
          "name": "stdout"
        },
        {
          "output_type": "display_data",
          "data": {
            "image/png": "[encoded data removed]",
            "text/plain": [
              "<Figure size 432x288 with 1 Axes>"
            ]
          },
          "metadata": {
            "tags": []
          }
        },
        {
          "output_type": "stream",
          "text": [
            "action=1\n"
          ],
          "name": "stdout"
        },
        {
          "output_type": "display_data",
          "data": {
            "image/png": "[encoded data removed]",
            "text/plain": [
              "<Figure size 432x288 with 1 Axes>"
            ]
          },
          "metadata": {
            "tags": []
          }
        },
        {
          "output_type": "stream",
          "text": [
            "------------------------------------------\n",
            "render\n"
          ],
          "name": "stdout"
        },
        {
          "output_type": "display_data",
          "data": {
            "image/png": "[encoded data removed]",
            "text/plain": [
              "<Figure size 432x288 with 1 Axes>"
            ]
          },
          "metadata": {
            "tags": []
          }
        },
        {
          "output_type": "stream",
          "text": [
            "action=1\n"
          ],
          "name": "stdout"
        },
        {
          "output_type": "display_data",
          "data": {
            "image/png": "[encoded data removed]",
            "text/plain": [
              "<Figure size 432x288 with 1 Axes>"
            ]
          },
          "metadata": {
            "tags": []
          }
        },
        {
          "output_type": "stream",
          "text": [
            "------------------------------------------\n",
            "render\n"
          ],
          "name": "stdout"
        },
        {
          "output_type": "display_data",
          "data": {
            "image/png": "[encoded data removed]",
            "text/plain": [
              "<Figure size 432x288 with 1 Axes>"
            ]
          },
          "metadata": {
            "tags": []
          }
        },
        {
          "output_type": "stream",
          "text": [
            "action=1\n"
          ],
          "name": "stdout"
        },
        {
          "output_type": "display_data",
          "data": {
            "image/png": "[encoded data removed]",
            "text/plain": [
              "<Figure size 432x288 with 1 Axes>"
            ]
          },
          "metadata": {
            "tags": []
          }
        },
        {
          "output_type": "stream",
          "text": [
            "------------------------------------------\n",
            "render\n"
          ],
          "name": "stdout"
        },
        {
          "output_type": "display_data",
          "data": {
            "image/png": "[encoded data removed]",
            "text/plain": [
              "<Figure size 432x288 with 1 Axes>"
            ]
          },
          "metadata": {
            "tags": []
          }
        },
        {
          "output_type": "stream",
          "text": [
            "action=1\n"
          ],
          "name": "stdout"
        },
        {
          "output_type": "display_data",
          "data": {
            "image/png": "[encoded data removed]",
            "text/plain": [
              "<Figure size 432x288 with 1 Axes>"
            ]
          },
          "metadata": {
            "tags": []
          }
        },
        {
          "output_type": "stream",
          "text": [
            "------------------------------------------\n",
            "render\n"
          ],
          "name": "stdout"
        },
        {
          "output_type": "display_data",
          "data": {
            "image/png": "[encoded data removed]",
            "text/plain": [
              "<Figure size 432x288 with 1 Axes>"
            ]
          },
          "metadata": {
            "tags": []
          }
        },
        {
          "output_type": "stream",
          "text": [
            "action=1\n"
          ],
          "name": "stdout"
        },
        {
          "output_type": "display_data",
          "data": {
            "image/png": "[encoded data removed]",
            "text/plain": [
              "<Figure size 432x288 with 1 Axes>"
            ]
          },
          "metadata": {
            "tags": []
          }
        },
        {
          "output_type": "stream",
          "text": [
            "------------------------------------------\n",
            "render\n"
          ],
          "name": "stdout"
        },
        {
          "output_type": "display_data",
          "data": {
            "image/png": "[encoded data removed]",
            "text/plain": [
              "<Figure size 432x288 with 1 Axes>"
            ]
          },
          "metadata": {
            "tags": []
          }
        },
        {
          "output_type": "stream",
          "text": [
            "action=1\n"
          ],
          "name": "stdout"
        },
        {
          "output_type": "display_data",
          "data": {
            "image/png": "[encoded data removed]",
            "text/plain": [
              "<Figure size 432x288 with 1 Axes>"
            ]
          },
          "metadata": {
            "tags": []
          }
        },
        {
          "output_type": "stream",
          "text": [
            "------------------------------------------\n",
            "render\n"
          ],
          "name": "stdout"
        },
        {
          "output_type": "display_data",
          "data": {
            "image/png": "[encoded data removed]",
            "text/plain": [
              "<Figure size 432x288 with 1 Axes>"
            ]
          },
          "metadata": {
            "tags": []
          }
        },
        {
          "output_type": "stream",
          "text": [
            "action=1\n"
          ],
          "name": "stdout"
        },
        {
          "output_type": "display_data",
          "data": {
            "image/png": "[encoded data removed]",
            "text/plain": [
              "<Figure size 432x288 with 1 Axes>"
            ]
          },
          "metadata": {
            "tags": []
          }
        },
        {
          "output_type": "stream",
          "text": [
            "------------------------------------------\n",
            "render\n"
          ],
          "name": "stdout"
        },
        {
          "output_type": "display_data",
          "data": {
            "image/png": "[encoded data removed]",
            "text/plain": [
              "<Figure size 432x288 with 1 Axes>"
            ]
          },
          "metadata": {
            "tags": []
          }
        },
        {
          "output_type": "stream",
          "text": [
            "action=1\n"
          ],
          "name": "stdout"
        },
        {
          "output_type": "display_data",
          "data": {
            "image/png": "[encoded data removed]",
            "text/plain": [
              "<Figure size 432x288 with 1 Axes>"
            ]
          },
          "metadata": {
            "tags": []
          }
        },
        {
          "output_type": "stream",
          "text": [
            "{False}\n"
          ],
          "name": "stdout"
        }
      ]
    },
    {
      "cell_type": "code",
      "metadata": {
        "id": "DDjKahFYlv5_",
        "colab_type": "code",
        "colab": {}
      },
      "source": [
        ""
      ],
      "execution_count": 0,
      "outputs": []
    },
    {
      "cell_type": "code",
      "metadata": {
        "id": "TjdI_4nNYgkH",
        "colab_type": "code",
        "outputId": "099ccc4d-1a49-4c36-d90b-aecf82dfdb48",
        "colab": {
          "base_uri": "https://localhost:8080/",
          "height": 1000
        }
      },
      "source": [
        "env = make_env()\n",
        "env.reset()\n",
        "plt.imshow(env.render(\"rgb_array\"))\n",
        "plt.show()\n",
        "for _ in range(1):\n",
        "    action = env.action_space.sample()\n",
        "    obs, _, _, _ = env.step(action)\n",
        "    print(\"action={0}\".format(action))\n",
        "    plt.imshow(env.render(\"rgb_array\"))\n",
        "    plt.show()\n",
        "\n",
        "\n",
        "plt.title(\"Game image\")\n",
        "# 当前的state\n",
        "plt.imshow(env.render(\"rgb_array\"))\n",
        "plt.show()\n",
        "plt.title(\"Agent observation (4 frames left to right)\")\n",
        "plt.imshow(obs.transpose([0, 2, 1]).reshape([state_dim[0], -1]))"
      ],
      "execution_count": 0,
      "outputs": [
        {
          "output_type": "stream",
          "text": [
            "/usr/local/lib/python3.6/dist-packages/gym/logger.py:30: UserWarning: \u001b[33mWARN: gym.spaces.Box autodetected dtype as <class 'numpy.float32'>. Please provide explicit dtype.\u001b[0m\n",
            "  warnings.warn(colorize('%s: %s'%('WARN', msg % args), 'yellow'))\n"
          ],
          "name": "stderr"
        },
        {
          "output_type": "stream",
          "text": [
            "self.observation_space=(64, 64, 1)\n",
            "env.observation_space.shape=(64, 64, 1)\n",
            "env.observation_space.shape=(64, 64, 4)\n"
          ],
          "name": "stdout"
        },
        {
          "output_type": "display_data",
          "data": {
            "image/png": "[encoded data removed]",
            "text/plain": [
              "<Figure size 432x288 with 1 Axes>"
            ]
          },
          "metadata": {
            "tags": []
          }
        },
        {
          "output_type": "stream",
          "text": [
            "action=0\n"
          ],
          "name": "stdout"
        },
        {
          "output_type": "display_data",
          "data": {
            "image/png": "[encoded data removed]",
            "text/plain": [
              "<Figure size 432x288 with 1 Axes>"
            ]
          },
          "metadata": {
            "tags": []
          }
        },
        {
          "output_type": "display_data",
          "data": {
            "image/png": "[encoded data removed]",
            "text/plain": [
              "<Figure size 432x288 with 1 Axes>"
            ]
          },
          "metadata": {
            "tags": []
          }
        },
        {
          "output_type": "execute_result",
          "data": {
            "text/plain": [
              "<matplotlib.image.AxesImage at 0x7fdb684c4470>"
            ]
          },
          "metadata": {
            "tags": []
          },
          "execution_count": 8
        },
        {
          "output_type": "display_data",
          "data": {
            "image/png": "[encoded data removed]",
            "text/plain": [
              "<Figure size 432x288 with 1 Axes>"
            ]
          },
          "metadata": {
            "tags": []
          }
        }
      ]
    },
    {
      "cell_type": "markdown",
      "metadata": {
        "id": "V7penaaGusZE",
        "colab_type": "text"
      },
      "source": [
        "### 网络"
      ]
    },
    {
      "cell_type": "code",
      "metadata": {
        "id": "Bh6g-Nlt2PRM",
        "colab_type": "code",
        "outputId": "8367446d-0254-419c-9f70-d2350e809b7a",
        "colab": {
          "base_uri": "https://localhost:8080/",
          "height": 34
        }
      },
      "source": [
        "import keras\n",
        "import tensorflow as tf\n",
        "import keras.backend as K\n",
        "from keras.models import Model\n",
        "from keras.utils import plot_model\n",
        "from keras.layers import Input, Dense\n",
        "from keras.layers import Conv2D, Dense, Flatten, InputLayer, MaxPooling2D\n"
      ],
      "execution_count": 0,
      "outputs": [
        {
          "output_type": "stream",
          "text": [
            "Using TensorFlow backend.\n"
          ],
          "name": "stderr"
        }
      ]
    },
    {
      "cell_type": "code",
      "metadata": {
        "id": "97rccZu7-Z6W",
        "colab_type": "code",
        "colab": {}
      },
      "source": [
        "class DQNAgent:\n",
        "    def __init__(self, name, state_shape, n_actions, epsilon=0.5, reuse=False):\n",
        "        self.n_actions = n_actions\n",
        "        \"\"\"A simple DQN agent\"\"\"\n",
        "        with tf.variable_scope(name, reuse=reuse):\n",
        "            \n",
        "            #< Define your network body here. Please make sure you don't use any layers created elsewhere >\n",
        "            # prepare a graph for agent step\n",
        "            # 定义placeholder，接受(s, rewrad, action, next_state, is_done)\n",
        "            '''\n",
        "            self.states_ph = K.placeholder(dtype='float32', shape=(None,*state_shape))\n",
        "            self.actions_ph = K.placeholder(dtype='int32', shape=(None))\n",
        "            self.rewards_ph = K.placeholder(dtype='float32', shape=(None))\n",
        "            self.next_states_ph = K.placeholder(dtype='float32', shape=(None,*state_shape))\n",
        "            self.is_done_ph = K.placeholder(dtype='bool', shape=(None))\n",
        "            '''\n",
        "            self.img_size = 64\n",
        "            #self.gamma = 0.99\n",
        "            self.network = keras.models.Sequential()\n",
        "            self.network.add(InputLayer(state_shape))\n",
        "            self.network.add(Conv2D(filters=16, kernel_size=3, strides=2, activation='relu'))\n",
        "            self.network.add(Conv2D(filters=32, kernel_size=3, strides=2, activation='relu'))\n",
        "            self.network.add(Conv2D(filters=64, kernel_size=3, strides=2, activation='relu'))\n",
        "            #self.network.add(MaxPooling2D(pool_size=(2,2)))\n",
        "            self.network.add(Flatten())\n",
        "            self.network.add(Dense(units=256, activation=\"relu\"))\n",
        "            self.network.add(Dense(units=n_actions))\n",
        "            \n",
        "            \n",
        "            # 定义损失函数\n",
        "            '''\n",
        "            predicted_qvalues = self.network(self.states_ph)\n",
        "            self.qvalues_t = predicted_qvalues\n",
        "            predicted_next_qvalues = self.network(self.next_states_ph)\n",
        "            predicted_qvalues_for_actions = tf.reduce_sum(predicted_qvalues * tf.one_hot(self.actions_ph, n_actions), axis=1)\n",
        "            next_state_values = K.max(predicted_next_qvalues, axis=-1)\n",
        "            target_qvalues_for_actions = self.rewards_ph + (next_state_values * self.gamma)\n",
        "            target_qvalues_for_actions = tf.where(self.is_done_ph, self.rewards_ph, target_qvalues_for_actions)\n",
        "            loss_val = (predicted_qvalues_for_actions - tf.stop_gradient(target_qvalues_for_actions)) ** 2\n",
        "            self.loss = tf.reduce_mean(loss_val)\n",
        "            \n",
        "\n",
        "            # 优化目标\n",
        "            self.train_step = tf.train.AdamOptimizer(1e-4).minimize(self.loss)\n",
        "            #self.network.compile(loss='mean_squared_error',optimizer='sgd', metrics=['accuracy'])\n",
        "            '''\n",
        "\n",
        "            self.weights = tf.get_collection(tf.GraphKeys.TRAINABLE_VARIABLES, scope=name)\n",
        "            self.epsilon = epsilon\n",
        "            \n",
        "\n",
        "\n",
        "\n",
        "    def get_symbolic_qvalues(self, state_t):\n",
        "        \"\"\"takes agent's observation, returns qvalues. Both are tf Tensors\"\"\"\n",
        "        qvalues = self.network(state_t)\n",
        "        print(\"qvalues={0}\".format(qvalues))\n",
        "\n",
        "        assert tf.is_numeric_tensor(qvalues) and qvalues.shape.ndims == 2, \\\n",
        "            \"please return 2d tf tensor of qvalues [you got %s]\" % repr(\n",
        "                qvalues)\n",
        "        assert int(qvalues.shape[1]) == self.n_actions\n",
        "\n",
        "        return qvalues\n",
        "\n",
        "    def get_qvalues(self, state_t):\n",
        "        \"\"\"Same as symbolic step except it operates on numpy arrays\"\"\"\n",
        "        return self.network.predict(state_t)\n",
        "        #return sess.run(self.qvalues_t, {self.states_ph: state_t})\n",
        "\n",
        "    def sample_actions(self, qvalues):\n",
        "        \"\"\"pick actions given qvalues. Uses epsilon-greedy exploration strategy. \"\"\"\n",
        "        batch_size, n_actions = qvalues.shape\n",
        "        random_actions = np.random.choice(n_actions, size=batch_size)\n",
        "        best_actions = qvalues.argmax(axis=-1)\n",
        "        should_explore = np.random.choice(\n",
        "            [0, 1], batch_size, p=[1-self.epsilon, self.epsilon])\n",
        "        return np.where(should_explore, random_actions, best_actions)\n"
      ],
      "execution_count": 0,
      "outputs": []
    },
    {
      "cell_type": "code",
      "metadata": {
        "id": "vtNwSGaB10NK",
        "colab_type": "code",
        "outputId": "b574fb82-e0e7-471e-f670-184de3e9e407",
        "colab": {
          "base_uri": "https://localhost:8080/",
          "height": 893
        }
      },
      "source": [
        "sess = tf.InteractiveSession()\n",
        "keras.backend.set_session(sess)\n",
        "keras.backend.get_session().run(tf.global_variables_initializer())\n",
        "\n",
        "print(\"state_dim={0}\".format(state_dim))\n",
        "agent = DQNAgent(name=\"xww\", state_shape=state_dim, n_actions=n_actions)\n",
        "plot_model(agent.network, show_shapes=True, show_layer_names=True, to_file='model.png')\n"
      ],
      "execution_count": 0,
      "outputs": [
        {
          "output_type": "stream",
          "text": [
            "state_dim=(64, 64, 4)\n",
            "WARNING:tensorflow:From /usr/local/lib/python3.6/dist-packages/keras/backend/tensorflow_backend.py:66: The name tf.get_default_graph is deprecated. Please use tf.compat.v1.get_default_graph instead.\n",
            "\n",
            "WARNING:tensorflow:From /usr/local/lib/python3.6/dist-packages/keras/backend/tensorflow_backend.py:541: The name tf.placeholder is deprecated. Please use tf.compat.v1.placeholder instead.\n",
            "\n",
            "WARNING:tensorflow:From /usr/local/lib/python3.6/dist-packages/keras/backend/tensorflow_backend.py:4432: The name tf.random_uniform is deprecated. Please use tf.random.uniform instead.\n",
            "\n"
          ],
          "name": "stdout"
        },
        {
          "output_type": "execute_result",
          "data": {
            "image/png": "[encoded data removed]",
            "text/plain": [
              "<IPython.core.display.Image object>"
            ]
          },
          "metadata": {
            "tags": []
          },
          "execution_count": 11
        }
      ]
    },
    {
      "cell_type": "code",
      "metadata": {
        "id": "d_MQMziYZOpT",
        "colab_type": "code",
        "colab": {}
      },
      "source": [
        "\n",
        "def evaluate(env, agent, n_games=1, greedy=False, t_max=10000):\n",
        "    \"\"\" Plays n_games full games. If greedy, picks actions as argmax(qvalues). Returns mean reward. \"\"\"\n",
        "    rewards = []\n",
        "    for _ in range(n_games):\n",
        "        s = env.reset()\n",
        "        reward = 0\n",
        "        for _ in range(t_max):\n",
        "            #print(\"---\")\n",
        "            qvalues = agent.get_qvalues(np.array([s]))\n",
        "            action = qvalues.argmax(\n",
        "                axis=-1)[0] if greedy else agent.sample_actions(qvalues)[0]\n",
        "            #print(action)\n",
        "            s, r, done, _ = env.step(action)\n",
        "            #print(np.mean(s))\n",
        "            #print(done)\n",
        "            #print(action)\n",
        "            #print(r)\n",
        "            reward += r\n",
        "            if done:\n",
        "              #print(\"break\")\n",
        "              #s = env.reset()\n",
        "              print(\"reward={0}\".format(reward))\n",
        "              break\n",
        "\n",
        "        rewards.append(reward)\n",
        "    return np.mean(rewards)"
      ],
      "execution_count": 0,
      "outputs": []
    },
    {
      "cell_type": "code",
      "metadata": {
        "id": "_NCnSSg2ZTS_",
        "colab_type": "code",
        "outputId": "8ef8e393-d3a8-4198-8c43-98742d87823f",
        "colab": {
          "base_uri": "https://localhost:8080/",
          "height": 51
        }
      },
      "source": [
        "evaluate(env, agent, n_games=1, t_max=10000)"
      ],
      "execution_count": 0,
      "outputs": [
        {
          "output_type": "stream",
          "text": [
            "break\n"
          ],
          "name": "stdout"
        },
        {
          "output_type": "execute_result",
          "data": {
            "text/plain": [
              "3.0"
            ]
          },
          "metadata": {
            "tags": []
          },
          "execution_count": 13
        }
      ]
    },
    {
      "cell_type": "markdown",
      "metadata": {
        "id": "Fye9JfArba-D",
        "colab_type": "text"
      },
      "source": [
        "#### experience replay"
      ]
    },
    {
      "cell_type": "code",
      "metadata": {
        "id": "aaZ4iIF3DmD8",
        "colab_type": "code",
        "colab": {}
      },
      "source": [
        "import random\n",
        "import queue\n",
        "\n",
        "\n",
        "class ReplayBuffer(object):\n",
        "    def __init__(self, size):\n",
        "        \"\"\"\n",
        "        Create Replay buffer.\n",
        "        Parameters\n",
        "        ----------\n",
        "        size: int\n",
        "            Max number of transitions to store in the buffer. When the buffer\n",
        "            overflows the old memories are dropped.\n",
        "\n",
        "        Note: for this assignment you can pick any data structure you want.\n",
        "              If you want to keep it simple, you can store a list of tuples of (s, a, r, s') in self._storage\n",
        "              However you may find out there are faster and/or more memory-efficient ways to do so.\n",
        "        \"\"\"\n",
        "        self._storage = queue.Queue()\n",
        "        self._maxsize = size\n",
        "\n",
        "        # OPTIONAL: YOUR CODE\n",
        "\n",
        "    def __len__(self):\n",
        "        return self._storage.qsize()\n",
        "\n",
        "    def add(self, obs_t, action, reward, obs_tp1, done):\n",
        "        '''\n",
        "        Make sure, _storage will not exceed _maxsize. \n",
        "        Make sure, FIFO rule is being followed: the oldest examples has to be removed earlier\n",
        "        '''\n",
        "        data = (obs_t, action, reward, obs_tp1, done)\n",
        "\n",
        "        # add data to storage\n",
        "        if self._storage.qsize() < self._maxsize:\n",
        "          self._storage.put(data)\n",
        "        else:\n",
        "          self._storage.get()\n",
        "          self._storage.put(data)\n",
        "          #print(\"size={0}\".format(self._storage.qsize()))\n",
        "\n",
        "    def sample(self, batch_size):\n",
        "        \"\"\"Sample a batch of experiences.\n",
        "        Parameters\n",
        "        ----------\n",
        "        batch_size: int\n",
        "            How many transitions to sample.\n",
        "        Returns\n",
        "        -------\n",
        "        obs_batch: np.array\n",
        "            batch of observations\n",
        "        act_batch: np.array\n",
        "            batch of actions executed given obs_batch\n",
        "        rew_batch: np.array\n",
        "            rewards received as results of executing act_batch\n",
        "        next_obs_batch: np.array\n",
        "            next set of observations seen after executing act_batch\n",
        "        done_mask: np.array\n",
        "            done_mask[i] = 1 if executing act_batch[i] resulted in\n",
        "            the end of an episode and 0 otherwise.\n",
        "        \"\"\"\n",
        "        #idxes = <randomly generate batch_size integers to be used as indexes of samples >\n",
        "\n",
        "        # collect <s,a,r,s',done> for each index\n",
        "        if batch_size > self._storage.qsize():\n",
        "          batch_size = self._storage.qsize()\n",
        "        samples = random.sample(self._storage.queue, batch_size)\n",
        "        states = [i[0] for i in samples]\n",
        "        actions = [i[1] for i in samples]\n",
        "        rewards = [i[2] for i in samples]\n",
        "        next_states = [i[3] for i in samples]\n",
        "        is_dones = [i[4] for i in samples]\n",
        "\n",
        "\n",
        "        return np.array(states), np.array(actions), np.array(rewards), np.array(next_states), np.array(is_dones)\n"
      ],
      "execution_count": 0,
      "outputs": []
    },
    {
      "cell_type": "markdown",
      "metadata": {
        "id": "Ffk-C2OrcDUK",
        "colab_type": "text"
      },
      "source": [
        "测试验证experience relay"
      ]
    },
    {
      "cell_type": "code",
      "metadata": {
        "id": "q35hYCa5cBpX",
        "colab_type": "code",
        "colab": {}
      },
      "source": [
        "exp_replay = ReplayBuffer(10)\n",
        "\n",
        "for _ in range(30):\n",
        "    exp_replay.add(env.reset(), env.action_space.sample(),\n",
        "                   1.0, env.reset(), done=False)\n",
        "\n",
        "obs_batch, act_batch, reward_batch, next_obs_batch, is_done_batch = exp_replay.sample(\n",
        "    5)\n",
        "\n",
        "assert len(exp_replay) == 10, \"experience replay size should be 10 because that's what maximum capacity is\""
      ],
      "execution_count": 0,
      "outputs": []
    },
    {
      "cell_type": "markdown",
      "metadata": {
        "id": "_trFgLfZca8X",
        "colab_type": "text"
      },
      "source": [
        "play and record"
      ]
    },
    {
      "cell_type": "code",
      "metadata": {
        "id": "yYRnoSlocY5Z",
        "colab_type": "code",
        "colab": {}
      },
      "source": [
        "agent.epsilon = 0.5\n",
        "def play_and_record(agent, env, exp_replay, n_steps=1):\n",
        "    \"\"\"\n",
        "    Play the game for exactly n steps, record every (s,a,r,s', done) to replay buffer. \n",
        "    Whenever game ends, add record with done=True and reset the game.\n",
        "    It is guaranteed that env has done=False when passed to this function.\n",
        "\n",
        "    PLEASE DO NOT RESET ENV UNLESS IT IS \"DONE\"\n",
        "\n",
        "    :returns: return sum of rewards over time\n",
        "    \"\"\"\n",
        "    # initial state\n",
        "    s = env.framebuffer\n",
        "    \n",
        "    # Play the game for n_steps as per instructions above\n",
        "    reward = 0\n",
        "    for _ in range(n_steps):\n",
        "        qvalues = agent.get_qvalues(np.array([s]))\n",
        "        action = agent.sample_actions(qvalues)[0]\n",
        "        s_next, r, done, _ = env.step(action)\n",
        "        exp_replay.add(s, action, r, s_next, done)\n",
        "        if done:\n",
        "          #print(\"reset\")\n",
        "          s = env.reset()\n",
        "        s = s_next\n",
        "        reward += r\n",
        "    \n",
        "    return reward"
      ],
      "execution_count": 0,
      "outputs": []
    },
    {
      "cell_type": "code",
      "metadata": {
        "id": "LgEXo0JpgTAi",
        "colab_type": "code",
        "outputId": "8dee77c4-72ec-4e37-a48e-46b1aa307382",
        "colab": {
          "base_uri": "https://localhost:8080/",
          "height": 68
        }
      },
      "source": [
        "# testing your code. This may take a minute...\n",
        "exp_replay = ReplayBuffer(20000)\n",
        "\n",
        "play_and_record(agent, env, exp_replay, n_steps=10000)\n",
        "\n",
        "# if you're using your own experience replay buffer, some of those tests may need correction.\n",
        "# just make sure you know what your code does\n",
        "assert len(exp_replay) == 10000, \"play_and_record should have added exactly 10000 steps, \"\\\n",
        "                                 \"but instead added %i\" % len(exp_replay)\n",
        "is_dones = list(zip(*exp_replay._storage.queue))[-1]\n",
        "print(\"size is_dons={0}\".format(len(is_dones)))\n",
        "print(\"mean is_dons={0}\".format(np.mean(is_dones)))\n",
        "assert 0 < np.mean(is_dones) < 0.1, \"Please make sure you restart the game whenever it is 'done' and record the is_done correctly into the buffer.\"\\\n",
        "                                    \"Got %f is_done rate over %i steps. [If you think it's your tough luck, just re-run the test]\" % (\n",
        "                                        np.mean(is_dones), len(exp_replay))\n",
        "\n",
        "for _ in range(100):\n",
        "    obs_batch, act_batch, reward_batch, next_obs_batch, is_done_batch = exp_replay.sample(\n",
        "        10)\n",
        "    assert obs_batch.shape == next_obs_batch.shape == (10,) + state_dim\n",
        "    assert act_batch.shape == (\n",
        "        10,), \"actions batch should have shape (10,) but is instead %s\" % str(act_batch.shape)\n",
        "    assert reward_batch.shape == (\n",
        "        10,), \"rewards batch should have shape (10,) but is instead %s\" % str(reward_batch.shape)\n",
        "    assert is_done_batch.shape == (\n",
        "        10,), \"is_done batch should have shape (10,) but is instead %s\" % str(is_done_batch.shape)\n",
        "    assert [int(i) in (0, 1)\n",
        "            for i in is_dones], \"is_done should be strictly True or False\"\n",
        "    assert [\n",
        "        0 <= a <= n_actions for a in act_batch], \"actions should be within [0, n_actions]\"\n",
        "\n",
        "print(\"Well done!\")"
      ],
      "execution_count": 0,
      "outputs": [
        {
          "output_type": "stream",
          "text": [
            "size is_dons=10000\n",
            "mean is_dons=0.005\n",
            "Well done!\n"
          ],
          "name": "stdout"
        }
      ]
    },
    {
      "cell_type": "markdown",
      "metadata": {
        "id": "Js2U37elHDdX",
        "colab_type": "text"
      },
      "source": [
        "### 利用experience replay进行训练"
      ]
    },
    {
      "cell_type": "code",
      "metadata": {
        "id": "_BUk6qCF2HKq",
        "colab_type": "code",
        "outputId": "d257a3f7-fa89-43c6-a2b8-72749eaf5f6a",
        "colab": {
          "base_uri": "https://localhost:8080/",
          "height": 54
        }
      },
      "source": [
        "'''\n",
        "env = make_env()\n",
        "exp_replay = ReplayBuffer(20000)\n",
        "batch_size = 64\n",
        "def generate_session(t_max=1000, epsilon=0.2, train=False):\n",
        "    \"\"\"play env with approximate q-learning agent and train it at the same time\"\"\"\n",
        "    total_reward = 0\n",
        "    s = env.reset()\n",
        "    for t in range(t_max):\n",
        "        qvalues = agent.get_qvalues(np.array([s]), sess)\n",
        "        a = agent.sample_actions(qvalues, epsilon=epsilon)       \n",
        "        next_s, r, done, _ = env.step(a)\n",
        "        if t == 0:\n",
        "          exp_replay.add(s,a,r,next_s,done)\n",
        "        batch_s, batch_a, batch_r, batch_next_s, batch_done = exp_replay.sample(batch_size=64)\n",
        "        #print(batch_s.shape)\n",
        "        #print(np.array([s]).shape)\n",
        "        batch_s = np.append(batch_s, np.array([s]),axis=0)\n",
        "        batch_a = np.append(batch_a, a)\n",
        "        batch_r = np.append(batch_r, r)\n",
        "        batch_next_s = np.append(batch_next_s, np.array([next_s]),axis=0)\n",
        "        batch_done = np.append(batch_done, done)\n",
        "        exp_replay.add(s,a,r,next_s,done)\n",
        "        #print(batch_s.shape)\n",
        "        if train:\n",
        "            sess.run(agent.train_step,{\n",
        "                agent.states_ph: batch_s, agent.actions_ph: batch_a, agent.rewards_ph: batch_r, \n",
        "                agent.next_states_ph: batch_next_s, agent.is_done_ph: batch_done\n",
        "            })\n",
        "\n",
        "        total_reward += r\n",
        "        s = next_s\n",
        "        if done: \n",
        "          #print(\"is done\")\n",
        "          break\n",
        "    return total_reward\n",
        "'''"
      ],
      "execution_count": 0,
      "outputs": [
        {
          "output_type": "execute_result",
          "data": {
            "text/plain": [
              "'\\nenv = make_env()\\nexp_replay = ReplayBuffer(20000)\\nbatch_size = 64\\ndef generate_session(t_max=1000, epsilon=0.2, train=False):\\n    \"\"\"play env with approximate q-learning agent and train it at the same time\"\"\"\\n    total_reward = 0\\n    s = env.reset()\\n    for t in range(t_max):\\n        qvalues = agent.get_qvalues(np.array([s]), sess)\\n        a = agent.sample_actions(qvalues, epsilon=epsilon)       \\n        next_s, r, done, _ = env.step(a)\\n        if t == 0:\\n          exp_replay.add(s,a,r,next_s,done)\\n        batch_s, batch_a, batch_r, batch_next_s, batch_done = exp_replay.sample(batch_size=64)\\n        #print(batch_s.shape)\\n        #print(np.array([s]).shape)\\n        batch_s = np.append(batch_s, np.array([s]),axis=0)\\n        batch_a = np.append(batch_a, a)\\n        batch_r = np.append(batch_r, r)\\n        batch_next_s = np.append(batch_next_s, np.array([next_s]),axis=0)\\n        batch_done = np.append(batch_done, done)\\n        exp_replay.add(s,a,r,next_s,done)\\n        #print(batch_s.shape)\\n        if train:\\n            sess.run(agent.train_step,{\\n                agent.states_ph: batch_s, agent.actions_ph: batch_a, agent.rewards_ph: batch_r, \\n                agent.next_states_ph: batch_next_s, agent.is_done_ph: batch_done\\n            })\\n\\n        total_reward += r\\n        s = next_s\\n        if done: \\n          #print(\"is done\")\\n          break\\n    return total_reward\\n'"
            ]
          },
          "metadata": {
            "tags": []
          },
          "execution_count": 18
        }
      ]
    },
    {
      "cell_type": "code",
      "metadata": {
        "id": "mbkSskh9RQ_2",
        "colab_type": "code",
        "outputId": "f7572dfe-cc09-4a0d-8622-b9e58a0d4435",
        "colab": {
          "base_uri": "https://localhost:8080/",
          "height": 54
        }
      },
      "source": [
        "'''\n",
        "epsilon = 0.4\n",
        "import time\n",
        "for i in range(1000):\n",
        "    start = time.time()\n",
        "    session_rewards = [generate_session(epsilon=epsilon, train=True) for _ in range(10)]\n",
        "    print(\"epoch #{}\\tmean reward = {:.3f}\\tepsilon = {:.3f}\\ttime_cost={}\\texp_replay size={}\".format(i, np.mean(session_rewards), epsilon, time.time()-start,len(exp_replay)))\n",
        "    \n",
        "    epsilon= max(epsilon*0.99,0.01)\n",
        "    assert epsilon >= 1e-4, \"Make sure epsilon is always nonzero during training\"\n",
        "    \n",
        "    if np.mean(session_rewards) > 10:\n",
        "        print (\"You Win!\")\n",
        "        break\n",
        "'''\n",
        "'''\n",
        "TPU耗时：\n",
        "  epoch #0\tmean reward = 1.220\tepsilon = 0.500\ttime_cost=122.46886038780212\n",
        "  epoch #1\tmean reward = 1.150\tepsilon = 0.495\ttime_cost=118.8068995475769\n",
        "  epoch #2\tmean reward = 1.360\tepsilon = 0.490\ttime_cost=121.57082295417786\n",
        "  epoch #3\tmean reward = 1.620\tepsilon = 0.485\ttime_cost=155.45745730400085\n",
        "  epoch #4\tmean reward = 1.670\tepsilon = 0.480\ttime_cost=175.2912380695343\n",
        "GPU耗时：\n",
        "  epoch #0\tmean reward = 1.360\tepsilon = 0.500\ttime_cost=176.7485010623932\n",
        "  epoch #1\tmean reward = 1.830\tepsilon = 0.495\ttime_cost=190.0246570110321\n",
        "  epoch #2\tmean reward = 1.840\tepsilon = 0.490\ttime_cost=193.792795419693\n",
        "  epoch #3\tmean reward = 1.510\tepsilon = 0.485\ttime_cost=185.10718274116516\n",
        "  epoch #5\tmean reward = 1.850\tepsilon = 0.475\ttime_cost=186.9741883277893\n",
        "\n",
        "'''"
      ],
      "execution_count": 0,
      "outputs": [
        {
          "output_type": "execute_result",
          "data": {
            "text/plain": [
              "'\\nTPU耗时：\\n  epoch #0\\tmean reward = 1.220\\tepsilon = 0.500\\ttime_cost=122.46886038780212\\n  epoch #1\\tmean reward = 1.150\\tepsilon = 0.495\\ttime_cost=118.8068995475769\\n  epoch #2\\tmean reward = 1.360\\tepsilon = 0.490\\ttime_cost=121.57082295417786\\n  epoch #3\\tmean reward = 1.620\\tepsilon = 0.485\\ttime_cost=155.45745730400085\\n  epoch #4\\tmean reward = 1.670\\tepsilon = 0.480\\ttime_cost=175.2912380695343\\nGPU耗时：\\n  epoch #0\\tmean reward = 1.360\\tepsilon = 0.500\\ttime_cost=176.7485010623932\\n  epoch #1\\tmean reward = 1.830\\tepsilon = 0.495\\ttime_cost=190.0246570110321\\n  epoch #2\\tmean reward = 1.840\\tepsilon = 0.490\\ttime_cost=193.792795419693\\n  epoch #3\\tmean reward = 1.510\\tepsilon = 0.485\\ttime_cost=185.10718274116516\\n  epoch #5\\tmean reward = 1.850\\tepsilon = 0.475\\ttime_cost=186.9741883277893\\n\\n'"
            ]
          },
          "metadata": {
            "tags": []
          },
          "execution_count": 19
        }
      ]
    },
    {
      "cell_type": "markdown",
      "metadata": {
        "id": "QZNQFLrR1nNM",
        "colab_type": "text"
      },
      "source": [
        ""
      ]
    },
    {
      "cell_type": "code",
      "metadata": {
        "id": "Fl0VmKupPSCN",
        "colab_type": "code",
        "colab": {}
      },
      "source": [
        ""
      ],
      "execution_count": 0,
      "outputs": []
    },
    {
      "cell_type": "code",
      "metadata": {
        "id": "gCD-pOMfgT0b",
        "colab_type": "code",
        "colab": {}
      },
      "source": [
        ""
      ],
      "execution_count": 0,
      "outputs": []
    },
    {
      "cell_type": "markdown",
      "metadata": {
        "id": "tc5V4WhPDVPi",
        "colab_type": "text"
      },
      "source": [
        "### Target networks"
      ]
    },
    {
      "cell_type": "code",
      "metadata": {
        "id": "pGQJc8hiRhc0",
        "colab_type": "code",
        "outputId": "7eae7a42-5e27-4aaa-ee2b-444262896f32",
        "colab": {
          "base_uri": "https://localhost:8080/",
          "height": 68
        }
      },
      "source": [
        "print(\"state_dim={0}\".format(state_dim))\n",
        "print(\"n_actions={0}\".format(n_actions))\n",
        "target_network = DQNAgent(\"target_network\", state_dim, n_actions)\n",
        "def load_weigths_into_target_network(agent, target_network):\n",
        "    \"\"\" assign target_network.weights variables to their respective agent.weights values. \"\"\"\n",
        "    assigns = []\n",
        "    for w_agent, w_target in zip(agent.weights, target_network.weights):\n",
        "        assigns.append(tf.assign(w_target, w_agent, validate_shape=True))\n",
        "    # tf.get_default_session().run(assigns)\n",
        "    return assigns\n",
        "# create the tf copy graph only once.\n",
        "copy_step = load_weigths_into_target_network(agent, target_network)\n",
        "sess.run(copy_step)\n",
        "# check that it works\n",
        "sess.run([tf.assert_equal(w, w_target)\n",
        "          for w, w_target in zip(agent.weights, target_network.weights)])\n",
        "print(\"It works!\")"
      ],
      "execution_count": 0,
      "outputs": [
        {
          "output_type": "stream",
          "text": [
            "state_dim=(64, 64, 4)\n",
            "n_actions=4\n",
            "It works!\n"
          ],
          "name": "stdout"
        }
      ]
    },
    {
      "cell_type": "markdown",
      "metadata": {
        "id": "y6iYsCHoEJas",
        "colab_type": "text"
      },
      "source": [
        "### 学习\n",
        "1. 玩10步，更新experience replay中的数据，\n",
        "2. sample一个batch的数据，更新agent的权重。。\n",
        "2. 每500个batch,更新target network的权重。\n",
        "\n",
        "大概需要训练$10^5$个batch的数据"
      ]
    },
    {
      "cell_type": "markdown",
      "metadata": {
        "id": "RTUK86qcNE8l",
        "colab_type": "text"
      },
      "source": [
        "Compute Q-learning TD error:\n",
        "\n",
        "$$ L = { 1 \\over N} \\sum_i [ Q_{\\theta}(s,a) - Q_{reference}(s,a) ] ^2 $$\n",
        "With Q-reference defined as\n",
        "\n",
        "$$ Q_{reference}(s,a) = r(s,a) + \\gamma \\cdot max_{a'} Q_{target}(s', a') $$\n",
        "Where\n",
        "\n",
        "$Q_{target}(s',a')$ denotes q-value of next state and next action predicted by target_network\n",
        "$s, a, r, s'$ are current state, action, reward and next state respectively\n",
        "$\\gamma$ is a discount factor defined two cells above."
      ]
    },
    {
      "cell_type": "code",
      "metadata": {
        "id": "Sano919uAVp4",
        "colab_type": "code",
        "colab": {}
      },
      "source": [
        "# placeholders that will be fed with exp_replay.sample(batch_size)\n",
        "obs_ph = tf.placeholder(tf.float32, shape=(None,) + state_dim)\n",
        "actions_ph = tf.placeholder(tf.int32, shape=[None])\n",
        "rewards_ph = tf.placeholder(tf.float32, shape=[None])\n",
        "next_obs_ph = tf.placeholder(tf.float32, shape=(None,) + state_dim)\n",
        "is_done_ph = tf.placeholder(tf.bool, shape=[None])\n",
        "\n",
        "#is_not_done = 1 - tf.cast(is_done_ph,tf.int16)\n",
        "gamma = 0.99"
      ],
      "execution_count": 0,
      "outputs": []
    },
    {
      "cell_type": "code",
      "metadata": {
        "id": "vXQWCdNDhUjJ",
        "colab_type": "code",
        "outputId": "6e13df0f-e2c0-4e8b-f1ad-33ec42edbf45",
        "colab": {
          "base_uri": "https://localhost:8080/",
          "height": 122
        }
      },
      "source": [
        "current_qvalues = agent.get_symbolic_qvalues(obs_ph)\n",
        "current_action_qvalues = tf.reduce_sum(tf.one_hot(actions_ph, n_actions) * current_qvalues, axis=-1)\n",
        "\n",
        "next_qvalues_target = target_network.get_symbolic_qvalues(next_obs_ph)\n",
        "next_state_values_target = K.max(next_qvalues_target, axis=-1)\n",
        "reference_qvalues = tf.where(is_done_ph, rewards_ph, rewards_ph + gamma*next_state_values_target)\n",
        "\n",
        "td_loss = (current_action_qvalues - reference_qvalues) ** 2\n",
        "td_loss = tf.reduce_mean(td_loss)\n",
        "train_step = tf.train.AdamOptimizer(1e-3).minimize(td_loss, var_list=agent.weights)"
      ],
      "execution_count": 0,
      "outputs": [
        {
          "output_type": "stream",
          "text": [
            "qvalues=Tensor(\"sequential_1/dense_2/BiasAdd:0\", shape=(?, 4), dtype=float32)\n",
            "qvalues=Tensor(\"sequential_2/dense_4/BiasAdd:0\", shape=(?, 4), dtype=float32)\n",
            "WARNING:tensorflow:From <ipython-input-22-56fa3f1d9463>:6: add_dispatch_support.<locals>.wrapper (from tensorflow.python.ops.array_ops) is deprecated and will be removed in a future version.\n",
            "Instructions for updating:\n",
            "Use tf.where in 2.0, which has the same broadcast rule as np.where\n"
          ],
          "name": "stdout"
        }
      ]
    },
    {
      "cell_type": "code",
      "metadata": {
        "id": "1XGsyta-i0Zv",
        "colab_type": "code",
        "outputId": "ac1a2b44-b8af-4fe5-c346-85304f426f2d",
        "colab": {
          "base_uri": "https://localhost:8080/",
          "height": 34
        }
      },
      "source": [
        "sess.run(tf.global_variables_initializer())\n",
        "\n",
        "for chk_grad in tf.gradients(reference_qvalues, agent.weights):\n",
        "    error_msg = \"Reference q-values should have no gradient w.r.t. agent weights. Make sure you used target_network qvalues! \"\n",
        "    error_msg += \"If you know what you're doing, ignore this assert.\"\n",
        "    assert chk_grad is None or np.allclose(\n",
        "        sess.run(chk_grad), sess.run(chk_grad * 0)), error_msg\n",
        "\n",
        "#assert tf.gradients(reference_qvalues, is_done_ph)[\n",
        "#    0] is not None, \"make sure you used is_not_done\"\n",
        "assert tf.gradients(reference_qvalues, rewards_ph)[\n",
        "    0] is not None, \"make sure you used rewards\"\n",
        "assert tf.gradients(reference_qvalues, next_obs_ph)[\n",
        "    0] is not None, \"make sure you used next states\"\n",
        "assert tf.gradients(reference_qvalues, obs_ph)[\n",
        "    0] is None, \"reference qvalues shouldn't depend on current observation!\"  # ignore if you're certain it's ok\n",
        "print(\"Splendid!\")"
      ],
      "execution_count": 0,
      "outputs": [
        {
          "output_type": "stream",
          "text": [
            "Splendid!\n"
          ],
          "name": "stdout"
        }
      ]
    },
    {
      "cell_type": "code",
      "metadata": {
        "id": "uR_JquKQl-fR",
        "colab_type": "code",
        "colab": {}
      },
      "source": [
        "from tqdm import trange\n",
        "from IPython.display import clear_output\n",
        "import matplotlib.pyplot as plt\n",
        "from pandas import DataFrame\n",
        "moving_average = lambda x, span=100, **kw: DataFrame(\n",
        "    {'x': np.asarray(x)}).x.ewm(span=span, **kw).mean().values\n",
        "%matplotlib inline\n",
        "\n",
        "mean_rw_history = []\n",
        "td_loss_history = []"
      ],
      "execution_count": 0,
      "outputs": []
    },
    {
      "cell_type": "code",
      "metadata": {
        "id": "NzPXmqP0oGhk",
        "colab_type": "code",
        "colab": {}
      },
      "source": [
        "exp_replay = ReplayBuffer(10**5)\n",
        "play_and_record(agent, env, exp_replay, n_steps=10000)\n",
        "\n",
        "\n",
        "def sample_batch(exp_replay, batch_size):\n",
        "    obs_batch, act_batch, reward_batch, next_obs_batch, is_done_batch = exp_replay.sample(\n",
        "        batch_size)\n",
        "    return {\n",
        "        obs_ph: obs_batch, actions_ph: act_batch, rewards_ph: reward_batch,\n",
        "        next_obs_ph: next_obs_batch, is_done_ph: is_done_batch\n",
        "    }"
      ],
      "execution_count": 0,
      "outputs": []
    },
    {
      "cell_type": "code",
      "metadata": {
        "id": "SGSNa7FcJ3i_",
        "colab_type": "code",
        "colab": {}
      },
      "source": [
        ""
      ],
      "execution_count": 0,
      "outputs": []
    },
    {
      "cell_type": "code",
      "metadata": {
        "id": "bHKF8UwGoJGU",
        "colab_type": "code",
        "outputId": "f53ba0dc-d4f5-4831-a052-9ffcca1c5f01",
        "colab": {
          "base_uri": "https://localhost:8080/",
          "height": 1000
        }
      },
      "source": [
        "#由于长时间连接导致运行到i=5w次的时候会断裂\n",
        "#尝试每次运行2w次\n",
        "for i in trange(30000):\n",
        "\n",
        "    # play\n",
        "    play_and_record(agent, env, exp_replay, 10)\n",
        "\n",
        "    # train\n",
        "    _, loss_t = sess.run([train_step, td_loss], sample_batch(exp_replay, batch_size=64))\n",
        "    td_loss_history.append(loss_t)\n",
        "\n",
        "    # adjust agent parameters\n",
        "    if i % 1000 == 0:\n",
        "        #load_weigths_into_target_network(agent, target_network)\n",
        "        # calling 'load_weights_into_target_network' repeatedly cause creating tf copy operator\n",
        "        # again and again, which bloat memory consumption along training step\n",
        "        # create'copy_step' once\n",
        "        sess.run(copy_step)\n",
        "        agent.epsilon = max(agent.epsilon * 0.99, 0.01)\n",
        "        mean_rw_history.append(evaluate(make_env(), agent, greedy=False, n_games=3))\n",
        "    if i % 500 == 0:\n",
        "        clear_output(True)\n",
        "        print(\"buffer size = %i, epsilon = %.5f\" %\n",
        "              (len(exp_replay), agent.epsilon))\n",
        "\n",
        "        plt.subplot(1, 2, 1)\n",
        "        plt.title(\"mean reward per game\")\n",
        "        plt.plot(mean_rw_history)\n",
        "        plt.grid()\n",
        "\n",
        "        assert not np.isnan(loss_t)\n",
        "        plt.figure(figsize=[12, 4])\n",
        "        plt.subplot(1, 2, 2)\n",
        "        plt.title(\"TD loss history (moving average)\")\n",
        "        plt.plot(moving_average(\n",
        "            np.array(td_loss_history), span=100, min_periods=100))\n",
        "        plt.grid()\n",
        "        plt.show()"
      ],
      "execution_count": 0,
      "outputs": [
        {
          "output_type": "stream",
          "text": [
            "buffer size = 100000, epsilon = 0.17291\n"
          ],
          "name": "stdout"
        },
        {
          "output_type": "display_data",
          "data": {
            "image/png": "[encoded data removed]",
            "text/plain": [
              "<Figure size 432x288 with 1 Axes>"
            ]
          },
          "metadata": {
            "tags": []
          }
        },
        {
          "output_type": "display_data",
          "data": {
            "image/png": "[encoded data removed]",
            "text/plain": [
              "<Figure size 864x288 with 1 Axes>"
            ]
          },
          "metadata": {
            "tags": []
          }
        },
        {
          "output_type": "stream",
          "text": [
            "\n",
            "  3%|▎         | 1001/30000 [01:11<3:46:51,  2.13it/s]\u001b[A\n",
            "  3%|▎         | 1003/30000 [01:11<2:48:31,  2.87it/s]\u001b[A\n",
            "  3%|▎         | 1005/30000 [01:11<2:07:06,  3.80it/s]\u001b[A\n",
            "  3%|▎         | 1007/30000 [01:11<1:38:29,  4.91it/s]\u001b[A\n",
            "  3%|▎         | 1009/30000 [01:11<1:18:17,  6.17it/s]\u001b[A\n",
            "  3%|▎         | 1011/30000 [01:12<1:05:03,  7.43it/s]\u001b[A\n",
            "  3%|▎         | 1013/30000 [01:12<54:47,  8.82it/s]  \u001b[A\n",
            "  3%|▎         | 1015/30000 [01:12<47:45, 10.11it/s]\u001b[A\n",
            "  3%|▎         | 1017/30000 [01:12<42:32, 11.35it/s]\u001b[A\n",
            "  3%|▎         | 1019/30000 [01:12<39:41, 12.17it/s]\u001b[A\n",
            "  3%|▎         | 1021/30000 [01:12<37:16, 12.96it/s]\u001b[A\n",
            "  3%|▎         | 1023/30000 [01:12<35:18, 13.67it/s]\u001b[A\n",
            "  3%|▎         | 1025/30000 [01:12<34:32, 13.98it/s]\u001b[A\n",
            "  3%|▎         | 1027/30000 [01:13<33:50, 14.27it/s]\u001b[A\n",
            "  3%|▎         | 1029/30000 [01:13<32:52, 14.69it/s]\u001b[A\n",
            "  3%|▎         | 1031/30000 [01:13<32:16, 14.96it/s]\u001b[A\n",
            "  3%|▎         | 1033/30000 [01:13<31:54, 15.13it/s]\u001b[A\n",
            "  3%|▎         | 1035/30000 [01:13<31:43, 15.22it/s]\u001b[A\n",
            "  3%|▎         | 1037/30000 [01:13<31:30, 15.32it/s]\u001b[A\n",
            "  3%|▎         | 1039/30000 [01:13<31:47, 15.18it/s]\u001b[A\n",
            "  3%|▎         | 1041/30000 [01:13<31:39, 15.24it/s]\u001b[A\n",
            "  3%|▎         | 1043/30000 [01:14<31:47, 15.18it/s]\u001b[A\n",
            "  3%|▎         | 1045/30000 [01:14<31:14, 15.45it/s]\u001b[A\n",
            "  3%|▎         | 1047/30000 [01:14<30:42, 15.71it/s]\u001b[A\n",
            "  3%|▎         | 1049/30000 [01:14<30:50, 15.64it/s]\u001b[A\n",
            "  4%|▎         | 1051/30000 [01:14<30:43, 15.70it/s]\u001b[A\n",
            "  4%|▎         | 1053/30000 [01:14<30:45, 15.69it/s]\u001b[A\n",
            "  4%|▎         | 1055/30000 [01:14<30:38, 15.74it/s]\u001b[A\n",
            "  4%|▎         | 1057/30000 [01:14<30:15, 15.94it/s]\u001b[A\n",
            "  4%|▎         | 1059/30000 [01:15<31:23, 15.36it/s]\u001b[A\n",
            "  4%|▎         | 1061/30000 [01:15<31:38, 15.25it/s]\u001b[A\n",
            "  4%|▎         | 1063/30000 [01:15<31:22, 15.37it/s]\u001b[A\n",
            "  4%|▎         | 1065/30000 [01:15<31:14, 15.44it/s]\u001b[A\n",
            "  4%|▎         | 1067/30000 [01:15<31:24, 15.35it/s]\u001b[A\n",
            "  4%|▎         | 1069/30000 [01:15<31:14, 15.43it/s]\u001b[A\n",
            "  4%|▎         | 1071/30000 [01:15<31:06, 15.50it/s]\u001b[A\n",
            "  4%|▎         | 1073/30000 [01:16<31:06, 15.50it/s]\u001b[A\n",
            "  4%|▎         | 1075/30000 [01:16<31:22, 15.37it/s]\u001b[A\n",
            "  4%|▎         | 1077/30000 [01:16<30:55, 15.59it/s]\u001b[A\n",
            "  4%|▎         | 1079/30000 [01:16<30:45, 15.67it/s]\u001b[A\n",
            "  4%|▎         | 1081/30000 [01:16<30:30, 15.80it/s]\u001b[A\n",
            "  4%|▎         | 1083/30000 [01:16<31:15, 15.42it/s]\u001b[A\n",
            "  4%|▎         | 1085/30000 [01:16<32:11, 14.97it/s]\u001b[A\n",
            "  4%|▎         | 1087/30000 [01:16<31:35, 15.25it/s]\u001b[A\n",
            "  4%|▎         | 1089/30000 [01:17<31:18, 15.39it/s]\u001b[A\n",
            "  4%|▎         | 1091/30000 [01:17<31:59, 15.06it/s]\u001b[A\n",
            "  4%|▎         | 1093/30000 [01:17<31:44, 15.18it/s]\u001b[A\n",
            "  4%|▎         | 1095/30000 [01:17<31:07, 15.48it/s]\u001b[A\n",
            "  4%|▎         | 1097/30000 [01:17<30:39, 15.71it/s]\u001b[A\n",
            "  4%|▎         | 1099/30000 [01:17<30:49, 15.63it/s]\u001b[A\n",
            "  4%|▎         | 1101/30000 [01:17<30:44, 15.67it/s]\u001b[A\n",
            "  4%|▎         | 1103/30000 [01:17<31:17, 15.39it/s]\u001b[A\n",
            "  4%|▎         | 1105/30000 [01:18<31:05, 15.49it/s]\u001b[A\n",
            "  4%|▎         | 1107/30000 [01:18<31:12, 15.43it/s]\u001b[A\n",
            "  4%|▎         | 1109/30000 [01:18<31:20, 15.37it/s]\u001b[A\n",
            "  4%|▎         | 1111/30000 [01:18<30:45, 15.65it/s]\u001b[A\n",
            "  4%|▎         | 1113/30000 [01:18<30:29, 15.79it/s]\u001b[A\n",
            "  4%|▎         | 1115/30000 [01:18<30:43, 15.67it/s]\u001b[A\n",
            "  4%|▎         | 1117/30000 [01:18<30:32, 15.76it/s]\u001b[A\n",
            "  4%|▎         | 1119/30000 [01:18<30:24, 15.83it/s]\u001b[A\n",
            "  4%|▎         | 1121/30000 [01:19<30:58, 15.54it/s]\u001b[A\n",
            "  4%|▎         | 1123/30000 [01:19<31:23, 15.34it/s]\u001b[A\n",
            "  4%|▍         | 1125/30000 [01:19<30:54, 15.57it/s]\u001b[A\n",
            "  4%|▍         | 1127/30000 [01:19<30:25, 15.82it/s]\u001b[A\n",
            "  4%|▍         | 1129/30000 [01:19<30:39, 15.70it/s]\u001b[A\n",
            "  4%|▍         | 1131/30000 [01:19<30:35, 15.73it/s]\u001b[A\n",
            "  4%|▍         | 1133/30000 [01:19<30:22, 15.84it/s]\u001b[A\n",
            "  4%|▍         | 1135/30000 [01:20<30:29, 15.77it/s]\u001b[A\n",
            "  4%|▍         | 1137/30000 [01:20<30:29, 15.77it/s]\u001b[A\n",
            "  4%|▍         | 1139/30000 [01:20<31:02, 15.50it/s]\u001b[A\n",
            "  4%|▍         | 1141/30000 [01:20<30:42, 15.67it/s]\u001b[A\n",
            "  4%|▍         | 1143/30000 [01:20<30:32, 15.75it/s]\u001b[A\n",
            "  4%|▍         | 1145/30000 [01:20<30:15, 15.90it/s]\u001b[A\n",
            "  4%|▍         | 1147/30000 [01:20<31:34, 15.23it/s]\u001b[A\n",
            "  4%|▍         | 1149/30000 [01:20<31:11, 15.42it/s]\u001b[A\n",
            "  4%|▍         | 1151/30000 [01:21<30:51, 15.58it/s]\u001b[A\n",
            "  4%|▍         | 1153/30000 [01:21<30:25, 15.80it/s]\u001b[A\n",
            "  4%|▍         | 1155/30000 [01:21<30:46, 15.62it/s]\u001b[A\n",
            "  4%|▍         | 1157/30000 [01:21<30:28, 15.77it/s]\u001b[A\n",
            "  4%|▍         | 1159/30000 [01:21<30:25, 15.80it/s]\u001b[A\n",
            "  4%|▍         | 1161/30000 [01:21<31:08, 15.43it/s]\u001b[A\n",
            "  4%|▍         | 1163/30000 [01:21<30:47, 15.61it/s]\u001b[A\n",
            "  4%|▍         | 1165/30000 [01:21<30:45, 15.63it/s]\u001b[A\n",
            "  4%|▍         | 1167/30000 [01:22<30:34, 15.72it/s]\u001b[A\n",
            "  4%|▍         | 1169/30000 [01:22<30:34, 15.71it/s]\u001b[A\n",
            "  4%|▍         | 1171/30000 [01:22<32:03, 14.99it/s]\u001b[A\n",
            "  4%|▍         | 1173/30000 [01:22<31:21, 15.32it/s]\u001b[A\n",
            "  4%|▍         | 1175/30000 [01:22<30:51, 15.57it/s]\u001b[A\n",
            "  4%|▍         | 1177/30000 [01:22<30:37, 15.68it/s]\u001b[A\n",
            "  4%|▍         | 1179/30000 [01:22<30:31, 15.74it/s]\u001b[A\n",
            "  4%|▍         | 1181/30000 [01:22<30:51, 15.57it/s]\u001b[A\n",
            "  4%|▍         | 1183/30000 [01:23<30:36, 15.69it/s]\u001b[A\n",
            "  4%|▍         | 1185/30000 [01:23<30:28, 15.76it/s]\u001b[A\n",
            "  4%|▍         | 1187/30000 [01:23<30:51, 15.56it/s]\u001b[A\n",
            "  4%|▍         | 1189/30000 [01:23<30:45, 15.61it/s]\u001b[A\n",
            "  4%|▍         | 1191/30000 [01:23<31:09, 15.41it/s]\u001b[A\n",
            "  4%|▍         | 1193/30000 [01:23<31:06, 15.44it/s]\u001b[A\n",
            "  4%|▍         | 1195/30000 [01:23<30:57, 15.51it/s]\u001b[A\n",
            "  4%|▍         | 1197/30000 [01:24<30:52, 15.55it/s]\u001b[A\n",
            "  4%|▍         | 1199/30000 [01:24<30:41, 15.64it/s]\u001b[A\n",
            "  4%|▍         | 1201/30000 [01:24<30:28, 15.75it/s]\u001b[A\n",
            "  4%|▍         | 1203/30000 [01:24<31:12, 15.38it/s]\u001b[A\n",
            "  4%|▍         | 1205/30000 [01:24<30:54, 15.52it/s]\u001b[A\n",
            "  4%|▍         | 1207/30000 [01:24<32:16, 14.87it/s]\u001b[A\n",
            "  4%|▍         | 1209/30000 [01:24<31:38, 15.16it/s]\u001b[A\n",
            "  4%|▍         | 1211/30000 [01:24<31:06, 15.43it/s]\u001b[A\n",
            "  4%|▍         | 1213/30000 [01:25<30:43, 15.62it/s]\u001b[A\n",
            "  4%|▍         | 1215/30000 [01:25<30:20, 15.81it/s]\u001b[A\n",
            "  4%|▍         | 1217/30000 [01:25<30:23, 15.79it/s]\u001b[A\n",
            "  4%|▍         | 1219/30000 [01:25<31:09, 15.40it/s]\u001b[A\n",
            "  4%|▍         | 1221/30000 [01:25<30:57, 15.50it/s]\u001b[A\n",
            "  4%|▍         | 1223/30000 [01:25<30:42, 15.62it/s]\u001b[A\n",
            "  4%|▍         | 1225/30000 [01:25<30:57, 15.49it/s]\u001b[A\n",
            "  4%|▍         | 1227/30000 [01:25<30:42, 15.62it/s]\u001b[A\n",
            "  4%|▍         | 1229/30000 [01:26<30:30, 15.72it/s]\u001b[A\n",
            "  4%|▍         | 1231/30000 [01:26<30:28, 15.74it/s]\u001b[A\n",
            "  4%|▍         | 1233/30000 [01:26<30:27, 15.74it/s]\u001b[A\n",
            "  4%|▍         | 1235/30000 [01:26<31:34, 15.18it/s]\u001b[A\n",
            "  4%|▍         | 1237/30000 [01:26<31:11, 15.37it/s]\u001b[A\n",
            "  4%|▍         | 1239/30000 [01:26<30:43, 15.60it/s]\u001b[A\n",
            "  4%|▍         | 1241/30000 [01:26<30:20, 15.79it/s]\u001b[A\n",
            "  4%|▍         | 1243/30000 [01:26<30:23, 15.77it/s]\u001b[A\n",
            "  4%|▍         | 1245/30000 [01:27<30:56, 15.49it/s]\u001b[A\n",
            "  4%|▍         | 1247/30000 [01:27<30:36, 15.66it/s]\u001b[A\n",
            "  4%|▍         | 1249/30000 [01:27<30:56, 15.49it/s]\u001b[A\n",
            "  4%|▍         | 1251/30000 [01:27<31:26, 15.24it/s]\u001b[A\n",
            "  4%|▍         | 1253/30000 [01:27<31:15, 15.32it/s]\u001b[A\n",
            "  4%|▍         | 1255/30000 [01:27<30:57, 15.48it/s]\u001b[A\n",
            "  4%|▍         | 1257/30000 [01:27<30:36, 15.65it/s]\u001b[A\n",
            "  4%|▍         | 1259/30000 [01:27<30:26, 15.73it/s]\u001b[A\n",
            "  4%|▍         | 1261/30000 [01:28<30:16, 15.82it/s]\u001b[A\n",
            "  4%|▍         | 1263/30000 [01:28<30:10, 15.87it/s]\u001b[A\n",
            "  4%|▍         | 1265/30000 [01:28<31:21, 15.27it/s]\u001b[A\n",
            "  4%|▍         | 1267/30000 [01:28<31:42, 15.10it/s]\u001b[A\n",
            "  4%|▍         | 1269/30000 [01:28<31:14, 15.33it/s]\u001b[A\n",
            "  4%|▍         | 1271/30000 [01:28<30:48, 15.54it/s]\u001b[A\n",
            "  4%|▍         | 1273/30000 [01:28<30:36, 15.64it/s]\u001b[A\n",
            "  4%|▍         | 1275/30000 [01:29<30:36, 15.64it/s]\u001b[A\n",
            "  4%|▍         | 1277/30000 [01:29<30:09, 15.87it/s]\u001b[A\n",
            "  4%|▍         | 1279/30000 [01:29<30:06, 15.90it/s]\u001b[A\n",
            "  4%|▍         | 1281/30000 [01:29<30:13, 15.83it/s]\u001b[A\n",
            "  4%|▍         | 1283/30000 [01:29<30:49, 15.53it/s]\u001b[A\n",
            "  4%|▍         | 1285/30000 [01:29<31:25, 15.23it/s]\u001b[A\n",
            "  4%|▍         | 1287/30000 [01:29<31:03, 15.41it/s]\u001b[A\n",
            "  4%|▍         | 1289/30000 [01:29<30:54, 15.48it/s]\u001b[A\n",
            "  4%|▍         | 1291/30000 [01:30<31:36, 15.14it/s]\u001b[A\n",
            "  4%|▍         | 1293/30000 [01:30<31:01, 15.42it/s]\u001b[A\n",
            "  4%|▍         | 1295/30000 [01:30<30:33, 15.66it/s]\u001b[A\n",
            "  4%|▍         | 1297/30000 [01:30<30:55, 15.47it/s]\u001b[A\n",
            "  4%|▍         | 1299/30000 [01:30<31:44, 15.07it/s]\u001b[A\n",
            "  4%|▍         | 1301/30000 [01:30<31:10, 15.34it/s]\u001b[A\n",
            "  4%|▍         | 1303/30000 [01:30<31:28, 15.19it/s]\u001b[A\n",
            "  4%|▍         | 1305/30000 [01:30<31:05, 15.38it/s]\u001b[A\n",
            "  4%|▍         | 1307/30000 [01:31<30:48, 15.53it/s]\u001b[A\n",
            "  4%|▍         | 1309/30000 [01:31<30:22, 15.75it/s]\u001b[A\n",
            "  4%|▍         | 1311/30000 [01:31<30:17, 15.78it/s]\u001b[A\n",
            "  4%|▍         | 1313/30000 [01:31<29:55, 15.97it/s]\u001b[A\n",
            "  4%|▍         | 1315/30000 [01:31<30:51, 15.49it/s]\u001b[A\n",
            "  4%|▍         | 1317/30000 [01:31<30:26, 15.70it/s]\u001b[A\n",
            "  4%|▍         | 1319/30000 [01:31<30:15, 15.80it/s]\u001b[A\n",
            "  4%|▍         | 1321/30000 [01:31<30:55, 15.45it/s]\u001b[A\n",
            "  4%|▍         | 1323/30000 [01:32<30:32, 15.64it/s]\u001b[A\n",
            "  4%|▍         | 1325/30000 [01:32<31:22, 15.23it/s]\u001b[A\n",
            "  4%|▍         | 1327/30000 [01:32<30:50, 15.50it/s]\u001b[A\n",
            "  4%|▍         | 1329/30000 [01:32<30:34, 15.63it/s]\u001b[A\n",
            "  4%|▍         | 1331/30000 [01:32<31:20, 15.24it/s]\u001b[A\n",
            "  4%|▍         | 1333/30000 [01:32<30:52, 15.48it/s]\u001b[A\n",
            "  4%|▍         | 1335/30000 [01:32<30:38, 15.59it/s]\u001b[A\n",
            "  4%|▍         | 1337/30000 [01:33<30:18, 15.76it/s]\u001b[A\n",
            "  4%|▍         | 1339/30000 [01:33<30:20, 15.74it/s]\u001b[A\n",
            "  4%|▍         | 1341/30000 [01:33<30:13, 15.80it/s]\u001b[A\n",
            "  4%|▍         | 1343/30000 [01:33<31:02, 15.39it/s]\u001b[A\n",
            "  4%|▍         | 1345/30000 [01:33<31:03, 15.38it/s]\u001b[A\n",
            "  4%|▍         | 1347/30000 [01:33<31:08, 15.33it/s]\u001b[A\n",
            "  4%|▍         | 1349/30000 [01:33<30:34, 15.62it/s]\u001b[A\n",
            "  5%|▍         | 1351/30000 [01:33<30:28, 15.66it/s]\u001b[A\n",
            "  5%|▍         | 1353/30000 [01:34<30:15, 15.78it/s]\u001b[A\n",
            "  5%|▍         | 1355/30000 [01:34<31:05, 15.35it/s]\u001b[A\n",
            "  5%|▍         | 1357/30000 [01:34<30:48, 15.49it/s]\u001b[A\n",
            "  5%|▍         | 1359/30000 [01:34<30:28, 15.66it/s]\u001b[A\n",
            "  5%|▍         | 1361/30000 [01:34<30:05, 15.86it/s]\u001b[A\n",
            "  5%|▍         | 1363/30000 [01:34<31:06, 15.34it/s]\u001b[A\n",
            "  5%|▍         | 1365/30000 [01:34<30:54, 15.44it/s]\u001b[A\n",
            "  5%|▍         | 1367/30000 [01:34<31:18, 15.24it/s]\u001b[A\n",
            "  5%|▍         | 1369/30000 [01:35<30:47, 15.50it/s]\u001b[A\n",
            "  5%|▍         | 1371/30000 [01:35<30:26, 15.67it/s]\u001b[A\n",
            "  5%|▍         | 1373/30000 [01:35<30:35, 15.59it/s]\u001b[A\n",
            "  5%|▍         | 1375/30000 [01:35<30:18, 15.74it/s]\u001b[A\n",
            "  5%|▍         | 1377/30000 [01:35<30:00, 15.90it/s]\u001b[A\n",
            "  5%|▍         | 1379/30000 [01:35<30:27, 15.66it/s]\u001b[A\n",
            "  5%|▍         | 1381/30000 [01:35<30:45, 15.50it/s]\u001b[A\n",
            "  5%|▍         | 1383/30000 [01:35<30:43, 15.52it/s]\u001b[A\n",
            "  5%|▍         | 1385/30000 [01:36<30:19, 15.73it/s]\u001b[A\n",
            "  5%|▍         | 1387/30000 [01:36<30:15, 15.76it/s]\u001b[A\n",
            "  5%|▍         | 1389/30000 [01:36<30:27, 15.66it/s]\u001b[A\n",
            "  5%|▍         | 1391/30000 [01:36<30:04, 15.86it/s]\u001b[A\n",
            "  5%|▍         | 1393/30000 [01:36<30:34, 15.60it/s]\u001b[A\n",
            "  5%|▍         | 1395/30000 [01:36<30:57, 15.40it/s]\u001b[A\n",
            "  5%|▍         | 1397/30000 [01:36<30:53, 15.43it/s]\u001b[A\n",
            "  5%|▍         | 1399/30000 [01:37<31:25, 15.17it/s]\u001b[A\n",
            "  5%|▍         | 1401/30000 [01:37<30:48, 15.47it/s]\u001b[A\n",
            "  5%|▍         | 1403/30000 [01:37<30:12, 15.78it/s]\u001b[A\n",
            "  5%|▍         | 1405/30000 [01:37<29:53, 15.94it/s]\u001b[A\n",
            "  5%|▍         | 1407/30000 [01:37<29:38, 16.08it/s]\u001b[A\n",
            "  5%|▍         | 1409/30000 [01:37<29:30, 16.14it/s]\u001b[A\n",
            "  5%|▍         | 1411/30000 [01:37<30:08, 15.81it/s]\u001b[A\n",
            "  5%|▍         | 1413/30000 [01:37<30:41, 15.53it/s]\u001b[A\n",
            "  5%|▍         | 1415/30000 [01:38<30:05, 15.83it/s]\u001b[A\n",
            "  5%|▍         | 1417/30000 [01:38<29:54, 15.93it/s]\u001b[A\n",
            "  5%|▍         | 1419/30000 [01:38<30:07, 15.81it/s]\u001b[A\n",
            "  5%|▍         | 1421/30000 [01:38<29:52, 15.94it/s]\u001b[A\n",
            "  5%|▍         | 1423/30000 [01:38<30:04, 15.84it/s]\u001b[A\n",
            "  5%|▍         | 1425/30000 [01:38<30:08, 15.80it/s]\u001b[A\n",
            "  5%|▍         | 1427/30000 [01:38<30:39, 15.53it/s]\u001b[A\n",
            "  5%|▍         | 1429/30000 [01:38<31:19, 15.20it/s]\u001b[A\n",
            "  5%|▍         | 1431/30000 [01:39<31:22, 15.17it/s]\u001b[A\n",
            "  5%|▍         | 1433/30000 [01:39<30:38, 15.54it/s]\u001b[A\n",
            "  5%|▍         | 1435/30000 [01:39<30:16, 15.73it/s]\u001b[A\n",
            "  5%|▍         | 1437/30000 [01:39<30:07, 15.80it/s]\u001b[A\n",
            "  5%|▍         | 1439/30000 [01:39<30:42, 15.50it/s]\u001b[A\n",
            "  5%|▍         | 1441/30000 [01:39<30:54, 15.40it/s]\u001b[A\n",
            "  5%|▍         | 1443/30000 [01:39<31:25, 15.14it/s]\u001b[A\n",
            "  5%|▍         | 1445/30000 [01:39<31:00, 15.35it/s]\u001b[A\n",
            "  5%|▍         | 1447/30000 [01:40<31:07, 15.29it/s]\u001b[A\n",
            "  5%|▍         | 1449/30000 [01:40<31:29, 15.11it/s]\u001b[A\n",
            "  5%|▍         | 1451/30000 [01:40<31:00, 15.35it/s]\u001b[A\n",
            "  5%|▍         | 1453/30000 [01:40<30:35, 15.55it/s]\u001b[A\n",
            "  5%|▍         | 1455/30000 [01:40<30:12, 15.75it/s]\u001b[A\n",
            "  5%|▍         | 1457/30000 [01:40<30:14, 15.73it/s]\u001b[A\n",
            "  5%|▍         | 1459/30000 [01:40<30:52, 15.41it/s]\u001b[A\n",
            "  5%|▍         | 1461/30000 [01:40<30:48, 15.44it/s]\u001b[A\n",
            "  5%|▍         | 1463/30000 [01:41<30:21, 15.67it/s]\u001b[A\n",
            "  5%|▍         | 1465/30000 [01:41<30:04, 15.82it/s]\u001b[A\n",
            "  5%|▍         | 1467/30000 [01:41<29:45, 15.98it/s]\u001b[A\n",
            "  5%|▍         | 1469/30000 [01:41<29:48, 15.95it/s]\u001b[A"
          ],
          "name": "stderr"
        },
        {
          "output_type": "error",
          "ename": "KeyboardInterrupt",
          "evalue": "ignored",
          "traceback": [
            "\u001b[0;31m---------------------------------------------------------------------------\u001b[0m",
            "\u001b[0;31mKeyboardInterrupt\u001b[0m                         Traceback (most recent call last)",
            "\u001b[0;32m<ipython-input-67-d48f07ff834e>\u001b[0m in \u001b[0;36m<module>\u001b[0;34m()\u001b[0m\n\u001b[1;32m      2\u001b[0m \u001b[0;34m\u001b[0m\u001b[0m\n\u001b[1;32m      3\u001b[0m     \u001b[0;31m# play\u001b[0m\u001b[0;34m\u001b[0m\u001b[0;34m\u001b[0m\u001b[0;34m\u001b[0m\u001b[0m\n\u001b[0;32m----> 4\u001b[0;31m     \u001b[0mplay_and_record\u001b[0m\u001b[0;34m(\u001b[0m\u001b[0magent\u001b[0m\u001b[0;34m,\u001b[0m \u001b[0menv\u001b[0m\u001b[0;34m,\u001b[0m \u001b[0mexp_replay\u001b[0m\u001b[0;34m,\u001b[0m \u001b[0;36m10\u001b[0m\u001b[0;34m)\u001b[0m\u001b[0;34m\u001b[0m\u001b[0;34m\u001b[0m\u001b[0m\n\u001b[0m\u001b[1;32m      5\u001b[0m \u001b[0;34m\u001b[0m\u001b[0m\n\u001b[1;32m      6\u001b[0m     \u001b[0;31m# train\u001b[0m\u001b[0;34m\u001b[0m\u001b[0;34m\u001b[0m\u001b[0;34m\u001b[0m\u001b[0m\n",
            "\u001b[0;32m<ipython-input-16-5643776f5142>\u001b[0m in \u001b[0;36mplay_and_record\u001b[0;34m(agent, env, exp_replay, n_steps)\u001b[0m\n\u001b[1;32m     18\u001b[0m         \u001b[0mqvalues\u001b[0m \u001b[0;34m=\u001b[0m \u001b[0magent\u001b[0m\u001b[0;34m.\u001b[0m\u001b[0mget_qvalues\u001b[0m\u001b[0;34m(\u001b[0m\u001b[0mnp\u001b[0m\u001b[0;34m.\u001b[0m\u001b[0marray\u001b[0m\u001b[0;34m(\u001b[0m\u001b[0;34m[\u001b[0m\u001b[0ms\u001b[0m\u001b[0;34m]\u001b[0m\u001b[0;34m)\u001b[0m\u001b[0;34m)\u001b[0m\u001b[0;34m\u001b[0m\u001b[0;34m\u001b[0m\u001b[0m\n\u001b[1;32m     19\u001b[0m         \u001b[0maction\u001b[0m \u001b[0;34m=\u001b[0m \u001b[0magent\u001b[0m\u001b[0;34m.\u001b[0m\u001b[0msample_actions\u001b[0m\u001b[0;34m(\u001b[0m\u001b[0mqvalues\u001b[0m\u001b[0;34m)\u001b[0m\u001b[0;34m[\u001b[0m\u001b[0;36m0\u001b[0m\u001b[0;34m]\u001b[0m\u001b[0;34m\u001b[0m\u001b[0;34m\u001b[0m\u001b[0m\n\u001b[0;32m---> 20\u001b[0;31m         \u001b[0ms_next\u001b[0m\u001b[0;34m,\u001b[0m \u001b[0mr\u001b[0m\u001b[0;34m,\u001b[0m \u001b[0mdone\u001b[0m\u001b[0;34m,\u001b[0m \u001b[0m_\u001b[0m \u001b[0;34m=\u001b[0m \u001b[0menv\u001b[0m\u001b[0;34m.\u001b[0m\u001b[0mstep\u001b[0m\u001b[0;34m(\u001b[0m\u001b[0maction\u001b[0m\u001b[0;34m)\u001b[0m\u001b[0;34m\u001b[0m\u001b[0;34m\u001b[0m\u001b[0m\n\u001b[0m\u001b[1;32m     21\u001b[0m         \u001b[0mexp_replay\u001b[0m\u001b[0;34m.\u001b[0m\u001b[0madd\u001b[0m\u001b[0;34m(\u001b[0m\u001b[0ms\u001b[0m\u001b[0;34m,\u001b[0m \u001b[0maction\u001b[0m\u001b[0;34m,\u001b[0m \u001b[0mr\u001b[0m\u001b[0;34m,\u001b[0m \u001b[0ms_next\u001b[0m\u001b[0;34m,\u001b[0m \u001b[0mdone\u001b[0m\u001b[0;34m)\u001b[0m\u001b[0;34m\u001b[0m\u001b[0;34m\u001b[0m\u001b[0m\n\u001b[1;32m     22\u001b[0m         \u001b[0;32mif\u001b[0m \u001b[0mdone\u001b[0m\u001b[0;34m:\u001b[0m\u001b[0;34m\u001b[0m\u001b[0;34m\u001b[0m\u001b[0m\n",
            "\u001b[0;32m<ipython-input-5-0e1437131771>\u001b[0m in \u001b[0;36mstep\u001b[0;34m(self, action)\u001b[0m\n\u001b[1;32m     31\u001b[0m     \u001b[0;32mdef\u001b[0m \u001b[0mstep\u001b[0m\u001b[0;34m(\u001b[0m\u001b[0mself\u001b[0m\u001b[0;34m,\u001b[0m \u001b[0maction\u001b[0m\u001b[0;34m)\u001b[0m\u001b[0;34m:\u001b[0m\u001b[0;34m\u001b[0m\u001b[0;34m\u001b[0m\u001b[0m\n\u001b[1;32m     32\u001b[0m         \u001b[0;34m\"\"\"plays breakout for 1 step, returns frame buffer\"\"\"\u001b[0m\u001b[0;34m\u001b[0m\u001b[0;34m\u001b[0m\u001b[0m\n\u001b[0;32m---> 33\u001b[0;31m         \u001b[0mnew_img\u001b[0m\u001b[0;34m,\u001b[0m \u001b[0mreward\u001b[0m\u001b[0;34m,\u001b[0m \u001b[0mdone\u001b[0m\u001b[0;34m,\u001b[0m \u001b[0minfo\u001b[0m \u001b[0;34m=\u001b[0m \u001b[0mself\u001b[0m\u001b[0;34m.\u001b[0m\u001b[0menv\u001b[0m\u001b[0;34m.\u001b[0m\u001b[0mstep\u001b[0m\u001b[0;34m(\u001b[0m\u001b[0maction\u001b[0m\u001b[0;34m)\u001b[0m\u001b[0;34m\u001b[0m\u001b[0;34m\u001b[0m\u001b[0m\n\u001b[0m\u001b[1;32m     34\u001b[0m         \u001b[0;31m#print(\"frame\")\u001b[0m\u001b[0;34m\u001b[0m\u001b[0;34m\u001b[0m\u001b[0;34m\u001b[0m\u001b[0m\n\u001b[1;32m     35\u001b[0m         \u001b[0;31m#plt.imshow(new_img.reshape(64,64),cmap=\"gray\")\u001b[0m\u001b[0;34m\u001b[0m\u001b[0;34m\u001b[0m\u001b[0;34m\u001b[0m\u001b[0m\n",
            "\u001b[0;32m/usr/local/lib/python3.6/dist-packages/gym/core.py\u001b[0m in \u001b[0;36mstep\u001b[0;34m(self, action)\u001b[0m\n\u001b[1;32m    304\u001b[0m     \u001b[0;32mdef\u001b[0m \u001b[0mstep\u001b[0m\u001b[0;34m(\u001b[0m\u001b[0mself\u001b[0m\u001b[0;34m,\u001b[0m \u001b[0maction\u001b[0m\u001b[0;34m)\u001b[0m\u001b[0;34m:\u001b[0m\u001b[0;34m\u001b[0m\u001b[0;34m\u001b[0m\u001b[0m\n\u001b[1;32m    305\u001b[0m         \u001b[0mobservation\u001b[0m\u001b[0;34m,\u001b[0m \u001b[0mreward\u001b[0m\u001b[0;34m,\u001b[0m \u001b[0mdone\u001b[0m\u001b[0;34m,\u001b[0m \u001b[0minfo\u001b[0m \u001b[0;34m=\u001b[0m \u001b[0mself\u001b[0m\u001b[0;34m.\u001b[0m\u001b[0menv\u001b[0m\u001b[0;34m.\u001b[0m\u001b[0mstep\u001b[0m\u001b[0;34m(\u001b[0m\u001b[0maction\u001b[0m\u001b[0;34m)\u001b[0m\u001b[0;34m\u001b[0m\u001b[0;34m\u001b[0m\u001b[0m\n\u001b[0;32m--> 306\u001b[0;31m         \u001b[0;32mreturn\u001b[0m \u001b[0mself\u001b[0m\u001b[0;34m.\u001b[0m\u001b[0mobservation\u001b[0m\u001b[0;34m(\u001b[0m\u001b[0mobservation\u001b[0m\u001b[0;34m)\u001b[0m\u001b[0;34m,\u001b[0m \u001b[0mreward\u001b[0m\u001b[0;34m,\u001b[0m \u001b[0mdone\u001b[0m\u001b[0;34m,\u001b[0m \u001b[0minfo\u001b[0m\u001b[0;34m\u001b[0m\u001b[0;34m\u001b[0m\u001b[0m\n\u001b[0m\u001b[1;32m    307\u001b[0m \u001b[0;34m\u001b[0m\u001b[0m\n\u001b[1;32m    308\u001b[0m     \u001b[0;32mdef\u001b[0m \u001b[0mreset\u001b[0m\u001b[0;34m(\u001b[0m\u001b[0mself\u001b[0m\u001b[0;34m,\u001b[0m \u001b[0;34m**\u001b[0m\u001b[0mkwargs\u001b[0m\u001b[0;34m)\u001b[0m\u001b[0;34m:\u001b[0m\u001b[0;34m\u001b[0m\u001b[0;34m\u001b[0m\u001b[0m\n",
            "\u001b[0;32m<ipython-input-2-ecb1b11823e9>\u001b[0m in \u001b[0;36mobservation\u001b[0;34m(self, img)\u001b[0m\n\u001b[1;32m     30\u001b[0m         \u001b[0;31m# resize\u001b[0m\u001b[0;34m\u001b[0m\u001b[0;34m\u001b[0m\u001b[0;34m\u001b[0m\u001b[0m\n\u001b[1;32m     31\u001b[0m         \u001b[0mimg\u001b[0m \u001b[0;34m=\u001b[0m \u001b[0mImage\u001b[0m\u001b[0;34m.\u001b[0m\u001b[0mfromarray\u001b[0m\u001b[0;34m(\u001b[0m\u001b[0mimg\u001b[0m\u001b[0;34m.\u001b[0m\u001b[0mastype\u001b[0m\u001b[0;34m(\u001b[0m\u001b[0mnp\u001b[0m\u001b[0;34m.\u001b[0m\u001b[0muint8\u001b[0m\u001b[0;34m)\u001b[0m\u001b[0;34m)\u001b[0m\u001b[0;34m\u001b[0m\u001b[0;34m\u001b[0m\u001b[0m\n\u001b[0;32m---> 32\u001b[0;31m         \u001b[0mimg\u001b[0m \u001b[0;34m=\u001b[0m \u001b[0mimg\u001b[0m\u001b[0;34m.\u001b[0m\u001b[0mresize\u001b[0m\u001b[0;34m(\u001b[0m\u001b[0;34m(\u001b[0m\u001b[0mself\u001b[0m\u001b[0;34m.\u001b[0m\u001b[0mimg_size\u001b[0m\u001b[0;34m[\u001b[0m\u001b[0;36m0\u001b[0m\u001b[0;34m]\u001b[0m\u001b[0;34m,\u001b[0m \u001b[0mself\u001b[0m\u001b[0;34m.\u001b[0m\u001b[0mimg_size\u001b[0m\u001b[0;34m[\u001b[0m\u001b[0;36m1\u001b[0m\u001b[0;34m]\u001b[0m\u001b[0;34m)\u001b[0m\u001b[0;34m,\u001b[0m\u001b[0mImage\u001b[0m\u001b[0;34m.\u001b[0m\u001b[0mANTIALIAS\u001b[0m\u001b[0;34m)\u001b[0m\u001b[0;34m\u001b[0m\u001b[0;34m\u001b[0m\u001b[0m\n\u001b[0m\u001b[1;32m     33\u001b[0m         \u001b[0;31m#print(\"process\")\u001b[0m\u001b[0;34m\u001b[0m\u001b[0;34m\u001b[0m\u001b[0;34m\u001b[0m\u001b[0m\n\u001b[1;32m     34\u001b[0m         \u001b[0;31m#plt.imshow(img,cmap=\"gray\")\u001b[0m\u001b[0;34m\u001b[0m\u001b[0;34m\u001b[0m\u001b[0;34m\u001b[0m\u001b[0m\n",
            "\u001b[0;32m/usr/local/lib/python3.6/dist-packages/PIL/Image.py\u001b[0m in \u001b[0;36mresize\u001b[0;34m(self, size, resample, box)\u001b[0m\n\u001b[1;32m   1743\u001b[0m         \u001b[0mself\u001b[0m\u001b[0;34m.\u001b[0m\u001b[0mload\u001b[0m\u001b[0;34m(\u001b[0m\u001b[0;34m)\u001b[0m\u001b[0;34m\u001b[0m\u001b[0;34m\u001b[0m\u001b[0m\n\u001b[1;32m   1744\u001b[0m \u001b[0;34m\u001b[0m\u001b[0m\n\u001b[0;32m-> 1745\u001b[0;31m         \u001b[0;32mreturn\u001b[0m \u001b[0mself\u001b[0m\u001b[0;34m.\u001b[0m\u001b[0m_new\u001b[0m\u001b[0;34m(\u001b[0m\u001b[0mself\u001b[0m\u001b[0;34m.\u001b[0m\u001b[0mim\u001b[0m\u001b[0;34m.\u001b[0m\u001b[0mresize\u001b[0m\u001b[0;34m(\u001b[0m\u001b[0msize\u001b[0m\u001b[0;34m,\u001b[0m \u001b[0mresample\u001b[0m\u001b[0;34m,\u001b[0m \u001b[0mbox\u001b[0m\u001b[0;34m)\u001b[0m\u001b[0;34m)\u001b[0m\u001b[0;34m\u001b[0m\u001b[0;34m\u001b[0m\u001b[0m\n\u001b[0m\u001b[1;32m   1746\u001b[0m \u001b[0;34m\u001b[0m\u001b[0m\n\u001b[1;32m   1747\u001b[0m     def rotate(self, angle, resample=NEAREST, expand=0, center=None,\n",
            "\u001b[0;31mKeyboardInterrupt\u001b[0m: "
          ]
        }
      ]
    },
    {
      "cell_type": "code",
      "metadata": {
        "id": "p6zwH_Ff6li5",
        "colab_type": "code",
        "colab": {}
      },
      "source": [
        ""
      ],
      "execution_count": 0,
      "outputs": []
    },
    {
      "cell_type": "code",
      "metadata": {
        "id": "VzgdnAC_ojfx",
        "colab_type": "code",
        "outputId": "427d0093-0aa4-46b3-8eff-1696bfb8f735",
        "colab": {
          "base_uri": "https://localhost:8080/",
          "height": 34
        }
      },
      "source": [
        "assert np.mean(mean_rw_history[-10:]) > 10.\n",
        "print(\"That's good enough for tutorial.\")"
      ],
      "execution_count": 0,
      "outputs": [
        {
          "output_type": "stream",
          "text": [
            "That's good enough for tutorial.\n"
          ],
          "name": "stdout"
        }
      ]
    },
    {
      "cell_type": "code",
      "metadata": {
        "id": "NjO4f83_6fs3",
        "colab_type": "code",
        "colab": {}
      },
      "source": [
        ""
      ],
      "execution_count": 0,
      "outputs": []
    },
    {
      "cell_type": "code",
      "metadata": {
        "id": "zFXv1_VhokSb",
        "colab_type": "code",
        "outputId": "45b94024-324d-47f1-92ee-a09b057da87f",
        "colab": {
          "base_uri": "https://localhost:8080/",
          "height": 34
        }
      },
      "source": [
        "np.mean(mean_rw_history[-10:])"
      ],
      "execution_count": 0,
      "outputs": [
        {
          "output_type": "execute_result",
          "data": {
            "text/plain": [
              "10.166666666666666"
            ]
          },
          "metadata": {
            "tags": []
          },
          "execution_count": 36
        }
      ]
    },
    {
      "cell_type": "markdown",
      "metadata": {
        "id": "3LEiWzdcq-n4",
        "colab_type": "text"
      },
      "source": [
        "## 查看视频"
      ]
    },
    {
      "cell_type": "code",
      "metadata": {
        "id": "kUWDNsOvb8ge",
        "colab_type": "code",
        "outputId": "3b5f7cdb-10f1-4d6b-b1f1-8edc5fcf4645",
        "colab": {
          "base_uri": "https://localhost:8080/",
          "height": 1000
        }
      },
      "source": [
        "agent.epsilon = 0.18\n",
        "import gym.wrappers\n",
        "env_monitor = gym.wrappers.Monitor(make_env(), directory=\"videos\", force=True)\n",
        "sessions = [evaluate(env_monitor, agent, n_games=1) for _ in range(100)]\n",
        "env_monitor.close()"
      ],
      "execution_count": 0,
      "outputs": [
        {
          "output_type": "stream",
          "text": [
            "/usr/local/lib/python3.6/dist-packages/gym/logger.py:30: UserWarning: \u001b[33mWARN: gym.spaces.Box autodetected dtype as <class 'numpy.float32'>. Please provide explicit dtype.\u001b[0m\n",
            "  warnings.warn(colorize('%s: %s'%('WARN', msg % args), 'yellow'))\n"
          ],
          "name": "stderr"
        },
        {
          "output_type": "stream",
          "text": [
            "self.observation_space=(64, 64, 1)\n",
            "env.observation_space.shape=(64, 64, 1)\n",
            "env.observation_space.shape=(64, 64, 4)\n",
            "reward=4.0\n",
            "reward=8.0\n",
            "reward=4.0\n",
            "reward=7.0\n",
            "reward=9.0\n",
            "reward=5.0\n",
            "reward=3.0\n",
            "reward=11.0\n",
            "reward=5.0\n",
            "reward=8.0\n",
            "reward=11.0\n",
            "reward=7.0\n",
            "reward=11.0\n",
            "reward=7.0\n",
            "reward=8.0\n",
            "reward=7.0\n",
            "reward=7.0\n",
            "reward=8.0\n",
            "reward=5.0\n",
            "reward=11.0\n",
            "reward=6.0\n",
            "reward=7.0\n",
            "reward=7.0\n",
            "reward=11.0\n",
            "reward=8.0\n",
            "reward=7.0\n",
            "reward=9.0\n",
            "reward=7.0\n",
            "reward=7.0\n",
            "reward=6.0\n",
            "reward=4.0\n",
            "reward=11.0\n",
            "reward=8.0\n",
            "reward=6.0\n",
            "reward=8.0\n",
            "reward=4.0\n",
            "reward=8.0\n",
            "reward=9.0\n",
            "reward=6.0\n",
            "reward=8.0\n",
            "reward=7.0\n",
            "reward=3.0\n",
            "reward=11.0\n",
            "reward=11.0\n",
            "reward=7.0\n",
            "reward=6.0\n",
            "reward=5.0\n",
            "reward=7.0\n",
            "reward=11.0\n",
            "reward=7.0\n",
            "reward=7.0\n",
            "reward=11.0\n",
            "reward=4.0\n",
            "reward=8.0\n",
            "reward=4.0\n",
            "reward=7.0\n",
            "reward=11.0\n",
            "reward=10.0\n",
            "reward=4.0\n",
            "reward=7.0\n",
            "reward=11.0\n",
            "reward=11.0\n",
            "reward=11.0\n",
            "reward=11.0\n",
            "reward=11.0\n",
            "reward=11.0\n",
            "reward=11.0\n",
            "reward=7.0\n",
            "reward=7.0\n",
            "reward=3.0\n",
            "reward=11.0\n",
            "reward=8.0\n",
            "reward=5.0\n",
            "reward=11.0\n",
            "reward=5.0\n",
            "reward=10.0\n",
            "reward=8.0\n",
            "reward=4.0\n",
            "reward=11.0\n",
            "reward=5.0\n",
            "reward=7.0\n",
            "reward=11.0\n",
            "reward=4.0\n",
            "reward=7.0\n",
            "reward=3.0\n",
            "reward=8.0\n",
            "reward=8.0\n",
            "reward=11.0\n",
            "reward=11.0\n",
            "reward=8.0\n",
            "reward=7.0\n",
            "reward=7.0\n",
            "reward=11.0\n",
            "reward=4.0\n",
            "reward=11.0\n",
            "reward=6.0\n",
            "reward=11.0\n",
            "reward=11.0\n",
            "reward=11.0\n",
            "reward=4.0\n"
          ],
          "name": "stdout"
        }
      ]
    },
    {
      "cell_type": "code",
      "metadata": {
        "id": "3ZqkPwfFrI0e",
        "colab_type": "code",
        "outputId": "5795b463-df44-4599-eca9-0fe04ef25098",
        "colab": {
          "base_uri": "https://localhost:8080/",
          "height": 501
        }
      },
      "source": [
        "# show video\n",
        "from IPython.display import HTML\n",
        "import os\n",
        "\n",
        "video_names = list(\n",
        "    filter(lambda s: s.endswith(\".mp4\"), os.listdir(\"./videos/\")))\n",
        "\n",
        "HTML(\"\"\"\n",
        "<video width=\"640\" height=\"480\" controls>\n",
        "  <source src=\"{}\" type=\"video/mp4\">\n",
        "</video>\n",
        "\"\"\".format(\"./videos/\"+video_names[-1]))  # this may or may not be _last_ video. Try other indices"
      ],
      "execution_count": 0,
      "outputs": [
        {
          "output_type": "execute_result",
          "data": {
            "text/html": [
              "\n",
              "<video width=\"640\" height=\"480\" controls>\n",
              "  <source src=\"./videos/openaigym.video.10.122.video000000.mp4\" type=\"video/mp4\">\n",
              "</video>\n"
            ],
            "text/plain": [
              "<IPython.core.display.HTML object>"
            ]
          },
          "metadata": {
            "tags": []
          },
          "execution_count": 63
        }
      ]
    },
    {
      "cell_type": "code",
      "metadata": {
        "id": "XepFn0XcxjPx",
        "colab_type": "code",
        "outputId": "b5833b36-9dcf-46f9-d076-2c472656b97c",
        "colab": {
          "base_uri": "https://localhost:8080/",
          "height": 190
        }
      },
      "source": [
        "evaluate(make_env(), agent, greedy=False, n_games=3)"
      ],
      "execution_count": 0,
      "outputs": [
        {
          "output_type": "stream",
          "text": [
            "/usr/local/lib/python3.6/dist-packages/gym/logger.py:30: UserWarning: \u001b[33mWARN: gym.spaces.Box autodetected dtype as <class 'numpy.float32'>. Please provide explicit dtype.\u001b[0m\n",
            "  warnings.warn(colorize('%s: %s'%('WARN', msg % args), 'yellow'))\n"
          ],
          "name": "stderr"
        },
        {
          "output_type": "stream",
          "text": [
            "self.observation_space=(64, 64, 1)\n",
            "env.observation_space.shape=(64, 64, 1)\n",
            "env.observation_space.shape=(64, 64, 4)\n",
            "reward=9.0\n",
            "reward=11.0\n",
            "reward=11.0\n"
          ],
          "name": "stdout"
        },
        {
          "output_type": "execute_result",
          "data": {
            "text/plain": [
              "10.333333333333334"
            ]
          },
          "metadata": {
            "tags": []
          },
          "execution_count": 61
        }
      ]
    },
    {
      "cell_type": "code",
      "metadata": {
        "id": "o-PEsCuM2tGC",
        "colab_type": "code",
        "colab": {}
      },
      "source": [
        ""
      ],
      "execution_count": 0,
      "outputs": []
    }
  ]
}