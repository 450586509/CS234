{
  "nbformat": 4,
  "nbformat_minor": 0,
  "metadata": {
    "colab": {
      "name": "deep q-network.ipynb",
      "provenance": [],
      "include_colab_link": true
    },
    "kernelspec": {
      "name": "python3",
      "display_name": "Python 3"
    },
    "accelerator": "TPU"
  },
  "cells": [
    {
      "cell_type": "markdown",
      "metadata": {
        "id": "view-in-github",
        "colab_type": "text"
      },
      "source": [
        "<a href=\"https://colab.research.google.com/github/450586509/reinforcement-learning-practice/blob/master/deep_q_network.ipynb\" target=\"_parent\"><img src=\"https://colab.research.google.com/assets/colab-badge.svg\" alt=\"Open In Colab\"/></a>"
      ]
    },
    {
      "cell_type": "markdown",
      "metadata": {
        "id": "XgfYtKBKycFp",
        "colab_type": "text"
      },
      "source": [
        "### Deep Q-Network implementation\n",
        "包括三个组成部分：\n",
        "\n",
        "- approximate q-learning\n",
        "- experience replay\n",
        "- target networks "
      ]
    },
    {
      "cell_type": "code",
      "metadata": {
        "id": "JtCHMKLgyIQ1",
        "colab_type": "code",
        "colab": {
          "base_uri": "https://localhost:8080/",
          "height": 34
        },
        "outputId": "7ccbde1c-7059-4c52-aa50-24ad166676b2"
      },
      "source": [
        "import os\n",
        "os.system('apt-get install -y xvfb')\n",
        "os.system('apt-get install graphviz')\n",
        "os.system('pip install pydot pydot-ng')\n",
        "os.system('wget https://raw.githubusercontent.com/yandexdataschool/Practical_DL/fall18/xvfb -O ../xvfb')\n",
        "os.system('apt-get install -y python-opengl ffmpeg')\n",
        "os.system('pip install pyglet==1.2.4')\n",
        "\n",
        "\n",
        "\n",
        "if type(os.environ.get(\"DISPLAY\")) is not str or len(os.environ.get(\"DISPLAY\")) == 0:\n",
        "    !bash ../xvfb start\n",
        "    os.environ['DISPLAY'] = ':1'"
      ],
      "execution_count": 1,
      "outputs": [
        {
          "output_type": "stream",
          "text": [
            "Starting virtual X frame buffer: Xvfb.\n"
          ],
          "name": "stdout"
        }
      ]
    },
    {
      "cell_type": "markdown",
      "metadata": {
        "id": "WuyF1ZSCzcuO",
        "colab_type": "text"
      },
      "source": [
        "### 目标: 训练一个玩atari的agent\n",
        "游戏数据信息：\n",
        "- atari 游戏画面图像默认大小是210x160x3\n",
        "\n",
        "为了节省时间，可以对图像进行resize操作，变成64x64的黑白图像。并且去除顶部和底部无用的图像区域。"
      ]
    },
    {
      "cell_type": "code",
      "metadata": {
        "id": "iVxjCaa5y4VO",
        "colab_type": "code",
        "colab": {}
      },
      "source": [
        "from gym.core import ObservationWrapper\n",
        "from gym.spaces import Box\n",
        "from PIL import Image\n",
        "import numpy as np\n",
        "import matplotlib.pyplot as plt\n",
        "\n",
        "\n",
        "class PreprocessAtari(ObservationWrapper):\n",
        "    def __init__(self, env):\n",
        "        \"\"\"A gym wrapper that crops, scales image into the desired shapes and optionally grayscales it.\"\"\"\n",
        "        ObservationWrapper.__init__(self, env)\n",
        "\n",
        "        self.img_size = (64, 64)\n",
        "        self.observation_space = Box(0.0, 1.0, (*self.img_size,1))\n",
        "        print(\"self.observation_space={0}\".format(self.observation_space.shape))\n",
        "\n",
        "    def observation(self, img):\n",
        "        \"\"\"what happens to each observation\"\"\"\n",
        "\n",
        "        # Here's what you need to do:\n",
        "        #  * crop image, remove irrelevant parts\n",
        "        #  * resize image to self.img_size\n",
        "        #     (use imresize imported above or any library you want,\n",
        "        #      e.g. opencv, skimage, PIL, keras)\n",
        "        #  * cast image to grayscale\n",
        "        #  * convert image pixels to (0,1) range, float32 type\n",
        "\n",
        "        # crop image\n",
        "        img=img[20:,:,:]\n",
        "        # resize\n",
        "        img = Image.fromarray(img.astype(np.uint8))\n",
        "        img = img.resize((self.img_size[0], self.img_size[1]),Image.ANTIALIAS)\n",
        "        #print(\"process\")\n",
        "        #plt.imshow(img,cmap=\"gray\")\n",
        "        #plt.show()\n",
        "        # 灰度\n",
        "        img = img.convert('L')\n",
        "\n",
        "        #归一化：\n",
        "        imgdata=np.array(img.getdata(),dtype='float32')\n",
        "        mean_val = np.min(imgdata)\n",
        "        max_val = np.max(imgdata)\n",
        "        imgdata = (imgdata-mean_val)/max_val\n",
        "        imgdata = imgdata.reshape((*self.img_size,1))\n",
        "        #print(\"imgdata[0,:]\".format(imgdata[0,:]))\n",
        "        #print(\"imgdata shape={0}\".format(imgdata.shape))\n",
        "        return imgdata"
      ],
      "execution_count": 0,
      "outputs": []
    },
    {
      "cell_type": "code",
      "metadata": {
        "id": "oRCoWn7g1c5-",
        "colab_type": "code",
        "outputId": "d4ec90e0-e36b-46c6-c1d7-0a2cc84c1685",
        "colab": {
          "base_uri": "https://localhost:8080/",
          "height": 102
        }
      },
      "source": [
        "import gym\n",
        "env = gym.make(\"BreakoutDeterministic-v4\")\n",
        "observation_shape = env.observation_space.shape\n",
        "print(\"observation_shape={0}\".format(observation_shape))\n",
        "env = PreprocessAtari(env)\n",
        "observation_shape = env.observation_space.shape\n",
        "print(\"observation_shape={0}\".format(observation_shape))\n",
        "n_actions = env.action_space.n\n",
        "obs = env.reset()\n"
      ],
      "execution_count": 3,
      "outputs": [
        {
          "output_type": "stream",
          "text": [
            "observation_shape=(210, 160, 3)\n",
            "self.observation_space=(64, 64, 1)\n",
            "observation_shape=(64, 64, 1)\n"
          ],
          "name": "stdout"
        },
        {
          "output_type": "stream",
          "text": [
            "/usr/local/lib/python3.6/dist-packages/gym/logger.py:30: UserWarning: \u001b[33mWARN: gym.spaces.Box autodetected dtype as <class 'numpy.float32'>. Please provide explicit dtype.\u001b[0m\n",
            "  warnings.warn(colorize('%s: %s'%('WARN', msg % args), 'yellow'))\n"
          ],
          "name": "stderr"
        }
      ]
    },
    {
      "cell_type": "code",
      "metadata": {
        "id": "z3TCHMs81rRg",
        "colab_type": "code",
        "outputId": "b21234d3-5934-4beb-82ef-6a44487e180f",
        "colab": {
          "base_uri": "https://localhost:8080/",
          "height": 366
        }
      },
      "source": [
        "assert obs.ndim == 3, \"observation must be [batch, time, channels] even if there's just one channel\"\n",
        "print(obs.shape)\n",
        "print(observation_shape)\n",
        "#assert obs.shape == observation_shape\n",
        "print(obs.dtype)\n",
        "assert obs.dtype == 'float32'\n",
        "assert len(np.unique(obs)) > 2, \"your image must not be binary\"\n",
        "#assert 0 <= np.min(obs) and np.max(\n",
        "#    obs) <= 1, \"convert image pixels to (0,1) range\"\n",
        "print (\"Formal tests seem fine. Here's an example of what you'll get.\")\n",
        "\n",
        "plt.title(\"what your network gonna see\")\n",
        "plt.imshow(obs.reshape([64,64]), interpolation='none', cmap='gray')\n"
      ],
      "execution_count": 4,
      "outputs": [
        {
          "output_type": "stream",
          "text": [
            "(64, 64, 1)\n",
            "(64, 64, 1)\n",
            "float32\n",
            "Formal tests seem fine. Here's an example of what you'll get.\n"
          ],
          "name": "stdout"
        },
        {
          "output_type": "execute_result",
          "data": {
            "text/plain": [
              "<matplotlib.image.AxesImage at 0x7f43b9362e80>"
            ]
          },
          "metadata": {
            "tags": []
          },
          "execution_count": 4
        },
        {
          "output_type": "display_data",
          "data": {
            "image/png": "[encoded data removed]",
            "text/plain": [
              "<Figure size 432x288 with 1 Axes>"
            ]
          },
          "metadata": {
            "tags": []
          }
        }
      ]
    },
    {
      "cell_type": "code",
      "metadata": {
        "id": "XG-QSpvRMiH9",
        "colab_type": "code",
        "colab": {}
      },
      "source": [
        ""
      ],
      "execution_count": 0,
      "outputs": []
    },
    {
      "cell_type": "markdown",
      "metadata": {
        "id": "IYa6ASIdToQs",
        "colab_type": "text"
      },
      "source": [
        "### Frame Buffer"
      ]
    },
    {
      "cell_type": "markdown",
      "metadata": {
        "id": "wZgo6YI4Trro",
        "colab_type": "text"
      },
      "source": [
        "单张图片训练时无法反应图片的速度和运动反向。所以这个实验采用连续四张图片进行训练"
      ]
    },
    {
      "cell_type": "code",
      "metadata": {
        "id": "yrOJjvB8Ursl",
        "colab_type": "code",
        "colab": {}
      },
      "source": [
        "import numpy as np\n",
        "from gym.spaces.box import Box\n",
        "from gym.core import Wrapper\n",
        "import gym\n",
        "import matplotlib.pyplot as plt\n",
        "\n",
        "\n",
        "class FrameBuffer(Wrapper):\n",
        "    def __init__(self, env, n_frames=4, dim_order='tensorflow'):\n",
        "        \"\"\"A gym wrapper that reshapes, crops and scales image into the desired shapes\"\"\"\n",
        "        super(FrameBuffer, self).__init__(env)\n",
        "        self.dim_order = dim_order\n",
        "        if dim_order == 'tensorflow':\n",
        "            height, width, n_channels = env.observation_space.shape\n",
        "            obs_shape = [height, width, n_channels * n_frames]\n",
        "        elif dim_order == 'pytorch':\n",
        "            n_channels, height, width = env.observation_space.shape\n",
        "            obs_shape = [n_channels * n_frames, height, width]\n",
        "        else:\n",
        "            raise ValueError(\n",
        "                'dim_order should be \"tensorflow\" or \"pytorch\", got {}'.format(dim_order))\n",
        "        self.observation_space = Box(0.0, 1.0, obs_shape)\n",
        "        self.framebuffer = np.zeros(obs_shape, 'float32')\n",
        "\n",
        "    def reset(self):\n",
        "        \"\"\"resets breakout, returns initial frames\"\"\"\n",
        "        self.framebuffer = np.zeros_like(self.framebuffer)\n",
        "        self.update_buffer(self.env.reset())\n",
        "        return self.framebuffer\n",
        "\n",
        "    def step(self, action):\n",
        "        \"\"\"plays breakout for 1 step, returns frame buffer\"\"\"\n",
        "        new_img, reward, done, info = self.env.step(action)\n",
        "        #print(\"frame\")\n",
        "        #plt.imshow(new_img.reshape(64,64),cmap=\"gray\")\n",
        "        #plt.show()\n",
        "        self.update_buffer(new_img)\n",
        "        return self.framebuffer, reward, done, info\n",
        "\n",
        "    def update_buffer(self, img):\n",
        "        if self.dim_order == 'tensorflow':\n",
        "            offset = self.env.observation_space.shape[-1]\n",
        "            axis = -1\n",
        "            cropped_framebuffer = self.framebuffer[:, :, :-offset]\n",
        "        elif self.dim_order == 'pytorch':\n",
        "            offset = self.env.observation_space.shape[0]\n",
        "            axis = 0\n",
        "            cropped_framebuffer = self.framebuffer[:-offset]\n",
        "        self.framebuffer = np.concatenate(\n",
        "            [img, cropped_framebuffer], axis=axis)\n",
        "        \n",
        "#包括图片预处理和frame buffer功能的env\n",
        "def make_env():\n",
        "    #env = gym.make(\"BreakoutDeterministic-v0\")\n",
        "    env = gym.make(\"BreakoutDeterministic-v4\")\n",
        "    env = PreprocessAtari(env)\n",
        "    print(\"env.observation_space.shape={0}\".format(env.observation_space.shape))\n",
        "    env = FrameBuffer(env, n_frames=4, dim_order='tensorflow')\n",
        "    print(\"env.observation_space.shape={0}\".format(env.observation_space.shape))\n",
        "    return env"
      ],
      "execution_count": 0,
      "outputs": []
    },
    {
      "cell_type": "markdown",
      "metadata": {
        "id": "ixXHA9QOJL_C",
        "colab_type": "text"
      },
      "source": [
        "打印env的相关信息"
      ]
    },
    {
      "cell_type": "code",
      "metadata": {
        "id": "la_vlmXi1i_2",
        "colab_type": "code",
        "outputId": "9bcef77e-fd4e-46b2-d259-cf6a7a03aad1",
        "colab": {
          "base_uri": "https://localhost:8080/",
          "height": 119
        }
      },
      "source": [
        "env = make_env()\n",
        "s0 = env.reset()\n",
        "n_actions = env.action_space.n\n",
        "state_dim = env.observation_space.shape\n",
        "print(state_dim)"
      ],
      "execution_count": 6,
      "outputs": [
        {
          "output_type": "stream",
          "text": [
            "self.observation_space=(64, 64, 1)\n",
            "env.observation_space.shape=(64, 64, 1)\n",
            "env.observation_space.shape=(64, 64, 4)\n",
            "(64, 64, 4)\n"
          ],
          "name": "stdout"
        },
        {
          "output_type": "stream",
          "text": [
            "/usr/local/lib/python3.6/dist-packages/gym/logger.py:30: UserWarning: \u001b[33mWARN: gym.spaces.Box autodetected dtype as <class 'numpy.float32'>. Please provide explicit dtype.\u001b[0m\n",
            "  warnings.warn(colorize('%s: %s'%('WARN', msg % args), 'yellow'))\n"
          ],
          "name": "stderr"
        }
      ]
    },
    {
      "cell_type": "markdown",
      "metadata": {
        "id": "aXfJZMIE71xM",
        "colab_type": "text"
      },
      "source": [
        "### 查看动作的含义\n",
        "- 0: 没有动作\n",
        "- 1: 小球动\n",
        "- 2: 挡板向右移动\n",
        "- 3: 挡板向左移动"
      ]
    },
    {
      "cell_type": "code",
      "metadata": {
        "id": "xcoldfF-m3LU",
        "colab_type": "code",
        "outputId": "924982d2-ec65-46b1-e0b4-b34239f77987",
        "colab": {
          "base_uri": "https://localhost:8080/",
          "height": 1000
        }
      },
      "source": [
        "\n",
        "import numpy as np\n",
        "import time\n",
        "env = make_env()\n",
        "s = env.reset()\n",
        "result = set()\n",
        "print(list(range(n_actions)))\n",
        "for i in range(1,10):\n",
        "  print(\"------------------------------------------\")\n",
        "  a = np.random.choice(list(range(n_actions)))\n",
        "  a = 1\n",
        "  s,r,done,_ = env.step(a)\n",
        "  print(\"render\")\n",
        "  plt.imshow(env.render(\"rgb_array\"))\n",
        "  plt.show()\n",
        "  \n",
        "  if i % 1 == 0:\n",
        "    print(\"action={0}\".format(a))\n",
        "    #plt.imshow(s)\n",
        "    #plt.show()\n",
        "    plt.title(\"Agent observation (4 frames left to right)\")\n",
        "    \n",
        "    images = s.transpose([0, 2, 1]).reshape([state_dim[0],-1])\n",
        "    plt.imshow(images)\n",
        "    plt.show()\n",
        "    #for i in range(1):\n",
        "    #  img = s[:,:,i].reshape(64,64)\n",
        "    #  plt.imshow(img,cmap='gray')\n",
        "    #  plt.show()\n",
        "    #time.sleep(2)\n",
        "  \n",
        "  result.add(done)\n",
        "  if done:\n",
        "    print(\"======================\\n\\n========================\")\n",
        "    print(\"done,i={0}\".format(i))\n",
        "    break\n",
        "print(result)"
      ],
      "execution_count": 7,
      "outputs": [
        {
          "output_type": "stream",
          "text": [
            "/usr/local/lib/python3.6/dist-packages/gym/logger.py:30: UserWarning: \u001b[33mWARN: gym.spaces.Box autodetected dtype as <class 'numpy.float32'>. Please provide explicit dtype.\u001b[0m\n",
            "  warnings.warn(colorize('%s: %s'%('WARN', msg % args), 'yellow'))\n"
          ],
          "name": "stderr"
        },
        {
          "output_type": "stream",
          "text": [
            "self.observation_space=(64, 64, 1)\n",
            "env.observation_space.shape=(64, 64, 1)\n",
            "env.observation_space.shape=(64, 64, 4)\n",
            "[0, 1, 2, 3]\n",
            "------------------------------------------\n",
            "render\n"
          ],
          "name": "stdout"
        },
        {
          "output_type": "display_data",
          "data": {
            "image/png": "[encoded data removed]",
            "text/plain": [
              "<Figure size 432x288 with 1 Axes>"
            ]
          },
          "metadata": {
            "tags": []
          }
        },
        {
          "output_type": "stream",
          "text": [
            "action=1\n"
          ],
          "name": "stdout"
        },
        {
          "output_type": "display_data",
          "data": {
            "image/png": "[encoded data removed]",
            "text/plain": [
              "<Figure size 432x288 with 1 Axes>"
            ]
          },
          "metadata": {
            "tags": []
          }
        },
        {
          "output_type": "stream",
          "text": [
            "------------------------------------------\n",
            "render\n"
          ],
          "name": "stdout"
        },
        {
          "output_type": "display_data",
          "data": {
            "image/png": "[encoded data removed]",
            "text/plain": [
              "<Figure size 432x288 with 1 Axes>"
            ]
          },
          "metadata": {
            "tags": []
          }
        },
        {
          "output_type": "stream",
          "text": [
            "action=1\n"
          ],
          "name": "stdout"
        },
        {
          "output_type": "display_data",
          "data": {
            "image/png": "[encoded data removed]",
            "text/plain": [
              "<Figure size 432x288 with 1 Axes>"
            ]
          },
          "metadata": {
            "tags": []
          }
        },
        {
          "output_type": "stream",
          "text": [
            "------------------------------------------\n",
            "render\n"
          ],
          "name": "stdout"
        },
        {
          "output_type": "display_data",
          "data": {
            "image/png": "[encoded data removed]",
            "text/plain": [
              "<Figure size 432x288 with 1 Axes>"
            ]
          },
          "metadata": {
            "tags": []
          }
        },
        {
          "output_type": "stream",
          "text": [
            "action=1\n"
          ],
          "name": "stdout"
        },
        {
          "output_type": "display_data",
          "data": {
            "image/png": "[encoded data removed]",
            "text/plain": [
              "<Figure size 432x288 with 1 Axes>"
            ]
          },
          "metadata": {
            "tags": []
          }
        },
        {
          "output_type": "stream",
          "text": [
            "------------------------------------------\n",
            "render\n"
          ],
          "name": "stdout"
        },
        {
          "output_type": "display_data",
          "data": {
            "image/png": "[encoded data removed]",
            "text/plain": [
              "<Figure size 432x288 with 1 Axes>"
            ]
          },
          "metadata": {
            "tags": []
          }
        },
        {
          "output_type": "stream",
          "text": [
            "action=1\n"
          ],
          "name": "stdout"
        },
        {
          "output_type": "display_data",
          "data": {
            "image/png": "[encoded data removed]",
            "text/plain": [
              "<Figure size 432x288 with 1 Axes>"
            ]
          },
          "metadata": {
            "tags": []
          }
        },
        {
          "output_type": "stream",
          "text": [
            "------------------------------------------\n",
            "render\n"
          ],
          "name": "stdout"
        },
        {
          "output_type": "display_data",
          "data": {
            "image/png": "[encoded data removed]",
            "text/plain": [
              "<Figure size 432x288 with 1 Axes>"
            ]
          },
          "metadata": {
            "tags": []
          }
        },
        {
          "output_type": "stream",
          "text": [
            "action=1\n"
          ],
          "name": "stdout"
        },
        {
          "output_type": "display_data",
          "data": {
            "image/png": "[encoded data removed]",
            "text/plain": [
              "<Figure size 432x288 with 1 Axes>"
            ]
          },
          "metadata": {
            "tags": []
          }
        },
        {
          "output_type": "stream",
          "text": [
            "------------------------------------------\n",
            "render\n"
          ],
          "name": "stdout"
        },
        {
          "output_type": "display_data",
          "data": {
            "image/png": "[encoded data removed]",
            "text/plain": [
              "<Figure size 432x288 with 1 Axes>"
            ]
          },
          "metadata": {
            "tags": []
          }
        },
        {
          "output_type": "stream",
          "text": [
            "action=1\n"
          ],
          "name": "stdout"
        },
        {
          "output_type": "display_data",
          "data": {
            "image/png": "[encoded data removed]",
            "text/plain": [
              "<Figure size 432x288 with 1 Axes>"
            ]
          },
          "metadata": {
            "tags": []
          }
        },
        {
          "output_type": "stream",
          "text": [
            "------------------------------------------\n",
            "render\n"
          ],
          "name": "stdout"
        },
        {
          "output_type": "display_data",
          "data": {
            "image/png": "[encoded data removed]",
            "text/plain": [
              "<Figure size 432x288 with 1 Axes>"
            ]
          },
          "metadata": {
            "tags": []
          }
        },
        {
          "output_type": "stream",
          "text": [
            "action=1\n"
          ],
          "name": "stdout"
        },
        {
          "output_type": "display_data",
          "data": {
            "image/png": "[encoded data removed]",
            "text/plain": [
              "<Figure size 432x288 with 1 Axes>"
            ]
          },
          "metadata": {
            "tags": []
          }
        },
        {
          "output_type": "stream",
          "text": [
            "------------------------------------------\n",
            "render\n"
          ],
          "name": "stdout"
        },
        {
          "output_type": "display_data",
          "data": {
            "image/png": "[encoded data removed]",
            "text/plain": [
              "<Figure size 432x288 with 1 Axes>"
            ]
          },
          "metadata": {
            "tags": []
          }
        },
        {
          "output_type": "stream",
          "text": [
            "action=1\n"
          ],
          "name": "stdout"
        },
        {
          "output_type": "display_data",
          "data": {
            "image/png": "[encoded data removed]",
            "text/plain": [
              "<Figure size 432x288 with 1 Axes>"
            ]
          },
          "metadata": {
            "tags": []
          }
        },
        {
          "output_type": "stream",
          "text": [
            "------------------------------------------\n",
            "render\n"
          ],
          "name": "stdout"
        },
        {
          "output_type": "display_data",
          "data": {
            "image/png": "[encoded data removed]",
            "text/plain": [
              "<Figure size 432x288 with 1 Axes>"
            ]
          },
          "metadata": {
            "tags": []
          }
        },
        {
          "output_type": "stream",
          "text": [
            "action=1\n"
          ],
          "name": "stdout"
        },
        {
          "output_type": "display_data",
          "data": {
            "image/png": "[encoded data removed]",
            "text/plain": [
              "<Figure size 432x288 with 1 Axes>"
            ]
          },
          "metadata": {
            "tags": []
          }
        },
        {
          "output_type": "stream",
          "text": [
            "{False}\n"
          ],
          "name": "stdout"
        }
      ]
    },
    {
      "cell_type": "code",
      "metadata": {
        "id": "DDjKahFYlv5_",
        "colab_type": "code",
        "colab": {}
      },
      "source": [
        ""
      ],
      "execution_count": 0,
      "outputs": []
    },
    {
      "cell_type": "code",
      "metadata": {
        "id": "TjdI_4nNYgkH",
        "colab_type": "code",
        "outputId": "2189b500-8326-4417-e852-dbc68cee7193",
        "colab": {
          "base_uri": "https://localhost:8080/",
          "height": 1000
        }
      },
      "source": [
        "env = make_env()\n",
        "env.reset()\n",
        "plt.imshow(env.render(\"rgb_array\"))\n",
        "plt.show()\n",
        "for _ in range(1):\n",
        "    action = env.action_space.sample()\n",
        "    obs, _, _, _ = env.step(action)\n",
        "    print(\"action={0}\".format(action))\n",
        "    plt.imshow(env.render(\"rgb_array\"))\n",
        "    plt.show()\n",
        "\n",
        "\n",
        "plt.title(\"Game image\")\n",
        "# 当前的state\n",
        "plt.imshow(env.render(\"rgb_array\"))\n",
        "plt.show()\n",
        "plt.title(\"Agent observation (4 frames left to right)\")\n",
        "plt.imshow(obs.transpose([0, 2, 1]).reshape([state_dim[0], -1]))"
      ],
      "execution_count": 8,
      "outputs": [
        {
          "output_type": "stream",
          "text": [
            "/usr/local/lib/python3.6/dist-packages/gym/logger.py:30: UserWarning: \u001b[33mWARN: gym.spaces.Box autodetected dtype as <class 'numpy.float32'>. Please provide explicit dtype.\u001b[0m\n",
            "  warnings.warn(colorize('%s: %s'%('WARN', msg % args), 'yellow'))\n"
          ],
          "name": "stderr"
        },
        {
          "output_type": "stream",
          "text": [
            "self.observation_space=(64, 64, 1)\n",
            "env.observation_space.shape=(64, 64, 1)\n",
            "env.observation_space.shape=(64, 64, 4)\n"
          ],
          "name": "stdout"
        },
        {
          "output_type": "display_data",
          "data": {
            "image/png": "[encoded data removed]",
            "text/plain": [
              "<Figure size 432x288 with 1 Axes>"
            ]
          },
          "metadata": {
            "tags": []
          }
        },
        {
          "output_type": "stream",
          "text": [
            "action=0\n"
          ],
          "name": "stdout"
        },
        {
          "output_type": "display_data",
          "data": {
            "image/png": "[encoded data removed]",
            "text/plain": [
              "<Figure size 432x288 with 1 Axes>"
            ]
          },
          "metadata": {
            "tags": []
          }
        },
        {
          "output_type": "display_data",
          "data": {
            "image/png": "[encoded data removed]",
            "text/plain": [
              "<Figure size 432x288 with 1 Axes>"
            ]
          },
          "metadata": {
            "tags": []
          }
        },
        {
          "output_type": "execute_result",
          "data": {
            "text/plain": [
              "<matplotlib.image.AxesImage at 0x7f43b6643128>"
            ]
          },
          "metadata": {
            "tags": []
          },
          "execution_count": 8
        },
        {
          "output_type": "display_data",
          "data": {
            "image/png": "[encoded data removed]",
            "text/plain": [
              "<Figure size 432x288 with 1 Axes>"
            ]
          },
          "metadata": {
            "tags": []
          }
        }
      ]
    },
    {
      "cell_type": "markdown",
      "metadata": {
        "id": "V7penaaGusZE",
        "colab_type": "text"
      },
      "source": [
        "### 网络"
      ]
    },
    {
      "cell_type": "code",
      "metadata": {
        "id": "Bh6g-Nlt2PRM",
        "colab_type": "code",
        "colab": {
          "base_uri": "https://localhost:8080/",
          "height": 34
        },
        "outputId": "7a14b924-f3b6-4e2e-916b-297f7aab9d12"
      },
      "source": [
        "import keras\n",
        "import tensorflow as tf\n",
        "import keras.backend as K\n",
        "from keras.models import Model\n",
        "from keras.utils import plot_model\n",
        "from keras.layers import Input, Dense\n",
        "from keras.layers import Conv2D, Dense, Flatten, InputLayer, MaxPooling2D\n"
      ],
      "execution_count": 9,
      "outputs": [
        {
          "output_type": "stream",
          "text": [
            "Using TensorFlow backend.\n"
          ],
          "name": "stderr"
        }
      ]
    },
    {
      "cell_type": "code",
      "metadata": {
        "id": "97rccZu7-Z6W",
        "colab_type": "code",
        "colab": {}
      },
      "source": [
        "class DQNAgent:\n",
        "    def __init__(self, name, state_shape, n_actions, epsilon=0.5, reuse=False):\n",
        "        self.n_actions = n_actions\n",
        "        \"\"\"A simple DQN agent\"\"\"\n",
        "        with tf.variable_scope(name, reuse=reuse):\n",
        "            \n",
        "            #< Define your network body here. Please make sure you don't use any layers created elsewhere >\n",
        "            # prepare a graph for agent step\n",
        "            # 定义placeholder，接受(s, rewrad, action, next_state, is_done)\n",
        "            '''\n",
        "            self.states_ph = K.placeholder(dtype='float32', shape=(None,*state_shape))\n",
        "            self.actions_ph = K.placeholder(dtype='int32', shape=(None))\n",
        "            self.rewards_ph = K.placeholder(dtype='float32', shape=(None))\n",
        "            self.next_states_ph = K.placeholder(dtype='float32', shape=(None,*state_shape))\n",
        "            self.is_done_ph = K.placeholder(dtype='bool', shape=(None))\n",
        "            '''\n",
        "            self.img_size = 64\n",
        "            #self.gamma = 0.99\n",
        "            self.network = keras.models.Sequential()\n",
        "            self.network.add(InputLayer(state_shape))\n",
        "            self.network.add(Conv2D(filters=16, kernel_size=3, strides=2, activation='relu'))\n",
        "            self.network.add(Conv2D(filters=32, kernel_size=3, strides=2, activation='relu'))\n",
        "            self.network.add(Conv2D(filters=64, kernel_size=3, strides=2, activation='relu'))\n",
        "            #self.network.add(MaxPooling2D(pool_size=(2,2)))\n",
        "            self.network.add(Flatten())\n",
        "            self.network.add(Dense(units=256, activation=\"relu\"))\n",
        "            self.network.add(Dense(units=n_actions))\n",
        "            \n",
        "            \n",
        "            # 定义损失函数\n",
        "            '''\n",
        "            predicted_qvalues = self.network(self.states_ph)\n",
        "            self.qvalues_t = predicted_qvalues\n",
        "            predicted_next_qvalues = self.network(self.next_states_ph)\n",
        "            predicted_qvalues_for_actions = tf.reduce_sum(predicted_qvalues * tf.one_hot(self.actions_ph, n_actions), axis=1)\n",
        "            next_state_values = K.max(predicted_next_qvalues, axis=-1)\n",
        "            target_qvalues_for_actions = self.rewards_ph + (next_state_values * self.gamma)\n",
        "            target_qvalues_for_actions = tf.where(self.is_done_ph, self.rewards_ph, target_qvalues_for_actions)\n",
        "            loss_val = (predicted_qvalues_for_actions - tf.stop_gradient(target_qvalues_for_actions)) ** 2\n",
        "            self.loss = tf.reduce_mean(loss_val)\n",
        "            \n",
        "\n",
        "            # 优化目标\n",
        "            self.train_step = tf.train.AdamOptimizer(1e-4).minimize(self.loss)\n",
        "            #self.network.compile(loss='mean_squared_error',optimizer='sgd', metrics=['accuracy'])\n",
        "            '''\n",
        "\n",
        "            self.weights = tf.get_collection(tf.GraphKeys.TRAINABLE_VARIABLES, scope=name)\n",
        "            self.epsilon = epsilon\n",
        "            \n",
        "\n",
        "\n",
        "\n",
        "    def get_symbolic_qvalues(self, state_t):\n",
        "        \"\"\"takes agent's observation, returns qvalues. Both are tf Tensors\"\"\"\n",
        "        qvalues = self.network(state_t)\n",
        "        print(\"qvalues={0}\".format(qvalues))\n",
        "\n",
        "        assert tf.is_numeric_tensor(qvalues) and qvalues.shape.ndims == 2, \\\n",
        "            \"please return 2d tf tensor of qvalues [you got %s]\" % repr(\n",
        "                qvalues)\n",
        "        assert int(qvalues.shape[1]) == self.n_actions\n",
        "\n",
        "        return qvalues\n",
        "\n",
        "    def get_qvalues(self, state_t):\n",
        "        \"\"\"Same as symbolic step except it operates on numpy arrays\"\"\"\n",
        "        return self.network.predict(state_t)\n",
        "        #return sess.run(self.qvalues_t, {self.states_ph: state_t})\n",
        "\n",
        "    def sample_actions(self, qvalues):\n",
        "        \"\"\"pick actions given qvalues. Uses epsilon-greedy exploration strategy. \"\"\"\n",
        "        batch_size, n_actions = qvalues.shape\n",
        "        random_actions = np.random.choice(n_actions, size=batch_size)\n",
        "        best_actions = qvalues.argmax(axis=-1)\n",
        "        should_explore = np.random.choice(\n",
        "            [0, 1], batch_size, p=[1-self.epsilon, self.epsilon])\n",
        "        return np.where(should_explore, random_actions, best_actions)\n"
      ],
      "execution_count": 0,
      "outputs": []
    },
    {
      "cell_type": "code",
      "metadata": {
        "id": "vtNwSGaB10NK",
        "colab_type": "code",
        "outputId": "27676667-6449-40ef-a05b-91e36596f4b7",
        "colab": {
          "base_uri": "https://localhost:8080/",
          "height": 893
        }
      },
      "source": [
        "print(\"state_dim={0}\".format(state_dim))\n",
        "agent = DQNAgent(name=\"xww\", state_shape=state_dim, n_actions=n_actions)\n",
        "plot_model(agent.network, show_shapes=True, show_layer_names=True, to_file='model.png')\n"
      ],
      "execution_count": 11,
      "outputs": [
        {
          "output_type": "stream",
          "text": [
            "state_dim=(64, 64, 4)\n",
            "WARNING:tensorflow:From /usr/local/lib/python3.6/dist-packages/keras/backend/tensorflow_backend.py:66: The name tf.get_default_graph is deprecated. Please use tf.compat.v1.get_default_graph instead.\n",
            "\n",
            "WARNING:tensorflow:From /usr/local/lib/python3.6/dist-packages/keras/backend/tensorflow_backend.py:541: The name tf.placeholder is deprecated. Please use tf.compat.v1.placeholder instead.\n",
            "\n",
            "WARNING:tensorflow:From /usr/local/lib/python3.6/dist-packages/keras/backend/tensorflow_backend.py:4432: The name tf.random_uniform is deprecated. Please use tf.random.uniform instead.\n",
            "\n"
          ],
          "name": "stdout"
        },
        {
          "output_type": "execute_result",
          "data": {
            "image/png": "[encoded data removed]",
            "text/plain": [
              "<IPython.core.display.Image object>"
            ]
          },
          "metadata": {
            "tags": []
          },
          "execution_count": 11
        }
      ]
    },
    {
      "cell_type": "code",
      "metadata": {
        "id": "d_MQMziYZOpT",
        "colab_type": "code",
        "outputId": "87fdcc3b-db31-4458-f936-acb541b00b95",
        "colab": {
          "base_uri": "https://localhost:8080/",
          "height": 105
        }
      },
      "source": [
        "sess = tf.InteractiveSession()\n",
        "keras.backend.set_session(sess)\n",
        "keras.backend.get_session().run(tf.global_variables_initializer())\n",
        "\n",
        "def evaluate(env, agent, n_games=1, greedy=False, t_max=10000):\n",
        "    \"\"\" Plays n_games full games. If greedy, picks actions as argmax(qvalues). Returns mean reward. \"\"\"\n",
        "    rewards = []\n",
        "    for _ in range(n_games):\n",
        "        s = env.reset()\n",
        "        reward = 0\n",
        "        for _ in range(t_max):\n",
        "            #print(\"---\")\n",
        "            qvalues = agent.get_qvalues(np.array([s]))\n",
        "            action = qvalues.argmax(\n",
        "                axis=-1)[0] if greedy else agent.sample_actions(qvalues)[0]\n",
        "            #print(action)\n",
        "            s, r, done, _ = env.step(action)\n",
        "            #print(np.mean(s))\n",
        "            #print(done)\n",
        "            #print(action)\n",
        "            #print(r)\n",
        "            reward += r\n",
        "            if done:\n",
        "              print(\"break\")\n",
        "              break\n",
        "\n",
        "        rewards.append(reward)\n",
        "    return np.mean(rewards)"
      ],
      "execution_count": 12,
      "outputs": [
        {
          "output_type": "stream",
          "text": [
            "WARNING:tensorflow:From /usr/local/lib/python3.6/dist-packages/keras/backend/tensorflow_backend.py:190: The name tf.get_default_session is deprecated. Please use tf.compat.v1.get_default_session instead.\n",
            "\n",
            "WARNING:tensorflow:From /usr/local/lib/python3.6/dist-packages/keras/backend/tensorflow_backend.py:207: The name tf.global_variables is deprecated. Please use tf.compat.v1.global_variables instead.\n",
            "\n"
          ],
          "name": "stdout"
        }
      ]
    },
    {
      "cell_type": "code",
      "metadata": {
        "id": "_NCnSSg2ZTS_",
        "colab_type": "code",
        "outputId": "9d6cd17b-b878-49b6-baf6-9a2ce44bab0c",
        "colab": {
          "base_uri": "https://localhost:8080/",
          "height": 51
        }
      },
      "source": [
        "evaluate(env, agent, n_games=1, t_max=10000)"
      ],
      "execution_count": 13,
      "outputs": [
        {
          "output_type": "stream",
          "text": [
            "break\n"
          ],
          "name": "stdout"
        },
        {
          "output_type": "execute_result",
          "data": {
            "text/plain": [
              "0.0"
            ]
          },
          "metadata": {
            "tags": []
          },
          "execution_count": 13
        }
      ]
    },
    {
      "cell_type": "markdown",
      "metadata": {
        "id": "Fye9JfArba-D",
        "colab_type": "text"
      },
      "source": [
        "#### experience replay"
      ]
    },
    {
      "cell_type": "code",
      "metadata": {
        "id": "aaZ4iIF3DmD8",
        "colab_type": "code",
        "colab": {}
      },
      "source": [
        "import random\n",
        "import queue\n",
        "\n",
        "\n",
        "class ReplayBuffer(object):\n",
        "    def __init__(self, size):\n",
        "        \"\"\"\n",
        "        Create Replay buffer.\n",
        "        Parameters\n",
        "        ----------\n",
        "        size: int\n",
        "            Max number of transitions to store in the buffer. When the buffer\n",
        "            overflows the old memories are dropped.\n",
        "\n",
        "        Note: for this assignment you can pick any data structure you want.\n",
        "              If you want to keep it simple, you can store a list of tuples of (s, a, r, s') in self._storage\n",
        "              However you may find out there are faster and/or more memory-efficient ways to do so.\n",
        "        \"\"\"\n",
        "        self._storage = queue.Queue()\n",
        "        self._maxsize = size\n",
        "\n",
        "        # OPTIONAL: YOUR CODE\n",
        "\n",
        "    def __len__(self):\n",
        "        return self._storage.qsize()\n",
        "\n",
        "    def add(self, obs_t, action, reward, obs_tp1, done):\n",
        "        '''\n",
        "        Make sure, _storage will not exceed _maxsize. \n",
        "        Make sure, FIFO rule is being followed: the oldest examples has to be removed earlier\n",
        "        '''\n",
        "        data = (obs_t, action, reward, obs_tp1, done)\n",
        "\n",
        "        # add data to storage\n",
        "        if self._storage.qsize() < self._maxsize:\n",
        "          self._storage.put(data)\n",
        "        else:\n",
        "          self._storage.get()\n",
        "          self._storage.put(data)\n",
        "          #print(\"size={0}\".format(self._storage.qsize()))\n",
        "\n",
        "    def sample(self, batch_size):\n",
        "        \"\"\"Sample a batch of experiences.\n",
        "        Parameters\n",
        "        ----------\n",
        "        batch_size: int\n",
        "            How many transitions to sample.\n",
        "        Returns\n",
        "        -------\n",
        "        obs_batch: np.array\n",
        "            batch of observations\n",
        "        act_batch: np.array\n",
        "            batch of actions executed given obs_batch\n",
        "        rew_batch: np.array\n",
        "            rewards received as results of executing act_batch\n",
        "        next_obs_batch: np.array\n",
        "            next set of observations seen after executing act_batch\n",
        "        done_mask: np.array\n",
        "            done_mask[i] = 1 if executing act_batch[i] resulted in\n",
        "            the end of an episode and 0 otherwise.\n",
        "        \"\"\"\n",
        "        #idxes = <randomly generate batch_size integers to be used as indexes of samples >\n",
        "\n",
        "        # collect <s,a,r,s',done> for each index\n",
        "        if batch_size > self._storage.qsize():\n",
        "          batch_size = self._storage.qsize()\n",
        "        samples = random.sample(self._storage.queue, batch_size)\n",
        "        states = [i[0] for i in samples]\n",
        "        actions = [i[1] for i in samples]\n",
        "        rewards = [i[2] for i in samples]\n",
        "        next_states = [i[3] for i in samples]\n",
        "        is_dones = [i[4] for i in samples]\n",
        "\n",
        "\n",
        "        return np.array(states), np.array(actions), np.array(rewards), np.array(next_states), np.array(is_dones)\n"
      ],
      "execution_count": 0,
      "outputs": []
    },
    {
      "cell_type": "markdown",
      "metadata": {
        "id": "Ffk-C2OrcDUK",
        "colab_type": "text"
      },
      "source": [
        "测试验证experience relay"
      ]
    },
    {
      "cell_type": "code",
      "metadata": {
        "id": "q35hYCa5cBpX",
        "colab_type": "code",
        "colab": {}
      },
      "source": [
        "exp_replay = ReplayBuffer(10)\n",
        "\n",
        "for _ in range(30):\n",
        "    exp_replay.add(env.reset(), env.action_space.sample(),\n",
        "                   1.0, env.reset(), done=False)\n",
        "\n",
        "obs_batch, act_batch, reward_batch, next_obs_batch, is_done_batch = exp_replay.sample(\n",
        "    5)\n",
        "\n",
        "assert len(exp_replay) == 10, \"experience replay size should be 10 because that's what maximum capacity is\""
      ],
      "execution_count": 0,
      "outputs": []
    },
    {
      "cell_type": "markdown",
      "metadata": {
        "id": "_trFgLfZca8X",
        "colab_type": "text"
      },
      "source": [
        "play and record"
      ]
    },
    {
      "cell_type": "code",
      "metadata": {
        "id": "yYRnoSlocY5Z",
        "colab_type": "code",
        "colab": {}
      },
      "source": [
        "agent.epsilon = 0.5\n",
        "def play_and_record(agent, env, exp_replay, n_steps=1):\n",
        "    \"\"\"\n",
        "    Play the game for exactly n steps, record every (s,a,r,s', done) to replay buffer. \n",
        "    Whenever game ends, add record with done=True and reset the game.\n",
        "    It is guaranteed that env has done=False when passed to this function.\n",
        "\n",
        "    PLEASE DO NOT RESET ENV UNLESS IT IS \"DONE\"\n",
        "\n",
        "    :returns: return sum of rewards over time\n",
        "    \"\"\"\n",
        "    # initial state\n",
        "    s = env.framebuffer\n",
        "    \n",
        "    # Play the game for n_steps as per instructions above\n",
        "    reward = 0\n",
        "    for _ in range(n_steps):\n",
        "        qvalues = agent.get_qvalues(np.array([s]))\n",
        "        action = agent.sample_actions(qvalues)[0]\n",
        "        s_next, r, done, _ = env.step(action)\n",
        "        exp_replay.add(s, action, r, s_next, done)\n",
        "        if done:\n",
        "          #print(\"reset\")\n",
        "          s = env.reset()\n",
        "        s = s_next\n",
        "        reward += r\n",
        "    \n",
        "    return reward"
      ],
      "execution_count": 0,
      "outputs": []
    },
    {
      "cell_type": "code",
      "metadata": {
        "id": "LgEXo0JpgTAi",
        "colab_type": "code",
        "outputId": "6bb20cfe-7990-48ec-f874-c777b9bbfb82",
        "colab": {
          "base_uri": "https://localhost:8080/",
          "height": 68
        }
      },
      "source": [
        "# testing your code. This may take a minute...\n",
        "exp_replay = ReplayBuffer(20000)\n",
        "\n",
        "play_and_record(agent, env, exp_replay, n_steps=10000)\n",
        "\n",
        "# if you're using your own experience replay buffer, some of those tests may need correction.\n",
        "# just make sure you know what your code does\n",
        "assert len(exp_replay) == 10000, \"play_and_record should have added exactly 10000 steps, \"\\\n",
        "                                 \"but instead added %i\" % len(exp_replay)\n",
        "is_dones = list(zip(*exp_replay._storage.queue))[-1]\n",
        "print(\"size is_dons={0}\".format(len(is_dones)))\n",
        "print(\"mean is_dons={0}\".format(np.mean(is_dones)))\n",
        "assert 0 < np.mean(is_dones) < 0.1, \"Please make sure you restart the game whenever it is 'done' and record the is_done correctly into the buffer.\"\\\n",
        "                                    \"Got %f is_done rate over %i steps. [If you think it's your tough luck, just re-run the test]\" % (\n",
        "                                        np.mean(is_dones), len(exp_replay))\n",
        "\n",
        "for _ in range(100):\n",
        "    obs_batch, act_batch, reward_batch, next_obs_batch, is_done_batch = exp_replay.sample(\n",
        "        10)\n",
        "    assert obs_batch.shape == next_obs_batch.shape == (10,) + state_dim\n",
        "    assert act_batch.shape == (\n",
        "        10,), \"actions batch should have shape (10,) but is instead %s\" % str(act_batch.shape)\n",
        "    assert reward_batch.shape == (\n",
        "        10,), \"rewards batch should have shape (10,) but is instead %s\" % str(reward_batch.shape)\n",
        "    assert is_done_batch.shape == (\n",
        "        10,), \"is_done batch should have shape (10,) but is instead %s\" % str(is_done_batch.shape)\n",
        "    assert [int(i) in (0, 1)\n",
        "            for i in is_dones], \"is_done should be strictly True or False\"\n",
        "    assert [\n",
        "        0 <= a <= n_actions for a in act_batch], \"actions should be within [0, n_actions]\"\n",
        "\n",
        "print(\"Well done!\")"
      ],
      "execution_count": 17,
      "outputs": [
        {
          "output_type": "stream",
          "text": [
            "size is_dons=10000\n",
            "mean is_dons=0.0059\n",
            "Well done!\n"
          ],
          "name": "stdout"
        }
      ]
    },
    {
      "cell_type": "markdown",
      "metadata": {
        "id": "Js2U37elHDdX",
        "colab_type": "text"
      },
      "source": [
        "### 利用experience replay进行训练"
      ]
    },
    {
      "cell_type": "code",
      "metadata": {
        "id": "_BUk6qCF2HKq",
        "colab_type": "code",
        "outputId": "fb522a4d-c931-4b6e-df13-e1ad70ca6929",
        "colab": {
          "base_uri": "https://localhost:8080/",
          "height": 54
        }
      },
      "source": [
        "'''\n",
        "env = make_env()\n",
        "exp_replay = ReplayBuffer(20000)\n",
        "batch_size = 64\n",
        "def generate_session(t_max=1000, epsilon=0.2, train=False):\n",
        "    \"\"\"play env with approximate q-learning agent and train it at the same time\"\"\"\n",
        "    total_reward = 0\n",
        "    s = env.reset()\n",
        "    for t in range(t_max):\n",
        "        qvalues = agent.get_qvalues(np.array([s]), sess)\n",
        "        a = agent.sample_actions(qvalues, epsilon=epsilon)       \n",
        "        next_s, r, done, _ = env.step(a)\n",
        "        if t == 0:\n",
        "          exp_replay.add(s,a,r,next_s,done)\n",
        "        batch_s, batch_a, batch_r, batch_next_s, batch_done = exp_replay.sample(batch_size=64)\n",
        "        #print(batch_s.shape)\n",
        "        #print(np.array([s]).shape)\n",
        "        batch_s = np.append(batch_s, np.array([s]),axis=0)\n",
        "        batch_a = np.append(batch_a, a)\n",
        "        batch_r = np.append(batch_r, r)\n",
        "        batch_next_s = np.append(batch_next_s, np.array([next_s]),axis=0)\n",
        "        batch_done = np.append(batch_done, done)\n",
        "        exp_replay.add(s,a,r,next_s,done)\n",
        "        #print(batch_s.shape)\n",
        "        if train:\n",
        "            sess.run(agent.train_step,{\n",
        "                agent.states_ph: batch_s, agent.actions_ph: batch_a, agent.rewards_ph: batch_r, \n",
        "                agent.next_states_ph: batch_next_s, agent.is_done_ph: batch_done\n",
        "            })\n",
        "\n",
        "        total_reward += r\n",
        "        s = next_s\n",
        "        if done: \n",
        "          #print(\"is done\")\n",
        "          break\n",
        "    return total_reward\n",
        "'''"
      ],
      "execution_count": 18,
      "outputs": [
        {
          "output_type": "execute_result",
          "data": {
            "text/plain": [
              "'\\nenv = make_env()\\nexp_replay = ReplayBuffer(20000)\\nbatch_size = 64\\ndef generate_session(t_max=1000, epsilon=0.2, train=False):\\n    \"\"\"play env with approximate q-learning agent and train it at the same time\"\"\"\\n    total_reward = 0\\n    s = env.reset()\\n    for t in range(t_max):\\n        qvalues = agent.get_qvalues(np.array([s]), sess)\\n        a = agent.sample_actions(qvalues, epsilon=epsilon)       \\n        next_s, r, done, _ = env.step(a)\\n        if t == 0:\\n          exp_replay.add(s,a,r,next_s,done)\\n        batch_s, batch_a, batch_r, batch_next_s, batch_done = exp_replay.sample(batch_size=64)\\n        #print(batch_s.shape)\\n        #print(np.array([s]).shape)\\n        batch_s = np.append(batch_s, np.array([s]),axis=0)\\n        batch_a = np.append(batch_a, a)\\n        batch_r = np.append(batch_r, r)\\n        batch_next_s = np.append(batch_next_s, np.array([next_s]),axis=0)\\n        batch_done = np.append(batch_done, done)\\n        exp_replay.add(s,a,r,next_s,done)\\n        #print(batch_s.shape)\\n        if train:\\n            sess.run(agent.train_step,{\\n                agent.states_ph: batch_s, agent.actions_ph: batch_a, agent.rewards_ph: batch_r, \\n                agent.next_states_ph: batch_next_s, agent.is_done_ph: batch_done\\n            })\\n\\n        total_reward += r\\n        s = next_s\\n        if done: \\n          #print(\"is done\")\\n          break\\n    return total_reward\\n'"
            ]
          },
          "metadata": {
            "tags": []
          },
          "execution_count": 18
        }
      ]
    },
    {
      "cell_type": "code",
      "metadata": {
        "id": "mbkSskh9RQ_2",
        "colab_type": "code",
        "outputId": "3a797232-86ea-48e9-fd6e-ca66cb859c0a",
        "colab": {
          "base_uri": "https://localhost:8080/",
          "height": 54
        }
      },
      "source": [
        "'''\n",
        "epsilon = 0.4\n",
        "import time\n",
        "for i in range(1000):\n",
        "    start = time.time()\n",
        "    session_rewards = [generate_session(epsilon=epsilon, train=True) for _ in range(10)]\n",
        "    print(\"epoch #{}\\tmean reward = {:.3f}\\tepsilon = {:.3f}\\ttime_cost={}\\texp_replay size={}\".format(i, np.mean(session_rewards), epsilon, time.time()-start,len(exp_replay)))\n",
        "    \n",
        "    epsilon= max(epsilon*0.99,0.01)\n",
        "    assert epsilon >= 1e-4, \"Make sure epsilon is always nonzero during training\"\n",
        "    \n",
        "    if np.mean(session_rewards) > 10:\n",
        "        print (\"You Win!\")\n",
        "        break\n",
        "'''\n",
        "'''\n",
        "TPU耗时：\n",
        "  epoch #0\tmean reward = 1.220\tepsilon = 0.500\ttime_cost=122.46886038780212\n",
        "  epoch #1\tmean reward = 1.150\tepsilon = 0.495\ttime_cost=118.8068995475769\n",
        "  epoch #2\tmean reward = 1.360\tepsilon = 0.490\ttime_cost=121.57082295417786\n",
        "  epoch #3\tmean reward = 1.620\tepsilon = 0.485\ttime_cost=155.45745730400085\n",
        "  epoch #4\tmean reward = 1.670\tepsilon = 0.480\ttime_cost=175.2912380695343\n",
        "GPU耗时：\n",
        "  epoch #0\tmean reward = 1.360\tepsilon = 0.500\ttime_cost=176.7485010623932\n",
        "  epoch #1\tmean reward = 1.830\tepsilon = 0.495\ttime_cost=190.0246570110321\n",
        "  epoch #2\tmean reward = 1.840\tepsilon = 0.490\ttime_cost=193.792795419693\n",
        "  epoch #3\tmean reward = 1.510\tepsilon = 0.485\ttime_cost=185.10718274116516\n",
        "  epoch #5\tmean reward = 1.850\tepsilon = 0.475\ttime_cost=186.9741883277893\n",
        "\n",
        "'''"
      ],
      "execution_count": 19,
      "outputs": [
        {
          "output_type": "execute_result",
          "data": {
            "text/plain": [
              "'\\nTPU耗时：\\n  epoch #0\\tmean reward = 1.220\\tepsilon = 0.500\\ttime_cost=122.46886038780212\\n  epoch #1\\tmean reward = 1.150\\tepsilon = 0.495\\ttime_cost=118.8068995475769\\n  epoch #2\\tmean reward = 1.360\\tepsilon = 0.490\\ttime_cost=121.57082295417786\\n  epoch #3\\tmean reward = 1.620\\tepsilon = 0.485\\ttime_cost=155.45745730400085\\n  epoch #4\\tmean reward = 1.670\\tepsilon = 0.480\\ttime_cost=175.2912380695343\\nGPU耗时：\\n  epoch #0\\tmean reward = 1.360\\tepsilon = 0.500\\ttime_cost=176.7485010623932\\n  epoch #1\\tmean reward = 1.830\\tepsilon = 0.495\\ttime_cost=190.0246570110321\\n  epoch #2\\tmean reward = 1.840\\tepsilon = 0.490\\ttime_cost=193.792795419693\\n  epoch #3\\tmean reward = 1.510\\tepsilon = 0.485\\ttime_cost=185.10718274116516\\n  epoch #5\\tmean reward = 1.850\\tepsilon = 0.475\\ttime_cost=186.9741883277893\\n\\n'"
            ]
          },
          "metadata": {
            "tags": []
          },
          "execution_count": 19
        }
      ]
    },
    {
      "cell_type": "markdown",
      "metadata": {
        "id": "QZNQFLrR1nNM",
        "colab_type": "text"
      },
      "source": [
        ""
      ]
    },
    {
      "cell_type": "code",
      "metadata": {
        "id": "Fl0VmKupPSCN",
        "colab_type": "code",
        "colab": {}
      },
      "source": [
        ""
      ],
      "execution_count": 0,
      "outputs": []
    },
    {
      "cell_type": "code",
      "metadata": {
        "id": "gCD-pOMfgT0b",
        "colab_type": "code",
        "colab": {}
      },
      "source": [
        ""
      ],
      "execution_count": 0,
      "outputs": []
    },
    {
      "cell_type": "markdown",
      "metadata": {
        "id": "tc5V4WhPDVPi",
        "colab_type": "text"
      },
      "source": [
        "### Target networks"
      ]
    },
    {
      "cell_type": "code",
      "metadata": {
        "id": "pGQJc8hiRhc0",
        "colab_type": "code",
        "outputId": "d32658c7-7066-4a69-dedc-af32913184aa",
        "colab": {
          "base_uri": "https://localhost:8080/",
          "height": 68
        }
      },
      "source": [
        "print(\"state_dim={0}\".format(state_dim))\n",
        "print(\"n_actions={0}\".format(n_actions))\n",
        "target_network = DQNAgent(\"target_network\", state_dim, n_actions)\n",
        "def load_weigths_into_target_network(agent, target_network):\n",
        "    \"\"\" assign target_network.weights variables to their respective agent.weights values. \"\"\"\n",
        "    assigns = []\n",
        "    for w_agent, w_target in zip(agent.weights, target_network.weights):\n",
        "        assigns.append(tf.assign(w_target, w_agent, validate_shape=True))\n",
        "    # tf.get_default_session().run(assigns)\n",
        "    return assigns\n",
        "# create the tf copy graph only once.\n",
        "copy_step = load_weigths_into_target_network(agent, target_network)\n",
        "sess.run(copy_step)\n",
        "# check that it works\n",
        "sess.run([tf.assert_equal(w, w_target)\n",
        "          for w, w_target in zip(agent.weights, target_network.weights)])\n",
        "print(\"It works!\")"
      ],
      "execution_count": 20,
      "outputs": [
        {
          "output_type": "stream",
          "text": [
            "state_dim=(64, 64, 4)\n",
            "n_actions=4\n",
            "It works!\n"
          ],
          "name": "stdout"
        }
      ]
    },
    {
      "cell_type": "markdown",
      "metadata": {
        "id": "y6iYsCHoEJas",
        "colab_type": "text"
      },
      "source": [
        "### 学习\n",
        "1. 玩10步，更新experience replay中的数据，\n",
        "2. sample一个batch的数据，更新agent的权重。。\n",
        "2. 每500个batch,更新target network的权重。\n",
        "\n",
        "大概需要训练$10^5$个batch的数据"
      ]
    },
    {
      "cell_type": "markdown",
      "metadata": {
        "id": "RTUK86qcNE8l",
        "colab_type": "text"
      },
      "source": [
        "Compute Q-learning TD error:\n",
        "\n",
        "$$ L = { 1 \\over N} \\sum_i [ Q_{\\theta}(s,a) - Q_{reference}(s,a) ] ^2 $$\n",
        "With Q-reference defined as\n",
        "\n",
        "$$ Q_{reference}(s,a) = r(s,a) + \\gamma \\cdot max_{a'} Q_{target}(s', a') $$\n",
        "Where\n",
        "\n",
        "$Q_{target}(s',a')$ denotes q-value of next state and next action predicted by target_network\n",
        "$s, a, r, s'$ are current state, action, reward and next state respectively\n",
        "$\\gamma$ is a discount factor defined two cells above."
      ]
    },
    {
      "cell_type": "code",
      "metadata": {
        "id": "Sano919uAVp4",
        "colab_type": "code",
        "colab": {}
      },
      "source": [
        "# placeholders that will be fed with exp_replay.sample(batch_size)\n",
        "obs_ph = tf.placeholder(tf.float32, shape=(None,) + state_dim)\n",
        "actions_ph = tf.placeholder(tf.int32, shape=[None])\n",
        "rewards_ph = tf.placeholder(tf.float32, shape=[None])\n",
        "next_obs_ph = tf.placeholder(tf.float32, shape=(None,) + state_dim)\n",
        "is_done_ph = tf.placeholder(tf.bool, shape=[None])\n",
        "\n",
        "#is_not_done = 1 - tf.cast(is_done_ph,tf.int16)\n",
        "gamma = 0.99"
      ],
      "execution_count": 0,
      "outputs": []
    },
    {
      "cell_type": "code",
      "metadata": {
        "id": "vXQWCdNDhUjJ",
        "colab_type": "code",
        "outputId": "c3be1bf6-b05d-4c83-c599-47f6f7792fc8",
        "colab": {
          "base_uri": "https://localhost:8080/",
          "height": 122
        }
      },
      "source": [
        "current_qvalues = agent.get_symbolic_qvalues(obs_ph)\n",
        "current_action_qvalues = tf.reduce_sum(tf.one_hot(actions_ph, n_actions) * current_qvalues, axis=-1)\n",
        "\n",
        "next_qvalues_target = target_network.get_symbolic_qvalues(next_obs_ph)\n",
        "next_state_values_target = K.max(next_qvalues_target, axis=-1)\n",
        "reference_qvalues = tf.where(is_done_ph, rewards_ph, rewards_ph + gamma*next_state_values_target)\n",
        "\n",
        "td_loss = (current_action_qvalues - reference_qvalues) ** 2\n",
        "td_loss = tf.reduce_mean(td_loss)\n",
        "train_step = tf.train.AdamOptimizer(1e-3).minimize(td_loss, var_list=agent.weights)"
      ],
      "execution_count": 22,
      "outputs": [
        {
          "output_type": "stream",
          "text": [
            "qvalues=Tensor(\"sequential_1/dense_2/BiasAdd:0\", shape=(?, 4), dtype=float32)\n",
            "qvalues=Tensor(\"sequential_2/dense_4/BiasAdd:0\", shape=(?, 4), dtype=float32)\n",
            "WARNING:tensorflow:From <ipython-input-22-56fa3f1d9463>:6: add_dispatch_support.<locals>.wrapper (from tensorflow.python.ops.array_ops) is deprecated and will be removed in a future version.\n",
            "Instructions for updating:\n",
            "Use tf.where in 2.0, which has the same broadcast rule as np.where\n"
          ],
          "name": "stdout"
        }
      ]
    },
    {
      "cell_type": "code",
      "metadata": {
        "id": "1XGsyta-i0Zv",
        "colab_type": "code",
        "outputId": "d68509e2-2609-4768-abb2-7c6a35767814",
        "colab": {
          "base_uri": "https://localhost:8080/",
          "height": 34
        }
      },
      "source": [
        "sess.run(tf.global_variables_initializer())\n",
        "\n",
        "for chk_grad in tf.gradients(reference_qvalues, agent.weights):\n",
        "    error_msg = \"Reference q-values should have no gradient w.r.t. agent weights. Make sure you used target_network qvalues! \"\n",
        "    error_msg += \"If you know what you're doing, ignore this assert.\"\n",
        "    assert chk_grad is None or np.allclose(\n",
        "        sess.run(chk_grad), sess.run(chk_grad * 0)), error_msg\n",
        "\n",
        "#assert tf.gradients(reference_qvalues, is_done_ph)[\n",
        "#    0] is not None, \"make sure you used is_not_done\"\n",
        "assert tf.gradients(reference_qvalues, rewards_ph)[\n",
        "    0] is not None, \"make sure you used rewards\"\n",
        "assert tf.gradients(reference_qvalues, next_obs_ph)[\n",
        "    0] is not None, \"make sure you used next states\"\n",
        "assert tf.gradients(reference_qvalues, obs_ph)[\n",
        "    0] is None, \"reference qvalues shouldn't depend on current observation!\"  # ignore if you're certain it's ok\n",
        "print(\"Splendid!\")"
      ],
      "execution_count": 23,
      "outputs": [
        {
          "output_type": "stream",
          "text": [
            "Splendid!\n"
          ],
          "name": "stdout"
        }
      ]
    },
    {
      "cell_type": "code",
      "metadata": {
        "id": "uR_JquKQl-fR",
        "colab_type": "code",
        "colab": {}
      },
      "source": [
        "from tqdm import trange\n",
        "from IPython.display import clear_output\n",
        "import matplotlib.pyplot as plt\n",
        "from pandas import DataFrame\n",
        "moving_average = lambda x, span=100, **kw: DataFrame(\n",
        "    {'x': np.asarray(x)}).x.ewm(span=span, **kw).mean().values\n",
        "%matplotlib inline\n",
        "\n",
        "mean_rw_history = []\n",
        "td_loss_history = []"
      ],
      "execution_count": 0,
      "outputs": []
    },
    {
      "cell_type": "code",
      "metadata": {
        "id": "NzPXmqP0oGhk",
        "colab_type": "code",
        "colab": {}
      },
      "source": [
        "exp_replay = ReplayBuffer(10**5)\n",
        "play_and_record(agent, env, exp_replay, n_steps=10000)\n",
        "\n",
        "\n",
        "def sample_batch(exp_replay, batch_size):\n",
        "    obs_batch, act_batch, reward_batch, next_obs_batch, is_done_batch = exp_replay.sample(\n",
        "        batch_size)\n",
        "    return {\n",
        "        obs_ph: obs_batch, actions_ph: act_batch, rewards_ph: reward_batch,\n",
        "        next_obs_ph: next_obs_batch, is_done_ph: is_done_batch\n",
        "    }"
      ],
      "execution_count": 0,
      "outputs": []
    },
    {
      "cell_type": "code",
      "metadata": {
        "id": "SGSNa7FcJ3i_",
        "colab_type": "code",
        "colab": {
          "base_uri": "https://localhost:8080/",
          "height": 34
        },
        "outputId": "aede5690-c025-4fdf-83e5-b570f72d4e22"
      },
      "source": [
        "agent.epsilon"
      ],
      "execution_count": 26,
      "outputs": [
        {
          "output_type": "execute_result",
          "data": {
            "text/plain": [
              "0.5"
            ]
          },
          "metadata": {
            "tags": []
          },
          "execution_count": 26
        }
      ]
    },
    {
      "cell_type": "code",
      "metadata": {
        "id": "bHKF8UwGoJGU",
        "colab_type": "code",
        "colab": {
          "base_uri": "https://localhost:8080/",
          "height": 579
        },
        "outputId": "bf8166e0-9629-4c13-f156-1c0e827ba3ab"
      },
      "source": [
        "for i in trange(10**5):\n",
        "\n",
        "    # play\n",
        "    play_and_record(agent, env, exp_replay, 10)\n",
        "\n",
        "    # train\n",
        "    _, loss_t = sess.run([train_step, td_loss], sample_batch(exp_replay, batch_size=64))\n",
        "    td_loss_history.append(loss_t)\n",
        "\n",
        "    # adjust agent parameters\n",
        "    if i % 500 == 0:\n",
        "        #load_weigths_into_target_network(agent, target_network)\n",
        "        # calling 'load_weights_into_target_network' repeatedly cause creating tf copy operator\n",
        "        # again and again, which bloat memory consumption along training step\n",
        "        # create'copy_step' once\n",
        "        sess.run(copy_step)\n",
        "        agent.epsilon = max(agent.epsilon * 0.99, 0.01)\n",
        "        mean_rw_history.append(evaluate(make_env(), agent, greedy=False, n_games=3))\n",
        "    if i % 100 == 0:\n",
        "        clear_output(True)\n",
        "        print(\"buffer size = %i, epsilon = %.5f\" %\n",
        "              (len(exp_replay), agent.epsilon))\n",
        "\n",
        "        plt.subplot(1, 2, 1)\n",
        "        plt.title(\"mean reward per game\")\n",
        "        plt.plot(mean_rw_history)\n",
        "        plt.grid()\n",
        "\n",
        "        assert not np.isnan(loss_t)\n",
        "        plt.figure(figsize=[12, 4])\n",
        "        plt.subplot(1, 2, 2)\n",
        "        plt.title(\"TD loss history (moving average)\")\n",
        "        plt.plot(moving_average(\n",
        "            np.array(td_loss_history), span=100, min_periods=100))\n",
        "        plt.grid()\n",
        "        plt.show()"
      ],
      "execution_count": 0,
      "outputs": [
        {
          "output_type": "stream",
          "text": [
            "buffer size = 100000, epsilon = 0.20647\n"
          ],
          "name": "stdout"
        },
        {
          "output_type": "display_data",
          "data": {
            "image/png": "[encoded data removed]",
            "text/plain": [
              "<Figure size 432x288 with 1 Axes>"
            ]
          },
          "metadata": {
            "tags": []
          }
        },
        {
          "output_type": "display_data",
          "data": {
            "image/png": "[encoded data removed]",
            "text/plain": [
              "<Figure size 864x288 with 1 Axes>"
            ]
          },
          "metadata": {
            "tags": []
          }
        },
        {
          "output_type": "stream",
          "text": [
            " 44%|████▎     | 43610/100000 [1:49:39<2:09:05,  7.28it/s]"
          ],
          "name": "stderr"
        },
        {
          "output_type": "stream",
          "text": [
            "Buffered data was truncated after reaching the output size limit."
          ],
          "name": "stdout"
        }
      ]
    },
    {
      "cell_type": "code",
      "metadata": {
        "id": "VzgdnAC_ojfx",
        "colab_type": "code",
        "colab": {}
      },
      "source": [
        "assert np.mean(mean_rw_history[-10:]) > 10.\n",
        "print(\"That's good enough for tutorial.\")"
      ],
      "execution_count": 0,
      "outputs": []
    },
    {
      "cell_type": "code",
      "metadata": {
        "id": "zFXv1_VhokSb",
        "colab_type": "code",
        "colab": {}
      },
      "source": [
        ""
      ],
      "execution_count": 0,
      "outputs": []
    }
  ]
}