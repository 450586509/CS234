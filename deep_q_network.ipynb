{
  "nbformat": 4,
  "nbformat_minor": 0,
  "metadata": {
    "colab": {
      "name": "deep q-network.ipynb",
      "provenance": [],
      "include_colab_link": true
    },
    "kernelspec": {
      "name": "python3",
      "display_name": "Python 3"
    }
  },
  "cells": [
    {
      "cell_type": "markdown",
      "metadata": {
        "id": "view-in-github",
        "colab_type": "text"
      },
      "source": [
        "<a href=\"https://colab.research.google.com/github/450586509/reinforcement-learning-practice/blob/master/deep_q_network.ipynb\" target=\"_parent\"><img src=\"https://colab.research.google.com/assets/colab-badge.svg\" alt=\"Open In Colab\"/></a>"
      ]
    },
    {
      "cell_type": "markdown",
      "metadata": {
        "id": "XgfYtKBKycFp",
        "colab_type": "text"
      },
      "source": [
        "### Deep Q-Network implementation\n",
        "包括三个组成部分：\n",
        "\n",
        "- approximate q-learning\n",
        "- experience replay\n",
        "- target networks "
      ]
    },
    {
      "cell_type": "code",
      "metadata": {
        "id": "JtCHMKLgyIQ1",
        "colab_type": "code",
        "colab": {}
      },
      "source": [
        "import os\n",
        "os.system('apt-get install -y xvfb')\n",
        "os.system('wget https://raw.githubusercontent.com/yandexdataschool/Practical_DL/fall18/xvfb -O ../xvfb')\n",
        "os.system('apt-get install -y python-opengl ffmpeg')\n",
        "os.system('pip install pyglet==1.2.4')\n",
        "\n",
        "if type(os.environ.get(\"DISPLAY\")) is not str or len(os.environ.get(\"DISPLAY\")) == 0:\n",
        "    !bash ../xvfb start\n",
        "    os.environ['DISPLAY'] = ':1'"
      ],
      "execution_count": 0,
      "outputs": []
    },
    {
      "cell_type": "markdown",
      "metadata": {
        "id": "WuyF1ZSCzcuO",
        "colab_type": "text"
      },
      "source": [
        "### 目标: 训练一个玩atari的agent\n",
        "游戏数据信息：\n",
        "- atari 游戏画面图像默认大小是210x160x3\n",
        "\n",
        "为了节省时间，可以对图像进行resize操作，变成64x64的黑白图像。并且去除顶部和底部无用的图像区域。"
      ]
    },
    {
      "cell_type": "code",
      "metadata": {
        "id": "iVxjCaa5y4VO",
        "colab_type": "code",
        "colab": {}
      },
      "source": [
        "from gym.core import ObservationWrapper\n",
        "from gym.spaces import Box\n",
        "from PIL import Image\n",
        "\n",
        "\n",
        "class PreprocessAtari(ObservationWrapper):\n",
        "    def __init__(self, env):\n",
        "        \"\"\"A gym wrapper that crops, scales image into the desired shapes and optionally grayscales it.\"\"\"\n",
        "        ObservationWrapper.__init__(self, env)\n",
        "\n",
        "        self.img_size = (64, 64)\n",
        "        self.observation_space = Box(0.0, 1.0, self.img_size)\n",
        "\n",
        "    def observation(self, img, out_size=64):\n",
        "        \"\"\"what happens to each observation\"\"\"\n",
        "\n",
        "        # Here's what you need to do:\n",
        "        #  * crop image, remove irrelevant parts\n",
        "        #  * resize image to self.img_size\n",
        "        #     (use imresize imported above or any library you want,\n",
        "        #      e.g. opencv, skimage, PIL, keras)\n",
        "        #  * cast image to grayscale\n",
        "        #  * convert image pixels to (0,1) range, float32 type\n",
        "\n",
        "        # crop image\n",
        "        img=img[20:200,:,:]\n",
        "        # resize\n",
        "        img = Image.fromarray(img.astype(np.uint8))\n",
        "        img = img.resize((out_size,out_size))\n",
        "        # 灰度\n",
        "        img = img.convert('L')\n",
        "\n",
        "        #归一化：\n",
        "        imgdata=np.matrix(img.getdata(),dtype='float')\n",
        "        min_val = np.min(imgdata)\n",
        "        max_val = np.max(imgdata)\n",
        "        imgdata = (imgdata-min_val)/max_val\n",
        "        imgdata.reshape((out_size, out_size))\n",
        "        print(\"imgdata[0,:]\".format(imgdata[0,:]))\n",
        "        return imgdata"
      ],
      "execution_count": 0,
      "outputs": []
    },
    {
      "cell_type": "code",
      "metadata": {
        "id": "oRCoWn7g1c5-",
        "colab_type": "code",
        "colab": {}
      },
      "source": [
        "import gym\n",
        "env = gym.make(\"BreakoutDeterministic-v0\")"
      ],
      "execution_count": 0,
      "outputs": []
    },
    {
      "cell_type": "code",
      "metadata": {
        "id": "z3TCHMs81rRg",
        "colab_type": "code",
        "colab": {
          "base_uri": "https://localhost:8080/",
          "height": 50
        },
        "outputId": "3f9f0ec8-4dc6-49a5-a6ad-6c722e37f88b"
      },
      "source": [
        "print(env.action_space)\n",
        "print(env.observation_space)\n",
        "s0 = env.reset()"
      ],
      "execution_count": 13,
      "outputs": [
        {
          "output_type": "stream",
          "text": [
            "Discrete(4)\n",
            "Box(210, 160, 3)\n"
          ],
          "name": "stdout"
        }
      ]
    },
    {
      "cell_type": "code",
      "metadata": {
        "id": "la_vlmXi1i_2",
        "colab_type": "code",
        "colab": {}
      },
      "source": [
        "from PIL import Image\n",
        "import matplotlib.pyplot as plt\n"
      ],
      "execution_count": 0,
      "outputs": []
    },
    {
      "cell_type": "code",
      "metadata": {
        "id": "Bh6g-Nlt2PRM",
        "colab_type": "code",
        "colab": {
          "base_uri": "https://localhost:8080/",
          "height": 336
        },
        "outputId": "30477a7b-2372-4611-95e9-8693adb2047f"
      },
      "source": [
        "data = s0\n",
        "import numpy as np\n",
        "print(data.shape)\n",
        "data=data[20:210,:,:]\n",
        "new_im = Image.fromarray(data.astype(np.uint8))\n",
        "new_im = new_im.resize((24,24))\n",
        "new_im = new_im.convert('L')\n",
        "\n",
        "imgdata=np.matrix(new_im.getdata(),dtype='float')\n",
        "min_val, max_val = np.min(imgdata), np.max(imgdata)\n",
        "print(\"min_val={0}\\tmax_val={1}\".format(min_val, max_val))\n",
        "#imgdata = (imgdata+200)\n",
        "\n",
        "imgdata = imgdata.reshape((24,24))\n",
        "imgdata = imgdata+10\n",
        "plt.imshow(imgdata, cmap = plt.get_cmap('gray'))\n",
        "plt.show()\n",
        "print(imgdata[0])\n"
      ],
      "execution_count": 103,
      "outputs": [
        {
          "output_type": "stream",
          "text": [
            "(210, 160, 3)\n",
            "min_val=0.0\tmax_val=148.0\n"
          ],
          "name": "stdout"
        },
        {
          "output_type": "display_data",
          "data": {
            "image/png": "[encoded data removed]",
            "text/plain": [
              "<Figure size 432x288 with 1 Axes>"
            ]
          },
          "metadata": {
            "tags": []
          }
        },
        {
          "output_type": "stream",
          "text": [
            "[[152. 152. 152. 152. 152. 152. 152. 152. 152. 152. 152. 152. 152. 152.\n",
            "  152. 152. 152. 152. 152. 152. 152. 152. 152. 152.]]\n"
          ],
          "name": "stdout"
        }
      ]
    },
    {
      "cell_type": "code",
      "metadata": {
        "id": "23Iz3FB32v68",
        "colab_type": "code",
        "colab": {
          "base_uri": "https://localhost:8080/",
          "height": 1000
        },
        "outputId": "16fa3e0a-13f8-4cf8-d0af-81e3ed1de158"
      },
      "source": [
        "min_val, max_val = np.min(imgdata), np.max(imgdata)\n",
        "print(min_val)\n",
        "print(max_val)\n",
        "print(imgdata)\n",
        "print((imgdata-min_val)/max_val)\n"
      ],
      "execution_count": 82,
      "outputs": [
        {
          "output_type": "stream",
          "text": [
            "0.0\n",
            "148.0\n",
            "[[142. 142. 142. 142. 142. 142. 142. 142. 142. 142. 142. 142. 142. 142.\n",
            "  142. 142. 142. 142. 142. 142. 142. 142. 142. 142.]\n",
            " [142. 142. 142. 142. 142. 142. 142. 142. 142. 142. 142. 142. 142. 142.\n",
            "  142. 142. 142. 142. 142. 142. 142. 142. 142. 142.]\n",
            " [142.   0.   0.   0.   0.   0.   0.   0.   0.   0.   0.   0.   0.   0.\n",
            "    0.   0.   0.   0.   0.   0.   0.   0.   0. 142.]\n",
            " [142.   0.   0.   0.   0.   0.   0.   0.   0.   0.   0.   0.   0.   0.\n",
            "    0.   0.   0.   0.   0.   0.   0.   0.   0. 142.]\n",
            " [142.   0.   0.   0.   0.   0.   0.   0.   0.   0.   0.   0.   0.   0.\n",
            "    0.   0.   0.   0.   0.   0.   0.   0.   0. 142.]\n",
            " [142. 129. 129. 129. 129. 129. 129. 129. 129. 129. 129. 129. 129. 129.\n",
            "  129. 129. 129. 129. 129. 129. 129. 129. 129. 142.]\n",
            " [142. 130. 130. 130. 130. 130. 130. 130. 130. 130. 130. 130. 130. 130.\n",
            "  130. 130. 130. 130. 130. 130. 130. 130. 130. 142.]\n",
            " [142. 148. 148. 148. 148. 148. 148. 148. 148. 148. 148. 148. 148. 148.\n",
            "  148. 148. 148. 148. 148. 148. 148. 148. 148. 142.]\n",
            " [142.  84.  84.  84.  84.  84.  84.  84.  84.  84.  84.  84.  84.  84.\n",
            "   84.  84.  84.  84.  84.  84.  84.  84.  84. 142.]\n",
            " [142.   0.   0.   0.   0.   0.   0.   0.   0.   0.   0.   0.   0.   0.\n",
            "    0.   0.   0.   0.   0.   0.   0.   0.   0. 142.]\n",
            " [142.   0.   0.   0.   0.   0.   0.   0.   0.   0.   0.   0.   0.   0.\n",
            "    0.   0.   0.   0.   0.   0.   0.   0.   0. 142.]\n",
            " [142.   0.   0.   0.   0.   0.   0.   0.   0.   0.   0.   0.   0.   0.\n",
            "    0.   0.   0.   0.   0.   0.   0.   0.   0. 142.]\n",
            " [142.   0.   0.   0.   0.   0.   0.   0.   0.   0.   0.   0.   0.   0.\n",
            "    0.   0.   0.   0.   0.   0.   0.   0.   0. 142.]\n",
            " [142.   0.   0.   0.   0.   0.   0.   0.   0.   0.   0.   0.   0.   0.\n",
            "    0.   0.   0.   0.   0.   0.   0.   0.   0. 142.]\n",
            " [142.   0.   0.   0.   0.   0.   0.   0.   0.   0.   0.   0.   0.   0.\n",
            "    0.   0.   0.   0.   0.   0.   0.   0.   0. 142.]\n",
            " [142.   0.   0.   0.   0.   0.   0.   0.   0.   0.   0.   0.   0.   0.\n",
            "    0.   0.   0.   0.   0.   0.   0.   0.   0. 142.]\n",
            " [142.   0.   0.   0.   0.   0.   0.   0.   0.   0.   0.   0.   0.   0.\n",
            "    0.   0.   0.   0.   0.   0.   0.   0.   0. 142.]\n",
            " [142.   0.   0.   0.   0.   0.   0.   0.   0.   0.   0.   0.   0.   0.\n",
            "    0.   0.   0.   0.   0.   0.   0.   0.   0. 142.]\n",
            " [142.   0.   0.   0.   0.   0.   0.   0.   0.   0.   0.   0.   0.   0.\n",
            "    0.   0.   0.   0.   0.   0.   0.   0.   0. 142.]\n",
            " [142.   0.   0.   0.   0.   0.   0.   0.   0.   0.   0.   0.   0.   0.\n",
            "    0.   0.   0.   0.   0.   0.   0.   0.   0. 142.]\n",
            " [142.   0.   0.   0.   0.   0.   0.   0.   0.   0.   0.   0.   0.   0.\n",
            "    0.   0.   0.   0.   0.   0.   0.   0.   0. 142.]\n",
            " [127.   0.   0.   0.   0.   0.   0.   0.   0.   0.   0.   0.   0.   0.\n",
            "    0. 110. 110.   0.   0.   0.   0.   0.   0. 110.]\n",
            " [  0.   0.   0.   0.   0.   0.   0.   0.   0.   0.   0.   0.   0.   0.\n",
            "    0.   0.   0.   0.   0.   0.   0.   0.   0.   0.]\n",
            " [  0.   0.   0.   0.   0.   0.   0.   0.   0.   0.   0.   0.   0.   0.\n",
            "    0.   0.   0.   0.   0.   0.   0.   0.   0.   0.]]\n",
            "[[0.95945946 0.95945946 0.95945946 0.95945946 0.95945946 0.95945946\n",
            "  0.95945946 0.95945946 0.95945946 0.95945946 0.95945946 0.95945946\n",
            "  0.95945946 0.95945946 0.95945946 0.95945946 0.95945946 0.95945946\n",
            "  0.95945946 0.95945946 0.95945946 0.95945946 0.95945946 0.95945946]\n",
            " [0.95945946 0.95945946 0.95945946 0.95945946 0.95945946 0.95945946\n",
            "  0.95945946 0.95945946 0.95945946 0.95945946 0.95945946 0.95945946\n",
            "  0.95945946 0.95945946 0.95945946 0.95945946 0.95945946 0.95945946\n",
            "  0.95945946 0.95945946 0.95945946 0.95945946 0.95945946 0.95945946]\n",
            " [0.95945946 0.         0.         0.         0.         0.\n",
            "  0.         0.         0.         0.         0.         0.\n",
            "  0.         0.         0.         0.         0.         0.\n",
            "  0.         0.         0.         0.         0.         0.95945946]\n",
            " [0.95945946 0.         0.         0.         0.         0.\n",
            "  0.         0.         0.         0.         0.         0.\n",
            "  0.         0.         0.         0.         0.         0.\n",
            "  0.         0.         0.         0.         0.         0.95945946]\n",
            " [0.95945946 0.         0.         0.         0.         0.\n",
            "  0.         0.         0.         0.         0.         0.\n",
            "  0.         0.         0.         0.         0.         0.\n",
            "  0.         0.         0.         0.         0.         0.95945946]\n",
            " [0.95945946 0.87162162 0.87162162 0.87162162 0.87162162 0.87162162\n",
            "  0.87162162 0.87162162 0.87162162 0.87162162 0.87162162 0.87162162\n",
            "  0.87162162 0.87162162 0.87162162 0.87162162 0.87162162 0.87162162\n",
            "  0.87162162 0.87162162 0.87162162 0.87162162 0.87162162 0.95945946]\n",
            " [0.95945946 0.87837838 0.87837838 0.87837838 0.87837838 0.87837838\n",
            "  0.87837838 0.87837838 0.87837838 0.87837838 0.87837838 0.87837838\n",
            "  0.87837838 0.87837838 0.87837838 0.87837838 0.87837838 0.87837838\n",
            "  0.87837838 0.87837838 0.87837838 0.87837838 0.87837838 0.95945946]\n",
            " [0.95945946 1.         1.         1.         1.         1.\n",
            "  1.         1.         1.         1.         1.         1.\n",
            "  1.         1.         1.         1.         1.         1.\n",
            "  1.         1.         1.         1.         1.         0.95945946]\n",
            " [0.95945946 0.56756757 0.56756757 0.56756757 0.56756757 0.56756757\n",
            "  0.56756757 0.56756757 0.56756757 0.56756757 0.56756757 0.56756757\n",
            "  0.56756757 0.56756757 0.56756757 0.56756757 0.56756757 0.56756757\n",
            "  0.56756757 0.56756757 0.56756757 0.56756757 0.56756757 0.95945946]\n",
            " [0.95945946 0.         0.         0.         0.         0.\n",
            "  0.         0.         0.         0.         0.         0.\n",
            "  0.         0.         0.         0.         0.         0.\n",
            "  0.         0.         0.         0.         0.         0.95945946]\n",
            " [0.95945946 0.         0.         0.         0.         0.\n",
            "  0.         0.         0.         0.         0.         0.\n",
            "  0.         0.         0.         0.         0.         0.\n",
            "  0.         0.         0.         0.         0.         0.95945946]\n",
            " [0.95945946 0.         0.         0.         0.         0.\n",
            "  0.         0.         0.         0.         0.         0.\n",
            "  0.         0.         0.         0.         0.         0.\n",
            "  0.         0.         0.         0.         0.         0.95945946]\n",
            " [0.95945946 0.         0.         0.         0.         0.\n",
            "  0.         0.         0.         0.         0.         0.\n",
            "  0.         0.         0.         0.         0.         0.\n",
            "  0.         0.         0.         0.         0.         0.95945946]\n",
            " [0.95945946 0.         0.         0.         0.         0.\n",
            "  0.         0.         0.         0.         0.         0.\n",
            "  0.         0.         0.         0.         0.         0.\n",
            "  0.         0.         0.         0.         0.         0.95945946]\n",
            " [0.95945946 0.         0.         0.         0.         0.\n",
            "  0.         0.         0.         0.         0.         0.\n",
            "  0.         0.         0.         0.         0.         0.\n",
            "  0.         0.         0.         0.         0.         0.95945946]\n",
            " [0.95945946 0.         0.         0.         0.         0.\n",
            "  0.         0.         0.         0.         0.         0.\n",
            "  0.         0.         0.         0.         0.         0.\n",
            "  0.         0.         0.         0.         0.         0.95945946]\n",
            " [0.95945946 0.         0.         0.         0.         0.\n",
            "  0.         0.         0.         0.         0.         0.\n",
            "  0.         0.         0.         0.         0.         0.\n",
            "  0.         0.         0.         0.         0.         0.95945946]\n",
            " [0.95945946 0.         0.         0.         0.         0.\n",
            "  0.         0.         0.         0.         0.         0.\n",
            "  0.         0.         0.         0.         0.         0.\n",
            "  0.         0.         0.         0.         0.         0.95945946]\n",
            " [0.95945946 0.         0.         0.         0.         0.\n",
            "  0.         0.         0.         0.         0.         0.\n",
            "  0.         0.         0.         0.         0.         0.\n",
            "  0.         0.         0.         0.         0.         0.95945946]\n",
            " [0.95945946 0.         0.         0.         0.         0.\n",
            "  0.         0.         0.         0.         0.         0.\n",
            "  0.         0.         0.         0.         0.         0.\n",
            "  0.         0.         0.         0.         0.         0.95945946]\n",
            " [0.95945946 0.         0.         0.         0.         0.\n",
            "  0.         0.         0.         0.         0.         0.\n",
            "  0.         0.         0.         0.         0.         0.\n",
            "  0.         0.         0.         0.         0.         0.95945946]\n",
            " [0.85810811 0.         0.         0.         0.         0.\n",
            "  0.         0.         0.         0.         0.         0.\n",
            "  0.         0.         0.         0.74324324 0.74324324 0.\n",
            "  0.         0.         0.         0.         0.         0.74324324]\n",
            " [0.         0.         0.         0.         0.         0.\n",
            "  0.         0.         0.         0.         0.         0.\n",
            "  0.         0.         0.         0.         0.         0.\n",
            "  0.         0.         0.         0.         0.         0.        ]\n",
            " [0.         0.         0.         0.         0.         0.\n",
            "  0.         0.         0.         0.         0.         0.\n",
            "  0.         0.         0.         0.         0.         0.\n",
            "  0.         0.         0.         0.         0.         0.        ]]\n"
          ],
          "name": "stdout"
        }
      ]
    },
    {
      "cell_type": "code",
      "metadata": {
        "id": "97rccZu7-Z6W",
        "colab_type": "code",
        "colab": {}
      },
      "source": [
        ""
      ],
      "execution_count": 0,
      "outputs": []
    }
  ]
}