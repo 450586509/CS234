{
  "nbformat": 4,
  "nbformat_minor": 0,
  "metadata": {
    "colab": {
      "name": "08_rl_nlp.ipynb",
      "provenance": [],
      "toc_visible": true,
      "include_colab_link": true
    },
    "kernelspec": {
      "name": "python3",
      "display_name": "Python 3"
    }
  },
  "cells": [
    {
      "cell_type": "markdown",
      "metadata": {
        "id": "view-in-github",
        "colab_type": "text"
      },
      "source": [
        "<a href=\"https://colab.research.google.com/github/450586509/reinforcement-learning-practice/blob/master/08_rl_nlp.ipynb\" target=\"_parent\"><img src=\"https://colab.research.google.com/assets/colab-badge.svg\" alt=\"Open In Colab\"/></a>"
      ]
    },
    {
      "cell_type": "markdown",
      "metadata": {
        "id": "ZIozrkGuKISN",
        "colab_type": "text"
      },
      "source": [
        "### 名字生成\n",
        "\n",
        "利用rnn生成变量名，或者人名"
      ]
    },
    {
      "cell_type": "markdown",
      "metadata": {
        "id": "4J9rN2MCR31q",
        "colab_type": "text"
      },
      "source": [
        ""
      ]
    },
    {
      "cell_type": "code",
      "metadata": {
        "id": "dMmCzHyDD_j3",
        "colab_type": "code",
        "colab": {}
      },
      "source": [
        "import numpy as np\n",
        "import matplotlib.pyplot as plt\n",
        "%matplotlib inline"
      ],
      "execution_count": 0,
      "outputs": []
    },
    {
      "cell_type": "markdown",
      "metadata": {
        "id": "loEppykoK4NW",
        "colab_type": "text"
      },
      "source": [
        "训练数据：\n",
        "8k个拉丁文名字的训练数据。这种起名方法可以用到其它类似的场景，比如标题生成；游戏名称。"
      ]
    },
    {
      "cell_type": "code",
      "metadata": {
        "id": "J3mSv_aJKHgD",
        "colab_type": "code",
        "colab": {}
      },
      "source": [
        "import os\n",
        "start_token = \" \"\n",
        "# 数据来源于：https://github.com/yandexdataschool/Practical_RL/tree/master/week07_%5Brecap%5D_rnn/names\n",
        "with open(\"names.txt\") as f:\n",
        "    lines = f.read()[:-1].split('\\n')\n",
        "    lines = [start_token + name for name in lines]"
      ],
      "execution_count": 0,
      "outputs": []
    },
    {
      "cell_type": "code",
      "metadata": {
        "id": "4jPN5oJvPgaV",
        "colab_type": "code",
        "outputId": "7592ab78-a1cc-4163-b452-35a85b1fe6e0",
        "colab": {
          "base_uri": "https://localhost:8080/",
          "height": 34
        }
      },
      "source": [
        "lines[-3:-1]"
      ],
      "execution_count": 0,
      "outputs": [
        {
          "output_type": "execute_result",
          "data": {
            "text/plain": [
              "[' Rahul', ' Shumeet']"
            ]
          },
          "metadata": {
            "tags": []
          },
          "execution_count": 7
        }
      ]
    },
    {
      "cell_type": "code",
      "metadata": {
        "id": "PcyQjf6HMkiE",
        "colab_type": "code",
        "outputId": "9207edae-5aa2-4d9e-bd37-7cb063efe82a",
        "colab": {
          "base_uri": "https://localhost:8080/",
          "height": 449
        }
      },
      "source": [
        "\n",
        "MAX_LENGTH = max(map(len, lines))\n",
        "print(\"max length =\", MAX_LENGTH)\n",
        "\n",
        "plt.title('Sequence length distribution')\n",
        "plt.hist(list(map(len, lines)), bins=25)"
      ],
      "execution_count": 0,
      "outputs": [
        {
          "output_type": "stream",
          "text": [
            "max length = 16\n"
          ],
          "name": "stdout"
        },
        {
          "output_type": "execute_result",
          "data": {
            "text/plain": [
              "(array([1.900e+01, 2.720e+02, 0.000e+00, 9.260e+02, 0.000e+00, 1.878e+03,\n",
              "        0.000e+00, 2.049e+03, 0.000e+00, 1.447e+03, 0.000e+00, 8.460e+02,\n",
              "        0.000e+00, 3.510e+02, 0.000e+00, 1.160e+02, 0.000e+00, 2.400e+01,\n",
              "        0.000e+00, 1.000e+01, 0.000e+00, 3.000e+00, 0.000e+00, 1.000e+00,\n",
              "        2.000e+00]),\n",
              " array([ 3.  ,  3.52,  4.04,  4.56,  5.08,  5.6 ,  6.12,  6.64,  7.16,\n",
              "         7.68,  8.2 ,  8.72,  9.24,  9.76, 10.28, 10.8 , 11.32, 11.84,\n",
              "        12.36, 12.88, 13.4 , 13.92, 14.44, 14.96, 15.48, 16.  ]),\n",
              " <a list of 25 Patch objects>)"
            ]
          },
          "metadata": {
            "tags": []
          },
          "execution_count": 8
        },
        {
          "output_type": "display_data",
          "data": {
            "image/png": "[encoded data removed]",
            "text/plain": [
              "<Figure size 432x288 with 1 Axes>"
            ]
          },
          "metadata": {
            "tags": []
          }
        }
      ]
    },
    {
      "cell_type": "code",
      "metadata": {
        "id": "CrFkLF6FMnD_",
        "colab_type": "code",
        "colab": {}
      },
      "source": [
        ""
      ],
      "execution_count": 0,
      "outputs": []
    },
    {
      "cell_type": "markdown",
      "metadata": {
        "id": "L15yyRzFPHnl",
        "colab_type": "text"
      },
      "source": [
        "### 文本预处理\n",
        "生成字典"
      ]
    },
    {
      "cell_type": "code",
      "metadata": {
        "id": "nM1raQStN2ph",
        "colab_type": "code",
        "outputId": "9d1cdca1-5daf-4c5b-bf0b-029aa0e3dee4",
        "colab": {
          "base_uri": "https://localhost:8080/",
          "height": 34
        }
      },
      "source": [
        "tokens = set()\n",
        "tokens.update(\"\".join(lines))\n",
        "\n",
        "tokens = list(tokens)\n",
        "\n",
        "n_tokens = len(tokens)\n",
        "print('n_tokens = ', n_tokens)\n",
        "\n",
        "assert 50 < n_tokens < 60"
      ],
      "execution_count": 0,
      "outputs": [
        {
          "output_type": "stream",
          "text": [
            "n_tokens =  55\n"
          ],
          "name": "stdout"
        }
      ]
    },
    {
      "cell_type": "code",
      "metadata": {
        "id": "2eQKvjlyT43X",
        "colab_type": "code",
        "outputId": "ea2d8084-4007-4594-c04e-626c30608428",
        "colab": {
          "base_uri": "https://localhost:8080/",
          "height": 34
        }
      },
      "source": [
        "token_to_id = dict([(v,i) for i,v in enumerate(tokens)])\n",
        "assert len(tokens) == len(token_to_id), \"dictionaries must have same size\"\n",
        "for i in range(n_tokens):\n",
        "    assert token_to_id[tokens[i]] == i, \"token identifier must be it's position in tokens list\"\n",
        "print(\"Seems alright!\")"
      ],
      "execution_count": 0,
      "outputs": [
        {
          "output_type": "stream",
          "text": [
            "Seems alright!\n"
          ],
          "name": "stdout"
        }
      ]
    },
    {
      "cell_type": "code",
      "metadata": {
        "id": "vCHQb1_NT-RD",
        "colab_type": "code",
        "colab": {}
      },
      "source": [
        "def to_matrix(names, max_len=None, pad=token_to_id[' '], dtype='int32'):\n",
        "    \"\"\"Casts a list of names into rnn-digestable matrix\"\"\"\n",
        "    max_len = max_len or max(map(len, names))\n",
        "    names_ix = np.zeros([len(names), max_len], dtype) + pad\n",
        "\n",
        "    for i in range(len(names)):\n",
        "        name_ix = list(map(token_to_id.get, names[i]))\n",
        "        names_ix[i, :len(name_ix)] = name_ix\n",
        "\n",
        "    return names_ix"
      ],
      "execution_count": 0,
      "outputs": []
    },
    {
      "cell_type": "markdown",
      "metadata": {
        "id": "tEMQzBZKYr1w",
        "colab_type": "text"
      },
      "source": [
        "### 够着rnn图\n"
      ]
    },
    {
      "cell_type": "code",
      "metadata": {
        "id": "CSTuyaUDUdlK",
        "colab_type": "code",
        "outputId": "1dbbea8b-fed8-4842-a83f-afacc1765845",
        "colab": {
          "base_uri": "https://localhost:8080/",
          "height": 334
        }
      },
      "source": [
        "import tensorflow as tf\n",
        "import keras\n",
        "import keras.layers as L\n",
        "%tensorflow_version 1.x\n",
        "emb_size, rnn_size = 100, 256\n",
        "\n",
        "input_sequence = tf.placeholder('int32', (None, MAX_LENGTH))\n",
        "batch_size = tf.shape(input_sequence)[0]\n",
        "h0 = tf.zeros([batch_size, rnn_size])\n",
        "\n",
        "#embedding 层\n",
        "embed_x = L.Embedding(n_tokens, emb_size)\n",
        "\n",
        "# 全连接层，将当前步的input和上一个hidden state,转换为下一个hidden state\n",
        "get_h_next = L.Dense(rnn_size, activation='tanh')\n",
        "\n",
        "# a dense layer that maps current hidden state to probabilities of characters [h_t+1]->P(x_t+1|h_t+1)\n",
        "get_probas = L.Dense(n_tokens)\n",
        "\n",
        "def rnn_one_step(x_t, h_t):\n",
        "    x_t_emb = embed_x(tf.reshape(x_t, [-1, 1]))[:, 0]\n",
        "    input_h = tf.concat([x_t_emb, h_t], axis=-1)\n",
        "    next_h = get_h_next(input_h)\n",
        "    next_probas = get_probas(next_h)\n",
        "    return next_h, next_probas\n",
        "\n",
        "prev_h = h0\n",
        "predicted_probas = []\n",
        "\n",
        "for t in range(MAX_LENGTH):\n",
        "    x_t = input_sequence[:, t]\n",
        "\n",
        "    # 计算h_next和next_token。\n",
        "    next_h, next_probas = rnn_one_step(x_t, prev_h)\n",
        "    predicted_probas.append(next_probas)\n",
        "    prev_h = next_h\n",
        "\n",
        "predicted_probas = tf.stack(predicted_probas, axis=1)\n",
        "predictions_matrix = predicted_probas[:, :-1]\n",
        "\n",
        "assert predicted_probas.shape.as_list() == [None, MAX_LENGTH, n_tokens]\n",
        "assert prev_h.shape.as_list() == h0.shape.as_list()\n",
        "# label\n",
        "answers_matrix = tf.one_hot(input_sequence[:, 1:], n_tokens)\n",
        "\n",
        "print('predictions_matrix:', predictions_matrix.shape)\n",
        "print('answers_matrix:', predictions_matrix.shape)\n",
        "loss_step = tf.nn.softmax_cross_entropy_with_logits(logits=predictions_matrix, labels=answers_matrix)\n",
        "loss = tf.reduce_mean(loss_step)\n",
        "optimize = tf.train.AdamOptimizer().minimize(loss)"
      ],
      "execution_count": 0,
      "outputs": [
        {
          "output_type": "display_data",
          "data": {
            "text/html": [
              "<p style=\"color: red;\">\n",
              "The default version of TensorFlow in Colab will soon switch to TensorFlow 2.x.<br>\n",
              "We recommend you <a href=\"https://www.tensorflow.org/guide/migrate\" target=\"_blank\">upgrade</a> now \n",
              "or ensure your notebook will continue to use TensorFlow 1.x via the <code>%tensorflow_version 1.x</code> magic:\n",
              "<a href=\"https://colab.research.google.com/notebooks/tensorflow_version.ipynb\" target=\"_blank\">more info</a>.</p>\n"
            ],
            "text/plain": [
              "<IPython.core.display.HTML object>"
            ]
          },
          "metadata": {
            "tags": []
          }
        },
        {
          "output_type": "stream",
          "text": [
            "WARNING:tensorflow:From /usr/local/lib/python3.6/dist-packages/keras/backend/tensorflow_backend.py:66: The name tf.get_default_graph is deprecated. Please use tf.compat.v1.get_default_graph instead.\n",
            "\n",
            "WARNING:tensorflow:From /usr/local/lib/python3.6/dist-packages/keras/backend/tensorflow_backend.py:4432: The name tf.random_uniform is deprecated. Please use tf.random.uniform instead.\n",
            "\n"
          ],
          "name": "stdout"
        },
        {
          "output_type": "stream",
          "text": [
            "Using TensorFlow backend.\n"
          ],
          "name": "stderr"
        },
        {
          "output_type": "stream",
          "text": [
            "predictions_matrix: (?, 15, 55)\n",
            "answers_matrix: (?, 15, 55)\n",
            "WARNING:tensorflow:From <ipython-input-12-9a5154f8a07d>:48: softmax_cross_entropy_with_logits (from tensorflow.python.ops.nn_ops) is deprecated and will be removed in a future version.\n",
            "Instructions for updating:\n",
            "\n",
            "Future major versions of TensorFlow will allow gradients to flow\n",
            "into the labels input on backprop by default.\n",
            "\n",
            "See `tf.nn.softmax_cross_entropy_with_logits_v2`.\n",
            "\n"
          ],
          "name": "stdout"
        }
      ]
    },
    {
      "cell_type": "code",
      "metadata": {
        "id": "ea38zx0sbmOZ",
        "colab_type": "code",
        "colab": {}
      },
      "source": [
        "# TEST: single rnn step\n",
        "h1, p_y1 = rnn_one_step(input_sequence[:, 0], h0)\n",
        "\n",
        "dummy_data = np.arange(MAX_LENGTH * 2).reshape([2, -1])\n",
        "sess = tf.InteractiveSession()\n",
        "sess.run(tf.global_variables_initializer())\n",
        "test_h1, test_p_y1 = sess.run([h1, p_y1],  {input_sequence: dummy_data})\n",
        "\n",
        "assert test_h1.shape == (len(dummy_data), rnn_size)\n",
        "#assert test_p_y1.shape == (\n",
        "#    len(dummy_data), n_tokens) and np.allclose(test_p_y1.sum(-1), 1)"
      ],
      "execution_count": 0,
      "outputs": []
    },
    {
      "cell_type": "markdown",
      "metadata": {
        "id": "4fg--dxZuaxf",
        "colab_type": "text"
      },
      "source": [
        "训练"
      ]
    },
    {
      "cell_type": "code",
      "metadata": {
        "id": "mXv5WcB7uXFi",
        "colab_type": "code",
        "outputId": "e87fad14-a22b-478b-b932-e2e89a4bbdc9",
        "colab": {
          "base_uri": "https://localhost:8080/",
          "height": 265
        }
      },
      "source": [
        "from IPython.display import clear_output\n",
        "from random import sample\n",
        "sess.run(tf.global_variables_initializer())\n",
        "#lines = lines[0:1]\n",
        "history = []\n",
        "print(\"MAX_LENGTH={0}\".format(MAX_LENGTH))\n",
        "epoch_num = 50000\n",
        "batch_size = 64\n",
        "for i in range(epoch_num):\n",
        "    batch = to_matrix(sample(lines, batch_size), max_len=MAX_LENGTH)\n",
        "    loss_i, _ = sess.run([loss, optimize], {input_sequence: batch}) \n",
        "    if (i+1) % 500 == 0:\n",
        "      history.append(loss_i)\n",
        "      clear_output(True)\n",
        "      plt.plot(history, label='loss')\n",
        "      plt.legend()\n",
        "      plt.show()\n",
        "\n",
        "assert np.mean(history[:10]) > np.mean(history[-10:]), \"RNN didn't converge.\""
      ],
      "execution_count": 0,
      "outputs": [
        {
          "output_type": "display_data",
          "data": {
            "image/png": "[encoded data removed]",
            "text/plain": [
              "<Figure size 432x288 with 1 Axes>"
            ]
          },
          "metadata": {
            "tags": []
          }
        }
      ]
    },
    {
      "cell_type": "code",
      "metadata": {
        "id": "37s7LJ2NxkBV",
        "colab_type": "code",
        "outputId": "b6228ebc-5c12-46b5-f2fd-2493ba24ee77",
        "colab": {
          "base_uri": "https://localhost:8080/",
          "height": 185
        }
      },
      "source": [
        "history[-10:]"
      ],
      "execution_count": 0,
      "outputs": [
        {
          "output_type": "execute_result",
          "data": {
            "text/plain": [
              "[0.6362156,\n",
              " 0.62365985,\n",
              " 0.6169111,\n",
              " 0.62844646,\n",
              " 0.61816794,\n",
              " 0.62153995,\n",
              " 0.6324198,\n",
              " 0.61776155,\n",
              " 0.6227567,\n",
              " 0.6219831]"
            ]
          },
          "metadata": {
            "tags": []
          },
          "execution_count": 15
        }
      ]
    },
    {
      "cell_type": "code",
      "metadata": {
        "id": "KFnKOHwJXl6W",
        "colab_type": "code",
        "outputId": "190a11b7-48c3-43dd-ccae-924bbfd02aed",
        "colab": {
          "base_uri": "https://localhost:8080/",
          "height": 34
        }
      },
      "source": [
        "id_to_token = dict([(v, k) for k, v in token_to_id.items()])\n",
        "\n",
        "print(\"\".join([id_to_token[i] for i in batch[0]]))\n",
        "loss_step\n",
        "lt, pm, am = sess.run([loss_step,predictions_matrix,answers_matrix],{input_sequence: batch})\n",
        "#print(\"loss_step={}\".format(lt))\n",
        "#print(\"prediction={}\".format(pm[0][0]))\n",
        "#print(\"label={}\".format(am[0][0]))\n",
        "#v= tf.nn.softmax(np.array(am[0][0]))\n",
        "#print(v.eval())\n"
      ],
      "execution_count": 0,
      "outputs": [
        {
          "output_type": "stream",
          "text": [
            " Minni          \n"
          ],
          "name": "stdout"
        }
      ]
    },
    {
      "cell_type": "code",
      "metadata": {
        "id": "bXiK2fx284NT",
        "colab_type": "code",
        "colab": {}
      },
      "source": [
        "def softmax(x):\n",
        "    \"\"\"Compute softmax values for each sets of scores in x.\"\"\"\n",
        "    e_x = np.exp(x - np.max(x))\n",
        "    return e_x / e_x.sum(axis=0) # only difference\n",
        "\n",
        "x_t = tf.placeholder('int32', (None,))\n",
        "h_t = tf.Variable(np.zeros([1, rnn_size], 'float32'))\n",
        "\n",
        "next_h, next_probs = rnn_one_step(x_t, h_t)\n",
        "\n",
        "def generate_sample(seed_phrase=' ', max_length=MAX_LENGTH):\n",
        "    '''\n",
        "    The function generates text given a phrase of length at least SEQ_LENGTH.\n",
        "    :param seed_phrase: prefix characters. The RNN is asked to continue the phrase\n",
        "    :param max_length: maximum output length, including seed_phrase\n",
        "    :param temperature: coefficient for sampling.  higher temperature produces more chaotic outputs,\n",
        "                        smaller temperature converges to the single most likely output\n",
        "    '''\n",
        "    x_sequence = [token_to_id[token] for token in seed_phrase]\n",
        "    sess.run(tf.variables_initializer([h_t]))\n",
        "\n",
        "    # feed the seed phrase, if any\n",
        "    for ix in x_sequence[:-1]:\n",
        "        sess.run(tf.assign(h_t, next_h), {x_t: [ix]})\n",
        "\n",
        "    # start generating \n",
        "    for _ in range(max_length-len(seed_phrase)):\n",
        "        x_probs, _ = sess.run([next_probs, tf.assign(h_t, next_h)], {\n",
        "                              x_t: [x_sequence[-1]]})\n",
        "        \n",
        "        #print(\"x_probs={0}\".format(x_probs))\n",
        "        x_probs = tf.nn.softmax(x_probs).eval()\n",
        "        #x_probs = tf.nn.sofmax()\n",
        "        x_sequence.append(np.random.choice(n_tokens, p=x_probs[0]))\n",
        "        #print(\"x_sequence={0}\".format(x_sequence))\n",
        "\n",
        "    return ''.join([tokens[ix] for ix in x_sequence])"
      ],
      "execution_count": 0,
      "outputs": []
    },
    {
      "cell_type": "code",
      "metadata": {
        "id": "_azBVFXMMRpJ",
        "colab_type": "code",
        "outputId": "ad7442ad-05d7-4a41-9a4a-f951f57061ab",
        "colab": {
          "base_uri": "https://localhost:8080/",
          "height": 34
        }
      },
      "source": [
        "id_to_token = dict([(v, k) for k, v in token_to_id.items()])\n",
        "for _ in range(1):\n",
        "    print(generate_sample(\" Zab\"))"
      ],
      "execution_count": 0,
      "outputs": [
        {
          "output_type": "stream",
          "text": [
            " Zabrina        \n"
          ],
          "name": "stdout"
        }
      ]
    },
    {
      "cell_type": "code",
      "metadata": {
        "id": "d9BKyZTQ2oH5",
        "colab_type": "code",
        "outputId": "113c1854-a57d-4dfb-dd62-289d928f8cd9",
        "colab": {
          "base_uri": "https://localhost:8080/",
          "height": 54
        }
      },
      "source": [
        "line_filter = filter(lambda x: x.startswith(\" Za\"), lines)\n",
        "print(list(line_filter))"
      ],
      "execution_count": 0,
      "outputs": [
        {
          "output_type": "stream",
          "text": [
            "[' Zabrina', ' Zahara', ' Zandra', ' Zaneta', ' Zara', ' Zarah', ' Zaria', ' Zarla', ' Zach', ' Zacharia', ' Zachariah', ' Zacharias', ' Zacharie', ' Zachary', ' Zacherie', ' Zachery', ' Zack', ' Zackariah', ' Zak', ' Zalman', ' Zane', ' Zared', ' Zary']\n"
          ],
          "name": "stdout"
        }
      ]
    },
    {
      "cell_type": "code",
      "metadata": {
        "id": "57WAZEE1hHCx",
        "colab_type": "code",
        "colab": {}
      },
      "source": [
        ""
      ],
      "execution_count": 0,
      "outputs": []
    },
    {
      "cell_type": "markdown",
      "metadata": {
        "id": "SzClNTbnTekS",
        "colab_type": "text"
      },
      "source": [
        "### 每个bathc中使用不定长的序列长度\n",
        "测试不同类型的cell。"
      ]
    },
    {
      "cell_type": "code",
      "metadata": {
        "id": "4_zVupiSjJMa",
        "colab_type": "code",
        "outputId": "c9a100ca-dee7-4d56-8849-d33f810bed93",
        "colab": {
          "base_uri": "https://localhost:8080/",
          "height": 62
        }
      },
      "source": [
        "import tensorflow as tf\n",
        "import tensorflow.keras.layers as L\n",
        "%tensorflow_version 1.x"
      ],
      "execution_count": 1,
      "outputs": [
        {
          "output_type": "display_data",
          "data": {
            "text/html": [
              "<p style=\"color: red;\">\n",
              "The default version of TensorFlow in Colab will soon switch to TensorFlow 2.x.<br>\n",
              "We recommend you <a href=\"https://www.tensorflow.org/guide/migrate\" target=\"_blank\">upgrade</a> now \n",
              "or ensure your notebook will continue to use TensorFlow 1.x via the <code>%tensorflow_version 1.x</code> magic:\n",
              "<a href=\"https://colab.research.google.com/notebooks/tensorflow_version.ipynb\" target=\"_blank\">more info</a>.</p>\n"
            ],
            "text/plain": [
              "<IPython.core.display.HTML object>"
            ]
          },
          "metadata": {
            "tags": []
          }
        }
      ]
    },
    {
      "cell_type": "code",
      "metadata": {
        "id": "m52IuQr-A2ws",
        "colab_type": "code",
        "colab": {}
      },
      "source": [
        "class DataGenerator(object):\n",
        "    def __init__(self, samples, token2id):\n",
        "        self.data = samples\n",
        "        self.data_size = len(samples)\n",
        "        self.token2id = token2id\n",
        "\n",
        "    def batch_generator(self, epoch, batch_size):\n",
        "        num = (self.data_size // batch_size) + 1\n",
        "        print(\"batch per epoch={0}\".format(num))\n",
        "        step = 0\n",
        "        for j in range(epoch):\n",
        "            print(\"epoch={0}\".format(j))\n",
        "            for i in range(num):\n",
        "                start = i * batch_size\n",
        "                end = (i + 1) * batch_size\n",
        "                batch_data = self.data[start:end]\n",
        "\n",
        "                if len(batch_data) > 0:\n",
        "                    x, y = self.transform(batch_data)\n",
        "                    yield x, y, step, j\n",
        "                step = step + 1\n",
        "            # shuffle\n",
        "            # self.shuffle()\n",
        "\n",
        "    def shuffle(self):\n",
        "        perm = np.arange(self.data_size)\n",
        "        numpy.random.shuffle(perm)\n",
        "        self.data = self.data[perm]\n",
        "    def transform(self, lines):\n",
        "      \n",
        "      lines_ch = map(lambda x: list(x), lines)\n",
        "      #padding。\n",
        "      max_size = max(map(lambda x : len(x), lines))\n",
        "      lines_ch = list(map(lambda x: x + [\"#\" for i in range(max_size - len(x))], lines_ch))\n",
        "      #to num\n",
        "      lines_num = [[self.token2id[ch] for ch in line_ch]for line_ch in lines_ch]\n",
        "      lines_num = np.array(lines_num)\n",
        "      lines_ch_x = lines_num[:,:-1]\n",
        "      lines_ch_y = lines_num[:,1:]\n",
        "      return lines_ch_x, lines_ch_y\n",
        "\n",
        "\n",
        "with open(\"./names\") as f:\n",
        "    lines = f.read()[:-1].split('\\n')\n",
        "    #lines = [start_token + name for name in lines]\n",
        "\n",
        "lines_ch = list(map(lambda line: list(line), lines))\n",
        "lines_ch = list(map(lambda x: ['start']+x+['end'], lines_ch))\n",
        "from collections import Counter\n",
        "count = Counter()\n",
        "for ls in lines_ch:\n",
        "  count.update(ls)\n",
        "token2id={}\n",
        "for i,(k, v) in enumerate(count.most_common()):\n",
        "  token2id[k] = i\n",
        "\n",
        "token2id['#'] = len(token2id)"
      ],
      "execution_count": 0,
      "outputs": []
    },
    {
      "cell_type": "code",
      "metadata": {
        "id": "Se_oapcnD20q",
        "colab_type": "code",
        "colab": {}
      },
      "source": [
        ""
      ],
      "execution_count": 0,
      "outputs": []
    },
    {
      "cell_type": "code",
      "metadata": {
        "id": "ZhFnh42yEBpM",
        "colab_type": "code",
        "colab": {}
      },
      "source": [
        ""
      ],
      "execution_count": 0,
      "outputs": []
    },
    {
      "cell_type": "code",
      "metadata": {
        "id": "AkzezgXpjNA3",
        "colab_type": "code",
        "colab": {}
      },
      "source": [
        "# 配置\n",
        "emb_size, rnn_size = 100, 256\n",
        "batch_size = 32\n",
        "n_tokens = len(token2id)"
      ],
      "execution_count": 0,
      "outputs": []
    },
    {
      "cell_type": "code",
      "metadata": {
        "id": "3QuyHp9-Tk5F",
        "colab_type": "code",
        "outputId": "b0b5652c-b966-4293-bedb-6f9c5e67fb66",
        "colab": {
          "base_uri": "https://localhost:8080/",
          "height": 574
        }
      },
      "source": [
        "class CustomRNN(tf.nn.rnn_cell.BasicRNNCell):\n",
        "  def call(self, input, state):\n",
        "    input_h = tf.concat([input, state], axis=-1)\n",
        "    next_h = get_h_next(input_h)\n",
        "    return next_h, next_h\n",
        "\n",
        "  @property\n",
        "  def output_size(self):\n",
        "      return rnn_size\n",
        "\n",
        "#embedding 层\n",
        "embed_x = L.Embedding(n_tokens, emb_size)\n",
        "# 全连接层，将当前步的input和上一个hidden state,转换为下一个hidden state\n",
        "get_h_next = L.Dense(rnn_size, activation='tanh')\n",
        "# rnn的输出层。\n",
        "get_probas = L.Dense(n_tokens)\n",
        "\n",
        "x_ph = tf.placeholder(dtype=tf.float32,shape=(None, None),name=\"x_ph\")\n",
        "label_ph = tf.placeholder(dtype=tf.int32, shape=(None, None), name=\"label_ph\")\n",
        "x_embed = embed_x(x_ph)\n",
        "cell = CustomRNN(rnn_size)\n",
        "print(\"====================================\")\n",
        "print(\"x_ph.shape={}\".format(x_ph))\n",
        "print(\"x_embed.shape={}\".format(x_embed))\n",
        "\n",
        "\n",
        "#todo: time_major和dtype的作用\n",
        "#time_major的值决定了input和output的每个维度的含义。time_major=False时， inputs 和outputs 张量的形状格式为：[batch_size, max_time, input_size]。\n",
        "#time_major=True时，inputs 和outputs 张量的形状格式为：[max_time, batch_size, input_size]\n",
        "step_states, last_state = tf.nn.dynamic_rnn(cell, x_embed, time_major=False, dtype='float32')\n",
        "print(\"step_states shape={}\".format(step_states.shape))\n",
        "print(\"last shape={}\".format(last_state.shape))\n",
        "predicted_probas = get_probas(step_states)\n",
        "\n",
        "#todo predicted_probas每一个维度的含义。[batch_size, max_step_num, cell.output_size]\n",
        "print(\"predicted_probas={}\".format(predicted_probas.shape))\n",
        "answers_matrix = tf.one_hot(label_ph, n_tokens)\n",
        "\n",
        "loss_step = tf.nn.softmax_cross_entropy_with_logits(logits=predicted_probas, labels=answers_matrix)\n",
        "loss = tf.reduce_mean(loss_step)\n",
        "optimize = tf.train.AdamOptimizer().minimize(loss)\n",
        "\n"
      ],
      "execution_count": 6,
      "outputs": [
        {
          "output_type": "stream",
          "text": [
            "WARNING:tensorflow:From /usr/local/lib/python3.6/dist-packages/tensorflow_core/python/keras/initializers.py:119: calling RandomUniform.__init__ (from tensorflow.python.ops.init_ops) with dtype is deprecated and will be removed in a future version.\n",
            "Instructions for updating:\n",
            "Call initializer instance with the dtype argument instead of passing it to the constructor\n",
            "WARNING:tensorflow:From /usr/local/lib/python3.6/dist-packages/tensorflow_core/python/ops/resource_variable_ops.py:1630: calling BaseResourceVariable.__init__ (from tensorflow.python.ops.resource_variable_ops) with constraint is deprecated and will be removed in a future version.\n",
            "Instructions for updating:\n",
            "If using Keras pass *_constraint arguments to layers.\n",
            "WARNING:tensorflow:From <ipython-input-6-6449eac6f00f>:21: BasicRNNCell.__init__ (from tensorflow.python.ops.rnn_cell_impl) is deprecated and will be removed in a future version.\n",
            "Instructions for updating:\n",
            "This class is equivalent as tf.keras.layers.SimpleRNNCell, and will be replaced by that in Tensorflow 2.0.\n",
            "====================================\n",
            "x_ph.shape=Tensor(\"x_ph:0\", shape=(?, ?), dtype=float32)\n",
            "x_embed.shape=Tensor(\"embedding/embedding_lookup/Identity_1:0\", shape=(?, ?, 100), dtype=float32)\n",
            "WARNING:tensorflow:From <ipython-input-6-6449eac6f00f>:30: dynamic_rnn (from tensorflow.python.ops.rnn) is deprecated and will be removed in a future version.\n",
            "Instructions for updating:\n",
            "Please use `keras.layers.RNN(cell)`, which is equivalent to this API\n",
            "WARNING:tensorflow:From /usr/local/lib/python3.6/dist-packages/tensorflow_core/python/ops/rnn_cell_impl.py:456: Layer.add_variable (from tensorflow.python.keras.engine.base_layer) is deprecated and will be removed in a future version.\n",
            "Instructions for updating:\n",
            "Please use `layer.add_weight` method instead.\n",
            "WARNING:tensorflow:From /usr/local/lib/python3.6/dist-packages/tensorflow_core/python/ops/rnn_cell_impl.py:460: calling Zeros.__init__ (from tensorflow.python.ops.init_ops) with dtype is deprecated and will be removed in a future version.\n",
            "Instructions for updating:\n",
            "Call initializer instance with the dtype argument instead of passing it to the constructor\n",
            "step_states shape=(?, ?, 256)\n",
            "last shape=(?, 256)\n",
            "predicted_probas=(?, ?, 58)\n",
            "WARNING:tensorflow:From <ipython-input-6-6449eac6f00f>:39: softmax_cross_entropy_with_logits (from tensorflow.python.ops.nn_ops) is deprecated and will be removed in a future version.\n",
            "Instructions for updating:\n",
            "\n",
            "Future major versions of TensorFlow will allow gradients to flow\n",
            "into the labels input on backprop by default.\n",
            "\n",
            "See `tf.nn.softmax_cross_entropy_with_logits_v2`.\n",
            "\n"
          ],
          "name": "stdout"
        }
      ]
    },
    {
      "cell_type": "code",
      "metadata": {
        "id": "J1R22UIjWiyZ",
        "colab_type": "code",
        "colab": {}
      },
      "source": [
        "sess = tf.InteractiveSession()"
      ],
      "execution_count": 0,
      "outputs": []
    },
    {
      "cell_type": "code",
      "metadata": {
        "id": "H6sAfh3cmgrW",
        "colab_type": "code",
        "colab": {}
      },
      "source": [
        "sess.run(tf.global_variables_initializer())\n"
      ],
      "execution_count": 0,
      "outputs": []
    },
    {
      "cell_type": "code",
      "metadata": {
        "id": "xiCI9TdI8w7C",
        "colab_type": "code",
        "colab": {}
      },
      "source": [
        "data_gene = DataGenerator(samples=lines_ch, token2id=token2id)"
      ],
      "execution_count": 0,
      "outputs": []
    },
    {
      "cell_type": "code",
      "metadata": {
        "id": "oq0HpmJ_92yN",
        "colab_type": "code",
        "colab": {
          "base_uri": "https://localhost:8080/",
          "height": 1000
        },
        "outputId": "35ad2ee8-f8eb-49d9-fbb8-cb8723326f0a"
      },
      "source": [
        "from IPython.display import clear_output\n",
        "import numpy as np\n",
        "train_loss=[]\n",
        "index = 0\n",
        "for batch_x, batch_y,_,_ in data_gene.batch_generator(epoch=20, batch_size=64):\n",
        "  \n",
        "  while True:\n",
        "    index = index + 1\n",
        "    loss_val,_ = sess.run([loss, optimize], feed_dict={x_ph:batch_x, label_ph:batch_y})\n",
        "    if index%50 ==0:\n",
        "      print(\"loss_val={0}\".format(loss_val))\n",
        "  #if index % 10 == 0:\n",
        "  #  train_loss.append(loss_val)\n",
        "  #  clear_output(True)\n",
        "  #  plt.plot(train_loss, label='loss')\n",
        "  #  plt.legend()\n",
        "  #  plt.show()\n",
        "\n",
        "\n",
        "  \n"
      ],
      "execution_count": 14,
      "outputs": [
        {
          "output_type": "stream",
          "text": [
            "batch per epoch=125\n",
            "epoch=0\n",
            "loss_val=0.46593889594078064\n",
            "loss_val=0.465619295835495\n",
            "loss_val=0.46533939242362976\n",
            "loss_val=0.46509265899658203\n",
            "loss_val=0.46487364172935486\n",
            "loss_val=0.46467822790145874\n",
            "loss_val=0.4645030200481415\n",
            "loss_val=0.46434512734413147\n",
            "loss_val=0.4642024636268616\n",
            "loss_val=0.46407270431518555\n",
            "loss_val=0.46395450830459595\n",
            "loss_val=0.4638464152812958\n",
            "loss_val=0.4637472331523895\n",
            "loss_val=0.4636560082435608\n",
            "loss_val=0.4635718762874603\n",
            "loss_val=0.46349409222602844\n",
            "loss_val=0.46342214941978455\n",
            "loss_val=0.4633551239967346\n",
            "loss_val=0.4632928669452667\n",
            "loss_val=0.46323490142822266\n",
            "loss_val=0.46318066120147705\n",
            "loss_val=0.4631298780441284\n",
            "loss_val=0.46308252215385437\n",
            "loss_val=0.46303790807724\n",
            "loss_val=0.46299606561660767\n",
            "loss_val=0.46295663714408875\n",
            "loss_val=0.4629194438457489\n",
            "loss_val=0.46288448572158813\n",
            "loss_val=0.46285146474838257\n",
            "loss_val=0.46282026171684265\n",
            "loss_val=0.46279075741767883\n",
            "loss_val=0.46276262402534485\n",
            "loss_val=0.4627361297607422\n",
            "loss_val=0.4627109169960022\n",
            "loss_val=0.46268701553344727\n",
            "loss_val=0.46266427636146545\n",
            "loss_val=0.4626426100730896\n",
            "loss_val=0.46262210607528687\n",
            "loss_val=0.4626024067401886\n",
            "loss_val=0.4625837504863739\n",
            "loss_val=0.46256595849990845\n",
            "loss_val=0.4625488817691803\n",
            "loss_val=0.4625326693058014\n",
            "loss_val=0.46251705288887024\n",
            "loss_val=0.4625021517276764\n",
            "loss_val=0.46248796582221985\n",
            "loss_val=0.46247440576553345\n",
            "loss_val=0.4624612629413605\n",
            "loss_val=0.4624488651752472\n",
            "loss_val=0.46243688464164734\n",
            "loss_val=0.4624253809452057\n",
            "loss_val=0.46241438388824463\n",
            "loss_val=0.46240371465682983\n",
            "loss_val=0.46239355206489563\n",
            "loss_val=0.462383896112442\n",
            "loss_val=0.46237441897392273\n",
            "loss_val=0.4623652696609497\n",
            "loss_val=0.46235668659210205\n",
            "loss_val=0.4623483419418335\n",
            "loss_val=0.46234020590782166\n",
            "loss_val=0.46233245730400085\n",
            "loss_val=0.46232497692108154\n",
            "loss_val=0.46231788396835327\n",
            "loss_val=0.46232667565345764\n",
            "loss_val=0.46230900287628174\n",
            "loss_val=0.4622983932495117\n",
            "loss_val=0.4622920751571655\n",
            "loss_val=0.462286114692688\n",
            "loss_val=0.4622802734375\n",
            "loss_val=0.46228620409965515\n",
            "loss_val=0.46227073669433594\n",
            "loss_val=0.4622650146484375\n",
            "loss_val=0.46225982904434204\n",
            "loss_val=0.4623275399208069\n",
            "loss_val=0.4622516632080078\n",
            "loss_val=0.4622465670108795\n",
            "loss_val=0.4622419774532318\n",
            "loss_val=0.46223750710487366\n",
            "loss_val=0.46326202154159546\n"
          ],
          "name": "stdout"
        },
        {
          "output_type": "error",
          "ename": "KeyboardInterrupt",
          "evalue": "ignored",
          "traceback": [
            "\u001b[0;31m---------------------------------------------------------------------------\u001b[0m",
            "\u001b[0;31mKeyboardInterrupt\u001b[0m                         Traceback (most recent call last)",
            "\u001b[0;32m<ipython-input-14-499673af1abb>\u001b[0m in \u001b[0;36m<module>\u001b[0;34m()\u001b[0m\n\u001b[1;32m      7\u001b[0m   \u001b[0;32mwhile\u001b[0m \u001b[0;32mTrue\u001b[0m\u001b[0;34m:\u001b[0m\u001b[0;34m\u001b[0m\u001b[0;34m\u001b[0m\u001b[0m\n\u001b[1;32m      8\u001b[0m     \u001b[0mindex\u001b[0m \u001b[0;34m=\u001b[0m \u001b[0mindex\u001b[0m \u001b[0;34m+\u001b[0m \u001b[0;36m1\u001b[0m\u001b[0;34m\u001b[0m\u001b[0;34m\u001b[0m\u001b[0m\n\u001b[0;32m----> 9\u001b[0;31m     \u001b[0mloss_val\u001b[0m\u001b[0;34m,\u001b[0m\u001b[0m_\u001b[0m \u001b[0;34m=\u001b[0m \u001b[0msess\u001b[0m\u001b[0;34m.\u001b[0m\u001b[0mrun\u001b[0m\u001b[0;34m(\u001b[0m\u001b[0;34m[\u001b[0m\u001b[0mloss\u001b[0m\u001b[0;34m,\u001b[0m \u001b[0moptimize\u001b[0m\u001b[0;34m]\u001b[0m\u001b[0;34m,\u001b[0m \u001b[0mfeed_dict\u001b[0m\u001b[0;34m=\u001b[0m\u001b[0;34m{\u001b[0m\u001b[0mx_ph\u001b[0m\u001b[0;34m:\u001b[0m\u001b[0mbatch_x\u001b[0m\u001b[0;34m,\u001b[0m \u001b[0mlabel_ph\u001b[0m\u001b[0;34m:\u001b[0m\u001b[0mbatch_y\u001b[0m\u001b[0;34m}\u001b[0m\u001b[0;34m)\u001b[0m\u001b[0;34m\u001b[0m\u001b[0;34m\u001b[0m\u001b[0m\n\u001b[0m\u001b[1;32m     10\u001b[0m     \u001b[0;32mif\u001b[0m \u001b[0mindex\u001b[0m\u001b[0;34m%\u001b[0m\u001b[0;36m50\u001b[0m \u001b[0;34m==\u001b[0m\u001b[0;36m0\u001b[0m\u001b[0;34m:\u001b[0m\u001b[0;34m\u001b[0m\u001b[0;34m\u001b[0m\u001b[0m\n\u001b[1;32m     11\u001b[0m       \u001b[0mprint\u001b[0m\u001b[0;34m(\u001b[0m\u001b[0;34m\"loss_val={0}\"\u001b[0m\u001b[0;34m.\u001b[0m\u001b[0mformat\u001b[0m\u001b[0;34m(\u001b[0m\u001b[0mloss_val\u001b[0m\u001b[0;34m)\u001b[0m\u001b[0;34m)\u001b[0m\u001b[0;34m\u001b[0m\u001b[0;34m\u001b[0m\u001b[0m\n",
            "\u001b[0;32m/usr/local/lib/python3.6/dist-packages/tensorflow_core/python/client/session.py\u001b[0m in \u001b[0;36mrun\u001b[0;34m(self, fetches, feed_dict, options, run_metadata)\u001b[0m\n\u001b[1;32m    954\u001b[0m     \u001b[0;32mtry\u001b[0m\u001b[0;34m:\u001b[0m\u001b[0;34m\u001b[0m\u001b[0;34m\u001b[0m\u001b[0m\n\u001b[1;32m    955\u001b[0m       result = self._run(None, fetches, feed_dict, options_ptr,\n\u001b[0;32m--> 956\u001b[0;31m                          run_metadata_ptr)\n\u001b[0m\u001b[1;32m    957\u001b[0m       \u001b[0;32mif\u001b[0m \u001b[0mrun_metadata\u001b[0m\u001b[0;34m:\u001b[0m\u001b[0;34m\u001b[0m\u001b[0;34m\u001b[0m\u001b[0m\n\u001b[1;32m    958\u001b[0m         \u001b[0mproto_data\u001b[0m \u001b[0;34m=\u001b[0m \u001b[0mtf_session\u001b[0m\u001b[0;34m.\u001b[0m\u001b[0mTF_GetBuffer\u001b[0m\u001b[0;34m(\u001b[0m\u001b[0mrun_metadata_ptr\u001b[0m\u001b[0;34m)\u001b[0m\u001b[0;34m\u001b[0m\u001b[0;34m\u001b[0m\u001b[0m\n",
            "\u001b[0;32m/usr/local/lib/python3.6/dist-packages/tensorflow_core/python/client/session.py\u001b[0m in \u001b[0;36m_run\u001b[0;34m(self, handle, fetches, feed_dict, options, run_metadata)\u001b[0m\n\u001b[1;32m   1178\u001b[0m     \u001b[0;32mif\u001b[0m \u001b[0mfinal_fetches\u001b[0m \u001b[0;32mor\u001b[0m \u001b[0mfinal_targets\u001b[0m \u001b[0;32mor\u001b[0m \u001b[0;34m(\u001b[0m\u001b[0mhandle\u001b[0m \u001b[0;32mand\u001b[0m \u001b[0mfeed_dict_tensor\u001b[0m\u001b[0;34m)\u001b[0m\u001b[0;34m:\u001b[0m\u001b[0;34m\u001b[0m\u001b[0;34m\u001b[0m\u001b[0m\n\u001b[1;32m   1179\u001b[0m       results = self._do_run(handle, final_targets, final_fetches,\n\u001b[0;32m-> 1180\u001b[0;31m                              feed_dict_tensor, options, run_metadata)\n\u001b[0m\u001b[1;32m   1181\u001b[0m     \u001b[0;32melse\u001b[0m\u001b[0;34m:\u001b[0m\u001b[0;34m\u001b[0m\u001b[0;34m\u001b[0m\u001b[0m\n\u001b[1;32m   1182\u001b[0m       \u001b[0mresults\u001b[0m \u001b[0;34m=\u001b[0m \u001b[0;34m[\u001b[0m\u001b[0;34m]\u001b[0m\u001b[0;34m\u001b[0m\u001b[0;34m\u001b[0m\u001b[0m\n",
            "\u001b[0;32m/usr/local/lib/python3.6/dist-packages/tensorflow_core/python/client/session.py\u001b[0m in \u001b[0;36m_do_run\u001b[0;34m(self, handle, target_list, fetch_list, feed_dict, options, run_metadata)\u001b[0m\n\u001b[1;32m   1357\u001b[0m     \u001b[0;32mif\u001b[0m \u001b[0mhandle\u001b[0m \u001b[0;32mis\u001b[0m \u001b[0;32mNone\u001b[0m\u001b[0;34m:\u001b[0m\u001b[0;34m\u001b[0m\u001b[0;34m\u001b[0m\u001b[0m\n\u001b[1;32m   1358\u001b[0m       return self._do_call(_run_fn, feeds, fetches, targets, options,\n\u001b[0;32m-> 1359\u001b[0;31m                            run_metadata)\n\u001b[0m\u001b[1;32m   1360\u001b[0m     \u001b[0;32melse\u001b[0m\u001b[0;34m:\u001b[0m\u001b[0;34m\u001b[0m\u001b[0;34m\u001b[0m\u001b[0m\n\u001b[1;32m   1361\u001b[0m       \u001b[0;32mreturn\u001b[0m \u001b[0mself\u001b[0m\u001b[0;34m.\u001b[0m\u001b[0m_do_call\u001b[0m\u001b[0;34m(\u001b[0m\u001b[0m_prun_fn\u001b[0m\u001b[0;34m,\u001b[0m \u001b[0mhandle\u001b[0m\u001b[0;34m,\u001b[0m \u001b[0mfeeds\u001b[0m\u001b[0;34m,\u001b[0m \u001b[0mfetches\u001b[0m\u001b[0;34m)\u001b[0m\u001b[0;34m\u001b[0m\u001b[0;34m\u001b[0m\u001b[0m\n",
            "\u001b[0;32m/usr/local/lib/python3.6/dist-packages/tensorflow_core/python/client/session.py\u001b[0m in \u001b[0;36m_do_call\u001b[0;34m(self, fn, *args)\u001b[0m\n\u001b[1;32m   1363\u001b[0m   \u001b[0;32mdef\u001b[0m \u001b[0m_do_call\u001b[0m\u001b[0;34m(\u001b[0m\u001b[0mself\u001b[0m\u001b[0;34m,\u001b[0m \u001b[0mfn\u001b[0m\u001b[0;34m,\u001b[0m \u001b[0;34m*\u001b[0m\u001b[0margs\u001b[0m\u001b[0;34m)\u001b[0m\u001b[0;34m:\u001b[0m\u001b[0;34m\u001b[0m\u001b[0;34m\u001b[0m\u001b[0m\n\u001b[1;32m   1364\u001b[0m     \u001b[0;32mtry\u001b[0m\u001b[0;34m:\u001b[0m\u001b[0;34m\u001b[0m\u001b[0;34m\u001b[0m\u001b[0m\n\u001b[0;32m-> 1365\u001b[0;31m       \u001b[0;32mreturn\u001b[0m \u001b[0mfn\u001b[0m\u001b[0;34m(\u001b[0m\u001b[0;34m*\u001b[0m\u001b[0margs\u001b[0m\u001b[0;34m)\u001b[0m\u001b[0;34m\u001b[0m\u001b[0;34m\u001b[0m\u001b[0m\n\u001b[0m\u001b[1;32m   1366\u001b[0m     \u001b[0;32mexcept\u001b[0m \u001b[0merrors\u001b[0m\u001b[0;34m.\u001b[0m\u001b[0mOpError\u001b[0m \u001b[0;32mas\u001b[0m \u001b[0me\u001b[0m\u001b[0;34m:\u001b[0m\u001b[0;34m\u001b[0m\u001b[0;34m\u001b[0m\u001b[0m\n\u001b[1;32m   1367\u001b[0m       \u001b[0mmessage\u001b[0m \u001b[0;34m=\u001b[0m \u001b[0mcompat\u001b[0m\u001b[0;34m.\u001b[0m\u001b[0mas_text\u001b[0m\u001b[0;34m(\u001b[0m\u001b[0me\u001b[0m\u001b[0;34m.\u001b[0m\u001b[0mmessage\u001b[0m\u001b[0;34m)\u001b[0m\u001b[0;34m\u001b[0m\u001b[0;34m\u001b[0m\u001b[0m\n",
            "\u001b[0;32m/usr/local/lib/python3.6/dist-packages/tensorflow_core/python/client/session.py\u001b[0m in \u001b[0;36m_run_fn\u001b[0;34m(feed_dict, fetch_list, target_list, options, run_metadata)\u001b[0m\n\u001b[1;32m   1348\u001b[0m       \u001b[0mself\u001b[0m\u001b[0;34m.\u001b[0m\u001b[0m_extend_graph\u001b[0m\u001b[0;34m(\u001b[0m\u001b[0;34m)\u001b[0m\u001b[0;34m\u001b[0m\u001b[0;34m\u001b[0m\u001b[0m\n\u001b[1;32m   1349\u001b[0m       return self._call_tf_sessionrun(options, feed_dict, fetch_list,\n\u001b[0;32m-> 1350\u001b[0;31m                                       target_list, run_metadata)\n\u001b[0m\u001b[1;32m   1351\u001b[0m \u001b[0;34m\u001b[0m\u001b[0m\n\u001b[1;32m   1352\u001b[0m     \u001b[0;32mdef\u001b[0m \u001b[0m_prun_fn\u001b[0m\u001b[0;34m(\u001b[0m\u001b[0mhandle\u001b[0m\u001b[0;34m,\u001b[0m \u001b[0mfeed_dict\u001b[0m\u001b[0;34m,\u001b[0m \u001b[0mfetch_list\u001b[0m\u001b[0;34m)\u001b[0m\u001b[0;34m:\u001b[0m\u001b[0;34m\u001b[0m\u001b[0;34m\u001b[0m\u001b[0m\n",
            "\u001b[0;32m/usr/local/lib/python3.6/dist-packages/tensorflow_core/python/client/session.py\u001b[0m in \u001b[0;36m_call_tf_sessionrun\u001b[0;34m(self, options, feed_dict, fetch_list, target_list, run_metadata)\u001b[0m\n\u001b[1;32m   1441\u001b[0m     return tf_session.TF_SessionRun_wrapper(self._session, options, feed_dict,\n\u001b[1;32m   1442\u001b[0m                                             \u001b[0mfetch_list\u001b[0m\u001b[0;34m,\u001b[0m \u001b[0mtarget_list\u001b[0m\u001b[0;34m,\u001b[0m\u001b[0;34m\u001b[0m\u001b[0;34m\u001b[0m\u001b[0m\n\u001b[0;32m-> 1443\u001b[0;31m                                             run_metadata)\n\u001b[0m\u001b[1;32m   1444\u001b[0m \u001b[0;34m\u001b[0m\u001b[0m\n\u001b[1;32m   1445\u001b[0m   \u001b[0;32mdef\u001b[0m \u001b[0m_call_tf_sessionprun\u001b[0m\u001b[0;34m(\u001b[0m\u001b[0mself\u001b[0m\u001b[0;34m,\u001b[0m \u001b[0mhandle\u001b[0m\u001b[0;34m,\u001b[0m \u001b[0mfeed_dict\u001b[0m\u001b[0;34m,\u001b[0m \u001b[0mfetch_list\u001b[0m\u001b[0;34m)\u001b[0m\u001b[0;34m:\u001b[0m\u001b[0;34m\u001b[0m\u001b[0;34m\u001b[0m\u001b[0m\n",
            "\u001b[0;31mKeyboardInterrupt\u001b[0m: "
          ]
        }
      ]
    },
    {
      "cell_type": "code",
      "metadata": {
        "id": "-9phgRO696bt",
        "colab_type": "code",
        "colab": {
          "base_uri": "https://localhost:8080/",
          "height": 67
        },
        "outputId": "c729106e-03ed-426a-9407-17697515c382"
      },
      "source": [
        ""
      ],
      "execution_count": 53,
      "outputs": [
        {
          "output_type": "execute_result",
          "data": {
            "text/plain": [
              "[['s_start', 'a', 's_end', '#'],\n",
              " ['s_start', 'a', 'b', 's_end'],\n",
              " ['s_start', 'a', 'b', 'c']]"
            ]
          },
          "metadata": {
            "tags": []
          },
          "execution_count": 53
        }
      ]
    },
    {
      "cell_type": "code",
      "metadata": {
        "id": "u4qFMbMq_pWg",
        "colab_type": "code",
        "colab": {
          "base_uri": "https://localhost:8080/",
          "height": 34
        },
        "outputId": "b0f6f13b-b1e2-46e3-abb9-4c8621222762"
      },
      "source": [
        "y"
      ],
      "execution_count": 54,
      "outputs": [
        {
          "output_type": "execute_result",
          "data": {
            "text/plain": [
              "[['a', 's_end', '#', '#'], ['a', 'b', 's_end', '#'], ['a', 'b', 'c', 's_end']]"
            ]
          },
          "metadata": {
            "tags": []
          },
          "execution_count": 54
        }
      ]
    },
    {
      "cell_type": "code",
      "metadata": {
        "id": "dEKO74hc_rM3",
        "colab_type": "code",
        "colab": {}
      },
      "source": [
        ""
      ],
      "execution_count": 0,
      "outputs": []
    }
  ]
}