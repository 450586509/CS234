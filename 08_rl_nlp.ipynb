{
  "nbformat": 4,
  "nbformat_minor": 0,
  "metadata": {
    "colab": {
      "name": "08_rl_nlp.ipynb",
      "provenance": [],
      "toc_visible": true,
      "include_colab_link": true
    },
    "kernelspec": {
      "name": "python3",
      "display_name": "Python 3"
    },
    "accelerator": "GPU"
  },
  "cells": [
    {
      "cell_type": "markdown",
      "metadata": {
        "id": "view-in-github",
        "colab_type": "text"
      },
      "source": [
        "<a href=\"https://colab.research.google.com/github/450586509/reinforcement-learning-practice/blob/master/08_rl_nlp.ipynb\" target=\"_parent\"><img src=\"https://colab.research.google.com/assets/colab-badge.svg\" alt=\"Open In Colab\"/></a>"
      ]
    },
    {
      "cell_type": "markdown",
      "metadata": {
        "id": "ZIozrkGuKISN",
        "colab_type": "text"
      },
      "source": [
        "### 名字生成\n",
        "\n",
        "利用rnn生成变量名，或者人名"
      ]
    },
    {
      "cell_type": "code",
      "metadata": {
        "id": "dMmCzHyDD_j3",
        "colab_type": "code",
        "colab": {}
      },
      "source": [
        "import numpy as np\n",
        "import matplotlib.pyplot as plt\n",
        "%matplotlib inline"
      ],
      "execution_count": 0,
      "outputs": []
    },
    {
      "cell_type": "markdown",
      "metadata": {
        "id": "loEppykoK4NW",
        "colab_type": "text"
      },
      "source": [
        "训练数据：\n",
        "8k个拉丁文名字的训练数据。这种起名方法可以用到其它类似的场景，比如标题生成；游戏名称。"
      ]
    },
    {
      "cell_type": "code",
      "metadata": {
        "id": "J3mSv_aJKHgD",
        "colab_type": "code",
        "colab": {}
      },
      "source": [
        "import os\n",
        "start_token = \" \"\n",
        "# 数据来源于：https://github.com/yandexdataschool/Practical_RL/tree/master/week07_%5Brecap%5D_rnn/names\n",
        "with open(\"names\") as f:\n",
        "    lines = f.read()[:-1].split('\\n')\n",
        "    lines = [start_token + name for name in lines]"
      ],
      "execution_count": 0,
      "outputs": []
    },
    {
      "cell_type": "code",
      "metadata": {
        "id": "4jPN5oJvPgaV",
        "colab_type": "code",
        "outputId": "fc3e40ff-7ba1-4a62-f7a0-4f5ee99f4dd0",
        "colab": {
          "base_uri": "https://localhost:8080/",
          "height": 35
        }
      },
      "source": [
        "lines[-3:-1]"
      ],
      "execution_count": 33,
      "outputs": [
        {
          "output_type": "execute_result",
          "data": {
            "text/plain": [
              "[' Rahul', ' Shumeet']"
            ]
          },
          "metadata": {
            "tags": []
          },
          "execution_count": 33
        }
      ]
    },
    {
      "cell_type": "code",
      "metadata": {
        "id": "PcyQjf6HMkiE",
        "colab_type": "code",
        "outputId": "af49ebc9-2e66-43bb-cb76-0e0262fc9c06",
        "colab": {
          "base_uri": "https://localhost:8080/",
          "height": 455
        }
      },
      "source": [
        "\n",
        "MAX_LENGTH = max(map(len, lines))\n",
        "print(\"max length =\", MAX_LENGTH)\n",
        "\n",
        "plt.title('Sequence length distribution')\n",
        "plt.hist(list(map(len, lines)), bins=25)"
      ],
      "execution_count": 34,
      "outputs": [
        {
          "output_type": "stream",
          "text": [
            "max length = 16\n"
          ],
          "name": "stdout"
        },
        {
          "output_type": "execute_result",
          "data": {
            "text/plain": [
              "(array([1.900e+01, 2.720e+02, 0.000e+00, 9.260e+02, 0.000e+00, 1.878e+03,\n",
              "        0.000e+00, 2.049e+03, 0.000e+00, 1.447e+03, 0.000e+00, 8.460e+02,\n",
              "        0.000e+00, 3.510e+02, 0.000e+00, 1.160e+02, 0.000e+00, 2.400e+01,\n",
              "        0.000e+00, 1.000e+01, 0.000e+00, 3.000e+00, 0.000e+00, 1.000e+00,\n",
              "        2.000e+00]),\n",
              " array([ 3.  ,  3.52,  4.04,  4.56,  5.08,  5.6 ,  6.12,  6.64,  7.16,\n",
              "         7.68,  8.2 ,  8.72,  9.24,  9.76, 10.28, 10.8 , 11.32, 11.84,\n",
              "        12.36, 12.88, 13.4 , 13.92, 14.44, 14.96, 15.48, 16.  ]),\n",
              " <a list of 25 Patch objects>)"
            ]
          },
          "metadata": {
            "tags": []
          },
          "execution_count": 34
        },
        {
          "output_type": "display_data",
          "data": {
            "image/png": "[encoded data removed]",
            "text/plain": [
              "<Figure size 432x288 with 1 Axes>"
            ]
          },
          "metadata": {
            "tags": []
          }
        }
      ]
    },
    {
      "cell_type": "code",
      "metadata": {
        "id": "CrFkLF6FMnD_",
        "colab_type": "code",
        "colab": {}
      },
      "source": [
        ""
      ],
      "execution_count": 0,
      "outputs": []
    },
    {
      "cell_type": "markdown",
      "metadata": {
        "id": "L15yyRzFPHnl",
        "colab_type": "text"
      },
      "source": [
        "### 文本预处理\n",
        "生成字典"
      ]
    },
    {
      "cell_type": "code",
      "metadata": {
        "id": "nM1raQStN2ph",
        "colab_type": "code",
        "outputId": "65283097-fae2-4cd0-dc43-6c1dd40be72f",
        "colab": {
          "base_uri": "https://localhost:8080/",
          "height": 35
        }
      },
      "source": [
        "tokens = set()\n",
        "tokens.update(\"\".join(lines))\n",
        "\n",
        "tokens = list(tokens)\n",
        "\n",
        "n_tokens = len(tokens)\n",
        "print('n_tokens = ', n_tokens)\n",
        "\n",
        "assert 50 < n_tokens < 60"
      ],
      "execution_count": 35,
      "outputs": [
        {
          "output_type": "stream",
          "text": [
            "n_tokens =  55\n"
          ],
          "name": "stdout"
        }
      ]
    },
    {
      "cell_type": "code",
      "metadata": {
        "id": "2eQKvjlyT43X",
        "colab_type": "code",
        "outputId": "3047ba21-7014-4b8c-e775-ee64d9c5daa4",
        "colab": {
          "base_uri": "https://localhost:8080/",
          "height": 35
        }
      },
      "source": [
        "token_to_id = dict([(v,i) for i,v in enumerate(tokens)])\n",
        "assert len(tokens) == len(token_to_id), \"dictionaries must have same size\"\n",
        "for i in range(n_tokens):\n",
        "    assert token_to_id[tokens[i]] == i, \"token identifier must be it's position in tokens list\"\n",
        "print(\"Seems alright!\")"
      ],
      "execution_count": 36,
      "outputs": [
        {
          "output_type": "stream",
          "text": [
            "Seems alright!\n"
          ],
          "name": "stdout"
        }
      ]
    },
    {
      "cell_type": "code",
      "metadata": {
        "id": "vCHQb1_NT-RD",
        "colab_type": "code",
        "colab": {}
      },
      "source": [
        "def to_matrix(names, max_len=None, pad=token_to_id[' '], dtype='int32'):\n",
        "    \"\"\"Casts a list of names into rnn-digestable matrix\"\"\"\n",
        "    max_len = max_len or max(map(len, names))\n",
        "    names_ix = np.zeros([len(names), max_len], dtype) + pad\n",
        "\n",
        "    for i in range(len(names)):\n",
        "        name_ix = list(map(token_to_id.get, names[i]))\n",
        "        names_ix[i, :len(name_ix)] = name_ix\n",
        "\n",
        "    return names_ix"
      ],
      "execution_count": 0,
      "outputs": []
    },
    {
      "cell_type": "markdown",
      "metadata": {
        "id": "tEMQzBZKYr1w",
        "colab_type": "text"
      },
      "source": [
        "### 够着rnn图\n"
      ]
    },
    {
      "cell_type": "code",
      "metadata": {
        "id": "CSTuyaUDUdlK",
        "colab_type": "code",
        "colab": {
          "base_uri": "https://localhost:8080/",
          "height": 52
        },
        "outputId": "56d645da-8dd6-485f-daa0-a6fc5c7fc56a"
      },
      "source": [
        "import tensorflow as tf\n",
        "import keras\n",
        "import keras.layers as L\n",
        "%tensorflow_version 1.x\n",
        "emb_size, rnn_size = 100, 256\n",
        "\n",
        "input_sequence = tf.placeholder('int32', (None, MAX_LENGTH))\n",
        "batch_size = tf.shape(input_sequence)[0]\n",
        "h0 = tf.zeros([batch_size, rnn_size])\n",
        "\n",
        "#embedding 层\n",
        "embed_x = L.Embedding(n_tokens, emb_size)\n",
        "\n",
        "# 全连接层，将当前步的input和上一个hidden state,转换为下一个hidden state\n",
        "get_h_next = L.Dense(rnn_size, activation='tanh')\n",
        "\n",
        "# a dense layer that maps current hidden state to probabilities of characters [h_t+1]->P(x_t+1|h_t+1)\n",
        "get_probas = L.Dense(n_tokens, activation='softmax')\n",
        "\n",
        "def rnn_one_step(x_t, h_t):\n",
        "    x_t_emb = embed_x(tf.reshape(x_t, [-1, 1]))[:, 0]\n",
        "    input_h = tf.concat([x_t_emb, h_t], axis=-1)\n",
        "    next_h = get_h_next(input_h)\n",
        "    next_probas = get_probas(next_h)\n",
        "    return next_h, next_probas\n",
        "\n",
        "h_prev = h0\n",
        "predicted_probas = []\n",
        "\n",
        "for t in range(MAX_LENGTH):\n",
        "    x_t = input_sequence[:, t]\n",
        "\n",
        "    # 计算h_next和next_token。\n",
        "    h_next, probas_next = rnn_one_step(x_t, h_prev)\n",
        "    predicted_probas.append(probas_next)\n",
        "    h_prev = h_next\n",
        "\n",
        "predicted_probas = tf.stack(predicted_probas, axis=1)\n",
        "predictions_matrix = predicted_probas[:, :-1]\n",
        "\n",
        "assert predicted_probas.shape.as_list() == [None, MAX_LENGTH, n_tokens]\n",
        "assert h_prev.shape.as_list() == h0.shape.as_list()\n",
        "# label\n",
        "answers_matrix = tf.one_hot(input_sequence[:, 1:], n_tokens)\n",
        "\n",
        "print('predictions_matrix:', predictions_matrix.shape)\n",
        "print('answers_matrix:', predictions_matrix.shape)\n",
        "loss_step = tf.nn.softmax_cross_entropy_with_logits(logits=predictions_matrix, labels=answers_matrix)\n",
        "loss = tf.reduce_mean(loss_step)\n",
        "optimize = tf.train.AdamOptimizer().minimize(loss)"
      ],
      "execution_count": 38,
      "outputs": [
        {
          "output_type": "stream",
          "text": [
            "predictions_matrix: (?, 15, 55)\n",
            "answers_matrix: (?, 15, 55)\n"
          ],
          "name": "stdout"
        }
      ]
    },
    {
      "cell_type": "code",
      "metadata": {
        "id": "ea38zx0sbmOZ",
        "colab_type": "code",
        "colab": {
          "base_uri": "https://localhost:8080/",
          "height": 72
        },
        "outputId": "70a48f84-67dc-426c-aa53-50df8b0a97b1"
      },
      "source": [
        "# TEST: single rnn step\n",
        "h1, p_y1 = rnn_one_step(input_sequence[:, 0], h0)\n",
        "\n",
        "dummy_data = np.arange(MAX_LENGTH * 2).reshape([2, -1])\n",
        "sess = tf.InteractiveSession()\n",
        "sess.run(tf.global_variables_initializer())\n",
        "test_h1, test_p_y1 = sess.run([h1, p_y1],  {input_sequence: dummy_data})\n",
        "\n",
        "assert test_h1.shape == (len(dummy_data), rnn_size)\n",
        "assert test_p_y1.shape == (\n",
        "    len(dummy_data), n_tokens) and np.allclose(test_p_y1.sum(-1), 1)"
      ],
      "execution_count": 39,
      "outputs": [
        {
          "output_type": "stream",
          "text": [
            "/usr/local/lib/python3.6/dist-packages/tensorflow_core/python/client/session.py:1750: UserWarning: An interactive session is already active. This can cause out-of-memory errors in some cases. You must explicitly call `InteractiveSession.close()` to release resources held by the other session(s).\n",
            "  warnings.warn('An interactive session is already active. This can '\n"
          ],
          "name": "stderr"
        }
      ]
    },
    {
      "cell_type": "markdown",
      "metadata": {
        "id": "4fg--dxZuaxf",
        "colab_type": "text"
      },
      "source": [
        "训练"
      ]
    },
    {
      "cell_type": "code",
      "metadata": {
        "id": "mXv5WcB7uXFi",
        "colab_type": "code",
        "colab": {
          "base_uri": "https://localhost:8080/",
          "height": 265
        },
        "outputId": "2434d75f-9f1d-43f5-ebd3-35787fc98295"
      },
      "source": [
        "from IPython.display import clear_output\n",
        "from random import sample\n",
        "sess.run(tf.global_variables_initializer())\n",
        "lines = lines[0:33]\n",
        "history = []\n",
        "print(\"MAX_LENGTH={0}\".format(MAX_LENGTH))\n",
        "epoch_num = 5000\n",
        "for i in range(epoch_num):\n",
        "    batch = to_matrix(sample(lines, 32), max_len=MAX_LENGTH)\n",
        "    loss_i, _ = sess.run([loss, optimize], {input_sequence: batch}) \n",
        "    if (i+1) % (epoch_num/100) == 0:\n",
        "      history.append(loss_i)\n",
        "      clear_output(True)\n",
        "      plt.plot(history, label='loss')\n",
        "      plt.legend()\n",
        "      plt.show()\n",
        "\n",
        "assert np.mean(history[:10]) > np.mean(history[-10:]), \"RNN didn't converge.\""
      ],
      "execution_count": 41,
      "outputs": [
        {
          "output_type": "display_data",
          "data": {
            "image/png": "[encoded data removed]",
            "text/plain": [
              "<Figure size 432x288 with 1 Axes>"
            ]
          },
          "metadata": {
            "tags": []
          }
        }
      ]
    },
    {
      "cell_type": "code",
      "metadata": {
        "id": "37s7LJ2NxkBV",
        "colab_type": "code",
        "colab": {
          "base_uri": "https://localhost:8080/",
          "height": 191
        },
        "outputId": "8cb4b9bb-94b0-4c76-d6af-7e9c85b67434"
      },
      "source": [
        "history[-10:]"
      ],
      "execution_count": 42,
      "outputs": [
        {
          "output_type": "execute_result",
          "data": {
            "text/plain": [
              "[3.29643,\n",
              " 3.288097,\n",
              " 3.2922635,\n",
              " 3.2922635,\n",
              " 3.2943468,\n",
              " 3.288097,\n",
              " 3.288097,\n",
              " 3.29643,\n",
              " 3.288097,\n",
              " 3.288097]"
            ]
          },
          "metadata": {
            "tags": []
          },
          "execution_count": 42
        }
      ]
    },
    {
      "cell_type": "code",
      "metadata": {
        "id": "bXiK2fx284NT",
        "colab_type": "code",
        "colab": {}
      },
      "source": [
        "x_t = tf.placeholder('int32', (None,))\n",
        "h_t = tf.Variable(np.zeros([1, rnn_size], 'float32'))\n",
        "\n",
        "next_h, next_probs = rnn_one_step(x_t, h_t)\n",
        "\n",
        "def generate_sample(seed_phrase=' ', max_length=MAX_LENGTH):\n",
        "    '''\n",
        "    The function generates text given a phrase of length at least SEQ_LENGTH.\n",
        "    :param seed_phrase: prefix characters. The RNN is asked to continue the phrase\n",
        "    :param max_length: maximum output length, including seed_phrase\n",
        "    :param temperature: coefficient for sampling.  higher temperature produces more chaotic outputs,\n",
        "                        smaller temperature converges to the single most likely output\n",
        "    '''\n",
        "    x_sequence = [token_to_id[token] for token in seed_phrase]\n",
        "    sess.run(tf.variables_initializer([h_t]))\n",
        "\n",
        "    # feed the seed phrase, if any\n",
        "    for ix in x_sequence[:-1]:\n",
        "        sess.run(tf.assign(h_t, next_h), {x_t: [ix]})\n",
        "\n",
        "    # start generating \n",
        "    for _ in range(max_length-len(seed_phrase)):\n",
        "        x_probs, _ = sess.run([next_probs, tf.assign(h_t, next_h)], {\n",
        "                              x_t: [x_sequence[-1]]})\n",
        "        #print(\"x_probs={0}\".format(x_probs))\n",
        "        x_sequence.append(np.random.choice(n_tokens, p=x_probs[0]))\n",
        "        #print(\"x_sequence={0}\".format(x_sequence))\n",
        "\n",
        "    return ''.join([tokens[ix] for ix in x_sequence])"
      ],
      "execution_count": 0,
      "outputs": []
    },
    {
      "cell_type": "code",
      "metadata": {
        "id": "_azBVFXMMRpJ",
        "colab_type": "code",
        "colab": {}
      },
      "source": [
        "id_to_token = dict([(v, k) for k, v in token_to_id.items()])\n",
        "for _ in range(1):\n",
        "    print(generate_sample(\" Aar\"))"
      ],
      "execution_count": 0,
      "outputs": []
    }
  ]
}