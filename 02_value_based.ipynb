{
  "nbformat": 4,
  "nbformat_minor": 0,
  "metadata": {
    "colab": {
      "name": "02_value_based.ipynb",
      "version": "0.3.2",
      "provenance": [],
      "include_colab_link": true
    },
    "kernelspec": {
      "name": "python3",
      "display_name": "Python 3"
    }
  },
  "cells": [
    {
      "cell_type": "markdown",
      "metadata": {
        "id": "view-in-github",
        "colab_type": "text"
      },
      "source": [
        "<a href=\"https://colab.research.google.com/github/450586509/CS234/blob/master/02_value_based.ipynb\" target=\"_parent\"><img src=\"https://colab.research.google.com/assets/colab-badge.svg\" alt=\"Open In Colab\"/></a>"
      ]
    },
    {
      "cell_type": "markdown",
      "metadata": {
        "id": "Uxkj3BpbWCoK",
        "colab_type": "text"
      },
      "source": [
        "马尔科夫过程相当于gym中的一个游戏\n"
      ]
    },
    {
      "cell_type": "code",
      "metadata": {
        "id": "V9LozR6zoa-_",
        "colab_type": "code",
        "colab": {}
      },
      "source": [
        "!wget -q https://raw.githubusercontent.com/yandexdataschool/Practical_RL/master/week02_value_based/mdp.py"
      ],
      "execution_count": 0,
      "outputs": []
    },
    {
      "cell_type": "code",
      "metadata": {
        "id": "sPzYjgPUVoQK",
        "colab_type": "code",
        "colab": {}
      },
      "source": [
        "# If you Colab, uncomment this please\n",
        "!wget -q https://raw.githubusercontent.com/yandexdataschool/Practical_RL/master/week02_value_based/mdp.py\n",
        "\n",
        "transition_probs = {\n",
        "    's0': {\n",
        "        'a0': {'s0': 0.5, 's2': 0.5},\n",
        "        'a1': {'s2': 1}\n",
        "    },\n",
        "    's1': {\n",
        "        'a0': {'s0': 0.7, 's1': 0.1, 's2': 0.2},\n",
        "        'a1': {'s1': 0.95, 's2': 0.05}\n",
        "    },\n",
        "    's2': {\n",
        "        'a0': {'s0': 0.4, 's2': 0.6},\n",
        "        'a1': {'s0': 0.3, 's1': 0.3, 's2': 0.4}\n",
        "    }\n",
        "}\n",
        "rewards = {\n",
        "    's1': {'a0': {'s0': +5}},\n",
        "    's2': {'a1': {'s0': -1}}\n",
        "}\n",
        "\n",
        "from mdp import MDP\n",
        "mdp = MDP(transition_probs, rewards, initial_state='s0')"
      ],
      "execution_count": 0,
      "outputs": []
    },
    {
      "cell_type": "code",
      "metadata": {
        "id": "XFUZC7HJV-vK",
        "colab_type": "code",
        "outputId": "d7f6a0d9-e680-4132-fc11-1e5b1faa5e73",
        "colab": {
          "base_uri": "https://localhost:8080/",
          "height": 35
        }
      },
      "source": [
        "print('initial state = {0}'.format(mdp.reset()))"
      ],
      "execution_count": 2,
      "outputs": [
        {
          "output_type": "stream",
          "text": [
            "initial state = s0\n"
          ],
          "name": "stdout"
        }
      ]
    },
    {
      "cell_type": "code",
      "metadata": {
        "id": "lApT5IonWicE",
        "colab_type": "code",
        "outputId": "cbc9e12c-0d25-4f49-a7d9-ee4dc282ee85",
        "colab": {
          "base_uri": "https://localhost:8080/",
          "height": 89
        }
      },
      "source": [
        "next_state, reward, done, info = mdp.step('a0')\n",
        "print(\"next_state={0}\".format(next_state))\n",
        "print(\"reward={0}\".format(reward))\n",
        "print(\"done={0}\".format(done))\n",
        "print(\"info={0}\".format(info))"
      ],
      "execution_count": 3,
      "outputs": [
        {
          "output_type": "stream",
          "text": [
            "next_state=s2\n",
            "reward=0.0\n",
            "done=False\n",
            "info={}\n"
          ],
          "name": "stdout"
        }
      ]
    },
    {
      "cell_type": "code",
      "metadata": {
        "id": "2Ds-_lMNWzfF",
        "colab_type": "code",
        "outputId": "89c1ffd6-a4a5-4e4d-9e01-c5cd22be70f0",
        "colab": {
          "base_uri": "https://localhost:8080/",
          "height": 107
        }
      },
      "source": [
        "print(\"mdp.get_all_states =\", mdp.get_all_states())\n",
        "print(\"mdp.get_possible_actions('s1') = \", mdp.get_possible_actions('s1'))\n",
        "print(\"mdp.get_next_states('s1', 'a0') = \", mdp.get_next_states('s1', 'a0'))\n",
        "print(\"mdp.get_reward('s1', 'a0', 's0') = \", mdp.get_reward('s1', 'a0', 's0'))\n",
        "print(\"mdp.get_transition_prob('s1', 'a0', 's0') = \",\n",
        "      mdp.get_transition_prob('s1', 'a0', 's0'))"
      ],
      "execution_count": 4,
      "outputs": [
        {
          "output_type": "stream",
          "text": [
            "mdp.get_all_states = ('s0', 's1', 's2')\n",
            "mdp.get_possible_actions('s1') =  ('a0', 'a1')\n",
            "mdp.get_next_states('s1', 'a0') =  {'s0': 0.7, 's1': 0.1, 's2': 0.2}\n",
            "mdp.get_reward('s1', 'a0', 's0') =  5\n",
            "mdp.get_transition_prob('s1', 'a0', 's0') =  0.7\n"
          ],
          "name": "stdout"
        }
      ]
    },
    {
      "cell_type": "code",
      "metadata": {
        "id": "zo3hWXkyXNh0",
        "colab_type": "code",
        "outputId": "61457362-485d-4ba6-9029-3f3e4b1b4ef5",
        "colab": {
          "base_uri": "https://localhost:8080/",
          "height": 35
        }
      },
      "source": [
        "from mdp import has_graphviz\n",
        "from IPython.display import display\n",
        "print(\"Graphviz available:\", has_graphviz)"
      ],
      "execution_count": 5,
      "outputs": [
        {
          "output_type": "stream",
          "text": [
            "Graphviz available: True\n"
          ],
          "name": "stdout"
        }
      ]
    },
    {
      "cell_type": "code",
      "metadata": {
        "id": "J7L4oDj_XSPE",
        "colab_type": "code",
        "outputId": "853c0f3c-bf42-43e1-f7c5-a9be6a3245dc",
        "colab": {
          "base_uri": "https://localhost:8080/",
          "height": 322
        }
      },
      "source": [
        "if has_graphviz:\n",
        "    from mdp import plot_graph, plot_graph_with_state_values, \\\n",
        "        plot_graph_optimal_strategy_and_state_values\n",
        "\n",
        "    display(plot_graph(mdp))\n"
      ],
      "execution_count": 6,
      "outputs": [
        {
          "output_type": "display_data",
          "data": {
            "text/plain": [
              "<graphviz.dot.Digraph at 0x7fc2d1706f28>"
            ],
            "image/svg+xml": "<?xml version=\"1.0\" encoding=\"UTF-8\" standalone=\"no\"?>\n<!DOCTYPE svg PUBLIC \"-//W3C//DTD SVG 1.1//EN\"\n \"http://www.w3.org/Graphics/SVG/1.1/DTD/svg11.dtd\">\n<!-- Generated by graphviz version 2.40.1 (20161225.0304)\n -->\n<!-- Title: MDP Pages: 1 -->\n<svg width=\"720pt\" height=\"226pt\"\n viewBox=\"0.00 0.00 720.00 225.64\" xmlns=\"http://www.w3.org/2000/svg\" xmlns:xlink=\"http://www.w3.org/1999/xlink\">\n<g id=\"graph0\" class=\"graph\" transform=\"scale(.7008 .7008) rotate(0) translate(4 318)\">\n<title>MDP</title>\n<polygon fill=\"#ffffff\" stroke=\"transparent\" points=\"-4,4 -4,-318 1023.463,-318 1023.463,4 -4,4\"/>\n<!-- s0 -->\n<g id=\"node1\" class=\"node\">\n<title>s0</title>\n<ellipse fill=\"#85ff75\" stroke=\"#85ff75\" cx=\"40\" cy=\"-116\" rx=\"36\" ry=\"36\"/>\n<ellipse fill=\"none\" stroke=\"#85ff75\" cx=\"40\" cy=\"-116\" rx=\"40\" ry=\"40\"/>\n<text text-anchor=\"middle\" x=\"40\" y=\"-109.8\" font-family=\"Arial\" font-size=\"24.00\" fill=\"#000000\">s0</text>\n</g>\n<!-- s0&#45;a0 -->\n<g id=\"node2\" class=\"node\">\n<title>s0&#45;a0</title>\n<ellipse fill=\"#ffb6c1\" stroke=\"#ffb6c1\" cx=\"193.5772\" cy=\"-160\" rx=\"27.6545\" ry=\"27.6545\"/>\n<text text-anchor=\"middle\" x=\"193.5772\" y=\"-155\" font-family=\"Arial\" font-size=\"20.00\" fill=\"#000000\">a0</text>\n</g>\n<!-- s0&#45;&gt;s0&#45;a0 -->\n<g id=\"edge1\" class=\"edge\">\n<title>s0&#45;&gt;s0&#45;a0</title>\n<path fill=\"none\" stroke=\"#ff0000\" stroke-width=\"2\" d=\"M79.2844,-124.7026C99.8974,-129.5498 125.4811,-136.0095 148,-143 151.327,-144.0328 154.7652,-145.1741 158.1924,-146.3622\"/>\n<polygon fill=\"#ff0000\" stroke=\"#ff0000\" stroke-width=\"2\" points=\"157.1257,-149.698 167.7202,-149.7831 159.4912,-143.1097 157.1257,-149.698\"/>\n</g>\n<!-- s0&#45;a1 -->\n<g id=\"node4\" class=\"node\">\n<title>s0&#45;a1</title>\n<ellipse fill=\"#ffb6c1\" stroke=\"#ffb6c1\" cx=\"193.5772\" cy=\"-233\" rx=\"27.6545\" ry=\"27.6545\"/>\n<text text-anchor=\"middle\" x=\"193.5772\" y=\"-228\" font-family=\"Arial\" font-size=\"20.00\" fill=\"#000000\">a1</text>\n</g>\n<!-- s0&#45;&gt;s0&#45;a1 -->\n<g id=\"edge4\" class=\"edge\">\n<title>s0&#45;&gt;s0&#45;a1</title>\n<path fill=\"none\" stroke=\"#ff0000\" stroke-width=\"2\" d=\"M66.6878,-145.9984C76.104,-155.7862 87.0765,-166.3514 98,-175 117.3546,-190.324 141.0693,-204.7377 160.0344,-215.3632\"/>\n<polygon fill=\"#ff0000\" stroke=\"#ff0000\" stroke-width=\"2\" points=\"158.4757,-218.5005 168.923,-220.2624 161.8547,-212.37 158.4757,-218.5005\"/>\n</g>\n<!-- s0&#45;a0&#45;&gt;s0 -->\n<g id=\"edge2\" class=\"edge\">\n<title>s0&#45;a0&#45;&gt;s0</title>\n<path fill=\"none\" stroke=\"#0000ff\" stroke-dasharray=\"5,2\" d=\"M166.0433,-155.6398C146.7591,-152.2473 120.5165,-146.9481 98,-140 94.1846,-138.8227 90.2733,-137.4907 86.3715,-136.0724\"/>\n<polygon fill=\"#0000ff\" stroke=\"#0000ff\" points=\"87.3439,-132.6975 76.753,-132.4084 84.852,-139.239 87.3439,-132.6975\"/>\n<text text-anchor=\"middle\" x=\"123\" y=\"-158.2\" font-family=\"Arial\" font-size=\"16.00\" fill=\"#000000\">p = 0.5</text>\n</g>\n<!-- s2 -->\n<g id=\"node3\" class=\"node\">\n<title>s2</title>\n<ellipse fill=\"#85ff75\" stroke=\"#85ff75\" cx=\"433.1543\" cy=\"-183\" rx=\"36\" ry=\"36\"/>\n<ellipse fill=\"none\" stroke=\"#85ff75\" cx=\"433.1543\" cy=\"-183\" rx=\"40\" ry=\"40\"/>\n<text text-anchor=\"middle\" x=\"433.1543\" y=\"-176.8\" font-family=\"Arial\" font-size=\"24.00\" fill=\"#000000\">s2</text>\n</g>\n<!-- s0&#45;a0&#45;&gt;s2 -->\n<g id=\"edge3\" class=\"edge\">\n<title>s0&#45;a0&#45;&gt;s2</title>\n<path fill=\"none\" stroke=\"#0000ff\" stroke-dasharray=\"5,2\" d=\"M221.0597,-162.6384C260.5326,-166.4279 333.9353,-173.4747 383.1716,-178.2015\"/>\n<polygon fill=\"#0000ff\" stroke=\"#0000ff\" points=\"383.0017,-181.7012 393.2904,-179.173 383.6707,-174.7333 383.0017,-181.7012\"/>\n<text text-anchor=\"middle\" x=\"307.1543\" y=\"-182.2\" font-family=\"Arial\" font-size=\"16.00\" fill=\"#000000\">p = 0.5</text>\n</g>\n<!-- s2&#45;a0 -->\n<g id=\"node8\" class=\"node\">\n<title>s2&#45;a0</title>\n<ellipse fill=\"#ffb6c1\" stroke=\"#ffb6c1\" cx=\"666.7315\" cy=\"-162\" rx=\"27.6545\" ry=\"27.6545\"/>\n<text text-anchor=\"middle\" x=\"666.7315\" y=\"-157\" font-family=\"Arial\" font-size=\"20.00\" fill=\"#000000\">a0</text>\n</g>\n<!-- s2&#45;&gt;s2&#45;a0 -->\n<g id=\"edge13\" class=\"edge\">\n<title>s2&#45;&gt;s2&#45;a0</title>\n<path fill=\"none\" stroke=\"#ff0000\" stroke-width=\"2\" d=\"M473.2351,-186.9649C511.6217,-189.7355 570.9586,-191.3218 621.1543,-181 624.8123,-180.2478 628.5451,-179.2014 632.2213,-177.9828\"/>\n<polygon fill=\"#ff0000\" stroke=\"#ff0000\" stroke-width=\"2\" points=\"633.5825,-181.2107 641.7302,-174.4383 631.1375,-174.6516 633.5825,-181.2107\"/>\n</g>\n<!-- s2&#45;a1 -->\n<g id=\"node9\" class=\"node\">\n<title>s2&#45;a1</title>\n<ellipse fill=\"#ffb6c1\" stroke=\"#ffb6c1\" cx=\"666.7315\" cy=\"-80\" rx=\"27.6545\" ry=\"27.6545\"/>\n<text text-anchor=\"middle\" x=\"666.7315\" y=\"-75\" font-family=\"Arial\" font-size=\"20.00\" fill=\"#000000\">a1</text>\n</g>\n<!-- s2&#45;&gt;s2&#45;a1 -->\n<g id=\"edge16\" class=\"edge\">\n<title>s2&#45;&gt;s2&#45;a1</title>\n<path fill=\"none\" stroke=\"#ff0000\" stroke-width=\"2\" d=\"M467.3288,-161.7827C475.0423,-157.3286 483.2807,-152.8261 491.1543,-149 538.2751,-126.1024 595.0607,-104.8798 631.0354,-92.179\"/>\n<polygon fill=\"#ff0000\" stroke=\"#ff0000\" stroke-width=\"2\" points=\"632.3234,-95.4365 640.6049,-88.8284 630.0101,-88.8297 632.3234,-95.4365\"/>\n</g>\n<!-- s0&#45;a1&#45;&gt;s2 -->\n<g id=\"edge5\" class=\"edge\">\n<title>s0&#45;a1&#45;&gt;s2</title>\n<path fill=\"none\" stroke=\"#0000ff\" stroke-dasharray=\"5,2\" d=\"M221.1044,-228.5867C256.8082,-222.6933 320.9391,-211.5305 375.1543,-199 378.3093,-198.2708 381.5506,-197.4836 384.8112,-196.6631\"/>\n<polygon fill=\"#0000ff\" stroke=\"#0000ff\" points=\"385.7835,-200.0268 394.5834,-194.1266 384.0248,-193.2513 385.7835,-200.0268\"/>\n<text text-anchor=\"middle\" x=\"307.1543\" y=\"-230.2\" font-family=\"Arial\" font-size=\"16.00\" fill=\"#000000\">p = 1</text>\n</g>\n<!-- s1 -->\n<g id=\"node5\" class=\"node\">\n<title>s1</title>\n<ellipse fill=\"#85ff75\" stroke=\"#85ff75\" cx=\"829.3087\" cy=\"-116\" rx=\"36\" ry=\"36\"/>\n<ellipse fill=\"none\" stroke=\"#85ff75\" cx=\"829.3087\" cy=\"-116\" rx=\"40\" ry=\"40\"/>\n<text text-anchor=\"middle\" x=\"829.3087\" y=\"-109.8\" font-family=\"Arial\" font-size=\"24.00\" fill=\"#000000\">s1</text>\n</g>\n<!-- s1&#45;a0 -->\n<g id=\"node6\" class=\"node\">\n<title>s1&#45;a0</title>\n<ellipse fill=\"#ffb6c1\" stroke=\"#ffb6c1\" cx=\"991.8858\" cy=\"-92\" rx=\"27.6545\" ry=\"27.6545\"/>\n<text text-anchor=\"middle\" x=\"991.8858\" y=\"-87\" font-family=\"Arial\" font-size=\"20.00\" fill=\"#000000\">a0</text>\n</g>\n<!-- s1&#45;&gt;s1&#45;a0 -->\n<g id=\"edge6\" class=\"edge\">\n<title>s1&#45;&gt;s1&#45;a0</title>\n<path fill=\"none\" stroke=\"#ff0000\" stroke-width=\"2\" d=\"M869.2486,-112.1898C891.9249,-109.7844 920.7924,-106.3154 946.3087,-102 949.1542,-101.5187 952.0904,-100.9778 955.0369,-100.403\"/>\n<polygon fill=\"#ff0000\" stroke=\"#ff0000\" stroke-width=\"2\" points=\"955.889,-103.8011 964.9779,-98.3566 954.4775,-96.9449 955.889,-103.8011\"/>\n</g>\n<!-- s1&#45;a1 -->\n<g id=\"node7\" class=\"node\">\n<title>s1&#45;a1</title>\n<ellipse fill=\"#ffb6c1\" stroke=\"#ffb6c1\" cx=\"991.8858\" cy=\"-174\" rx=\"27.6545\" ry=\"27.6545\"/>\n<text text-anchor=\"middle\" x=\"991.8858\" y=\"-169\" font-family=\"Arial\" font-size=\"20.00\" fill=\"#000000\">a1</text>\n</g>\n<!-- s1&#45;&gt;s1&#45;a1 -->\n<g id=\"edge10\" class=\"edge\">\n<title>s1&#45;&gt;s1&#45;a1</title>\n<path fill=\"none\" stroke=\"#ff0000\" stroke-width=\"2\" d=\"M867.494,-127.948C890.4784,-135.3328 920.2423,-145.2373 946.3087,-155 949.8059,-156.3098 953.4327,-157.7241 957.0437,-159.1692\"/>\n<polygon fill=\"#ff0000\" stroke=\"#ff0000\" stroke-width=\"2\" points=\"955.8842,-162.4763 966.4653,-163.0165 958.5305,-155.9957 955.8842,-162.4763\"/>\n</g>\n<!-- s1&#45;a0&#45;&gt;s0 -->\n<g id=\"edge7\" class=\"edge\">\n<title>s1&#45;a0&#45;&gt;s0</title>\n<path fill=\"none\" stroke=\"#0000ff\" stroke-dasharray=\"5,2\" d=\"M972.3647,-72.0374C943.7154,-44.9794 887.3603,0 829.3087,0 193.5772,0 193.5772,0 193.5772,0 142.2271,0 97.1839,-41.8033 69.3807,-75.22\"/>\n<polygon fill=\"#0000ff\" stroke=\"#0000ff\" points=\"66.5993,-73.0932 63.0318,-83.0693 72.0419,-77.4953 66.5993,-73.0932\"/>\n<text text-anchor=\"middle\" x=\"556.1543\" y=\"-5.2\" font-family=\"Arial\" font-size=\"16.00\" fill=\"#000000\">p = 0.7 &#160;reward =5</text>\n</g>\n<!-- s1&#45;a0&#45;&gt;s2 -->\n<g id=\"edge9\" class=\"edge\">\n<title>s1&#45;a0&#45;&gt;s2</title>\n<path fill=\"none\" stroke=\"#0000ff\" stroke-dasharray=\"5,2\" d=\"M976.2683,-115.2719C972.0616,-122.1013 967.7329,-129.6999 964.3087,-137 953.7441,-159.5223 966.2691,-175.1526 946.3087,-190 783.9583,-310.7629 691.4414,-228.7477 491.1543,-200 487.8825,-199.5304 484.5378,-198.919 481.1875,-198.2077\"/>\n<polygon fill=\"#0000ff\" stroke=\"#0000ff\" points=\"481.7276,-194.7383 471.1878,-195.8166 480.0996,-201.5463 481.7276,-194.7383\"/>\n<text text-anchor=\"middle\" x=\"741.8087\" y=\"-258.2\" font-family=\"Arial\" font-size=\"16.00\" fill=\"#000000\">p = 0.2</text>\n</g>\n<!-- s1&#45;a0&#45;&gt;s1 -->\n<g id=\"edge8\" class=\"edge\">\n<title>s1&#45;a0&#45;&gt;s1</title>\n<path fill=\"none\" stroke=\"#0000ff\" stroke-dasharray=\"5,2\" d=\"M965.6405,-83.4352C944.2075,-77.7535 913.319,-72.584 887.3087,-80 881.5406,-81.6446 875.7864,-84.0459 870.2659,-86.8404\"/>\n<polygon fill=\"#0000ff\" stroke=\"#0000ff\" points=\"868.2815,-83.9387 861.2349,-91.8506 871.6774,-90.0599 868.2815,-83.9387\"/>\n<text text-anchor=\"middle\" x=\"916.8087\" y=\"-85.2\" font-family=\"Arial\" font-size=\"16.00\" fill=\"#000000\">p = 0.1</text>\n</g>\n<!-- s1&#45;a1&#45;&gt;s2 -->\n<g id=\"edge12\" class=\"edge\">\n<title>s1&#45;a1&#45;&gt;s2</title>\n<path fill=\"none\" stroke=\"#0000ff\" stroke-dasharray=\"5,2\" d=\"M979.9034,-198.873C972.2373,-211.8113 960.9673,-226.464 946.3087,-234 766.4005,-326.4912 679.6137,-307.5164 491.1543,-234 482.8044,-230.7427 474.8606,-225.7094 467.6802,-220.0496\"/>\n<polygon fill=\"#0000ff\" stroke=\"#0000ff\" points=\"469.5052,-217.0066 459.623,-213.1866 464.9661,-222.3354 469.5052,-217.0066\"/>\n<text text-anchor=\"middle\" x=\"741.8087\" y=\"-301.2\" font-family=\"Arial\" font-size=\"16.00\" fill=\"#000000\">p = 0.05</text>\n</g>\n<!-- s1&#45;a1&#45;&gt;s1 -->\n<g id=\"edge11\" class=\"edge\">\n<title>s1&#45;a1&#45;&gt;s1</title>\n<path fill=\"none\" stroke=\"#0000ff\" stroke-dasharray=\"5,2\" d=\"M964.4796,-170.89C942.9286,-167.8208 912.4497,-162.0831 887.3087,-152 881.8827,-149.8239 876.3943,-147.1497 871.069,-144.2503\"/>\n<polygon fill=\"#0000ff\" stroke=\"#0000ff\" points=\"872.7141,-141.1589 862.3007,-139.2062 869.2235,-147.2265 872.7141,-141.1589\"/>\n<text text-anchor=\"middle\" x=\"916.8087\" y=\"-173.2\" font-family=\"Arial\" font-size=\"16.00\" fill=\"#000000\">p = 0.95</text>\n</g>\n<!-- s2&#45;a0&#45;&gt;s0 -->\n<g id=\"edge14\" class=\"edge\">\n<title>s2&#45;a0&#45;&gt;s0</title>\n<path fill=\"none\" stroke=\"#0000ff\" stroke-dasharray=\"5,2\" d=\"M640.4115,-153.6379C634.1509,-151.8874 627.4576,-150.2085 621.1543,-149 446.1882,-115.4541 399.1567,-130.324 221.1543,-123 177.0766,-121.1864 126.9601,-119.2603 90.6308,-117.8886\"/>\n<polygon fill=\"#0000ff\" stroke=\"#0000ff\" points=\"90.4191,-114.3783 80.2944,-117.4993 90.1556,-121.3733 90.4191,-114.3783\"/>\n<text text-anchor=\"middle\" x=\"307.1543\" y=\"-131.2\" font-family=\"Arial\" font-size=\"16.00\" fill=\"#000000\">p = 0.4</text>\n</g>\n<!-- s2&#45;a0&#45;&gt;s2 -->\n<g id=\"edge15\" class=\"edge\">\n<title>s2&#45;a0&#45;&gt;s2</title>\n<path fill=\"none\" stroke=\"#0000ff\" stroke-dasharray=\"5,2\" d=\"M639.3416,-157.9791C604.5225,-153.6753 542.7351,-148.7496 491.1543,-159 487.066,-159.8125 482.9045,-160.9179 478.7831,-162.2107\"/>\n<polygon fill=\"#0000ff\" stroke=\"#0000ff\" points=\"477.5839,-158.9221 469.2922,-165.5174 479.887,-165.5324 477.5839,-158.9221\"/>\n<text text-anchor=\"middle\" x=\"556.1543\" y=\"-164.2\" font-family=\"Arial\" font-size=\"16.00\" fill=\"#000000\">p = 0.6</text>\n</g>\n<!-- s2&#45;a1&#45;&gt;s0 -->\n<g id=\"edge17\" class=\"edge\">\n<title>s2&#45;a1&#45;&gt;s0</title>\n<path fill=\"none\" stroke=\"#0000ff\" stroke-dasharray=\"5,2\" d=\"M643.5482,-64.3784C636.6374,-60.5416 628.8477,-56.9714 621.1543,-55 456.6448,-12.8443 407.9727,-45.5381 239.1543,-64 175.7418,-70.9348 158.9077,-71.0397 98,-90 93.9106,-91.273 89.7281,-92.7576 85.5746,-94.3605\"/>\n<polygon fill=\"#0000ff\" stroke=\"#0000ff\" points=\"83.9293,-91.2516 75.9933,-98.271 86.5745,-97.7326 83.9293,-91.2516\"/>\n<text text-anchor=\"middle\" x=\"307.1543\" y=\"-69.2\" font-family=\"Arial\" font-size=\"16.00\" fill=\"#000000\">p = 0.3 &#160;reward =&#45;1</text>\n</g>\n<!-- s2&#45;a1&#45;&gt;s2 -->\n<g id=\"edge19\" class=\"edge\">\n<title>s2&#45;a1&#45;&gt;s2</title>\n<path fill=\"none\" stroke=\"#0000ff\" stroke-dasharray=\"5,2\" d=\"M640.4326,-71.0411C604.0521,-60.3658 537.6085,-47.2183 491.1543,-75 469.3384,-88.0469 455.2541,-112.4282 446.4357,-134.7277\"/>\n<polygon fill=\"#0000ff\" stroke=\"#0000ff\" points=\"443.1489,-133.5248 442.9716,-144.1181 449.7163,-135.9475 443.1489,-133.5248\"/>\n<text text-anchor=\"middle\" x=\"556.1543\" y=\"-80.2\" font-family=\"Arial\" font-size=\"16.00\" fill=\"#000000\">p = 0.4</text>\n</g>\n<!-- s2&#45;a1&#45;&gt;s1 -->\n<g id=\"edge18\" class=\"edge\">\n<title>s2&#45;a1&#45;&gt;s1</title>\n<path fill=\"none\" stroke=\"#0000ff\" stroke-dasharray=\"5,2\" d=\"M693.9433,-86.0256C717.3708,-91.2132 751.7657,-98.8294 780.0218,-105.0862\"/>\n<polygon fill=\"#0000ff\" stroke=\"#0000ff\" points=\"779.6023,-108.5781 790.1225,-107.3229 781.1157,-101.7436 779.6023,-108.5781\"/>\n<text text-anchor=\"middle\" x=\"741.8087\" y=\"-108.2\" font-family=\"Arial\" font-size=\"16.00\" fill=\"#000000\">p = 0.3</text>\n</g>\n</g>\n</svg>\n"
          },
          "metadata": {
            "tags": []
          }
        }
      ]
    },
    {
      "cell_type": "markdown",
      "metadata": {
        "id": "cvkHF6rOXaeg",
        "colab_type": "text"
      },
      "source": [
        "解决MDP问题最简单的方法：value iteration"
      ]
    },
    {
      "cell_type": "markdown",
      "metadata": {
        "id": "cXIjUL6cYRbB",
        "colab_type": "text"
      },
      "source": [
        "1. Initialize $V^{(0)}(s)=0$, for all $s$\n",
        "\n",
        "2. For $i=0, 1, 2, \\dots$\n",
        "\n",
        "3. $ \\quad V_{(i+1)}(s) = \\max_a \\sum_{s'} P(s' | s,a) \\cdot [ r(s,a,s') + \\gamma V_{i}(s')]$, for all $s$\n",
        "\n",
        "First, let's write a function to compute the state-action value function $Q^{\\pi}$, defined as follows\n",
        "\n",
        "$$Q_i(s, a) = \\sum_{s'} P(s' | s,a) \\cdot [ r(s,a,s') + \\gamma V_{i}(s')]$$"
      ]
    },
    {
      "cell_type": "code",
      "metadata": {
        "id": "zIVm0cXVXUsv",
        "colab_type": "code",
        "colab": {}
      },
      "source": [
        "def get_action_value(mdp, state_values, state, action, gamma):\n",
        "    \"\"\" Computes Q(s,a) as in formula above \"\"\"\n",
        "    all_values = []\n",
        "    for s_new in mdp.get_all_states():\n",
        "      #print(\"-------------------------------------\")\n",
        "      #print(\"s_new={0}\".format(s_new))\n",
        "      p_s_new = mdp.get_transition_prob(state=state, action=action,next_state=s_new)\n",
        "      #print(\"p_s_new={0}\".format(p_s_new))\n",
        "      r = mdp.get_reward(state=state, action=action, next_state=s_new)\n",
        "      #print(\"r={0}\".format(r))\n",
        "      V = state_values[s_new]\n",
        "      #print(\"v={0}\".format(V))\n",
        "      value = p_s_new * (r + gamma*V)\n",
        "      #print(\"value={0}\".format(value))\n",
        "      all_values.append(value)\n",
        "    return sum(all_values)"
      ],
      "execution_count": 0,
      "outputs": []
    },
    {
      "cell_type": "code",
      "metadata": {
        "id": "cev84XuLYPpa",
        "colab_type": "code",
        "colab": {}
      },
      "source": [
        "import numpy as np\n",
        "test_Vs = {s: i for i, s in enumerate(sorted(mdp.get_all_states()))}\n",
        "#print(get_action_value(mdp, test_Vs, 's2', 'a1', 0.9))\n",
        "assert np.isclose(get_action_value(mdp, test_Vs, 's2', 'a1', 0.9), 0.69) \n",
        "assert np.isclose(get_action_value(mdp, test_Vs, 's1', 'a0', 0.9), 3.95)"
      ],
      "execution_count": 0,
      "outputs": []
    },
    {
      "cell_type": "code",
      "metadata": {
        "id": "5D4BsDaDcRJw",
        "colab_type": "code",
        "colab": {}
      },
      "source": [
        "def value_iteration(mdp, state_values, gamma, max_count=0):\n",
        "  states = mdp.get_all_states()\n",
        "  print(\"states={0}\".format(states))\n",
        "  state_values_new = {}\n",
        "  count = 0\n",
        "  while True:\n",
        "    print(\"state_values={0}\".format(state_values))\n",
        "    for state in states:\n",
        "      #print(\"-------------\")\n",
        "      all_action_values = []\n",
        "      for action in mdp.get_possible_actions(state=state):\n",
        "        #print(\"action={0}\".format(action))\n",
        "        value = get_action_value(mdp, state_values, state, action, gamma)\n",
        "        #print(\"state={0}\\taction={1}\\tvalue={2}\".format(state, action, value))\n",
        "        all_action_values.append(value)\n",
        "        #print(all_action_values)\n",
        "      if len(all_action_values) >=1:\n",
        "        state_values_new[state]=max(all_action_values)\n",
        "      else:\n",
        "        state_values_new[state] = 0\n",
        "    count = count + 1\n",
        "    if count>max_count:\n",
        "      return state_values\n",
        "    state_values = state_values_new\n",
        "    "
      ],
      "execution_count": 0,
      "outputs": []
    },
    {
      "cell_type": "code",
      "metadata": {
        "id": "I-ozwpt1jsLz",
        "colab_type": "code",
        "outputId": "557b7784-9fdf-4810-e753-e8d2adc5ad52",
        "colab": {
          "base_uri": "https://localhost:8080/",
          "height": 593
        }
      },
      "source": [
        "state_values = {s: 0.0 for i, s in enumerate(sorted(mdp.get_all_states()))}\n",
        "state_values = value_iteration(mdp,state_values, 0.9, 30)"
      ],
      "execution_count": 10,
      "outputs": [
        {
          "output_type": "stream",
          "text": [
            "states=('s0', 's1', 's2')\n",
            "state_values={'s0': 0.0, 's1': 0.0, 's2': 0.0}\n",
            "state_values={'s0': 0.0, 's1': 3.5, 's2': 0.0}\n",
            "state_values={'s0': 0.0, 's1': 3.815, 's2': 0.7300499999999999}\n",
            "state_values={'s0': 0.6570449999999999, 's1': 4.388697349999999, 's2': 1.3251684344999997}\n",
            "state_values={'s0': 1.1926515910499997, 's1': 4.884883582071499, 's2': 1.8179951331628044}\n",
            "state_values={'s0': 1.636195619846524, 's1': 5.29768188685905, 's2': 2.2266251747491146}\n",
            "state_values={'s0': 2.003962657274203, 's1': 5.640080375354902, 's2': 2.56547668171954}\n",
            "state_values={'s0': 2.3089290135475857, 's1': 5.924018315026437, 's2': 2.8464673841340202}\n",
            "state_values={'s0': 2.5618206457206183, 's1': 6.159472784300493, 's2': 3.0794774843939474}\n",
            "state_values={'s0': 2.7715297359545525, 's1': 6.354722231429323, 's2': 3.272699925575467}\n",
            "state_values={'s0': 2.9454299330179206, 's1': 6.516631845233513, 's2': 3.432928653335055}\n",
            "state_values={'s0': 3.0896357880015497, 's1': 6.6508945701123015, 's2': 3.5657975118913603}\n",
            "state_values={'s0': 3.2092177607022245, 's1': 6.7622312526929536, 's2': 3.675978337897588}\n",
            "state_values={'s0': 3.3083805041078294, 's1': 6.854556631151864, 's2': 3.767345228163249}\n",
            "state_values={'s0': 3.390610705346924, 's1': 6.931116982241615, 's2': 3.8431107577876755}\n",
            "state_values={'s0': 3.458799682008908, 's1': 6.994604264469139, 's2': 3.905938938352636}\n",
            "state_values={'s0': 3.5153450445173724, 's1': 7.047250770751641, 's2': 3.958038887929583}\n",
            "state_values={'s0': 3.5622349991366247, 's1': 7.090907618651045, 's2': 4.001242506457321}\n",
            "state_values={'s0': 3.601118255811589, 's1': 7.127109838002212, 's2': 4.037068887654362}\n",
            "state_values={'s0': 3.633361998888926, 's1': 7.157130344498009, 's2': 4.066777732270043}\n",
            "state_values={'s0': 3.6600999590430385, 's1': 7.182024697010542, 's2': 4.091413640751682}\n",
            "state_values={'s0': 3.682272276676514, 's1': 7.202668212372456, 's2': 4.111842842713827}\n",
            "state_values={'s0': 3.7006585584424445, 's1': 7.21978674262075, 's2': 4.128783654664041}\n",
            "state_values={'s0': 3.7159052891976367, 's1': 7.233982196869906, 's2': 4.142831736917291}\n",
            "state_values={'s0': 3.7285485632255617, 's1': 7.245753705195508, 's2': 4.154481037763913}\n",
            "state_values={'s0': 3.7390329339875223, 's1': 7.255515168677238, 's2': 4.164141161314494}\n",
            "state_values={'s0': 3.7477270451830447, 's1': 7.263609812682878, 's2': 4.172151769697017}\n",
            "state_values={'s0': 3.754936592727315, 's1': 7.270322255105131, 's2': 4.178794526005687}\n",
            "state_values={'s0': 3.760915073405118, 's1': 7.275888513885711, 's2': 4.184302997930571}\n",
            "state_values={'s0': 3.765872698137514, 's1': 7.280504305703851, 's2': 4.188870870292174}\n",
            "state_values={'s0': 3.7699837832629566, 's1': 7.284331927621601, 's2': 4.192658755244013}\n"
          ],
          "name": "stdout"
        }
      ]
    },
    {
      "cell_type": "markdown",
      "metadata": {
        "id": "FsMACHlHf6gy",
        "colab_type": "text"
      },
      "source": [
        "实现policy。policy告诉agent在每一步，应该采取什么action，使得最终的收益最大"
      ]
    },
    {
      "cell_type": "code",
      "metadata": {
        "id": "BQRDLz_cj7v1",
        "colab_type": "code",
        "colab": {}
      },
      "source": [
        "def get_optimal_action(mdp, state_values, state, gamma=0.9):\n",
        "    \"\"\" Finds optimal action using formula above. \"\"\"\n",
        "    if mdp.is_terminal(state):\n",
        "        return None\n",
        "\n",
        "    possible_actions = mdp.get_possible_actions(state)\n",
        "    #print(\"next_states={0}\".format(possible_actions))\n",
        "    optimal_action = \"\"\n",
        "    optimal_value = -10\n",
        "    for action in possible_actions:\n",
        "        action_value = get_action_value(mdp, state_values, state, action, gamma)\n",
        "        #print(\"action={0}\\tstate_action_value={1}\".format(action, action_value))\n",
        "        if action_value>=optimal_value:\n",
        "            optimal_value=action_value\n",
        "            optimal_action=action\n",
        "    #print(\"optiaml_action={0}\".format(optimal_action))\n",
        "    return optimal_action"
      ],
      "execution_count": 0,
      "outputs": []
    },
    {
      "cell_type": "code",
      "metadata": {
        "id": "RxGibp12jTnq",
        "colab_type": "code",
        "colab": {}
      },
      "source": [
        "gamma=0.9\n",
        "assert get_optimal_action(mdp, state_values, 's0', gamma) == 'a1'\n",
        "assert get_optimal_action(mdp, state_values, 's1', gamma) == 'a0'\n",
        "assert get_optimal_action(mdp, state_values, 's2', gamma) == 'a1'\n"
      ],
      "execution_count": 0,
      "outputs": []
    },
    {
      "cell_type": "code",
      "metadata": {
        "id": "FaeYlGuoj6uS",
        "colab_type": "code",
        "outputId": "7537e193-b7ed-40db-833f-4b3868ad2265",
        "colab": {
          "base_uri": "https://localhost:8080/",
          "height": 645
        }
      },
      "source": [
        "from mdp import plot_graph_optimal_strategy_and_state_values\n",
        "if has_graphviz:\n",
        "    try:\n",
        "        display(plot_graph_optimal_strategy_and_state_values(mdp, state_values))\n",
        "    except ImportError:\n",
        "        raise ImportError(\"Run the cell that starts with \\\"%%writefile mdp_get_action_value.py\\\"\")\n"
      ],
      "execution_count": 13,
      "outputs": [
        {
          "output_type": "error",
          "ename": "ImportError",
          "evalue": "ignored",
          "traceback": [
            "\u001b[0;31m---------------------------------------------------------------------------\u001b[0m",
            "\u001b[0;31mModuleNotFoundError\u001b[0m                       Traceback (most recent call last)",
            "\u001b[0;32m/content/mdp.py\u001b[0m in \u001b[0;36mget_optimal_action_for_plot\u001b[0;34m(mdp, state_values, state, gamma)\u001b[0m\n\u001b[1;32m    359\u001b[0m     \u001b[0;32mtry\u001b[0m\u001b[0;34m:\u001b[0m\u001b[0;34m\u001b[0m\u001b[0;34m\u001b[0m\u001b[0m\n\u001b[0;32m--> 360\u001b[0;31m         \u001b[0;32mfrom\u001b[0m \u001b[0mmdp_get_action_value\u001b[0m \u001b[0;32mimport\u001b[0m \u001b[0mget_action_value\u001b[0m\u001b[0;34m\u001b[0m\u001b[0;34m\u001b[0m\u001b[0m\n\u001b[0m\u001b[1;32m    361\u001b[0m     \u001b[0;32mexcept\u001b[0m \u001b[0mImportError\u001b[0m\u001b[0;34m:\u001b[0m\u001b[0;34m\u001b[0m\u001b[0;34m\u001b[0m\u001b[0m\n",
            "\u001b[0;31mModuleNotFoundError\u001b[0m: No module named 'mdp_get_action_value'",
            "\nDuring handling of the above exception, another exception occurred:\n",
            "\u001b[0;31mImportError\u001b[0m                               Traceback (most recent call last)",
            "\u001b[0;32m<ipython-input-13-9a4422628498>\u001b[0m in \u001b[0;36m<module>\u001b[0;34m()\u001b[0m\n\u001b[1;32m      3\u001b[0m     \u001b[0;32mtry\u001b[0m\u001b[0;34m:\u001b[0m\u001b[0;34m\u001b[0m\u001b[0;34m\u001b[0m\u001b[0m\n\u001b[0;32m----> 4\u001b[0;31m         \u001b[0mdisplay\u001b[0m\u001b[0;34m(\u001b[0m\u001b[0mplot_graph_optimal_strategy_and_state_values\u001b[0m\u001b[0;34m(\u001b[0m\u001b[0mmdp\u001b[0m\u001b[0;34m,\u001b[0m \u001b[0mstate_values\u001b[0m\u001b[0;34m)\u001b[0m\u001b[0;34m)\u001b[0m\u001b[0;34m\u001b[0m\u001b[0;34m\u001b[0m\u001b[0m\n\u001b[0m\u001b[1;32m      5\u001b[0m     \u001b[0;32mexcept\u001b[0m \u001b[0mImportError\u001b[0m\u001b[0;34m:\u001b[0m\u001b[0;34m\u001b[0m\u001b[0;34m\u001b[0m\u001b[0m\n",
            "\u001b[0;32m/content/mdp.py\u001b[0m in \u001b[0;36mplot_graph_optimal_strategy_and_state_values\u001b[0;34m(mdp, state_values, gamma)\u001b[0m\n\u001b[1;32m    385\u001b[0m                                                      \u001b[0mstate_node\u001b[0m\u001b[0;34m,\u001b[0m\u001b[0;34m\u001b[0m\u001b[0;34m\u001b[0m\u001b[0m\n\u001b[0;32m--> 386\u001b[0;31m                                                      gamma):\n\u001b[0m\u001b[1;32m    387\u001b[0m                 graph.edge(state_node, state_node + \"-\" + action,\n",
            "\u001b[0;32m/content/mdp.py\u001b[0m in \u001b[0;36mget_optimal_action_for_plot\u001b[0;34m(mdp, state_values, state, gamma)\u001b[0m\n\u001b[1;32m    362\u001b[0m         raise ImportError(\n\u001b[0;32m--> 363\u001b[0;31m             \"Implement get_action_value(mdp, state_values, state, action, gamma) in the file \\\"mdp_get_action_value.py\\\".\")\n\u001b[0m\u001b[1;32m    364\u001b[0m     q_values = [get_action_value(mdp, state_values, state, action, gamma) for\n",
            "\u001b[0;31mImportError\u001b[0m: Implement get_action_value(mdp, state_values, state, action, gamma) in the file \"mdp_get_action_value.py\".",
            "\nDuring handling of the above exception, another exception occurred:\n",
            "\u001b[0;31mImportError\u001b[0m                               Traceback (most recent call last)",
            "\u001b[0;32m<ipython-input-13-9a4422628498>\u001b[0m in \u001b[0;36m<module>\u001b[0;34m()\u001b[0m\n\u001b[1;32m      4\u001b[0m         \u001b[0mdisplay\u001b[0m\u001b[0;34m(\u001b[0m\u001b[0mplot_graph_optimal_strategy_and_state_values\u001b[0m\u001b[0;34m(\u001b[0m\u001b[0mmdp\u001b[0m\u001b[0;34m,\u001b[0m \u001b[0mstate_values\u001b[0m\u001b[0;34m)\u001b[0m\u001b[0;34m)\u001b[0m\u001b[0;34m\u001b[0m\u001b[0;34m\u001b[0m\u001b[0m\n\u001b[1;32m      5\u001b[0m     \u001b[0;32mexcept\u001b[0m \u001b[0mImportError\u001b[0m\u001b[0;34m:\u001b[0m\u001b[0;34m\u001b[0m\u001b[0;34m\u001b[0m\u001b[0m\n\u001b[0;32m----> 6\u001b[0;31m         \u001b[0;32mraise\u001b[0m \u001b[0mImportError\u001b[0m\u001b[0;34m(\u001b[0m\u001b[0;34m\"Run the cell that starts with \\\"%%writefile mdp_get_action_value.py\\\"\"\u001b[0m\u001b[0;34m)\u001b[0m\u001b[0;34m\u001b[0m\u001b[0;34m\u001b[0m\u001b[0m\n\u001b[0m",
            "\u001b[0;31mImportError\u001b[0m: Run the cell that starts with \"%%writefile mdp_get_action_value.py\"",
            "",
            "\u001b[0;31m---------------------------------------------------------------------------\u001b[0;32m\nNOTE: If your import is failing due to a missing package, you can\nmanually install dependencies using either !pip or !apt.\n\nTo view examples of installing some common dependencies, click the\n\"Open Examples\" button below.\n\u001b[0;31m---------------------------------------------------------------------------\u001b[0m\n"
          ]
        }
      ]
    },
    {
      "cell_type": "markdown",
      "metadata": {
        "id": "syhisD7MDJoi",
        "colab_type": "text"
      },
      "source": [
        "计算每一步的平均收益"
      ]
    },
    {
      "cell_type": "code",
      "metadata": {
        "id": "2m69TuoCjXwK",
        "colab_type": "code",
        "outputId": "6fadb635-cd2a-4041-a737-ecbe6648fafe",
        "colab": {
          "base_uri": "https://localhost:8080/",
          "height": 53
        }
      },
      "source": [
        "def average_reward(mdp, state_values, count=10000):\n",
        "    state = mdp.reset()\n",
        "    #根据policy选择最佳的action\n",
        "    all_rewards = []\n",
        "    while count>0:\n",
        "        action = get_optimal_action(mdp, state_values, state, gamma)\n",
        "        #print(\"action={0}\\tstate={1}\".format(action, state))\n",
        "        #执行该action，获得reward\n",
        "        state, reward, is_done, _ = mdp.step(action)\n",
        "        all_rewards.append(reward)\n",
        "        count = count -1\n",
        "    print(sum(all_rewards)/len(all_rewards))\n",
        "print(\"averate reward={0}\".format(average_reward(mdp, state_values)))"
      ],
      "execution_count": 14,
      "outputs": [
        {
          "output_type": "stream",
          "text": [
            "0.4612\n",
            "averate reward=None\n"
          ],
          "name": "stdout"
        }
      ]
    },
    {
      "cell_type": "code",
      "metadata": {
        "id": "PDDtiRw9j_tr",
        "colab_type": "code",
        "colab": {}
      },
      "source": [
        ""
      ],
      "execution_count": 0,
      "outputs": []
    },
    {
      "cell_type": "markdown",
      "metadata": {
        "id": "i3RMMW53LN5U",
        "colab_type": "text"
      },
      "source": [
        "## 例子：Frozen Lake"
      ]
    },
    {
      "cell_type": "markdown",
      "metadata": {
        "id": "vN5hTc8JLhdQ",
        "colab_type": "text"
      },
      "source": [
        "**步骤**\n",
        "\n",
        "\n",
        "1.   状态表示方法：利用二维数组的下标表示，例如：state=ij\n",
        "2.   动作：L,R,U,D分别对应：向左，向右，向上，向下。\n",
        "3.   构造mdp\n",
        "\n",
        "\n",
        "\n",
        "\n",
        "\n"
      ]
    },
    {
      "cell_type": "markdown",
      "metadata": {
        "id": "vGdhk_5uMyYQ",
        "colab_type": "text"
      },
      "source": [
        "**利用value iteration求解**"
      ]
    },
    {
      "cell_type": "code",
      "metadata": {
        "id": "0fO3mBEPkkjw",
        "colab_type": "code",
        "colab": {}
      },
      "source": [
        "from mdp import FrozenLakeEnv\n",
        "frozen_lake = FrozenLakeEnv()"
      ],
      "execution_count": 0,
      "outputs": []
    },
    {
      "cell_type": "code",
      "metadata": {
        "id": "LXfgGWKsMq4q",
        "colab_type": "code",
        "outputId": "04bf4c21-95c5-4e58-f629-d639ce79b22f",
        "colab": {
          "base_uri": "https://localhost:8080/",
          "height": 1000
        }
      },
      "source": [
        "state_values = {s: 0.0 for i, s in enumerate(sorted(frozen_lake.get_all_states()))}\n",
        "state_values = value_iteration(frozen_lake, state_values, 0.9, 100)"
      ],
      "execution_count": 19,
      "outputs": [
        {
          "output_type": "stream",
          "text": [
            "states=((0, 0), (0, 1), (0, 2), (0, 3), (1, 0), (1, 1), (1, 2), (1, 3), (2, 0), (2, 1), (2, 2), (2, 3), (3, 0), (3, 1), (3, 2), (3, 3))\n",
            "state_values={(0, 0): 0.0, (0, 1): 0.0, (0, 2): 0.0, (0, 3): 0.0, (1, 0): 0.0, (1, 1): 0.0, (1, 2): 0.0, (1, 3): 0.0, (2, 0): 0.0, (2, 1): 0.0, (2, 2): 0.0, (2, 3): 0.0, (3, 0): 0.0, (3, 1): 0.0, (3, 2): 0.0, (3, 3): 0.0}\n",
            "state_values={(0, 0): 0.0, (0, 1): 0.0, (0, 2): 0.0, (0, 3): 0.0, (1, 0): 0.0, (1, 1): 0, (1, 2): 0.0, (1, 3): 0, (2, 0): 0.0, (2, 1): 0.0, (2, 2): 0.0, (2, 3): 0, (3, 0): 0, (3, 1): 0.0, (3, 2): 0.8, (3, 3): 0}\n",
            "state_values={(0, 0): 0.0, (0, 1): 0.0, (0, 2): 0.0, (0, 3): 0.0, (1, 0): 0.0, (1, 1): 0, (1, 2): 0.0, (1, 3): 0, (2, 0): 0.0, (2, 1): 0.0, (2, 2): 0.5760000000000001, (2, 3): 0, (3, 0): 0, (3, 1): 0.5760000000000001, (3, 2): 0.9238400000000001, (3, 3): 0}\n",
            "state_values={(0, 0): 0.0, (0, 1): 0.0, (0, 2): 0.0, (0, 3): 0.0, (1, 0): 0.0, (1, 1): 0, (1, 2): 0.4147200000000001, (1, 3): 0, (2, 0): 0.0, (2, 1): 0.4665600000000001, (2, 2): 0.7071552000000001, (2, 3): 0, (3, 0): 0, (3, 1): 0.7589952000000001, (3, 2): 0.946789568, (3, 3): 0}\n",
            "state_values={(0, 0): 0.0, (0, 1): 0.0, (0, 2): 0.2985984000000001, (0, 3): 0.21499084800000007, (1, 0): 0.0, (1, 1): 0, (1, 2): 0.5091517440000001, (1, 3): 0, (2, 0): 0.3359232000000001, (2, 1): 0.6403536000000001, (2, 2): 0.7393203129600001, (2, 3): 0, (3, 0): 0, (3, 1): 0.8076298809600002, (3, 2): 0.9517498892864, (3, 3): 0}\n",
            "state_values={(0, 0): 0.0, (0, 1): 0.21499084800000007, (0, 2): 0.4052876083200001, (0, 3): 0.31115625431040006, (1, 0): 0.24186470400000007, (1, 1): 0, (1, 2): 0.5323106253312001, (1, 3): 0, (2, 0): 0.4828224153600001, (2, 1): 0.6914863598400003, (2, 2): 0.7474936926718081, (2, 3): 0, (3, 0): 0, (3, 1): 0.8201803819582081, (3, 2): 0.9529319223762388, (3, 3): 0}\n",
            "state_values={(0, 0): 0.19349176320000006, (0, 1): 0.31115625431040006, (0, 2): 0.4392717760143361, (0, 3): 0.34427974161825803, (1, 0): 0.3693999624192001, (1, 1): 0, (1, 2): 0.5381954587237019, (1, 3): 0, (2, 0): 0.5311161757025282, (2, 1): 0.7056047631636001, (2, 2): 0.749615412795616, (2, 3): 0, (3, 0): 0, (3, 1): 0.8234316471718548, (3, 2): 0.953229260165467, (3, 3): 0}\n",
            "state_values={(0, 0): 0.31138629451776006, (0, 1): 0.34427974161825803, (0, 2): 0.4494710837723518, (0, 3): 0.35460435706173654, (1, 0): 0.41564964312354835, (1, 1): 0, (1, 2): 0.5397230972128436, (1, 3): 0, (2, 0): 0.5454438973589115, (2, 1): 0.7094261238776429, (2, 2): 0.7501734184681242, (2, 3): 0, (3, 0): 0, (3, 1): 0.8242822667135912, (3, 2): 0.9533062410770232, (3, 3): 0}\n",
            "state_values={(0, 0): 0.35827768630119644, (0, 1): 0.35460435706173654, (0, 2): 0.45242941426436, (0, 3): 0.3576635704058955, (1, 0): 0.4301280739795357, (1, 1): 0, (1, 2): 0.5401248612970495, (1, 3): 0, (2, 0): 0.5494983358500612, (2, 1): 0.7104536899224224, (2, 2): 0.7503213256684748, (2, 3): 0, (3, 0): 0, (3, 1): 0.824506729672698, (3, 2): 0.9533264810070949, (3, 3): 0}\n",
            "state_values={(0, 0): 0.3738515971679297, (0, 1): 0.3576635704058955, (0, 2): 0.45326934280693687, (0, 3): 0.35854364815752515, (1, 0): 0.4343503284702024, (1, 1): 0, (1, 2): 0.5402313544813019, (1, 3): 0, (2, 0): 0.5506181863064624, (2, 1): 0.710729401442087, (2, 2): 0.7503607124548962, (2, 3): 0, (3, 0): 0, (3, 1): 0.824566318125439, (3, 2): 0.9533318474115793, (3, 3): 0}\n",
            "state_values={(0, 0): 0.37856860158019, (0, 1): 0.35854364815752515, (0, 2): 0.4535044318948919, (0, 3): 0.3587921192984995, (1, 0): 0.4355366237029712, (1, 1): 0, (1, 2): 0.5402597129675253, (1, 3): 0, (2, 0): 0.55092346517157, (2, 1): 0.7108033250366981, (2, 2): 0.75037122938964, (2, 3): 0, (3, 0): 0, (3, 1): 0.8245821980209295, (3, 2): 0.9533332769121098, (3, 3): 0}\n",
            "state_values={(0, 0): 0.3799264715425337, (0, 1): 0.3587921192984995, (0, 2): 0.45356957481034815, (0, 3): 0.3588613846003157, (1, 0): 0.4358631910567978, (1, 1): 0, (1, 2): 0.5402672851605408, (1, 3): 0, (2, 0): 0.5510060812215345, (2, 1): 0.710823140530075, (2, 2): 0.7503740420244259, (2, 3): 0, (3, 0): 0, (3, 1): 0.8245864398463096, (3, 2): 0.9533336587042882, (3, 3): 0}\n",
            "state_values={(0, 0): 0.38030617073658746, (0, 1): 0.3588613846003157, (0, 2): 0.4535874945436462, (0, 3): 0.3588805206854537, (1, 0): 0.4359520656746167, (1, 1): 0, (1, 2): 0.5402693102575867, (1, 3): 0, (2, 0): 0.5510283470923695, (2, 1): 0.7108284517098545, (2, 2): 0.7503747949209745, (2, 3): 0, (3, 0): 0, (3, 1): 0.8245875745071423, (3, 2): 0.9533337608262737, (3, 3): 0}\n",
            "state_values={(0, 0): 0.3804105672660453, (0, 1): 0.3588805206854537, (0, 2): 0.45359239710884414, (0, 3): 0.3588857727800586, (1, 0): 0.4359760958172216, (1, 1): 0, (1, 2): 0.5402698523431017, (1, 3): 0, (2, 0): 0.5510343338546453, (2, 1): 0.7108298752349483, (2, 2): 0.7503749965660624, (2, 3): 0, (3, 0): 0, (3, 1): 0.8245878782717053, (3, 2): 0.9533337881653103, (3, 3): 0}\n",
            "state_values={(0, 0): 0.3804389869040345, (0, 1): 0.3588857727800586, (0, 2): 0.45359373278744375, (0, 3): 0.3588872071571648, (1, 0): 0.4359825689988946, (1, 1): 0, (1, 2): 0.540269997527565, (1, 3): 0, (2, 0): 0.5510359413790634, (2, 1): 0.7108302567706891, (2, 2): 0.7503750505883855, (2, 3): 0, (3, 0): 0, (3, 1): 0.8245879596328389, (3, 2): 0.9533337954878327, (3, 3): 0}\n",
            "state_values={(0, 0): 0.38044667805077254, (0, 1): 0.3588872071571648, (0, 2): 0.4535940955081365, (0, 3): 0.35888759741000315, (1, 0): 0.4359843090028262, (1, 1): 0, (1, 2): 0.5402700364236376, (1, 3): 0, (2, 0): 0.5510363726851505, (2, 1): 0.7108303590302624, (2, 2): 0.7503750650639632, (2, 3): 0, (3, 0): 0, (3, 1): 0.8245879814309187, (3, 2): 0.9533337974496616, (3, 3): 0}\n",
            "state_values={(0, 0): 0.38044875215074925, (0, 1): 0.35888759741000315, (0, 2): 0.4535941937588197, (0, 3): 0.35888770327325054, (1, 0): 0.43598477614356274, (1, 1): 0, (1, 2): 0.5402700468460536, (1, 3): 0, (2, 0): 0.5510364883547096, (2, 1): 0.710830386437942, (2, 2): 0.7503750689431712, (2, 3): 0, (3, 0): 0, (3, 1): 0.8245879872719539, (3, 2): 0.953333797975355, (3, 3): 0}\n",
            "state_values={(0, 0): 0.3804493102838329, (0, 1): 0.35888770327325054, (0, 2): 0.45359422031834373, (0, 3): 0.3588877319238001, (1, 0): 0.4359849014683116, (1, 1): 0, (1, 2): 0.5402700496390833, (1, 3): 0, (2, 0): 0.5510365193674663, (2, 1): 0.7108303937837642, (2, 2): 0.7503750699827944, (2, 3): 0, (3, 0): 0, (3, 1): 0.8245879888372702, (3, 2): 0.9533337981162335, (3, 3): 0}\n",
            "state_values={(0, 0): 0.38044946027732185, (0, 1): 0.3588877319238001, (0, 2): 0.4535942274864241, (0, 3): 0.3588877396633674, (1, 0): 0.43598493507672387, (1, 1): 0, (1, 2): 0.540270050387612, (1, 3): 0, (2, 0): 0.5510365276812154, (2, 1): 0.7108303957525955, (2, 2): 0.7503750702614218, (2, 3): 0, (3, 0): 0, (3, 1): 0.8245879892567761, (3, 2): 0.9533337981539891, (3, 3): 0}\n",
            "state_values={(0, 0): 0.3804495005533422, (0, 1): 0.3588877396633674, (0, 2): 0.4535942294184868, (0, 3): 0.35888774175101357, (1, 0): 0.43598494408738026, (1, 1): 0, (1, 2): 0.5402700505882237, (1, 3): 0, (2, 0): 0.5510365299097331, (2, 1): 0.7108303962802828, (2, 2): 0.7503750703360977, (2, 3): 0, (3, 0): 0, (3, 1): 0.8245879893692075, (3, 2): 0.9533337981641079, (3, 3): 0}\n",
            "state_values={(0, 0): 0.38044951136241767, (0, 1): 0.35888774175101357, (0, 2): 0.45359422993870363, (0, 3): 0.3588877423134578, (1, 0): 0.43598494650287206, (1, 1): 0, (1, 2): 0.5402700506419904, (1, 3): 0, (2, 0): 0.5510365305070621, (2, 1): 0.7108303964217138, (2, 2): 0.750375070356112, (2, 3): 0, (3, 0): 0, (3, 1): 0.8245879893993406, (3, 2): 0.9533337981668198, (3, 3): 0}\n",
            "state_values={(0, 0): 0.38044951426227674, (0, 1): 0.3588877423134578, (0, 2): 0.4535942300786555, (0, 3): 0.35888774246484323, (1, 0): 0.43598494715034325, (1, 1): 0, (1, 2): 0.5402700506564007, (1, 3): 0, (2, 0): 0.5510365306671648, (2, 1): 0.7108303964596203, (2, 2): 0.7503750703614761, (2, 3): 0, (3, 0): 0, (3, 1): 0.8245879894074168, (3, 2): 0.9533337981675467, (3, 3): 0}\n",
            "state_values={(0, 0): 0.3804495150400633, (0, 1): 0.35888774246484323, (0, 2): 0.4535942301162803, (0, 3): 0.3588877425055577, (1, 0): 0.4359849473238896, (1, 1): 0, (1, 2): 0.5402700506602628, (1, 3): 0, (2, 0): 0.5510365307100769, (2, 1): 0.71083039646978, (2, 2): 0.750375070362914, (2, 3): 0, (3, 0): 0, (3, 1): 0.8245879894095816, (3, 2): 0.9533337981677416, (3, 3): 0}\n",
            "state_values={(0, 0): 0.3804495152486421, (0, 1): 0.3588877425055577, (0, 2): 0.4535942301263896, (0, 3): 0.35888774251650074, (1, 0): 0.43598494737040544, (1, 1): 0, (1, 2): 0.5402700506612981, (1, 3): 0, (2, 0): 0.5510365307215782, (2, 1): 0.7108303964725031, (2, 2): 0.7503750703632993, (2, 3): 0, (3, 0): 0, (3, 1): 0.8245879894101616, (3, 2): 0.9533337981677937, (3, 3): 0}\n",
            "state_values={(0, 0): 0.38044951530456994, (0, 1): 0.35888774251650074, (0, 2): 0.45359423012910477, (0, 3): 0.35888774251944056, (1, 0): 0.4359849473828728, (1, 1): 0, (1, 2): 0.5402700506615755, (1, 3): 0, (2, 0): 0.5510365307246609, (2, 1): 0.7108303964732329, (2, 2): 0.7503750703634025, (2, 3): 0, (3, 0): 0, (3, 1): 0.824587989410317, (3, 2): 0.9533337981678077, (3, 3): 0}\n",
            "state_values={(0, 0): 0.38044951531956483, (0, 1): 0.35888774251944056, (0, 2): 0.45359423012983374, (0, 3): 0.35888774252023, (1, 0): 0.4359849473862144, (1, 1): 0, (1, 2): 0.5402700506616498, (1, 3): 0, (2, 0): 0.551036530725487, (2, 1): 0.7108303964734284, (2, 2): 0.7503750703634302, (2, 3): 0, (3, 0): 0, (3, 1): 0.8245879894103587, (3, 2): 0.9533337981678115, (3, 3): 0}\n",
            "state_values={(0, 0): 0.3804495153235849, (0, 1): 0.35888774252023, (0, 2): 0.4535942301300293, (0, 3): 0.3588877425204418, (1, 0): 0.43598494738710997, (1, 1): 0, (1, 2): 0.5402700506616698, (1, 3): 0, (2, 0): 0.5510365307257084, (2, 1): 0.7108303964734808, (2, 2): 0.7503750703634375, (2, 3): 0, (3, 0): 0, (3, 1): 0.8245879894103698, (3, 2): 0.9533337981678125, (3, 3): 0}\n",
            "state_values={(0, 0): 0.38044951532466253, (0, 1): 0.3588877425204418, (0, 2): 0.45359423013008177, (0, 3): 0.35888774252049865, (1, 0): 0.43598494738734994, (1, 1): 0, (1, 2): 0.5402700506616751, (1, 3): 0, (2, 0): 0.5510365307257677, (2, 1): 0.7108303964734948, (2, 2): 0.7503750703634396, (2, 3): 0, (3, 0): 0, (3, 1): 0.8245879894103729, (3, 2): 0.9533337981678127, (3, 3): 0}\n",
            "state_values={(0, 0): 0.38044951532495136, (0, 1): 0.35888774252049865, (0, 2): 0.4535942301300959, (0, 3): 0.3588877425205139, (1, 0): 0.4359849473874143, (1, 1): 0, (1, 2): 0.5402700506616765, (1, 3): 0, (2, 0): 0.5510365307257836, (2, 1): 0.7108303964734987, (2, 2): 0.7503750703634401, (2, 3): 0, (3, 0): 0, (3, 1): 0.8245879894103736, (3, 2): 0.9533337981678128, (3, 3): 0}\n",
            "state_values={(0, 0): 0.3804495153250288, (0, 1): 0.3588877425205139, (0, 2): 0.45359423013009964, (0, 3): 0.358887742520518, (1, 0): 0.43598494738743154, (1, 1): 0, (1, 2): 0.5402700506616769, (1, 3): 0, (2, 0): 0.551036530725788, (2, 1): 0.7108303964734995, (2, 2): 0.7503750703634402, (2, 3): 0, (3, 0): 0, (3, 1): 0.8245879894103738, (3, 2): 0.9533337981678128, (3, 3): 0}\n",
            "state_values={(0, 0): 0.38044951532504956, (0, 1): 0.358887742520518, (0, 2): 0.4535942301301006, (0, 3): 0.3588877425205191, (1, 0): 0.4359849473874362, (1, 1): 0, (1, 2): 0.540270050661677, (1, 3): 0, (2, 0): 0.551036530725789, (2, 1): 0.7108303964734999, (2, 2): 0.7503750703634403, (2, 3): 0, (3, 0): 0, (3, 1): 0.8245879894103739, (3, 2): 0.9533337981678128, (3, 3): 0}\n",
            "state_values={(0, 0): 0.38044951532505517, (0, 1): 0.3588877425205191, (0, 2): 0.4535942301301009, (0, 3): 0.35888774252051936, (1, 0): 0.43598494738743737, (1, 1): 0, (1, 2): 0.540270050661677, (1, 3): 0, (2, 0): 0.5510365307257894, (2, 1): 0.7108303964734999, (2, 2): 0.7503750703634403, (2, 3): 0, (3, 0): 0, (3, 1): 0.8245879894103739, (3, 2): 0.9533337981678128, (3, 3): 0}\n",
            "state_values={(0, 0): 0.3804495153250566, (0, 1): 0.35888774252051936, (0, 2): 0.453594230130101, (0, 3): 0.35888774252051947, (1, 0): 0.43598494738743776, (1, 1): 0, (1, 2): 0.540270050661677, (1, 3): 0, (2, 0): 0.5510365307257894, (2, 1): 0.7108303964734999, (2, 2): 0.7503750703634403, (2, 3): 0, (3, 0): 0, (3, 1): 0.8245879894103739, (3, 2): 0.9533337981678128, (3, 3): 0}\n",
            "state_values={(0, 0): 0.38044951532505705, (0, 1): 0.35888774252051947, (0, 2): 0.453594230130101, (0, 3): 0.35888774252051947, (1, 0): 0.4359849473874378, (1, 1): 0, (1, 2): 0.540270050661677, (1, 3): 0, (2, 0): 0.5510365307257894, (2, 1): 0.7108303964734999, (2, 2): 0.7503750703634403, (2, 3): 0, (3, 0): 0, (3, 1): 0.8245879894103739, (3, 2): 0.9533337981678128, (3, 3): 0}\n",
            "state_values={(0, 0): 0.3804495153250571, (0, 1): 0.35888774252051947, (0, 2): 0.453594230130101, (0, 3): 0.35888774252051947, (1, 0): 0.4359849473874378, (1, 1): 0, (1, 2): 0.540270050661677, (1, 3): 0, (2, 0): 0.5510365307257894, (2, 1): 0.7108303964734999, (2, 2): 0.7503750703634403, (2, 3): 0, (3, 0): 0, (3, 1): 0.8245879894103739, (3, 2): 0.9533337981678128, (3, 3): 0}\n",
            "state_values={(0, 0): 0.38044951532505716, (0, 1): 0.35888774252051947, (0, 2): 0.453594230130101, (0, 3): 0.35888774252051947, (1, 0): 0.4359849473874378, (1, 1): 0, (1, 2): 0.540270050661677, (1, 3): 0, (2, 0): 0.5510365307257894, (2, 1): 0.7108303964734999, (2, 2): 0.7503750703634403, (2, 3): 0, (3, 0): 0, (3, 1): 0.8245879894103739, (3, 2): 0.9533337981678128, (3, 3): 0}\n",
            "state_values={(0, 0): 0.38044951532505716, (0, 1): 0.35888774252051947, (0, 2): 0.453594230130101, (0, 3): 0.35888774252051947, (1, 0): 0.4359849473874378, (1, 1): 0, (1, 2): 0.540270050661677, (1, 3): 0, (2, 0): 0.5510365307257894, (2, 1): 0.7108303964734999, (2, 2): 0.7503750703634403, (2, 3): 0, (3, 0): 0, (3, 1): 0.8245879894103739, (3, 2): 0.9533337981678128, (3, 3): 0}\n",
            "state_values={(0, 0): 0.38044951532505716, (0, 1): 0.35888774252051947, (0, 2): 0.453594230130101, (0, 3): 0.35888774252051947, (1, 0): 0.4359849473874378, (1, 1): 0, (1, 2): 0.540270050661677, (1, 3): 0, (2, 0): 0.5510365307257894, (2, 1): 0.7108303964734999, (2, 2): 0.7503750703634403, (2, 3): 0, (3, 0): 0, (3, 1): 0.8245879894103739, (3, 2): 0.9533337981678128, (3, 3): 0}\n",
            "state_values={(0, 0): 0.38044951532505716, (0, 1): 0.35888774252051947, (0, 2): 0.453594230130101, (0, 3): 0.35888774252051947, (1, 0): 0.4359849473874378, (1, 1): 0, (1, 2): 0.540270050661677, (1, 3): 0, (2, 0): 0.5510365307257894, (2, 1): 0.7108303964734999, (2, 2): 0.7503750703634403, (2, 3): 0, (3, 0): 0, (3, 1): 0.8245879894103739, (3, 2): 0.9533337981678128, (3, 3): 0}\n",
            "state_values={(0, 0): 0.38044951532505716, (0, 1): 0.35888774252051947, (0, 2): 0.453594230130101, (0, 3): 0.35888774252051947, (1, 0): 0.4359849473874378, (1, 1): 0, (1, 2): 0.540270050661677, (1, 3): 0, (2, 0): 0.5510365307257894, (2, 1): 0.7108303964734999, (2, 2): 0.7503750703634403, (2, 3): 0, (3, 0): 0, (3, 1): 0.8245879894103739, (3, 2): 0.9533337981678128, (3, 3): 0}\n",
            "state_values={(0, 0): 0.38044951532505716, (0, 1): 0.35888774252051947, (0, 2): 0.453594230130101, (0, 3): 0.35888774252051947, (1, 0): 0.4359849473874378, (1, 1): 0, (1, 2): 0.540270050661677, (1, 3): 0, (2, 0): 0.5510365307257894, (2, 1): 0.7108303964734999, (2, 2): 0.7503750703634403, (2, 3): 0, (3, 0): 0, (3, 1): 0.8245879894103739, (3, 2): 0.9533337981678128, (3, 3): 0}\n",
            "state_values={(0, 0): 0.38044951532505716, (0, 1): 0.35888774252051947, (0, 2): 0.453594230130101, (0, 3): 0.35888774252051947, (1, 0): 0.4359849473874378, (1, 1): 0, (1, 2): 0.540270050661677, (1, 3): 0, (2, 0): 0.5510365307257894, (2, 1): 0.7108303964734999, (2, 2): 0.7503750703634403, (2, 3): 0, (3, 0): 0, (3, 1): 0.8245879894103739, (3, 2): 0.9533337981678128, (3, 3): 0}\n",
            "state_values={(0, 0): 0.38044951532505716, (0, 1): 0.35888774252051947, (0, 2): 0.453594230130101, (0, 3): 0.35888774252051947, (1, 0): 0.4359849473874378, (1, 1): 0, (1, 2): 0.540270050661677, (1, 3): 0, (2, 0): 0.5510365307257894, (2, 1): 0.7108303964734999, (2, 2): 0.7503750703634403, (2, 3): 0, (3, 0): 0, (3, 1): 0.8245879894103739, (3, 2): 0.9533337981678128, (3, 3): 0}\n",
            "state_values={(0, 0): 0.38044951532505716, (0, 1): 0.35888774252051947, (0, 2): 0.453594230130101, (0, 3): 0.35888774252051947, (1, 0): 0.4359849473874378, (1, 1): 0, (1, 2): 0.540270050661677, (1, 3): 0, (2, 0): 0.5510365307257894, (2, 1): 0.7108303964734999, (2, 2): 0.7503750703634403, (2, 3): 0, (3, 0): 0, (3, 1): 0.8245879894103739, (3, 2): 0.9533337981678128, (3, 3): 0}\n",
            "state_values={(0, 0): 0.38044951532505716, (0, 1): 0.35888774252051947, (0, 2): 0.453594230130101, (0, 3): 0.35888774252051947, (1, 0): 0.4359849473874378, (1, 1): 0, (1, 2): 0.540270050661677, (1, 3): 0, (2, 0): 0.5510365307257894, (2, 1): 0.7108303964734999, (2, 2): 0.7503750703634403, (2, 3): 0, (3, 0): 0, (3, 1): 0.8245879894103739, (3, 2): 0.9533337981678128, (3, 3): 0}\n",
            "state_values={(0, 0): 0.38044951532505716, (0, 1): 0.35888774252051947, (0, 2): 0.453594230130101, (0, 3): 0.35888774252051947, (1, 0): 0.4359849473874378, (1, 1): 0, (1, 2): 0.540270050661677, (1, 3): 0, (2, 0): 0.5510365307257894, (2, 1): 0.7108303964734999, (2, 2): 0.7503750703634403, (2, 3): 0, (3, 0): 0, (3, 1): 0.8245879894103739, (3, 2): 0.9533337981678128, (3, 3): 0}\n",
            "state_values={(0, 0): 0.38044951532505716, (0, 1): 0.35888774252051947, (0, 2): 0.453594230130101, (0, 3): 0.35888774252051947, (1, 0): 0.4359849473874378, (1, 1): 0, (1, 2): 0.540270050661677, (1, 3): 0, (2, 0): 0.5510365307257894, (2, 1): 0.7108303964734999, (2, 2): 0.7503750703634403, (2, 3): 0, (3, 0): 0, (3, 1): 0.8245879894103739, (3, 2): 0.9533337981678128, (3, 3): 0}\n",
            "state_values={(0, 0): 0.38044951532505716, (0, 1): 0.35888774252051947, (0, 2): 0.453594230130101, (0, 3): 0.35888774252051947, (1, 0): 0.4359849473874378, (1, 1): 0, (1, 2): 0.540270050661677, (1, 3): 0, (2, 0): 0.5510365307257894, (2, 1): 0.7108303964734999, (2, 2): 0.7503750703634403, (2, 3): 0, (3, 0): 0, (3, 1): 0.8245879894103739, (3, 2): 0.9533337981678128, (3, 3): 0}\n",
            "state_values={(0, 0): 0.38044951532505716, (0, 1): 0.35888774252051947, (0, 2): 0.453594230130101, (0, 3): 0.35888774252051947, (1, 0): 0.4359849473874378, (1, 1): 0, (1, 2): 0.540270050661677, (1, 3): 0, (2, 0): 0.5510365307257894, (2, 1): 0.7108303964734999, (2, 2): 0.7503750703634403, (2, 3): 0, (3, 0): 0, (3, 1): 0.8245879894103739, (3, 2): 0.9533337981678128, (3, 3): 0}\n",
            "state_values={(0, 0): 0.38044951532505716, (0, 1): 0.35888774252051947, (0, 2): 0.453594230130101, (0, 3): 0.35888774252051947, (1, 0): 0.4359849473874378, (1, 1): 0, (1, 2): 0.540270050661677, (1, 3): 0, (2, 0): 0.5510365307257894, (2, 1): 0.7108303964734999, (2, 2): 0.7503750703634403, (2, 3): 0, (3, 0): 0, (3, 1): 0.8245879894103739, (3, 2): 0.9533337981678128, (3, 3): 0}\n",
            "state_values={(0, 0): 0.38044951532505716, (0, 1): 0.35888774252051947, (0, 2): 0.453594230130101, (0, 3): 0.35888774252051947, (1, 0): 0.4359849473874378, (1, 1): 0, (1, 2): 0.540270050661677, (1, 3): 0, (2, 0): 0.5510365307257894, (2, 1): 0.7108303964734999, (2, 2): 0.7503750703634403, (2, 3): 0, (3, 0): 0, (3, 1): 0.8245879894103739, (3, 2): 0.9533337981678128, (3, 3): 0}\n",
            "state_values={(0, 0): 0.38044951532505716, (0, 1): 0.35888774252051947, (0, 2): 0.453594230130101, (0, 3): 0.35888774252051947, (1, 0): 0.4359849473874378, (1, 1): 0, (1, 2): 0.540270050661677, (1, 3): 0, (2, 0): 0.5510365307257894, (2, 1): 0.7108303964734999, (2, 2): 0.7503750703634403, (2, 3): 0, (3, 0): 0, (3, 1): 0.8245879894103739, (3, 2): 0.9533337981678128, (3, 3): 0}\n",
            "state_values={(0, 0): 0.38044951532505716, (0, 1): 0.35888774252051947, (0, 2): 0.453594230130101, (0, 3): 0.35888774252051947, (1, 0): 0.4359849473874378, (1, 1): 0, (1, 2): 0.540270050661677, (1, 3): 0, (2, 0): 0.5510365307257894, (2, 1): 0.7108303964734999, (2, 2): 0.7503750703634403, (2, 3): 0, (3, 0): 0, (3, 1): 0.8245879894103739, (3, 2): 0.9533337981678128, (3, 3): 0}\n",
            "state_values={(0, 0): 0.38044951532505716, (0, 1): 0.35888774252051947, (0, 2): 0.453594230130101, (0, 3): 0.35888774252051947, (1, 0): 0.4359849473874378, (1, 1): 0, (1, 2): 0.540270050661677, (1, 3): 0, (2, 0): 0.5510365307257894, (2, 1): 0.7108303964734999, (2, 2): 0.7503750703634403, (2, 3): 0, (3, 0): 0, (3, 1): 0.8245879894103739, (3, 2): 0.9533337981678128, (3, 3): 0}\n",
            "state_values={(0, 0): 0.38044951532505716, (0, 1): 0.35888774252051947, (0, 2): 0.453594230130101, (0, 3): 0.35888774252051947, (1, 0): 0.4359849473874378, (1, 1): 0, (1, 2): 0.540270050661677, (1, 3): 0, (2, 0): 0.5510365307257894, (2, 1): 0.7108303964734999, (2, 2): 0.7503750703634403, (2, 3): 0, (3, 0): 0, (3, 1): 0.8245879894103739, (3, 2): 0.9533337981678128, (3, 3): 0}\n",
            "state_values={(0, 0): 0.38044951532505716, (0, 1): 0.35888774252051947, (0, 2): 0.453594230130101, (0, 3): 0.35888774252051947, (1, 0): 0.4359849473874378, (1, 1): 0, (1, 2): 0.540270050661677, (1, 3): 0, (2, 0): 0.5510365307257894, (2, 1): 0.7108303964734999, (2, 2): 0.7503750703634403, (2, 3): 0, (3, 0): 0, (3, 1): 0.8245879894103739, (3, 2): 0.9533337981678128, (3, 3): 0}\n",
            "state_values={(0, 0): 0.38044951532505716, (0, 1): 0.35888774252051947, (0, 2): 0.453594230130101, (0, 3): 0.35888774252051947, (1, 0): 0.4359849473874378, (1, 1): 0, (1, 2): 0.540270050661677, (1, 3): 0, (2, 0): 0.5510365307257894, (2, 1): 0.7108303964734999, (2, 2): 0.7503750703634403, (2, 3): 0, (3, 0): 0, (3, 1): 0.8245879894103739, (3, 2): 0.9533337981678128, (3, 3): 0}\n",
            "state_values={(0, 0): 0.38044951532505716, (0, 1): 0.35888774252051947, (0, 2): 0.453594230130101, (0, 3): 0.35888774252051947, (1, 0): 0.4359849473874378, (1, 1): 0, (1, 2): 0.540270050661677, (1, 3): 0, (2, 0): 0.5510365307257894, (2, 1): 0.7108303964734999, (2, 2): 0.7503750703634403, (2, 3): 0, (3, 0): 0, (3, 1): 0.8245879894103739, (3, 2): 0.9533337981678128, (3, 3): 0}\n",
            "state_values={(0, 0): 0.38044951532505716, (0, 1): 0.35888774252051947, (0, 2): 0.453594230130101, (0, 3): 0.35888774252051947, (1, 0): 0.4359849473874378, (1, 1): 0, (1, 2): 0.540270050661677, (1, 3): 0, (2, 0): 0.5510365307257894, (2, 1): 0.7108303964734999, (2, 2): 0.7503750703634403, (2, 3): 0, (3, 0): 0, (3, 1): 0.8245879894103739, (3, 2): 0.9533337981678128, (3, 3): 0}\n",
            "state_values={(0, 0): 0.38044951532505716, (0, 1): 0.35888774252051947, (0, 2): 0.453594230130101, (0, 3): 0.35888774252051947, (1, 0): 0.4359849473874378, (1, 1): 0, (1, 2): 0.540270050661677, (1, 3): 0, (2, 0): 0.5510365307257894, (2, 1): 0.7108303964734999, (2, 2): 0.7503750703634403, (2, 3): 0, (3, 0): 0, (3, 1): 0.8245879894103739, (3, 2): 0.9533337981678128, (3, 3): 0}\n",
            "state_values={(0, 0): 0.38044951532505716, (0, 1): 0.35888774252051947, (0, 2): 0.453594230130101, (0, 3): 0.35888774252051947, (1, 0): 0.4359849473874378, (1, 1): 0, (1, 2): 0.540270050661677, (1, 3): 0, (2, 0): 0.5510365307257894, (2, 1): 0.7108303964734999, (2, 2): 0.7503750703634403, (2, 3): 0, (3, 0): 0, (3, 1): 0.8245879894103739, (3, 2): 0.9533337981678128, (3, 3): 0}\n",
            "state_values={(0, 0): 0.38044951532505716, (0, 1): 0.35888774252051947, (0, 2): 0.453594230130101, (0, 3): 0.35888774252051947, (1, 0): 0.4359849473874378, (1, 1): 0, (1, 2): 0.540270050661677, (1, 3): 0, (2, 0): 0.5510365307257894, (2, 1): 0.7108303964734999, (2, 2): 0.7503750703634403, (2, 3): 0, (3, 0): 0, (3, 1): 0.8245879894103739, (3, 2): 0.9533337981678128, (3, 3): 0}\n",
            "state_values={(0, 0): 0.38044951532505716, (0, 1): 0.35888774252051947, (0, 2): 0.453594230130101, (0, 3): 0.35888774252051947, (1, 0): 0.4359849473874378, (1, 1): 0, (1, 2): 0.540270050661677, (1, 3): 0, (2, 0): 0.5510365307257894, (2, 1): 0.7108303964734999, (2, 2): 0.7503750703634403, (2, 3): 0, (3, 0): 0, (3, 1): 0.8245879894103739, (3, 2): 0.9533337981678128, (3, 3): 0}\n",
            "state_values={(0, 0): 0.38044951532505716, (0, 1): 0.35888774252051947, (0, 2): 0.453594230130101, (0, 3): 0.35888774252051947, (1, 0): 0.4359849473874378, (1, 1): 0, (1, 2): 0.540270050661677, (1, 3): 0, (2, 0): 0.5510365307257894, (2, 1): 0.7108303964734999, (2, 2): 0.7503750703634403, (2, 3): 0, (3, 0): 0, (3, 1): 0.8245879894103739, (3, 2): 0.9533337981678128, (3, 3): 0}\n",
            "state_values={(0, 0): 0.38044951532505716, (0, 1): 0.35888774252051947, (0, 2): 0.453594230130101, (0, 3): 0.35888774252051947, (1, 0): 0.4359849473874378, (1, 1): 0, (1, 2): 0.540270050661677, (1, 3): 0, (2, 0): 0.5510365307257894, (2, 1): 0.7108303964734999, (2, 2): 0.7503750703634403, (2, 3): 0, (3, 0): 0, (3, 1): 0.8245879894103739, (3, 2): 0.9533337981678128, (3, 3): 0}\n",
            "state_values={(0, 0): 0.38044951532505716, (0, 1): 0.35888774252051947, (0, 2): 0.453594230130101, (0, 3): 0.35888774252051947, (1, 0): 0.4359849473874378, (1, 1): 0, (1, 2): 0.540270050661677, (1, 3): 0, (2, 0): 0.5510365307257894, (2, 1): 0.7108303964734999, (2, 2): 0.7503750703634403, (2, 3): 0, (3, 0): 0, (3, 1): 0.8245879894103739, (3, 2): 0.9533337981678128, (3, 3): 0}\n",
            "state_values={(0, 0): 0.38044951532505716, (0, 1): 0.35888774252051947, (0, 2): 0.453594230130101, (0, 3): 0.35888774252051947, (1, 0): 0.4359849473874378, (1, 1): 0, (1, 2): 0.540270050661677, (1, 3): 0, (2, 0): 0.5510365307257894, (2, 1): 0.7108303964734999, (2, 2): 0.7503750703634403, (2, 3): 0, (3, 0): 0, (3, 1): 0.8245879894103739, (3, 2): 0.9533337981678128, (3, 3): 0}\n",
            "state_values={(0, 0): 0.38044951532505716, (0, 1): 0.35888774252051947, (0, 2): 0.453594230130101, (0, 3): 0.35888774252051947, (1, 0): 0.4359849473874378, (1, 1): 0, (1, 2): 0.540270050661677, (1, 3): 0, (2, 0): 0.5510365307257894, (2, 1): 0.7108303964734999, (2, 2): 0.7503750703634403, (2, 3): 0, (3, 0): 0, (3, 1): 0.8245879894103739, (3, 2): 0.9533337981678128, (3, 3): 0}\n",
            "state_values={(0, 0): 0.38044951532505716, (0, 1): 0.35888774252051947, (0, 2): 0.453594230130101, (0, 3): 0.35888774252051947, (1, 0): 0.4359849473874378, (1, 1): 0, (1, 2): 0.540270050661677, (1, 3): 0, (2, 0): 0.5510365307257894, (2, 1): 0.7108303964734999, (2, 2): 0.7503750703634403, (2, 3): 0, (3, 0): 0, (3, 1): 0.8245879894103739, (3, 2): 0.9533337981678128, (3, 3): 0}\n",
            "state_values={(0, 0): 0.38044951532505716, (0, 1): 0.35888774252051947, (0, 2): 0.453594230130101, (0, 3): 0.35888774252051947, (1, 0): 0.4359849473874378, (1, 1): 0, (1, 2): 0.540270050661677, (1, 3): 0, (2, 0): 0.5510365307257894, (2, 1): 0.7108303964734999, (2, 2): 0.7503750703634403, (2, 3): 0, (3, 0): 0, (3, 1): 0.8245879894103739, (3, 2): 0.9533337981678128, (3, 3): 0}\n",
            "state_values={(0, 0): 0.38044951532505716, (0, 1): 0.35888774252051947, (0, 2): 0.453594230130101, (0, 3): 0.35888774252051947, (1, 0): 0.4359849473874378, (1, 1): 0, (1, 2): 0.540270050661677, (1, 3): 0, (2, 0): 0.5510365307257894, (2, 1): 0.7108303964734999, (2, 2): 0.7503750703634403, (2, 3): 0, (3, 0): 0, (3, 1): 0.8245879894103739, (3, 2): 0.9533337981678128, (3, 3): 0}\n",
            "state_values={(0, 0): 0.38044951532505716, (0, 1): 0.35888774252051947, (0, 2): 0.453594230130101, (0, 3): 0.35888774252051947, (1, 0): 0.4359849473874378, (1, 1): 0, (1, 2): 0.540270050661677, (1, 3): 0, (2, 0): 0.5510365307257894, (2, 1): 0.7108303964734999, (2, 2): 0.7503750703634403, (2, 3): 0, (3, 0): 0, (3, 1): 0.8245879894103739, (3, 2): 0.9533337981678128, (3, 3): 0}\n",
            "state_values={(0, 0): 0.38044951532505716, (0, 1): 0.35888774252051947, (0, 2): 0.453594230130101, (0, 3): 0.35888774252051947, (1, 0): 0.4359849473874378, (1, 1): 0, (1, 2): 0.540270050661677, (1, 3): 0, (2, 0): 0.5510365307257894, (2, 1): 0.7108303964734999, (2, 2): 0.7503750703634403, (2, 3): 0, (3, 0): 0, (3, 1): 0.8245879894103739, (3, 2): 0.9533337981678128, (3, 3): 0}\n",
            "state_values={(0, 0): 0.38044951532505716, (0, 1): 0.35888774252051947, (0, 2): 0.453594230130101, (0, 3): 0.35888774252051947, (1, 0): 0.4359849473874378, (1, 1): 0, (1, 2): 0.540270050661677, (1, 3): 0, (2, 0): 0.5510365307257894, (2, 1): 0.7108303964734999, (2, 2): 0.7503750703634403, (2, 3): 0, (3, 0): 0, (3, 1): 0.8245879894103739, (3, 2): 0.9533337981678128, (3, 3): 0}\n",
            "state_values={(0, 0): 0.38044951532505716, (0, 1): 0.35888774252051947, (0, 2): 0.453594230130101, (0, 3): 0.35888774252051947, (1, 0): 0.4359849473874378, (1, 1): 0, (1, 2): 0.540270050661677, (1, 3): 0, (2, 0): 0.5510365307257894, (2, 1): 0.7108303964734999, (2, 2): 0.7503750703634403, (2, 3): 0, (3, 0): 0, (3, 1): 0.8245879894103739, (3, 2): 0.9533337981678128, (3, 3): 0}\n",
            "state_values={(0, 0): 0.38044951532505716, (0, 1): 0.35888774252051947, (0, 2): 0.453594230130101, (0, 3): 0.35888774252051947, (1, 0): 0.4359849473874378, (1, 1): 0, (1, 2): 0.540270050661677, (1, 3): 0, (2, 0): 0.5510365307257894, (2, 1): 0.7108303964734999, (2, 2): 0.7503750703634403, (2, 3): 0, (3, 0): 0, (3, 1): 0.8245879894103739, (3, 2): 0.9533337981678128, (3, 3): 0}\n",
            "state_values={(0, 0): 0.38044951532505716, (0, 1): 0.35888774252051947, (0, 2): 0.453594230130101, (0, 3): 0.35888774252051947, (1, 0): 0.4359849473874378, (1, 1): 0, (1, 2): 0.540270050661677, (1, 3): 0, (2, 0): 0.5510365307257894, (2, 1): 0.7108303964734999, (2, 2): 0.7503750703634403, (2, 3): 0, (3, 0): 0, (3, 1): 0.8245879894103739, (3, 2): 0.9533337981678128, (3, 3): 0}\n",
            "state_values={(0, 0): 0.38044951532505716, (0, 1): 0.35888774252051947, (0, 2): 0.453594230130101, (0, 3): 0.35888774252051947, (1, 0): 0.4359849473874378, (1, 1): 0, (1, 2): 0.540270050661677, (1, 3): 0, (2, 0): 0.5510365307257894, (2, 1): 0.7108303964734999, (2, 2): 0.7503750703634403, (2, 3): 0, (3, 0): 0, (3, 1): 0.8245879894103739, (3, 2): 0.9533337981678128, (3, 3): 0}\n",
            "state_values={(0, 0): 0.38044951532505716, (0, 1): 0.35888774252051947, (0, 2): 0.453594230130101, (0, 3): 0.35888774252051947, (1, 0): 0.4359849473874378, (1, 1): 0, (1, 2): 0.540270050661677, (1, 3): 0, (2, 0): 0.5510365307257894, (2, 1): 0.7108303964734999, (2, 2): 0.7503750703634403, (2, 3): 0, (3, 0): 0, (3, 1): 0.8245879894103739, (3, 2): 0.9533337981678128, (3, 3): 0}\n",
            "state_values={(0, 0): 0.38044951532505716, (0, 1): 0.35888774252051947, (0, 2): 0.453594230130101, (0, 3): 0.35888774252051947, (1, 0): 0.4359849473874378, (1, 1): 0, (1, 2): 0.540270050661677, (1, 3): 0, (2, 0): 0.5510365307257894, (2, 1): 0.7108303964734999, (2, 2): 0.7503750703634403, (2, 3): 0, (3, 0): 0, (3, 1): 0.8245879894103739, (3, 2): 0.9533337981678128, (3, 3): 0}\n",
            "state_values={(0, 0): 0.38044951532505716, (0, 1): 0.35888774252051947, (0, 2): 0.453594230130101, (0, 3): 0.35888774252051947, (1, 0): 0.4359849473874378, (1, 1): 0, (1, 2): 0.540270050661677, (1, 3): 0, (2, 0): 0.5510365307257894, (2, 1): 0.7108303964734999, (2, 2): 0.7503750703634403, (2, 3): 0, (3, 0): 0, (3, 1): 0.8245879894103739, (3, 2): 0.9533337981678128, (3, 3): 0}\n",
            "state_values={(0, 0): 0.38044951532505716, (0, 1): 0.35888774252051947, (0, 2): 0.453594230130101, (0, 3): 0.35888774252051947, (1, 0): 0.4359849473874378, (1, 1): 0, (1, 2): 0.540270050661677, (1, 3): 0, (2, 0): 0.5510365307257894, (2, 1): 0.7108303964734999, (2, 2): 0.7503750703634403, (2, 3): 0, (3, 0): 0, (3, 1): 0.8245879894103739, (3, 2): 0.9533337981678128, (3, 3): 0}\n",
            "state_values={(0, 0): 0.38044951532505716, (0, 1): 0.35888774252051947, (0, 2): 0.453594230130101, (0, 3): 0.35888774252051947, (1, 0): 0.4359849473874378, (1, 1): 0, (1, 2): 0.540270050661677, (1, 3): 0, (2, 0): 0.5510365307257894, (2, 1): 0.7108303964734999, (2, 2): 0.7503750703634403, (2, 3): 0, (3, 0): 0, (3, 1): 0.8245879894103739, (3, 2): 0.9533337981678128, (3, 3): 0}\n",
            "state_values={(0, 0): 0.38044951532505716, (0, 1): 0.35888774252051947, (0, 2): 0.453594230130101, (0, 3): 0.35888774252051947, (1, 0): 0.4359849473874378, (1, 1): 0, (1, 2): 0.540270050661677, (1, 3): 0, (2, 0): 0.5510365307257894, (2, 1): 0.7108303964734999, (2, 2): 0.7503750703634403, (2, 3): 0, (3, 0): 0, (3, 1): 0.8245879894103739, (3, 2): 0.9533337981678128, (3, 3): 0}\n",
            "state_values={(0, 0): 0.38044951532505716, (0, 1): 0.35888774252051947, (0, 2): 0.453594230130101, (0, 3): 0.35888774252051947, (1, 0): 0.4359849473874378, (1, 1): 0, (1, 2): 0.540270050661677, (1, 3): 0, (2, 0): 0.5510365307257894, (2, 1): 0.7108303964734999, (2, 2): 0.7503750703634403, (2, 3): 0, (3, 0): 0, (3, 1): 0.8245879894103739, (3, 2): 0.9533337981678128, (3, 3): 0}\n",
            "state_values={(0, 0): 0.38044951532505716, (0, 1): 0.35888774252051947, (0, 2): 0.453594230130101, (0, 3): 0.35888774252051947, (1, 0): 0.4359849473874378, (1, 1): 0, (1, 2): 0.540270050661677, (1, 3): 0, (2, 0): 0.5510365307257894, (2, 1): 0.7108303964734999, (2, 2): 0.7503750703634403, (2, 3): 0, (3, 0): 0, (3, 1): 0.8245879894103739, (3, 2): 0.9533337981678128, (3, 3): 0}\n",
            "state_values={(0, 0): 0.38044951532505716, (0, 1): 0.35888774252051947, (0, 2): 0.453594230130101, (0, 3): 0.35888774252051947, (1, 0): 0.4359849473874378, (1, 1): 0, (1, 2): 0.540270050661677, (1, 3): 0, (2, 0): 0.5510365307257894, (2, 1): 0.7108303964734999, (2, 2): 0.7503750703634403, (2, 3): 0, (3, 0): 0, (3, 1): 0.8245879894103739, (3, 2): 0.9533337981678128, (3, 3): 0}\n",
            "state_values={(0, 0): 0.38044951532505716, (0, 1): 0.35888774252051947, (0, 2): 0.453594230130101, (0, 3): 0.35888774252051947, (1, 0): 0.4359849473874378, (1, 1): 0, (1, 2): 0.540270050661677, (1, 3): 0, (2, 0): 0.5510365307257894, (2, 1): 0.7108303964734999, (2, 2): 0.7503750703634403, (2, 3): 0, (3, 0): 0, (3, 1): 0.8245879894103739, (3, 2): 0.9533337981678128, (3, 3): 0}\n",
            "state_values={(0, 0): 0.38044951532505716, (0, 1): 0.35888774252051947, (0, 2): 0.453594230130101, (0, 3): 0.35888774252051947, (1, 0): 0.4359849473874378, (1, 1): 0, (1, 2): 0.540270050661677, (1, 3): 0, (2, 0): 0.5510365307257894, (2, 1): 0.7108303964734999, (2, 2): 0.7503750703634403, (2, 3): 0, (3, 0): 0, (3, 1): 0.8245879894103739, (3, 2): 0.9533337981678128, (3, 3): 0}\n",
            "state_values={(0, 0): 0.38044951532505716, (0, 1): 0.35888774252051947, (0, 2): 0.453594230130101, (0, 3): 0.35888774252051947, (1, 0): 0.4359849473874378, (1, 1): 0, (1, 2): 0.540270050661677, (1, 3): 0, (2, 0): 0.5510365307257894, (2, 1): 0.7108303964734999, (2, 2): 0.7503750703634403, (2, 3): 0, (3, 0): 0, (3, 1): 0.8245879894103739, (3, 2): 0.9533337981678128, (3, 3): 0}\n",
            "state_values={(0, 0): 0.38044951532505716, (0, 1): 0.35888774252051947, (0, 2): 0.453594230130101, (0, 3): 0.35888774252051947, (1, 0): 0.4359849473874378, (1, 1): 0, (1, 2): 0.540270050661677, (1, 3): 0, (2, 0): 0.5510365307257894, (2, 1): 0.7108303964734999, (2, 2): 0.7503750703634403, (2, 3): 0, (3, 0): 0, (3, 1): 0.8245879894103739, (3, 2): 0.9533337981678128, (3, 3): 0}\n",
            "state_values={(0, 0): 0.38044951532505716, (0, 1): 0.35888774252051947, (0, 2): 0.453594230130101, (0, 3): 0.35888774252051947, (1, 0): 0.4359849473874378, (1, 1): 0, (1, 2): 0.540270050661677, (1, 3): 0, (2, 0): 0.5510365307257894, (2, 1): 0.7108303964734999, (2, 2): 0.7503750703634403, (2, 3): 0, (3, 0): 0, (3, 1): 0.8245879894103739, (3, 2): 0.9533337981678128, (3, 3): 0}\n",
            "state_values={(0, 0): 0.38044951532505716, (0, 1): 0.35888774252051947, (0, 2): 0.453594230130101, (0, 3): 0.35888774252051947, (1, 0): 0.4359849473874378, (1, 1): 0, (1, 2): 0.540270050661677, (1, 3): 0, (2, 0): 0.5510365307257894, (2, 1): 0.7108303964734999, (2, 2): 0.7503750703634403, (2, 3): 0, (3, 0): 0, (3, 1): 0.8245879894103739, (3, 2): 0.9533337981678128, (3, 3): 0}\n",
            "state_values={(0, 0): 0.38044951532505716, (0, 1): 0.35888774252051947, (0, 2): 0.453594230130101, (0, 3): 0.35888774252051947, (1, 0): 0.4359849473874378, (1, 1): 0, (1, 2): 0.540270050661677, (1, 3): 0, (2, 0): 0.5510365307257894, (2, 1): 0.7108303964734999, (2, 2): 0.7503750703634403, (2, 3): 0, (3, 0): 0, (3, 1): 0.8245879894103739, (3, 2): 0.9533337981678128, (3, 3): 0}\n",
            "state_values={(0, 0): 0.38044951532505716, (0, 1): 0.35888774252051947, (0, 2): 0.453594230130101, (0, 3): 0.35888774252051947, (1, 0): 0.4359849473874378, (1, 1): 0, (1, 2): 0.540270050661677, (1, 3): 0, (2, 0): 0.5510365307257894, (2, 1): 0.7108303964734999, (2, 2): 0.7503750703634403, (2, 3): 0, (3, 0): 0, (3, 1): 0.8245879894103739, (3, 2): 0.9533337981678128, (3, 3): 0}\n",
            "state_values={(0, 0): 0.38044951532505716, (0, 1): 0.35888774252051947, (0, 2): 0.453594230130101, (0, 3): 0.35888774252051947, (1, 0): 0.4359849473874378, (1, 1): 0, (1, 2): 0.540270050661677, (1, 3): 0, (2, 0): 0.5510365307257894, (2, 1): 0.7108303964734999, (2, 2): 0.7503750703634403, (2, 3): 0, (3, 0): 0, (3, 1): 0.8245879894103739, (3, 2): 0.9533337981678128, (3, 3): 0}\n",
            "state_values={(0, 0): 0.38044951532505716, (0, 1): 0.35888774252051947, (0, 2): 0.453594230130101, (0, 3): 0.35888774252051947, (1, 0): 0.4359849473874378, (1, 1): 0, (1, 2): 0.540270050661677, (1, 3): 0, (2, 0): 0.5510365307257894, (2, 1): 0.7108303964734999, (2, 2): 0.7503750703634403, (2, 3): 0, (3, 0): 0, (3, 1): 0.8245879894103739, (3, 2): 0.9533337981678128, (3, 3): 0}\n",
            "state_values={(0, 0): 0.38044951532505716, (0, 1): 0.35888774252051947, (0, 2): 0.453594230130101, (0, 3): 0.35888774252051947, (1, 0): 0.4359849473874378, (1, 1): 0, (1, 2): 0.540270050661677, (1, 3): 0, (2, 0): 0.5510365307257894, (2, 1): 0.7108303964734999, (2, 2): 0.7503750703634403, (2, 3): 0, (3, 0): 0, (3, 1): 0.8245879894103739, (3, 2): 0.9533337981678128, (3, 3): 0}\n",
            "state_values={(0, 0): 0.38044951532505716, (0, 1): 0.35888774252051947, (0, 2): 0.453594230130101, (0, 3): 0.35888774252051947, (1, 0): 0.4359849473874378, (1, 1): 0, (1, 2): 0.540270050661677, (1, 3): 0, (2, 0): 0.5510365307257894, (2, 1): 0.7108303964734999, (2, 2): 0.7503750703634403, (2, 3): 0, (3, 0): 0, (3, 1): 0.8245879894103739, (3, 2): 0.9533337981678128, (3, 3): 0}\n",
            "state_values={(0, 0): 0.38044951532505716, (0, 1): 0.35888774252051947, (0, 2): 0.453594230130101, (0, 3): 0.35888774252051947, (1, 0): 0.4359849473874378, (1, 1): 0, (1, 2): 0.540270050661677, (1, 3): 0, (2, 0): 0.5510365307257894, (2, 1): 0.7108303964734999, (2, 2): 0.7503750703634403, (2, 3): 0, (3, 0): 0, (3, 1): 0.8245879894103739, (3, 2): 0.9533337981678128, (3, 3): 0}\n",
            "state_values={(0, 0): 0.38044951532505716, (0, 1): 0.35888774252051947, (0, 2): 0.453594230130101, (0, 3): 0.35888774252051947, (1, 0): 0.4359849473874378, (1, 1): 0, (1, 2): 0.540270050661677, (1, 3): 0, (2, 0): 0.5510365307257894, (2, 1): 0.7108303964734999, (2, 2): 0.7503750703634403, (2, 3): 0, (3, 0): 0, (3, 1): 0.8245879894103739, (3, 2): 0.9533337981678128, (3, 3): 0}\n"
          ],
          "name": "stdout"
        }
      ]
    },
    {
      "cell_type": "code",
      "metadata": {
        "id": "qycqsa0rSs3q",
        "colab_type": "code",
        "outputId": "6f9a2c85-32df-4616-b94f-54d6fb494954",
        "colab": {
          "base_uri": "https://localhost:8080/",
          "height": 125
        }
      },
      "source": [
        "mdp=frozen_lake\n",
        "s = mdp.reset()\n",
        "mdp.render()\n",
        "actions = []\n",
        "for t in range(100):\n",
        "    a = get_optimal_action(mdp, state_values, s, gamma)\n",
        "    actions.append(a)\n",
        "    #print(a, end='\\n\\n')\n",
        "    s, r, done, _ = mdp.step(a)\n",
        "    #mdp.render()\n",
        "    if done:\n",
        "        break\n",
        "print(\"actions={0}\".format(actions))"
      ],
      "execution_count": 21,
      "outputs": [
        {
          "output_type": "stream",
          "text": [
            "*FFF\n",
            "FHFH\n",
            "FFFH\n",
            "HFFG\n",
            "\n",
            "actions=['down', 'down', 'right', 'down', 'right', 'right']\n"
          ],
          "name": "stdout"
        }
      ]
    },
    {
      "cell_type": "code",
      "metadata": {
        "id": "YxWkDDNaOQkc",
        "colab_type": "code",
        "colab": {}
      },
      "source": [
        "import matplotlib.pyplot as plt\n",
        "%matplotlib inline\n",
        "mdp = frozen_lake\n",
        "\n",
        "def draw_policy(mdp, state_values):\n",
        "    plt.figure(figsize=(3, 3))\n",
        "    h, w = mdp.desc.shape\n",
        "    states = sorted(mdp.get_all_states())\n",
        "    V = np.array([state_values[s] for s in states])\n",
        "    Pi = {s: get_optimal_action(mdp, state_values, s, gamma) for s in states}\n",
        "    plt.imshow(V.reshape(w, h), cmap='gray', interpolation='none', clim=(0, 1))\n",
        "    ax = plt.gca()\n",
        "    ax.set_xticks(np.arange(h)-.5)\n",
        "    ax.set_yticks(np.arange(w)-.5)\n",
        "    ax.set_xticklabels([])\n",
        "    ax.set_yticklabels([])\n",
        "    Y, X = np.mgrid[0:4, 0:4]\n",
        "    a2uv = {'left': (-1, 0), 'down': (0, -1), 'right': (1, 0), 'up': (-1, 0)}\n",
        "    for y in range(h):\n",
        "        for x in range(w):\n",
        "            plt.text(x, y, str(mdp.desc[y, x].item()),\n",
        "                     color='g', size=12,  verticalalignment='center',\n",
        "                     horizontalalignment='center', fontweight='bold')\n",
        "            a = Pi[y, x]\n",
        "            if a is None:\n",
        "                continue\n",
        "            u, v = a2uv[a]\n",
        "            plt.arrow(x, y, u*.3, -v*.3, color='m',\n",
        "                      head_width=0.1, head_length=0.1)\n",
        "    plt.grid(color='b', lw=2, ls='-')\n",
        "    plt.show()"
      ],
      "execution_count": 0,
      "outputs": []
    },
    {
      "cell_type": "code",
      "metadata": {
        "id": "kfqNHnL-Qwte",
        "colab_type": "code",
        "colab": {}
      },
      "source": [
        ""
      ],
      "execution_count": 0,
      "outputs": []
    },
    {
      "cell_type": "markdown",
      "metadata": {
        "id": "_7HmnsrFXqtA",
        "colab_type": "text"
      },
      "source": [
        "### policy iteration"
      ]
    },
    {
      "cell_type": "markdown",
      "metadata": {
        "id": "Bvtxvav1XxZP",
        "colab_type": "text"
      },
      "source": [
        "$\\pi_{0}$:是一个dict, key是state，value是action\n",
        "\n",
        "\n",
        "更新state_value：用dict表示，key为state,value是该state对应的value。\n",
        "\n",
        "计算state_action_value：f(state, action)\n",
        "\n",
        "\n",
        "利用state_action_value更新策略。\n"
      ]
    },
    {
      "cell_type": "code",
      "metadata": {
        "id": "eoo32r4DXtD8",
        "colab_type": "code",
        "colab": {}
      },
      "source": [
        "transition_probs = {\n",
        "    's0': {\n",
        "        'a0': {'s0': 0.5, 's2': 0.5},\n",
        "        'a1': {'s2': 1}\n",
        "    },\n",
        "    's1': {\n",
        "        'a0': {'s0': 0.7, 's1': 0.1, 's2': 0.2},\n",
        "        'a1': {'s1': 0.95, 's2': 0.05}\n",
        "    },\n",
        "    's2': {\n",
        "        'a0': {'s0': 0.4, 's1': 0.6},\n",
        "        'a1': {'s0': 0.3, 's1': 0.3, 's2': 0.4}\n",
        "    }\n",
        "}\n",
        "rewards = {\n",
        "    's1': {'a0': {'s0': +5}},\n",
        "    's2': {'a1': {'s0': -1}}\n",
        "}\n",
        "\n",
        "from mdp import MDP\n",
        "mdp = MDP(transition_probs, rewards, initial_state='s0')"
      ],
      "execution_count": 0,
      "outputs": []
    },
    {
      "cell_type": "markdown",
      "metadata": {
        "id": "7WsLqeVCZwHR",
        "colab_type": "text"
      },
      "source": [
        "#### 初始化策略"
      ]
    },
    {
      "cell_type": "code",
      "metadata": {
        "id": "GHeM-EaQb_hU",
        "colab_type": "code",
        "colab": {}
      },
      "source": [
        ""
      ],
      "execution_count": 0,
      "outputs": []
    },
    {
      "cell_type": "code",
      "metadata": {
        "id": "QWaB8F8dZRn7",
        "colab_type": "code",
        "colab": {
          "base_uri": "https://localhost:8080/",
          "height": 35
        },
        "outputId": "586c0f75-f5be-4561-a6b7-a40f46c855c8"
      },
      "source": [
        "actions = []\n",
        "states = mdp.get_all_states()\n",
        "for state in states:\n",
        "  action = mdp.get_possible_actions(state)\n",
        "  actions.append(action[0])\n",
        "pi = {k:v for k,v in zip(states, actions)}\n",
        "print(\"初始化的策略={0}\".format(pi))\n",
        "  "
      ],
      "execution_count": 3,
      "outputs": [
        {
          "output_type": "stream",
          "text": [
            "初始化的策略={'s0': 'a0', 's1': 'a0', 's2': 'a0'}\n"
          ],
          "name": "stdout"
        }
      ]
    },
    {
      "cell_type": "markdown",
      "metadata": {
        "id": "y5vC2ZIqdMK7",
        "colab_type": "text"
      },
      "source": [
        "####初始化state_value"
      ]
    },
    {
      "cell_type": "code",
      "metadata": {
        "id": "zFTmuOoFcCXK",
        "colab_type": "code",
        "colab": {
          "base_uri": "https://localhost:8080/",
          "height": 35
        },
        "outputId": "c61a2508-c568-4ac6-fae9-f7362d7b6977"
      },
      "source": [
        "state_values={key:-10 for key in states}\n",
        "print(\"state_values={0}\".format(state_values))"
      ],
      "execution_count": 18,
      "outputs": [
        {
          "output_type": "stream",
          "text": [
            "state_values={'s0': -10, 's1': -10, 's2': -10}\n"
          ],
          "name": "stdout"
        }
      ]
    },
    {
      "cell_type": "markdown",
      "metadata": {
        "id": "wsjRJmxLdoe8",
        "colab_type": "text"
      },
      "source": [
        "#### 更新state_value。\n"
      ]
    },
    {
      "cell_type": "code",
      "metadata": {
        "id": "VnvPgGkbddkE",
        "colab_type": "code",
        "colab": {}
      },
      "source": [
        "def update_state_value(mdp, state_value, gamma=0.9):\n",
        "  state_value_new={}\n",
        "  for s in mdp.get_all_states():\n",
        "    action = pi[s]\n",
        "    s_brothers = mdp.get_next_states(s, action)\n",
        "    new_values=[]\n",
        "    for s_brother in s_brothers:\n",
        "      p=mdp.get_transition_prob(s, action, s_brother)\n",
        "      r=mdp.get_reward(s,action, s_brother)\n",
        "      v=state_value[s_brother]\n",
        "      nv=p*(r+gamma*v)\n",
        "      new_values.append(nv)\n",
        "    state_value_new[s]=sum(new_values)\n",
        "  return state_value_new\n",
        "    \n",
        "      \n",
        "      \n",
        "      \n",
        "  \n",
        "  "
      ],
      "execution_count": 0,
      "outputs": []
    },
    {
      "cell_type": "markdown",
      "metadata": {
        "id": "D3BMoMbphwr6",
        "colab_type": "text"
      },
      "source": [
        "#### policy itertion"
      ]
    },
    {
      "cell_type": "code",
      "metadata": {
        "id": "awdpdQdUi3HW",
        "colab_type": "code",
        "colab": {}
      },
      "source": [
        "def state_action_value(mdp, state, action, state_value,gamma=0.9):\n",
        "    s_brothers = mdp.get_next_states(state, action)\n",
        "    new_values=[]\n",
        "    for s_brother in s_brothers:\n",
        "        p=mdp.get_transition_prob(state, action, s_brother)\n",
        "        r=mdp.get_reward(state,action, s_brother)\n",
        "        v=state_value[s_brother]\n",
        "        nv=p*(r+gamma*v)\n",
        "        new_values.append(nv)\n",
        "    return sum(new_values)\n",
        "  \n",
        "  "
      ],
      "execution_count": 0,
      "outputs": []
    },
    {
      "cell_type": "code",
      "metadata": {
        "id": "hYk4KsfIhP3r",
        "colab_type": "code",
        "colab": {}
      },
      "source": [
        "def policy_iteration(mdp, pi, state_value):\n",
        "  count = 0\n",
        "  all_states = mdp.get_all_states()\n",
        "  while count<=30:\n",
        "    state_value = update_state_value(mdp, state_value, gamma=0.9)\n",
        "    for state in all_states:\n",
        "      optimal_action=\"\"\n",
        "      optimal_val=0\n",
        "      for action in mdp.get_possible_actions(state):\n",
        "        state_action_val = state_action_value(mdp, state, action, state_value)\n",
        "        if state_action_val >=optimal_val:\n",
        "          optimal_val = state_action_val\n",
        "          optimal_action = action\n",
        "      pi[state] = action\n",
        "    print(\"policy={0}\".format(pi))\n",
        "    print(\"state_value={0}\".format(state_value))\n",
        "    count = count + 1\n",
        "        \n",
        "    \n",
        "    \n",
        "  "
      ],
      "execution_count": 0,
      "outputs": []
    },
    {
      "cell_type": "code",
      "metadata": {
        "id": "tZrpzE1rmcvk",
        "colab_type": "code",
        "colab": {
          "base_uri": "https://localhost:8080/",
          "height": 1000
        },
        "outputId": "933927fc-1d5b-4ea1-da56-5266f2be7f00"
      },
      "source": [
        "policy_iteration(mdp, pi, state_values)"
      ],
      "execution_count": 29,
      "outputs": [
        {
          "output_type": "stream",
          "text": [
            "policy={'s0': 'a1', 's1': 'a1', 's2': 'a1'}\n",
            "state_value={'s0': -9.0, 's1': -8.999999999999998, 's2': -9.299999999999999}\n",
            "policy={'s0': 'a1', 's1': 'a1', 's2': 'a1'}\n",
            "state_value={'s0': -8.37, 's1': -8.113499999999998, 's2': -8.508}\n",
            "policy={'s0': 'a1', 's1': 'a1', 's2': 'a1'}\n",
            "state_value={'s0': -7.6572, 's1': -7.319902499999998, 's2': -7.813424999999999}\n",
            "policy={'s0': 'a1', 's1': 'a1', 's2': 'a1'}\n",
            "state_value={'s0': -7.032082499999999, 's1': -6.610120762499998, 's2': -7.156650674999998}\n",
            "policy={'s0': 'a1', 's1': 'a1', 's2': 'a1'}\n",
            "state_value={'s0': -6.440985607499998, 's1': -5.9737025323124975, 's2': -6.559789123874999}\n",
            "policy={'s0': 'a1', 's1': 'a1', 's2': 'a1'}\n",
            "state_value={'s0': -5.903810211487499, 's1': -5.402706175701559, 's2': -6.013489882344373}\n",
            "policy={'s0': 'a1', 's1': 'a1', 's2': 'a1'}\n",
            "state_value={'s0': -5.412140894109936, 's1': -4.88992082493033, 's2': -5.51761578218502}\n",
            "policy={'s0': 'a1', 's1': 'a1', 's2': 'a1'}\n",
            "state_value={'s0': -4.9658542039665186, 's1': -4.429175015513759, 's2': -5.06789834572748}\n",
            "policy={'s0': 'a1', 's1': 'a1', 's2': 'a1'}\n",
            "state_value={'s0': -4.561108511154732, 's1': -4.015000063822001, 's2': -4.661101293721568}\n",
            "policy={'s0': 'a1', 's1': 'a1', 's2': 'a1'}\n",
            "state_value={'s0': -4.194991164349411, 's1': -3.642574612785281, 's2': -4.293545780983482}\n",
            "policy={'s0': 'a1', 's1': 'a1', 's2': 'a1'}\n",
            "state_value={'s0': -3.864191202885134, 's1': -3.307610854075672, 's2': -3.9618192409804207}\n",
            "policy={'s0': 'a1', 's1': 'a1', 's2': 'a1'}\n",
            "state_value={'s0': -3.5656373168823787, 's1': -3.006289146078818, 's2': -3.6626414821323694}\n",
            "policy={'s0': 'a1', 's1': 'a1', 's2': 'a1'}\n",
            "state_value={'s0': -3.2963773339191325, 's1': -2.7351960865933465, 's2': -3.392971078567176}\n",
            "policy={'s0': 'a1', 's1': 'a1', 's2': 'a1'}\n",
            "state_value={'s0': -3.0536739707104585, 's1': -2.491276352572834, 's2': -3.1499944118225525}\n",
            "policy={'s0': 'a1', 's1': 'a1', 's2': 'a1'}\n",
            "state_value={'s0': -2.8349949706402975, 's1': -2.271791029981788, 's2': -2.9311345755426084}\n",
            "policy={'s0': 'a1', 's1': 'a1', 's2': 'a1'}\n",
            "state_value={'s0': -2.6380211179883477, 's1': -2.074282386533846, 's2': -2.7340406673633018}\n",
            "policy={'s0': 'a1', 's1': 'a1', 's2': 'a1'}\n",
            "state_value={'s0': -2.4606366006269718, 's1': -1.896543270517787, 's2': -2.556576586471781}\n",
            "policy={'s0': 'a1', 's1': 'a1', 's2': 'a1'}\n",
            "state_value={'s0': -2.300918927824603, 's1': -1.7365904426839378, 's2': -2.396806136338926}\n",
            "policy={'s0': 'a1', 's1': 'a1', 's2': 'a1'}\n",
            "state_value={'s0': -2.1571255227050337, 's1': -1.5926411046300184, 's2': -2.2529777391193195}\n",
            "policy={'s0': 'a1', 's1': 'a1', 's2': 'a1'}\n",
            "state_value={'s0': -2.027679965207388, 's1': -1.4630921427190353, 's2': -2.1235089754634195}\n",
            "policy={'s0': 'a1', 's1': 'a1', 's2': 'a1'}\n",
            "state_value={'s0': -1.9111580779170776, 's1': -1.346501685920629, 's2': -2.0069717003069654}\n",
            "policy={'s0': 'a1', 's1': 'a1', 's2': 'a1'}\n",
            "state_value={'s0': -1.8062745302762688, 's1': -1.2415726679759511, 's2': -1.9020779483466883}\n",
            "policy={'s0': 'a1', 's1': 'a1', 's2': 'a1'}\n",
            "state_value={'s0': -1.7118701535120195, 's1': -1.1471381387950392, 's2': -1.8076668049329072}\n",
            "policy={'s0': 'a1', 's1': 'a1', 's2': 'a1'}\n",
            "state_value={'s0': -1.6269001244396166, 's1': -1.0621481148917393, 's2': -1.7226922886987523}\n",
            "policy={'s0': 'a1', 's1': 'a1', 's2': 'a1'}\n",
            "state_value={'s0': -1.550423059828877, 's1': -0.9856577912238811, 's2': -1.6462122485510169}\n",
            "policy={'s0': 'a1', 's1': 'a1', 's2': 'a1'}\n",
            "state_value={'s0': -1.4815910236959153, 's1': -0.9168169626812142, 's2': -1.577378239262611}\n",
            "policy={'s0': 'a1', 's1': 'a1', 's2': 'a1'}\n",
            "state_value={'s0': -1.41964041533635, 's1': -0.8548605238592556, 's2': -1.5154263224563649}\n",
            "policy={'s0': 'a1', 's1': 'a1', 's2': 'a1'}\n",
            "state_value={'s0': -1.3638836902107285, 's1': -0.7990999324101999, 's2': -1.459668729667105}\n",
            "policy={'s0': 'a1', 's1': 'a1', 's2': 'a1'}\n",
            "state_value={'s0': -1.3137018567003944, 's1': -0.7489155350457406, 's2': -1.4094863207878083}\n",
            "policy={'s0': 'a1', 's1': 'a1', 's2': 'a1'}\n",
            "state_value={'s0': -1.2685376887090276, 's1': -0.7037496668995596, 's2': -1.3643217712550677}\n",
            "policy={'s0': 'a1', 's1': 'a1', 's2': 'a1'}\n",
            "state_value={'s0': -1.227889594129561, 's1': -0.6631004449056016, 's2': -1.323673423666143}\n"
          ],
          "name": "stdout"
        }
      ]
    },
    {
      "cell_type": "code",
      "metadata": {
        "id": "6Pnduy6opwhB",
        "colab_type": "code",
        "colab": {}
      },
      "source": [
        ""
      ],
      "execution_count": 0,
      "outputs": []
    },
    {
      "cell_type": "code",
      "metadata": {
        "id": "FGbAKxQ1nYID",
        "colab_type": "code",
        "colab": {
          "base_uri": "https://localhost:8080/",
          "height": 35
        },
        "outputId": "66049ce2-98fd-4a59-90bc-02ee7dcac9f0"
      },
      "source": [
        "print(state_values)"
      ],
      "execution_count": 23,
      "outputs": [
        {
          "output_type": "stream",
          "text": [
            "{'s0': -10, 's1': -10, 's2': -10}\n"
          ],
          "name": "stdout"
        }
      ]
    },
    {
      "cell_type": "code",
      "metadata": {
        "id": "YdPPTRzPmmbW",
        "colab_type": "code",
        "colab": {}
      },
      "source": [
        ""
      ],
      "execution_count": 0,
      "outputs": []
    }
  ]
}