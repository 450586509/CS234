{
  "nbformat": 4,
  "nbformat_minor": 0,
  "metadata": {
    "colab": {
      "name": "02_value_based.ipynb",
      "version": "0.3.2",
      "provenance": [],
      "include_colab_link": true
    },
    "kernelspec": {
      "name": "python3",
      "display_name": "Python 3"
    }
  },
  "cells": [
    {
      "cell_type": "markdown",
      "metadata": {
        "id": "view-in-github",
        "colab_type": "text"
      },
      "source": [
        "<a href=\"https://colab.research.google.com/github/450586509/CS234/blob/master/02_value_based.ipynb\" target=\"_parent\"><img src=\"https://colab.research.google.com/assets/colab-badge.svg\" alt=\"Open In Colab\"/></a>"
      ]
    },
    {
      "cell_type": "markdown",
      "metadata": {
        "id": "Uxkj3BpbWCoK",
        "colab_type": "text"
      },
      "source": [
        "马尔科夫过程相当于gym中的一个游戏\n"
      ]
    },
    {
      "cell_type": "code",
      "metadata": {
        "id": "sPzYjgPUVoQK",
        "colab_type": "code",
        "colab": {}
      },
      "source": [
        "# If you Colab, uncomment this please\n",
        "!wget -q https://raw.githubusercontent.com/yandexdataschool/Practical_RL/master/week02_value_based/mdp.py\n",
        "\n",
        "transition_probs = {\n",
        "    's0': {\n",
        "        'a0': {'s0': 0.5, 's2': 0.5},\n",
        "        'a1': {'s2': 1}\n",
        "    },\n",
        "    's1': {\n",
        "        'a0': {'s0': 0.7, 's1': 0.1, 's2': 0.2},\n",
        "        'a1': {'s1': 0.95, 's2': 0.05}\n",
        "    },\n",
        "    's2': {\n",
        "        'a0': {'s0': 0.4, 's2': 0.6},\n",
        "        'a1': {'s0': 0.3, 's1': 0.3, 's2': 0.4}\n",
        "    }\n",
        "}\n",
        "rewards = {\n",
        "    's1': {'a0': {'s0': +5}},\n",
        "    's2': {'a1': {'s0': -1}}\n",
        "}\n",
        "\n",
        "from mdp import MDP\n",
        "mdp = MDP(transition_probs, rewards, initial_state='s0')"
      ],
      "execution_count": 0,
      "outputs": []
    },
    {
      "cell_type": "code",
      "metadata": {
        "id": "XFUZC7HJV-vK",
        "colab_type": "code",
        "outputId": "38b61fc1-e09c-4638-e0d2-28ec5d42949b",
        "colab": {
          "base_uri": "https://localhost:8080/",
          "height": 34
        }
      },
      "source": [
        "print('initial state = {0}'.format(mdp.reset()))"
      ],
      "execution_count": 2,
      "outputs": [
        {
          "output_type": "stream",
          "text": [
            "initial state = s0\n"
          ],
          "name": "stdout"
        }
      ]
    },
    {
      "cell_type": "code",
      "metadata": {
        "id": "lApT5IonWicE",
        "colab_type": "code",
        "outputId": "caac8721-9884-451a-a723-29ca5789a40e",
        "colab": {
          "base_uri": "https://localhost:8080/",
          "height": 84
        }
      },
      "source": [
        "next_state, reward, done, info = mdp.step('a0')\n",
        "print(\"next_state={0}\".format(next_state))\n",
        "print(\"reward={0}\".format(reward))\n",
        "print(\"done={0}\".format(done))\n",
        "print(\"info={0}\".format(info))"
      ],
      "execution_count": 3,
      "outputs": [
        {
          "output_type": "stream",
          "text": [
            "next_state=s2\n",
            "reward=0.0\n",
            "done=False\n",
            "info={}\n"
          ],
          "name": "stdout"
        }
      ]
    },
    {
      "cell_type": "code",
      "metadata": {
        "id": "2Ds-_lMNWzfF",
        "colab_type": "code",
        "outputId": "d8a9c59a-d1f5-482b-816f-aad1bcf834c8",
        "colab": {
          "base_uri": "https://localhost:8080/",
          "height": 101
        }
      },
      "source": [
        "print(\"mdp.get_all_states =\", mdp.get_all_states())\n",
        "print(\"mdp.get_possible_actions('s1') = \", mdp.get_possible_actions('s1'))\n",
        "print(\"mdp.get_next_states('s1', 'a0') = \", mdp.get_next_states('s1', 'a0'))\n",
        "print(\"mdp.get_reward('s1', 'a0', 's0') = \", mdp.get_reward('s1', 'a0', 's0'))\n",
        "print(\"mdp.get_transition_prob('s1', 'a0', 's0') = \",\n",
        "      mdp.get_transition_prob('s1', 'a0', 's0'))"
      ],
      "execution_count": 4,
      "outputs": [
        {
          "output_type": "stream",
          "text": [
            "mdp.get_all_states = ('s0', 's1', 's2')\n",
            "mdp.get_possible_actions('s1') =  ('a0', 'a1')\n",
            "mdp.get_next_states('s1', 'a0') =  {'s0': 0.7, 's1': 0.1, 's2': 0.2}\n",
            "mdp.get_reward('s1', 'a0', 's0') =  5\n",
            "mdp.get_transition_prob('s1', 'a0', 's0') =  0.7\n"
          ],
          "name": "stdout"
        }
      ]
    },
    {
      "cell_type": "code",
      "metadata": {
        "id": "zo3hWXkyXNh0",
        "colab_type": "code",
        "outputId": "b2b4b032-4f49-4543-f4d8-f338661a6551",
        "colab": {
          "base_uri": "https://localhost:8080/",
          "height": 34
        }
      },
      "source": [
        "from mdp import has_graphviz\n",
        "from IPython.display import display\n",
        "print(\"Graphviz available:\", has_graphviz)"
      ],
      "execution_count": 5,
      "outputs": [
        {
          "output_type": "stream",
          "text": [
            "Graphviz available: True\n"
          ],
          "name": "stdout"
        }
      ]
    },
    {
      "cell_type": "code",
      "metadata": {
        "id": "J7L4oDj_XSPE",
        "colab_type": "code",
        "outputId": "744b80c2-e24a-479d-c5b0-a623d93ec28b",
        "colab": {
          "base_uri": "https://localhost:8080/",
          "height": 322
        }
      },
      "source": [
        "if has_graphviz:\n",
        "    from mdp import plot_graph, plot_graph_with_state_values, \\\n",
        "        plot_graph_optimal_strategy_and_state_values\n",
        "\n",
        "    display(plot_graph(mdp))\n"
      ],
      "execution_count": 6,
      "outputs": [
        {
          "output_type": "display_data",
          "data": {
            "text/plain": [
              "<graphviz.dot.Digraph at 0x7fa4d8683dd8>"
            ],
            "image/svg+xml": "<?xml version=\"1.0\" encoding=\"UTF-8\" standalone=\"no\"?>\n<!DOCTYPE svg PUBLIC \"-//W3C//DTD SVG 1.1//EN\"\n \"http://www.w3.org/Graphics/SVG/1.1/DTD/svg11.dtd\">\n<!-- Generated by graphviz version 2.40.1 (20161225.0304)\n -->\n<!-- Title: MDP Pages: 1 -->\n<svg width=\"720pt\" height=\"226pt\"\n viewBox=\"0.00 0.00 720.00 225.64\" xmlns=\"http://www.w3.org/2000/svg\" xmlns:xlink=\"http://www.w3.org/1999/xlink\">\n<g id=\"graph0\" class=\"graph\" transform=\"scale(.7008 .7008) rotate(0) translate(4 318)\">\n<title>MDP</title>\n<polygon fill=\"#ffffff\" stroke=\"transparent\" points=\"-4,4 -4,-318 1023.463,-318 1023.463,4 -4,4\"/>\n<!-- s0 -->\n<g id=\"node1\" class=\"node\">\n<title>s0</title>\n<ellipse fill=\"#85ff75\" stroke=\"#85ff75\" cx=\"40\" cy=\"-116\" rx=\"36\" ry=\"36\"/>\n<ellipse fill=\"none\" stroke=\"#85ff75\" cx=\"40\" cy=\"-116\" rx=\"40\" ry=\"40\"/>\n<text text-anchor=\"middle\" x=\"40\" y=\"-109.8\" font-family=\"Arial\" font-size=\"24.00\" fill=\"#000000\">s0</text>\n</g>\n<!-- s0&#45;a0 -->\n<g id=\"node2\" class=\"node\">\n<title>s0&#45;a0</title>\n<ellipse fill=\"#ffb6c1\" stroke=\"#ffb6c1\" cx=\"193.5772\" cy=\"-160\" rx=\"27.6545\" ry=\"27.6545\"/>\n<text text-anchor=\"middle\" x=\"193.5772\" y=\"-155\" font-family=\"Arial\" font-size=\"20.00\" fill=\"#000000\">a0</text>\n</g>\n<!-- s0&#45;&gt;s0&#45;a0 -->\n<g id=\"edge1\" class=\"edge\">\n<title>s0&#45;&gt;s0&#45;a0</title>\n<path fill=\"none\" stroke=\"#ff0000\" stroke-width=\"2\" d=\"M79.2844,-124.7026C99.8974,-129.5498 125.4811,-136.0095 148,-143 151.327,-144.0328 154.7652,-145.1741 158.1924,-146.3622\"/>\n<polygon fill=\"#ff0000\" stroke=\"#ff0000\" stroke-width=\"2\" points=\"157.1257,-149.698 167.7202,-149.7831 159.4912,-143.1097 157.1257,-149.698\"/>\n</g>\n<!-- s0&#45;a1 -->\n<g id=\"node4\" class=\"node\">\n<title>s0&#45;a1</title>\n<ellipse fill=\"#ffb6c1\" stroke=\"#ffb6c1\" cx=\"193.5772\" cy=\"-233\" rx=\"27.6545\" ry=\"27.6545\"/>\n<text text-anchor=\"middle\" x=\"193.5772\" y=\"-228\" font-family=\"Arial\" font-size=\"20.00\" fill=\"#000000\">a1</text>\n</g>\n<!-- s0&#45;&gt;s0&#45;a1 -->\n<g id=\"edge4\" class=\"edge\">\n<title>s0&#45;&gt;s0&#45;a1</title>\n<path fill=\"none\" stroke=\"#ff0000\" stroke-width=\"2\" d=\"M66.6878,-145.9984C76.104,-155.7862 87.0765,-166.3514 98,-175 117.3546,-190.324 141.0693,-204.7377 160.0344,-215.3632\"/>\n<polygon fill=\"#ff0000\" stroke=\"#ff0000\" stroke-width=\"2\" points=\"158.4757,-218.5005 168.923,-220.2624 161.8547,-212.37 158.4757,-218.5005\"/>\n</g>\n<!-- s0&#45;a0&#45;&gt;s0 -->\n<g id=\"edge2\" class=\"edge\">\n<title>s0&#45;a0&#45;&gt;s0</title>\n<path fill=\"none\" stroke=\"#0000ff\" stroke-dasharray=\"5,2\" d=\"M166.0433,-155.6398C146.7591,-152.2473 120.5165,-146.9481 98,-140 94.1846,-138.8227 90.2733,-137.4907 86.3715,-136.0724\"/>\n<polygon fill=\"#0000ff\" stroke=\"#0000ff\" points=\"87.3439,-132.6975 76.753,-132.4084 84.852,-139.239 87.3439,-132.6975\"/>\n<text text-anchor=\"middle\" x=\"123\" y=\"-158.2\" font-family=\"Arial\" font-size=\"16.00\" fill=\"#000000\">p = 0.5</text>\n</g>\n<!-- s2 -->\n<g id=\"node3\" class=\"node\">\n<title>s2</title>\n<ellipse fill=\"#85ff75\" stroke=\"#85ff75\" cx=\"433.1543\" cy=\"-183\" rx=\"36\" ry=\"36\"/>\n<ellipse fill=\"none\" stroke=\"#85ff75\" cx=\"433.1543\" cy=\"-183\" rx=\"40\" ry=\"40\"/>\n<text text-anchor=\"middle\" x=\"433.1543\" y=\"-176.8\" font-family=\"Arial\" font-size=\"24.00\" fill=\"#000000\">s2</text>\n</g>\n<!-- s0&#45;a0&#45;&gt;s2 -->\n<g id=\"edge3\" class=\"edge\">\n<title>s0&#45;a0&#45;&gt;s2</title>\n<path fill=\"none\" stroke=\"#0000ff\" stroke-dasharray=\"5,2\" d=\"M221.0597,-162.6384C260.5326,-166.4279 333.9353,-173.4747 383.1716,-178.2015\"/>\n<polygon fill=\"#0000ff\" stroke=\"#0000ff\" points=\"383.0017,-181.7012 393.2904,-179.173 383.6707,-174.7333 383.0017,-181.7012\"/>\n<text text-anchor=\"middle\" x=\"307.1543\" y=\"-182.2\" font-family=\"Arial\" font-size=\"16.00\" fill=\"#000000\">p = 0.5</text>\n</g>\n<!-- s2&#45;a0 -->\n<g id=\"node8\" class=\"node\">\n<title>s2&#45;a0</title>\n<ellipse fill=\"#ffb6c1\" stroke=\"#ffb6c1\" cx=\"666.7315\" cy=\"-162\" rx=\"27.6545\" ry=\"27.6545\"/>\n<text text-anchor=\"middle\" x=\"666.7315\" y=\"-157\" font-family=\"Arial\" font-size=\"20.00\" fill=\"#000000\">a0</text>\n</g>\n<!-- s2&#45;&gt;s2&#45;a0 -->\n<g id=\"edge13\" class=\"edge\">\n<title>s2&#45;&gt;s2&#45;a0</title>\n<path fill=\"none\" stroke=\"#ff0000\" stroke-width=\"2\" d=\"M473.2351,-186.9649C511.6217,-189.7355 570.9586,-191.3218 621.1543,-181 624.8123,-180.2478 628.5451,-179.2014 632.2213,-177.9828\"/>\n<polygon fill=\"#ff0000\" stroke=\"#ff0000\" stroke-width=\"2\" points=\"633.5825,-181.2107 641.7302,-174.4383 631.1375,-174.6516 633.5825,-181.2107\"/>\n</g>\n<!-- s2&#45;a1 -->\n<g id=\"node9\" class=\"node\">\n<title>s2&#45;a1</title>\n<ellipse fill=\"#ffb6c1\" stroke=\"#ffb6c1\" cx=\"666.7315\" cy=\"-80\" rx=\"27.6545\" ry=\"27.6545\"/>\n<text text-anchor=\"middle\" x=\"666.7315\" y=\"-75\" font-family=\"Arial\" font-size=\"20.00\" fill=\"#000000\">a1</text>\n</g>\n<!-- s2&#45;&gt;s2&#45;a1 -->\n<g id=\"edge16\" class=\"edge\">\n<title>s2&#45;&gt;s2&#45;a1</title>\n<path fill=\"none\" stroke=\"#ff0000\" stroke-width=\"2\" d=\"M467.3288,-161.7827C475.0423,-157.3286 483.2807,-152.8261 491.1543,-149 538.2751,-126.1024 595.0607,-104.8798 631.0354,-92.179\"/>\n<polygon fill=\"#ff0000\" stroke=\"#ff0000\" stroke-width=\"2\" points=\"632.3234,-95.4365 640.6049,-88.8284 630.0101,-88.8297 632.3234,-95.4365\"/>\n</g>\n<!-- s0&#45;a1&#45;&gt;s2 -->\n<g id=\"edge5\" class=\"edge\">\n<title>s0&#45;a1&#45;&gt;s2</title>\n<path fill=\"none\" stroke=\"#0000ff\" stroke-dasharray=\"5,2\" d=\"M221.1044,-228.5867C256.8082,-222.6933 320.9391,-211.5305 375.1543,-199 378.3093,-198.2708 381.5506,-197.4836 384.8112,-196.6631\"/>\n<polygon fill=\"#0000ff\" stroke=\"#0000ff\" points=\"385.7835,-200.0268 394.5834,-194.1266 384.0248,-193.2513 385.7835,-200.0268\"/>\n<text text-anchor=\"middle\" x=\"307.1543\" y=\"-230.2\" font-family=\"Arial\" font-size=\"16.00\" fill=\"#000000\">p = 1</text>\n</g>\n<!-- s1 -->\n<g id=\"node5\" class=\"node\">\n<title>s1</title>\n<ellipse fill=\"#85ff75\" stroke=\"#85ff75\" cx=\"829.3087\" cy=\"-116\" rx=\"36\" ry=\"36\"/>\n<ellipse fill=\"none\" stroke=\"#85ff75\" cx=\"829.3087\" cy=\"-116\" rx=\"40\" ry=\"40\"/>\n<text text-anchor=\"middle\" x=\"829.3087\" y=\"-109.8\" font-family=\"Arial\" font-size=\"24.00\" fill=\"#000000\">s1</text>\n</g>\n<!-- s1&#45;a0 -->\n<g id=\"node6\" class=\"node\">\n<title>s1&#45;a0</title>\n<ellipse fill=\"#ffb6c1\" stroke=\"#ffb6c1\" cx=\"991.8858\" cy=\"-92\" rx=\"27.6545\" ry=\"27.6545\"/>\n<text text-anchor=\"middle\" x=\"991.8858\" y=\"-87\" font-family=\"Arial\" font-size=\"20.00\" fill=\"#000000\">a0</text>\n</g>\n<!-- s1&#45;&gt;s1&#45;a0 -->\n<g id=\"edge6\" class=\"edge\">\n<title>s1&#45;&gt;s1&#45;a0</title>\n<path fill=\"none\" stroke=\"#ff0000\" stroke-width=\"2\" d=\"M869.2486,-112.1898C891.9249,-109.7844 920.7924,-106.3154 946.3087,-102 949.1542,-101.5187 952.0904,-100.9778 955.0369,-100.403\"/>\n<polygon fill=\"#ff0000\" stroke=\"#ff0000\" stroke-width=\"2\" points=\"955.889,-103.8011 964.9779,-98.3566 954.4775,-96.9449 955.889,-103.8011\"/>\n</g>\n<!-- s1&#45;a1 -->\n<g id=\"node7\" class=\"node\">\n<title>s1&#45;a1</title>\n<ellipse fill=\"#ffb6c1\" stroke=\"#ffb6c1\" cx=\"991.8858\" cy=\"-174\" rx=\"27.6545\" ry=\"27.6545\"/>\n<text text-anchor=\"middle\" x=\"991.8858\" y=\"-169\" font-family=\"Arial\" font-size=\"20.00\" fill=\"#000000\">a1</text>\n</g>\n<!-- s1&#45;&gt;s1&#45;a1 -->\n<g id=\"edge10\" class=\"edge\">\n<title>s1&#45;&gt;s1&#45;a1</title>\n<path fill=\"none\" stroke=\"#ff0000\" stroke-width=\"2\" d=\"M867.494,-127.948C890.4784,-135.3328 920.2423,-145.2373 946.3087,-155 949.8059,-156.3098 953.4327,-157.7241 957.0437,-159.1692\"/>\n<polygon fill=\"#ff0000\" stroke=\"#ff0000\" stroke-width=\"2\" points=\"955.8842,-162.4763 966.4653,-163.0165 958.5305,-155.9957 955.8842,-162.4763\"/>\n</g>\n<!-- s1&#45;a0&#45;&gt;s0 -->\n<g id=\"edge7\" class=\"edge\">\n<title>s1&#45;a0&#45;&gt;s0</title>\n<path fill=\"none\" stroke=\"#0000ff\" stroke-dasharray=\"5,2\" d=\"M972.3647,-72.0374C943.7154,-44.9794 887.3603,0 829.3087,0 193.5772,0 193.5772,0 193.5772,0 142.2271,0 97.1839,-41.8033 69.3807,-75.22\"/>\n<polygon fill=\"#0000ff\" stroke=\"#0000ff\" points=\"66.5993,-73.0932 63.0318,-83.0693 72.0419,-77.4953 66.5993,-73.0932\"/>\n<text text-anchor=\"middle\" x=\"556.1543\" y=\"-5.2\" font-family=\"Arial\" font-size=\"16.00\" fill=\"#000000\">p = 0.7 &#160;reward =5</text>\n</g>\n<!-- s1&#45;a0&#45;&gt;s2 -->\n<g id=\"edge9\" class=\"edge\">\n<title>s1&#45;a0&#45;&gt;s2</title>\n<path fill=\"none\" stroke=\"#0000ff\" stroke-dasharray=\"5,2\" d=\"M976.2683,-115.2719C972.0616,-122.1013 967.7329,-129.6999 964.3087,-137 953.7441,-159.5223 966.2691,-175.1526 946.3087,-190 783.9583,-310.7629 691.4414,-228.7477 491.1543,-200 487.8825,-199.5304 484.5378,-198.919 481.1875,-198.2077\"/>\n<polygon fill=\"#0000ff\" stroke=\"#0000ff\" points=\"481.7276,-194.7383 471.1878,-195.8166 480.0996,-201.5463 481.7276,-194.7383\"/>\n<text text-anchor=\"middle\" x=\"741.8087\" y=\"-258.2\" font-family=\"Arial\" font-size=\"16.00\" fill=\"#000000\">p = 0.2</text>\n</g>\n<!-- s1&#45;a0&#45;&gt;s1 -->\n<g id=\"edge8\" class=\"edge\">\n<title>s1&#45;a0&#45;&gt;s1</title>\n<path fill=\"none\" stroke=\"#0000ff\" stroke-dasharray=\"5,2\" d=\"M965.6405,-83.4352C944.2075,-77.7535 913.319,-72.584 887.3087,-80 881.5406,-81.6446 875.7864,-84.0459 870.2659,-86.8404\"/>\n<polygon fill=\"#0000ff\" stroke=\"#0000ff\" points=\"868.2815,-83.9387 861.2349,-91.8506 871.6774,-90.0599 868.2815,-83.9387\"/>\n<text text-anchor=\"middle\" x=\"916.8087\" y=\"-85.2\" font-family=\"Arial\" font-size=\"16.00\" fill=\"#000000\">p = 0.1</text>\n</g>\n<!-- s1&#45;a1&#45;&gt;s2 -->\n<g id=\"edge12\" class=\"edge\">\n<title>s1&#45;a1&#45;&gt;s2</title>\n<path fill=\"none\" stroke=\"#0000ff\" stroke-dasharray=\"5,2\" d=\"M979.9034,-198.873C972.2373,-211.8113 960.9673,-226.464 946.3087,-234 766.4005,-326.4912 679.6137,-307.5164 491.1543,-234 482.8044,-230.7427 474.8606,-225.7094 467.6802,-220.0496\"/>\n<polygon fill=\"#0000ff\" stroke=\"#0000ff\" points=\"469.5052,-217.0066 459.623,-213.1866 464.9661,-222.3354 469.5052,-217.0066\"/>\n<text text-anchor=\"middle\" x=\"741.8087\" y=\"-301.2\" font-family=\"Arial\" font-size=\"16.00\" fill=\"#000000\">p = 0.05</text>\n</g>\n<!-- s1&#45;a1&#45;&gt;s1 -->\n<g id=\"edge11\" class=\"edge\">\n<title>s1&#45;a1&#45;&gt;s1</title>\n<path fill=\"none\" stroke=\"#0000ff\" stroke-dasharray=\"5,2\" d=\"M964.4796,-170.89C942.9286,-167.8208 912.4497,-162.0831 887.3087,-152 881.8827,-149.8239 876.3943,-147.1497 871.069,-144.2503\"/>\n<polygon fill=\"#0000ff\" stroke=\"#0000ff\" points=\"872.7141,-141.1589 862.3007,-139.2062 869.2235,-147.2265 872.7141,-141.1589\"/>\n<text text-anchor=\"middle\" x=\"916.8087\" y=\"-173.2\" font-family=\"Arial\" font-size=\"16.00\" fill=\"#000000\">p = 0.95</text>\n</g>\n<!-- s2&#45;a0&#45;&gt;s0 -->\n<g id=\"edge14\" class=\"edge\">\n<title>s2&#45;a0&#45;&gt;s0</title>\n<path fill=\"none\" stroke=\"#0000ff\" stroke-dasharray=\"5,2\" d=\"M640.4115,-153.6379C634.1509,-151.8874 627.4576,-150.2085 621.1543,-149 446.1882,-115.4541 399.1567,-130.324 221.1543,-123 177.0766,-121.1864 126.9601,-119.2603 90.6308,-117.8886\"/>\n<polygon fill=\"#0000ff\" stroke=\"#0000ff\" points=\"90.4191,-114.3783 80.2944,-117.4993 90.1556,-121.3733 90.4191,-114.3783\"/>\n<text text-anchor=\"middle\" x=\"307.1543\" y=\"-131.2\" font-family=\"Arial\" font-size=\"16.00\" fill=\"#000000\">p = 0.4</text>\n</g>\n<!-- s2&#45;a0&#45;&gt;s2 -->\n<g id=\"edge15\" class=\"edge\">\n<title>s2&#45;a0&#45;&gt;s2</title>\n<path fill=\"none\" stroke=\"#0000ff\" stroke-dasharray=\"5,2\" d=\"M639.3416,-157.9791C604.5225,-153.6753 542.7351,-148.7496 491.1543,-159 487.066,-159.8125 482.9045,-160.9179 478.7831,-162.2107\"/>\n<polygon fill=\"#0000ff\" stroke=\"#0000ff\" points=\"477.5839,-158.9221 469.2922,-165.5174 479.887,-165.5324 477.5839,-158.9221\"/>\n<text text-anchor=\"middle\" x=\"556.1543\" y=\"-164.2\" font-family=\"Arial\" font-size=\"16.00\" fill=\"#000000\">p = 0.6</text>\n</g>\n<!-- s2&#45;a1&#45;&gt;s0 -->\n<g id=\"edge17\" class=\"edge\">\n<title>s2&#45;a1&#45;&gt;s0</title>\n<path fill=\"none\" stroke=\"#0000ff\" stroke-dasharray=\"5,2\" d=\"M643.5482,-64.3784C636.6374,-60.5416 628.8477,-56.9714 621.1543,-55 456.6448,-12.8443 407.9727,-45.5381 239.1543,-64 175.7418,-70.9348 158.9077,-71.0397 98,-90 93.9106,-91.273 89.7281,-92.7576 85.5746,-94.3605\"/>\n<polygon fill=\"#0000ff\" stroke=\"#0000ff\" points=\"83.9293,-91.2516 75.9933,-98.271 86.5745,-97.7326 83.9293,-91.2516\"/>\n<text text-anchor=\"middle\" x=\"307.1543\" y=\"-69.2\" font-family=\"Arial\" font-size=\"16.00\" fill=\"#000000\">p = 0.3 &#160;reward =&#45;1</text>\n</g>\n<!-- s2&#45;a1&#45;&gt;s2 -->\n<g id=\"edge19\" class=\"edge\">\n<title>s2&#45;a1&#45;&gt;s2</title>\n<path fill=\"none\" stroke=\"#0000ff\" stroke-dasharray=\"5,2\" d=\"M640.4326,-71.0411C604.0521,-60.3658 537.6085,-47.2183 491.1543,-75 469.3384,-88.0469 455.2541,-112.4282 446.4357,-134.7277\"/>\n<polygon fill=\"#0000ff\" stroke=\"#0000ff\" points=\"443.1489,-133.5248 442.9716,-144.1181 449.7163,-135.9475 443.1489,-133.5248\"/>\n<text text-anchor=\"middle\" x=\"556.1543\" y=\"-80.2\" font-family=\"Arial\" font-size=\"16.00\" fill=\"#000000\">p = 0.4</text>\n</g>\n<!-- s2&#45;a1&#45;&gt;s1 -->\n<g id=\"edge18\" class=\"edge\">\n<title>s2&#45;a1&#45;&gt;s1</title>\n<path fill=\"none\" stroke=\"#0000ff\" stroke-dasharray=\"5,2\" d=\"M693.9433,-86.0256C717.3708,-91.2132 751.7657,-98.8294 780.0218,-105.0862\"/>\n<polygon fill=\"#0000ff\" stroke=\"#0000ff\" points=\"779.6023,-108.5781 790.1225,-107.3229 781.1157,-101.7436 779.6023,-108.5781\"/>\n<text text-anchor=\"middle\" x=\"741.8087\" y=\"-108.2\" font-family=\"Arial\" font-size=\"16.00\" fill=\"#000000\">p = 0.3</text>\n</g>\n</g>\n</svg>\n"
          },
          "metadata": {
            "tags": []
          }
        }
      ]
    },
    {
      "cell_type": "markdown",
      "metadata": {
        "id": "cvkHF6rOXaeg",
        "colab_type": "text"
      },
      "source": [
        "解决MDP问题最简单的方法：value iteration"
      ]
    },
    {
      "cell_type": "markdown",
      "metadata": {
        "id": "cXIjUL6cYRbB",
        "colab_type": "text"
      },
      "source": [
        "1. Initialize $V^{(0)}(s)=0$, for all $s$\n",
        "\n",
        "2. For $i=0, 1, 2, \\dots$\n",
        "\n",
        "3. $ \\quad V_{(i+1)}(s) = \\max_a \\sum_{s'} P(s' | s,a) \\cdot [ r(s,a,s') + \\gamma V_{i}(s')]$, for all $s$\n",
        "\n",
        "First, let's write a function to compute the state-action value function $Q^{\\pi}$, defined as follows\n",
        "\n",
        "$$Q_i(s, a) = \\sum_{s'} P(s' | s,a) \\cdot [ r(s,a,s') + \\gamma V_{i}(s')]$$"
      ]
    },
    {
      "cell_type": "code",
      "metadata": {
        "id": "zIVm0cXVXUsv",
        "colab_type": "code",
        "colab": {}
      },
      "source": [
        "def get_action_value(mdp, state_values, state, action, gamma):\n",
        "    \"\"\" Computes Q(s,a) as in formula above \"\"\"\n",
        "    all_values = []\n",
        "    for s_new in mdp.get_all_states():\n",
        "      #print(\"-------------------------------------\")\n",
        "      #print(\"s_new={0}\".format(s_new))\n",
        "      p_s_new = mdp.get_transition_prob(state=state, action=action,next_state=s_new)\n",
        "      #print(\"p_s_new={0}\".format(p_s_new))\n",
        "      r = mdp.get_reward(state=state, action=action, next_state=s_new)\n",
        "      #print(\"r={0}\".format(r))\n",
        "      V = state_values[s_new]\n",
        "      #print(\"v={0}\".format(V))\n",
        "      value = p_s_new * (r + gamma*V)\n",
        "      #print(\"value={0}\".format(value))\n",
        "      all_values.append(value)\n",
        "    return sum(all_values)"
      ],
      "execution_count": 0,
      "outputs": []
    },
    {
      "cell_type": "code",
      "metadata": {
        "id": "cev84XuLYPpa",
        "colab_type": "code",
        "colab": {}
      },
      "source": [
        "import numpy as np\n",
        "test_Vs = {s: i for i, s in enumerate(sorted(mdp.get_all_states()))}\n",
        "#print(get_action_value(mdp, test_Vs, 's2', 'a1', 0.9))\n",
        "assert np.isclose(get_action_value(mdp, test_Vs, 's2', 'a1', 0.9), 0.69) \n",
        "assert np.isclose(get_action_value(mdp, test_Vs, 's1', 'a0', 0.9), 3.95)"
      ],
      "execution_count": 0,
      "outputs": []
    },
    {
      "cell_type": "code",
      "metadata": {
        "id": "5D4BsDaDcRJw",
        "colab_type": "code",
        "colab": {}
      },
      "source": [
        "def value_iteration(mdp, state_values, gamma, max_count=0):\n",
        "  states = mdp.get_all_states()\n",
        "  state_values_new = {}\n",
        "  count = 0\n",
        "  while True:\n",
        "    print(\"state_values={0}\".format(state_values))\n",
        "    for state in states:\n",
        "      all_action_values = []\n",
        "      for action in mdp.get_possible_actions(state=state):\n",
        "        #print(\"action={0}\".format(action))\n",
        "        value = get_action_value(mdp, state_values, state, action, gamma)\n",
        "        all_action_values.append(value)\n",
        "      state_values_new[state]=max(all_action_values)\n",
        "    count = count + 1\n",
        "    if count>max_count:\n",
        "      return state_values\n",
        "    state_values = state_values_new\n",
        "    "
      ],
      "execution_count": 0,
      "outputs": []
    },
    {
      "cell_type": "code",
      "metadata": {
        "id": "I-ozwpt1jsLz",
        "colab_type": "code",
        "outputId": "0a57f3c6-664b-436e-9a15-306d526e13f4",
        "colab": {
          "base_uri": "https://localhost:8080/",
          "height": 538
        }
      },
      "source": [
        "state_values = {s: 0.0 for i, s in enumerate(sorted(mdp.get_all_states()))}\n",
        "state_values = value_iteration(mdp,state_values, 0.9, 30)"
      ],
      "execution_count": 24,
      "outputs": [
        {
          "output_type": "stream",
          "text": [
            "state_values={'s0': 0.0, 's1': 0.0, 's2': 0.0}\n",
            "state_values={'s0': 0.0, 's1': 3.5, 's2': 0.0}\n",
            "state_values={'s0': 0.0, 's1': 3.815, 's2': 0.7300499999999999}\n",
            "state_values={'s0': 0.6570449999999999, 's1': 4.388697349999999, 's2': 1.3251684344999997}\n",
            "state_values={'s0': 1.1926515910499997, 's1': 4.884883582071499, 's2': 1.8179951331628044}\n",
            "state_values={'s0': 1.636195619846524, 's1': 5.29768188685905, 's2': 2.2266251747491146}\n",
            "state_values={'s0': 2.003962657274203, 's1': 5.640080375354902, 's2': 2.56547668171954}\n",
            "state_values={'s0': 2.3089290135475857, 's1': 5.924018315026437, 's2': 2.8464673841340202}\n",
            "state_values={'s0': 2.5618206457206183, 's1': 6.159472784300493, 's2': 3.0794774843939474}\n",
            "state_values={'s0': 2.7715297359545525, 's1': 6.354722231429323, 's2': 3.272699925575467}\n",
            "state_values={'s0': 2.9454299330179206, 's1': 6.516631845233513, 's2': 3.432928653335055}\n",
            "state_values={'s0': 3.0896357880015497, 's1': 6.6508945701123015, 's2': 3.5657975118913603}\n",
            "state_values={'s0': 3.2092177607022245, 's1': 6.7622312526929536, 's2': 3.675978337897588}\n",
            "state_values={'s0': 3.3083805041078294, 's1': 6.854556631151864, 's2': 3.767345228163249}\n",
            "state_values={'s0': 3.390610705346924, 's1': 6.931116982241615, 's2': 3.8431107577876755}\n",
            "state_values={'s0': 3.458799682008908, 's1': 6.994604264469139, 's2': 3.905938938352636}\n",
            "state_values={'s0': 3.5153450445173724, 's1': 7.047250770751641, 's2': 3.958038887929583}\n",
            "state_values={'s0': 3.5622349991366247, 's1': 7.090907618651045, 's2': 4.001242506457321}\n",
            "state_values={'s0': 3.601118255811589, 's1': 7.127109838002212, 's2': 4.037068887654362}\n",
            "state_values={'s0': 3.633361998888926, 's1': 7.157130344498009, 's2': 4.066777732270043}\n",
            "state_values={'s0': 3.6600999590430385, 's1': 7.182024697010542, 's2': 4.091413640751682}\n",
            "state_values={'s0': 3.682272276676514, 's1': 7.202668212372456, 's2': 4.111842842713827}\n",
            "state_values={'s0': 3.7006585584424445, 's1': 7.21978674262075, 's2': 4.128783654664041}\n",
            "state_values={'s0': 3.7159052891976367, 's1': 7.233982196869906, 's2': 4.142831736917291}\n",
            "state_values={'s0': 3.7285485632255617, 's1': 7.245753705195508, 's2': 4.154481037763913}\n",
            "state_values={'s0': 3.7390329339875223, 's1': 7.255515168677238, 's2': 4.164141161314494}\n",
            "state_values={'s0': 3.7477270451830447, 's1': 7.263609812682878, 's2': 4.172151769697017}\n",
            "state_values={'s0': 3.754936592727315, 's1': 7.270322255105131, 's2': 4.178794526005687}\n",
            "state_values={'s0': 3.760915073405118, 's1': 7.275888513885711, 's2': 4.184302997930571}\n",
            "state_values={'s0': 3.765872698137514, 's1': 7.280504305703851, 's2': 4.188870870292174}\n",
            "state_values={'s0': 3.7699837832629566, 's1': 7.284331927621601, 's2': 4.192658755244013}\n"
          ],
          "name": "stdout"
        }
      ]
    },
    {
      "cell_type": "markdown",
      "metadata": {
        "id": "FsMACHlHf6gy",
        "colab_type": "text"
      },
      "source": [
        "实现policy。policy告诉agent在每一步，应该采取什么action，使得最终的收益最大"
      ]
    },
    {
      "cell_type": "code",
      "metadata": {
        "id": "BQRDLz_cj7v1",
        "colab_type": "code",
        "colab": {}
      },
      "source": [
        "def get_optimal_action(mdp, state_values, state, gamma=0.9):\n",
        "    \"\"\" Finds optimal action using formula above. \"\"\"\n",
        "    if mdp.is_terminal(state):\n",
        "        return None\n",
        "\n",
        "    possible_actions = mdp.get_possible_actions(state)\n",
        "    print(\"next_states={0}\".format(possible_actions))\n",
        "    optimal_action = \"\"\n",
        "    optimal_value = -10\n",
        "    for action in possible_actions:\n",
        "        action_value = get_action_value(mdp, state_values, state, action, gamma)\n",
        "        print(\"action={0}\\tstate_action_value={1}\".format(action, action_value))\n",
        "        if action_value>=optimal_value:\n",
        "            optimal_value=action_value\n",
        "            optimal_action=action\n",
        "    print(\"optiaml_action={0}\".format(optimal_action))\n",
        "    return optimal_action"
      ],
      "execution_count": 0,
      "outputs": []
    },
    {
      "cell_type": "code",
      "metadata": {
        "id": "RxGibp12jTnq",
        "colab_type": "code",
        "colab": {
          "base_uri": "https://localhost:8080/",
          "height": 218
        },
        "outputId": "d65a8975-dcea-49d8-9319-08bd44a4e654"
      },
      "source": [
        "gamma=0.9\n",
        "assert get_optimal_action(mdp, state_values, 's0', gamma) == 'a1'\n",
        "assert get_optimal_action(mdp, state_values, 's1', gamma) == 'a0'\n",
        "assert get_optimal_action(mdp, state_values, 's2', gamma) == 'a1'\n"
      ],
      "execution_count": 30,
      "outputs": [
        {
          "output_type": "stream",
          "text": [
            "next_states=('a0', 'a1')\n",
            "action=a0\tstate_action_value=3.586136723693155\n",
            "action=a1\tstate_action_value=3.776219855638659\n",
            "optiaml_action=a1\n",
            "next_states=('a0', 'a1')\n",
            "action=a0\tstate_action_value=7.288357022079876\n",
            "action=a1\tstate_action_value=6.419628591705436\n",
            "optiaml_action=a0\n",
            "next_states=('a0', 'a1')\n",
            "action=a0\tstate_action_value=3.6241533500822554\n",
            "action=a1\tstate_action_value=4.196930629966128\n",
            "optiaml_action=a1\n"
          ],
          "name": "stdout"
        }
      ]
    },
    {
      "cell_type": "code",
      "metadata": {
        "id": "FaeYlGuoj6uS",
        "colab_type": "code",
        "colab": {}
      },
      "source": [
        "\n"
      ],
      "execution_count": 0,
      "outputs": []
    },
    {
      "cell_type": "code",
      "metadata": {
        "id": "2m69TuoCjXwK",
        "colab_type": "code",
        "colab": {}
      },
      "source": [
        ""
      ],
      "execution_count": 0,
      "outputs": []
    },
    {
      "cell_type": "code",
      "metadata": {
        "id": "PDDtiRw9j_tr",
        "colab_type": "code",
        "colab": {}
      },
      "source": [
        ""
      ],
      "execution_count": 0,
      "outputs": []
    },
    {
      "cell_type": "code",
      "metadata": {
        "id": "0fO3mBEPkkjw",
        "colab_type": "code",
        "colab": {}
      },
      "source": [
        ""
      ],
      "execution_count": 0,
      "outputs": []
    }
  ]
}